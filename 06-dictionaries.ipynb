{
 "cells": [
  {
   "cell_type": "markdown",
   "metadata": {},
   "source": [
    "# Introducción a las ciencias de la computación *y programación en Python*\n",
    "\n",
    "*Banco de Guatemala*  \n",
    "*PES 2025-2026*  \n",
    "*Programación I*  \n",
    "*Septiembre de 2025*  "
   ]
  },
  {
   "cell_type": "markdown",
   "metadata": {},
   "source": [
    "## Abstract\n",
    "> \"**Talk is cheap. Show me the code.**\" *Linus Torvalds*\n",
    "\n",
    "- Veremos un nuevo tipo compuesto en Python: los diccionarios."
   ]
  },
  {
   "cell_type": "markdown",
   "metadata": {},
   "source": [
    "# Diccionarios\n",
    "\n",
    "-   Supongamos que queremos guardar información de estudiantes de esta\n",
    "    forma:"
   ]
  },
  {
   "cell_type": "code",
   "execution_count": null,
   "metadata": {},
   "outputs": [],
   "source": [
    "names = ['Ana', 'John', 'Denise', 'Katy']\n",
    "grade = ['B', 'A+', 'A', 'A']\n",
    "course = [2.00, 6.0001, 20.002, 9.01]"
   ]
  },
  {
   "cell_type": "markdown",
   "metadata": {},
   "source": [
    "-   Utilizamos una lista diferente para cada elemento.\n",
    "\n",
    "    -   Cada lista debe ser del mismo largo.\n",
    "\n",
    "-   Cada índice se refiere a la información de la misma persona."
   ]
  },
  {
   "cell_type": "markdown",
   "metadata": {},
   "source": [
    "## Diccionarios - consultar información\n",
    "\n",
    "-   Veamos esta función para obtener la información de `student`:"
   ]
  },
  {
   "cell_type": "code",
   "execution_count": null,
   "metadata": {},
   "outputs": [],
   "source": [
    "def get_grade(student, name_list, grade_list, course_list): \n",
    "    i = name_list.index(student)\n",
    "    grade = grade_list[i]\n",
    "    course = course_list[i]\n",
    "    return (course, grade)\n"
   ]
  },
  {
   "cell_type": "markdown",
   "metadata": {},
   "source": [
    "¡Este método tiene varias desventajas!\n",
    "\n",
    "-   Es **enmarañado** si se debe registrar mucha información diferente.\n",
    "\n",
    "-   Se deben mantener muchas listas.\n",
    "\n",
    "-   Siempre deben ser índices enteros.\n",
    "\n",
    "-   Se debe recordar actualizar múltiples listas."
   ]
  },
  {
   "cell_type": "markdown",
   "metadata": {},
   "source": [
    "## Operaciones de diccionarios\n",
    "\n",
    "-   `grades.keys()` devuelve un iterable que actúa como una tupla de\n",
    "    todas las llaves.\n",
    "\n",
    "-   `grades.values()` devuelve un iterable que actúa como una tupla de\n",
    "    los elementos almacenados."
   ]
  },
  {
   "cell_type": "code",
   "execution_count": null,
   "metadata": {},
   "outputs": [],
   "source": [
    "grades = {'Ana':'B', 'John':'A+', 'Denise':'A', 'Katy':'A'}"
   ]
  },
  {
   "cell_type": "code",
   "execution_count": null,
   "metadata": {},
   "outputs": [],
   "source": [
    "grades.keys()"
   ]
  },
  {
   "cell_type": "code",
   "execution_count": null,
   "metadata": {},
   "outputs": [],
   "source": [
    "grades.values() # ['A', 'A', 'A+', 'B']"
   ]
  },
  {
   "cell_type": "markdown",
   "metadata": {},
   "source": [
    "## Llaves y valores\n",
    "\n",
    "-   Valores:\n",
    "    -   De cualquier tipo (mutables e inmutables).\n",
    "    -   Pueden ser duplicados.\n",
    "    -   Pueden ser listas o incluso otros diccionarios.\n",
    "\n",
    "-   Llaves:\n",
    "    -   Deben ser **únicas**.\n",
    "    -   Deben ser de tipos **inmutables**.\n",
    "        -   Cuidado con el tipo `float` utilizado como llave.\n",
    "\n",
    "-   ¡**No hay un orden** en las llaves o valores!"
   ]
  },
  {
   "cell_type": "code",
   "execution_count": null,
   "metadata": {},
   "outputs": [],
   "source": [
    "d = {4:{1:0}, (1,3):\"twelve\", 'const':[3.14,2.7,8.44]}"
   ]
  },
  {
   "cell_type": "markdown",
   "metadata": {},
   "source": [
    "## Listas vs. Diccionarios\n",
    "\n",
    "- **Listas:**\n",
    "    -   Secuencia ordenada de elementos.\n",
    "    -   Búsqueda de elementos por índice entero.\n",
    "    -   Los índices tienen orden.\n",
    "    -   Índice o llave de tipo `int`.\n",
    "\n",
    "- **Diccionarios:**\n",
    "    -   **Asocian** una llave con un valor.\n",
    "    -   Búsqueda de elementos a través de otros elementos.\n",
    "    -   No existe un orden asociado.\n",
    "    -   Llave o índice de tipo **inmutable**."
   ]
  },
  {
   "cell_type": "markdown",
   "metadata": {},
   "source": [
    "## Ejemplo: letras de canciones\n",
    "\n",
    "1.  Crearemos un diccionario de frecuencias, es decir, una estructura de\n",
    "    `str:int`\n",
    "\n",
    "2.  Encontraremos la palabra que más ocurre y cuántas veces.\n",
    "\n",
    "    -   Utilizamos una lista, por si hay más de una palabra.\n",
    "\n",
    "    -   Devolvemos una tupla `(list, int)`.\n",
    "\n",
    "3.  Encontraremos las palabras que ocurren al menos $X$ veces.\n",
    "\n",
    "    -   Permitimos al usuario escoger $X$ como parámetro.\n",
    "\n",
    "    -   Devolvemos una listsa de tuplas, donde cada tupla es\n",
    "        `(list, int)`, conteniendo la lista de palabras ordenadas por\n",
    "        frecuencia.\n",
    "\n",
    "    -   Del diccionario, obtenemos la palabra más frecuente y borramos\n",
    "        la entrada. Repetimos. Esto funciona porque estamos mutando el\n",
    "        diccionario de frecuencias."
   ]
  },
  {
   "cell_type": "markdown",
   "metadata": {},
   "source": [
    "### Diccionario de frecuencias"
   ]
  },
  {
   "cell_type": "code",
   "execution_count": null,
   "metadata": {},
   "outputs": [],
   "source": [
    "def lyrics_to_frequencies(lyrics):\n",
    "    myDict = {}\n",
    "    for word in lyrics:\n",
    "        if word in myDict:\n",
    "            myDict[word] += 1\n",
    "        else:\n",
    "            myDict[word] = 1\n",
    "    return myDict"
   ]
  },
  {
   "cell_type": "markdown",
   "metadata": {},
   "source": [
    "### Utilizando el diccionario"
   ]
  },
  {
   "cell_type": "code",
   "execution_count": null,
   "metadata": {},
   "outputs": [],
   "source": [
    "def most_common_words(freqs):\n",
    "    values = freqs.values()\n",
    "    best = max(freqs.values())\n",
    "    words = []\n",
    "    for k in freqs:\n",
    "        if freqs[k] == best:\n",
    "            words.append(k)\n",
    "    return (words, best)"
   ]
  },
  {
   "cell_type": "markdown",
   "metadata": {},
   "source": [
    "### Aprovechando el uso de diccionario"
   ]
  },
  {
   "cell_type": "code",
   "execution_count": null,
   "metadata": {},
   "outputs": [],
   "source": [
    "def words_often(freqs, minTimes):\n",
    "    result = []\n",
    "    done = False\n",
    "    while not done:\n",
    "        temp = most_common_words(freqs)\n",
    "        if temp[1] >= minTimes:\n",
    "            result.append(temp)\n",
    "            for w in temp[0]:\n",
    "                #remove word from dict\n",
    "                del(freqs[w])  \n",
    "        else:\n",
    "            done = True\n",
    "    return result"
   ]
  },
  {
   "cell_type": "code",
   "execution_count": null,
   "metadata": {},
   "outputs": [],
   "source": [
    "lyrics = \"\"\"\n",
    "Y soy el verbo que da acción a una buena conversación\n",
    "Cuando tu me nombras siente ganas soy\n",
    "La nueva alternativa contra contaminación\n",
    "Tú eres la energía que me carga soy\n",
    "Una arboleda que da sombra a tu casa\n",
    "Un viento suave que te soba la cara\n",
    "De todos tus sueños negra, soy la manifestación\n",
    "Y tú eres esa libertad soñada\n",
    "Soy la serenidad que lleva a la meditación\n",
    "Tú eres ese tan sagrado mantra soy\n",
    "Ese juguito 'e parcha que te baja la presión\n",
    "Siempre que te sube tú me llamas, ya\n",
    "Tira la sábana sal de la cama\n",
    "Vamos a conquistar toda la casa\n",
    "De todo lo que tu acostumbras soy contradicción\n",
    "Creo que eso es lo que a ti te llama\n",
    "chorus\n",
    "La complicidad es tanta\n",
    "Que nuestras vibraciones se complementan\n",
    "Lo que tienes me hace falta\n",
    "Y lo que tengo te hace ser más completa\n",
    "La afinidad es tanta\n",
    "Miro a tus ojos y ya sé lo que piensas\n",
    "Te quiero porque eres tantas\n",
    "Cositas bellas que me hacen creer que soy\n",
    "verse\n",
    "La levadura que te hace crecer el corazón\n",
    "Y tú la vitamina que me falta soy\n",
    "Ese rocío que se posa en tu vegetación\n",
    "Y tú esa tierra fértil que está escasa soy\n",
    "La blanca arena que alfombra tu playa\n",
    "Todo el follaje que da vida a tu mapa\n",
    "De toda idea creativa soy la gestación\n",
    "Tú eres la utopía deseada\n",
    "chorus\n",
    "La complicidad es tanta\n",
    "Que nuestras vibraciones se complementan\n",
    "Lo que tienes me hace falta\n",
    "Y lo que tengo te hace ser más completa\n",
    "La afinidad es tanta\n",
    "Miro a tus ojos y ya sé lo que piensas\n",
    "Te quiero porque eres tantas\n",
    "Cositas bellas que me hacen sentir muy bien\n",
    "verse\n",
    "Soy la locura que estremece soy tu adicción\n",
    "Tú eres mi felicidad mi calma, soy\n",
    "Una colonia que va en busca de liberación\n",
    "Tú eres esa dosis de esperanza soy\n",
    "La cordillera que en la distancia\n",
    "Te cura la visión con su elegancia\n",
    "De todo loco que lo intenta soy la frustración\n",
    "Tú eres ese reto que me encanta\"\"\""
   ]
  },
  {
   "cell_type": "code",
   "execution_count": null,
   "metadata": {},
   "outputs": [],
   "source": [
    "# lyrics.replace(\"\\n\", \" \").split(\" \")"
   ]
  },
  {
   "cell_type": "code",
   "execution_count": null,
   "metadata": {},
   "outputs": [],
   "source": [
    "words = lyrics.replace(\"\\n\", \" \").split(' ')\n",
    "freqs = lyrics_to_frequencies(words)\n",
    "most_common_words(freqs)"
   ]
  },
  {
   "cell_type": "code",
   "execution_count": null,
   "metadata": {},
   "outputs": [],
   "source": [
    "words_often(freqs, 5)"
   ]
  },
  {
   "cell_type": "markdown",
   "metadata": {},
   "source": [
    "## Counter"
   ]
  },
  {
   "cell_type": "code",
   "execution_count": null,
   "metadata": {},
   "outputs": [],
   "source": [
    "from collections import Counter\n",
    "\n",
    "dc = Counter(words)"
   ]
  },
  {
   "cell_type": "code",
   "execution_count": null,
   "metadata": {},
   "outputs": [],
   "source": [
    "dc.most_common(5)"
   ]
  }
 ],
 "metadata": {
  "kernelspec": {
   "display_name": "base",
   "language": "python",
   "name": "python3"
  },
  "language_info": {
   "codemirror_mode": {
    "name": "ipython",
    "version": 3
   },
   "file_extension": ".py",
   "mimetype": "text/x-python",
   "name": "python",
   "nbconvert_exporter": "python",
   "pygments_lexer": "ipython3",
   "version": "3.13.5"
  }
 },
 "nbformat": 4,
 "nbformat_minor": 2
}
