{
 "cells": [
  {
   "cell_type": "markdown",
   "metadata": {},
   "source": [
    "# Introducción a las ciencias de la computación *y programación en Python*\n",
    "\n",
    "*Banco de Guatemala*  \n",
    "*PES 2025-2026*  \n",
    "*Programación I*  \n",
    "*Septiembre de 2025*  "
   ]
  },
  {
   "cell_type": "markdown",
   "metadata": {},
   "source": [
    "## Abstract\n",
    "\n",
    "> \" **Always code as if the guy who ends up maintaining your code will be a violent psychopath who knows where you live.**\" *John Woods*\n",
    "\n",
    "\n",
    "- Veremos algunos conceptos y buenas prácticas para realizar pruebas y\n",
    "depuración.\n",
    "\n",
    "- Veremos algunas sentencias de excepción y manejo de errores.\n"
   ]
  },
  {
   "cell_type": "markdown",
   "metadata": {},
   "source": [
    "# Depuración y pruebas\n",
    "\n",
    "\n",
    "Alta calidad: una analogía Supongamos que queremos hacer una sopa, pero\n",
    "algunos **insectos** caen del techo. ¿Qué harías?\n",
    "\n",
    "\n",
    "-   Revisar la sopa a ver si hay bichos.\n",
    "\n",
    "    -   Pruebas.\n",
    "\n",
    "-   Mantener la tapa cerrada.\n",
    "\n",
    "    -   Programación defensiva.\n",
    "\n",
    "-   Limpiar la cocina.\n",
    "\n",
    "    -   Eliminamos la fuente de los bichos.\n",
    "  \n",
    "![image](figs/depuracion/debugging.jpg){width=\"80%\"}"
   ]
  },
  {
   "cell_type": "markdown",
   "metadata": {},
   "source": [
    "##  **Programación defensiva**\n",
    "\n",
    "-   Escribir especificaciones para las funciones.\n",
    "\n",
    "-   Modularizar los programas.\n",
    "\n",
    "-   Revisar condiciones sobre entradas y salidas (*assertions*).\n",
    "\n",
    "##   **Validación y pruebas**\n",
    "\n",
    "-   Comparar pares de entradas y salidas para verificar las\n",
    "    especificaciones.\n",
    "\n",
    "-   ¡No está funcionando!\n",
    "\n",
    "-   Pensar: ¿cómo puedo hacer que falle mi programa?\n",
    "\n",
    "##   **Depuración (*debugging*)**\n",
    "\n",
    "-   Estudiar eventos que han llevado a errores.\n",
    "\n",
    "-   Pensar: ¿por qué no está funcionando?\n",
    "\n",
    "-   ¿Cómo puedo arreglar mi programa?"
   ]
  },
  {
   "cell_type": "markdown",
   "metadata": {},
   "source": [
    "##  Programación defensiva\n",
    "\n",
    "-   Desde el **principio**, **diseñar** el código para facilitar esta\n",
    "    parte.\n",
    "\n",
    "-   Diseñar el programa en módulos que puedan ser probados y depurados\n",
    "    individualmente.\n",
    "\n",
    "##  **Documentar las restricciones** sobre módulos:\n",
    "\n",
    "-   ¿Cuál se espera que sea la entrada?\n",
    "\n",
    "-   ¿Cuál se espera que sea la salida?\n",
    "\n",
    "##   **Documentar supuestos** detrás del código."
   ]
  },
  {
   "cell_type": "markdown",
   "metadata": {},
   "source": [
    "# ¿Cuándo se debe probar un código?\n",
    "\n",
    "-   Asegurarse que el código **pueda ejecutarse**.\n",
    "\n",
    "    -   Eliminar errores de sintaxis, semántica estática.\n",
    "\n",
    "    -   El intérprete de Python y los editores ayudan en esta tarea.\n",
    "\n",
    "-   Contar con un **conjunto de prueba**.\n",
    "\n",
    "    -   Conjunto de entrada del cual conocemos la salida esperada."
   ]
  },
  {
   "cell_type": "markdown",
   "metadata": {},
   "source": [
    "# Clases de pruebas\n",
    "\n",
    "##   **Pruebas de unidad**\n",
    "\n",
    "-   Validar cada pieza de un programa.\n",
    "\n",
    "-   Probar cada función de forma separada.\n",
    "\n",
    "##   **Pruebas de regresión**\n",
    "\n",
    "-   Añadir casos de pruebas conforme se encuentran *bugs*.\n",
    "\n",
    "-   Validar errores reintroducidos y previamente arreglados.\n",
    "\n",
    "##   **Pruebas de integración**\n",
    "\n",
    "-   ¿Cómo unir todo el programa?, ¿funciona en conjunto?\n",
    "\n",
    "-   No se debe apresurar en este paso."
   ]
  },
  {
   "cell_type": "markdown",
   "metadata": {},
   "source": [
    "# Tipos de pruebas\n",
    "\n",
    "##   **Intuición** acerca de los límites del programa.\n",
    "\n",
    "\n",
    "    "
   ]
  },
  {
   "cell_type": "code",
   "execution_count": null,
   "metadata": {},
   "outputs": [],
   "source": [
    "\n",
    "def is_bigger(x, y):\n",
    "    ''' Assumes x and y are ints\n",
    "    Returns True if y is less than x, else False '''"
   ]
  },
  {
   "cell_type": "markdown",
   "metadata": {},
   "source": [
    "-   ¿alguna partición natural para probar esta función?\n",
    "\n",
    "-   Si no hay particiones naturales $\\Rightarrow$ pruebas aleatorias.\n",
    "\n",
    "    -   Más pruebas $\\Rightarrow$ mayor prob. de éxito.\n",
    "\n",
    "    -   Método no ideal.\n"
   ]
  },
  {
   "cell_type": "markdown",
   "metadata": {},
   "source": [
    "##   **Prueba de caja negra**\n",
    "\n",
    "-   Explorar casos a través de la especificación.\n",
    "\n",
    "##   **Prueba de caja de cristal**\n",
    "\n",
    "-   Explorar casos a través del conocimiento del código."
   ]
  },
  {
   "cell_type": "markdown",
   "metadata": {},
   "source": [
    "# Pruebas de caja negra\n"
   ]
  },
  {
   "cell_type": "code",
   "execution_count": null,
   "metadata": {},
   "outputs": [],
   "source": [
    "def sqrt(x, eps):\n",
    "    ''' Assumes x, eps floats, x >= 0, eps > 0\n",
    "    Returns res such that x-eps <= res*res <= x+eps '''"
   ]
  },
  {
   "cell_type": "markdown",
   "metadata": {},
   "source": [
    "\n",
    "-   Diseñada sin conocimiento del código.\n",
    "\n",
    "-   Puede ser realizada por alguien distinto al programador.\n",
    "\n",
    "-   Puede ser reutilizada aún si la implementación cambia.\n",
    "\n",
    "-   Algunos caminos:\n",
    "\n",
    "    -   Casos de prueba en particiones naturales.\n",
    "\n",
    "    -   Considera condiciones límite: listas vacías, listas *singleton*,\n",
    "        números muy grandes o muy pequeños, etc."
   ]
  },
  {
   "cell_type": "markdown",
   "metadata": {},
   "source": [
    "# Pruebas de caja de cristal\n",
    "\n",
    "-   Utilizamos el código para construir los casos de prueba.\n",
    "\n",
    "-   Pueden ser completas si se explora cada ramificación del código al\n",
    "    menos una vez.\n",
    "\n",
    "-   Desventajas:\n",
    "\n",
    "    -   Muchas iteraciones.\n",
    "\n",
    "    -   Nos podemos saltar alguna rama.\n",
    "\n",
    "-   Guía para diseñarlas:\n",
    "\n",
    "    -   Revisar condicionales: ¿están todos los posibles casos?\n",
    "\n",
    "    -   Revisar ciclos: ¿entra al ciclo?, ¿por qué se ejecuta una vez, o\n",
    "        más de una vez?\n",
    "\n",
    "    -   Tipos de datos: ¿Devuelve el tipo esperado?, ¿se tuvo cuidado al\n",
    "        operar las variables?"
   ]
  },
  {
   "cell_type": "code",
   "execution_count": null,
   "metadata": {},
   "outputs": [],
   "source": [
    "def abs(x):\n",
    "    \"\"\" Assumes x is an int\n",
    "    Returns x if x>=0 and -x otherwise \"\"\"\n",
    "    if x < -1:\n",
    "        return -x\n",
    "    else:\n",
    "        return x"
   ]
  },
  {
   "cell_type": "markdown",
   "metadata": {},
   "source": [
    "-   Aún si la prueba es completa, podríamos saltarnos un *bug*.\n",
    "\n",
    "-   ¿Qué pasa con los casos 2 y -2?\n",
    "\n",
    "-   ¿Qué pasa con `abs(-1)`?\n",
    "\n",
    "-   Se deben probar casos **límite**."
   ]
  },
  {
   "cell_type": "markdown",
   "metadata": {},
   "source": [
    "# Depuración\n",
    "\n",
    "-   Curva de aprendizaje pronunciada.\n",
    "\n",
    "-   La meta es tener un programa libre de errores.\n",
    "\n",
    "-   **Herramientas**\n",
    "\n",
    "    -   **Cerebro**: ayuda a cazar sistemáticamente el error.\n",
    "\n",
    "    -   Módulo `pdb`.\n",
    "\n",
    "    -   Visual Studio Code, spyder.\n",
    "\n",
    "    -   Instrucciones `print` (¡no abusar!)"
   ]
  },
  {
   "cell_type": "markdown",
   "metadata": {},
   "source": [
    "## Depuración con `print`\n",
    "\n",
    "-   Buena forma de probar hipótesis.\n",
    "\n",
    "-   **¿Cuándo?**\n",
    "\n",
    "    -   Entrar a funciones.\n",
    "\n",
    "    -   Parámetros\n",
    "\n",
    "    -   Resultados intermedios, finales.\n",
    "\n",
    "-   **Método de bisección**\n",
    "\n",
    "    -   `print` al centro del código.\n",
    "\n",
    "    -   Los errores dan una idea de dónde puede estar el error."
   ]
  },
  {
   "cell_type": "markdown",
   "metadata": {},
   "source": [
    "![image](figs/depuracion/debugging-patrick-meme.jpg){width=\"60%\"}"
   ]
  },
  {
   "cell_type": "markdown",
   "metadata": {},
   "source": [
    "## Pasos de depuración\n",
    "\n",
    "-   **Estudiar** el código fuente:\n",
    "\n",
    "    -   ¿Cómo obtuve el resultado inesperado?\n",
    "\n",
    "    -   ¿Es parte de alguna familia de erores?\n",
    "\n",
    "-   **Método científico**:\n",
    "\n",
    "    -   Estudiar los datos disponibles.\n",
    "\n",
    "    -   Formar una hipótesis.\n",
    "\n",
    "    -   Experimento.\n",
    "\n",
    "    -   Escoger una entrada simple para probar."
   ]
  },
  {
   "cell_type": "markdown",
   "metadata": {},
   "source": [
    "# Manejo de excepciones\n",
    "\n",
    "-   Python provee bloques de **manejo** de excepciones (exceptions)."
   ]
  },
  {
   "cell_type": "code",
   "execution_count": 1,
   "metadata": {},
   "outputs": [
    {
     "name": "stdout",
     "output_type": "stream",
     "text": [
      "1.0\n"
     ]
    }
   ],
   "source": [
    "try:\n",
    "    a = int(input(\"Tell me one number:\"))\n",
    "    b = int(input(\"Tell me another number:\"))\n",
    "    print(a/b)\n",
    "except:\n",
    "    print(\"Bug in user input.\")\n"
   ]
  },
  {
   "cell_type": "markdown",
   "metadata": {},
   "source": [
    "-   Las **excepciones** que surjan (*raised by*) en el cuerpo de una\n",
    "    sentencia `try` son manejadas por el cuerpo de `except` mientras la\n",
    "    ejecución continúa."
   ]
  },
  {
   "cell_type": "markdown",
   "metadata": {},
   "source": [
    "## Excepciones específicas\n",
    "\n",
    "-   Es posible especificar cláusulas de `except` para una excepción en\n",
    "    particular."
   ]
  },
  {
   "cell_type": "code",
   "execution_count": 2,
   "metadata": {},
   "outputs": [
    {
     "name": "stdout",
     "output_type": "stream",
     "text": [
      "a/b =  1.0\n",
      "a+b =  2\n"
     ]
    }
   ],
   "source": [
    "try:\n",
    "    a = int(input(\"Tell me one number: \"))\n",
    "    b = int(input(\"Tell me another number: \"))\n",
    "    print(\"a/b = \", a/b)\n",
    "    print(\"a+b = \", a+b)\n",
    "except ValueError:\n",
    "    print(\"Could not convert to a number.\")\n",
    "except ZeroDivisionError:\n",
    "    print(\"Can't divide by zero\")\n",
    "except:\n",
    "    print(\"Something went very wrong.\")"
   ]
  },
  {
   "cell_type": "markdown",
   "metadata": {},
   "source": [
    "## Otras excepciones\n",
    "\n",
    "-   `else`:\n",
    "\n",
    "    -   Se ejecuta si la ejecución de `try` se completa sin excepciones.\n",
    "\n",
    "-   `finally`:\n",
    "\n",
    "    -   Se ejecuta **siempre** después de `try`, `else` y `except` o si\n",
    "        ejecuta `break`, `continue` o `return`.\n",
    "\n",
    "    -   **Útil** para limpiar el código con instrucciones que de todas\n",
    "        formas deben ejecutarse sin importar el resultado, como cerrar\n",
    "        un archivo, conexión HTTP, etc."
   ]
  },
  {
   "cell_type": "markdown",
   "metadata": {},
   "source": [
    "## ¿Qué hacer con las excepciones?\n",
    "\n",
    "-   **Manejarlas silenciosamente**\n",
    "\n",
    "    -   Sustituir valores por defecto, solamente continuar con el\n",
    "        código.\n",
    "\n",
    "    -   ¡Mala idea! el usuario no tiene advertencias.\n",
    "\n",
    "-   Devolver un valor para **representar** el error.\n",
    "\n",
    "    -   ¿Qué valor escoger?\n",
    "\n",
    "    -   Complica el resto del código.\n",
    "\n",
    "-   Detener la ejecución, **mostrar una condición de error**:\n",
    "\n",
    "    -   En Python: `raise`"
   ]
  },
  {
   "cell_type": "code",
   "execution_count": 3,
   "metadata": {},
   "outputs": [
    {
     "ename": "Exception",
     "evalue": "string descriptivo",
     "output_type": "error",
     "traceback": [
      "\u001b[31m---------------------------------------------------------------------------\u001b[39m",
      "\u001b[31mException\u001b[39m                                 Traceback (most recent call last)",
      "\u001b[36mCell\u001b[39m\u001b[36m \u001b[39m\u001b[32mIn[3]\u001b[39m\u001b[32m, line 1\u001b[39m\n\u001b[32m----> \u001b[39m\u001b[32m1\u001b[39m \u001b[38;5;28;01mraise\u001b[39;00m \u001b[38;5;167;01mException\u001b[39;00m(\u001b[33m\"\u001b[39m\u001b[33mstring descriptivo\u001b[39m\u001b[33m\"\u001b[39m)\n",
      "\u001b[31mException\u001b[39m: string descriptivo"
     ]
    }
   ],
   "source": [
    "raise Exception(\"string descriptivo\")\n"
   ]
  },
  {
   "cell_type": "markdown",
   "metadata": {},
   "source": [
    "## Ejemplo"
   ]
  },
  {
   "cell_type": "code",
   "execution_count": null,
   "metadata": {},
   "outputs": [],
   "source": [
    "\n",
    "def get_ratios(L1, L2):\n",
    "    \"\"\" Assumes: L1, L2 lists of equal length of numbers\n",
    "        Returns: a list containing L1[i]/L2[i] \"\"\"\n",
    "    ratios = []\n",
    "    for index in range(len(L1)):\n",
    "        try:\n",
    "            ratios.append(L1[index]/L2[index])\n",
    "        except ZeroDivisionError:\n",
    "            ratios.append(float('nan'))\n",
    "            #nan = not a number\n",
    "        except:\n",
    "            raise ValueError('called with bad arg')\n",
    "    return ratios"
   ]
  },
  {
   "cell_type": "markdown",
   "metadata": {},
   "source": [
    "## Assertions\n",
    "\n",
    "\n",
    "Uso de `assert`\n",
    "\n",
    "-   Cuando quieres estar **seguro** de que los supuestos del cómputo son\n",
    "    como se esperaba.\n",
    "\n",
    "-   Utilizamos una cláusula `assert` para generar una excepción\n",
    "    `AssertionError` si no se verifican los supuestos.\n",
    "\n",
    "-   Este es un ejemplo de buena **programación defensiva**."
   ]
  },
  {
   "cell_type": "markdown",
   "metadata": {},
   "source": [
    "## Ejemplo"
   ]
  },
  {
   "cell_type": "code",
   "execution_count": null,
   "metadata": {},
   "outputs": [],
   "source": [
    "\n",
    "def avg(grades):\n",
    "    \"\"\" grades : grades list \"\"\"\n",
    "    assert len(grades) != 0, 'no grades data'\n",
    "    return sum(grades)/len(grades)"
   ]
  },
  {
   "cell_type": "markdown",
   "metadata": {},
   "source": [
    "-   Esto lleva a una excepción de tipo `AssertionError` si se da una\n",
    "    lista vacía de notas.\n",
    "\n",
    "-   De lo contrario, ¡OK!"
   ]
  },
  {
   "cell_type": "markdown",
   "metadata": {},
   "source": [
    "## *Assertions* como programación defensiva\n",
    "\n",
    "-   Las afirmaciones no permiten que el programador controle respuesta a\n",
    "    condiciones inesperadas.\n",
    "\n",
    "-   Garantizan que la ejecución se detenga siempre que condición no se\n",
    "    cumple.\n",
    "\n",
    "-   Normalmente se usan para verificar las entradas a las funciones,\n",
    "    pero pueden ser usadas en cualquier lugar.\n",
    "\n",
    "-   Pueden usarse para verificar las salidas de una función para evitar\n",
    "    propagar malos valores.\n",
    "\n",
    "-   Pueden facilitar la depuración de un error."
   ]
  },
  {
   "cell_type": "markdown",
   "metadata": {},
   "source": [
    "## ¿Dónde usarlas?\n",
    "\n",
    "-   El objetivo es encontrar errores tan pronto como se introduzcan.\n",
    "\n",
    "-   **Suplemento** a la etapa de pruebas.\n",
    "\n",
    "-   Levantar **excepciones** si el usuario provee datos incorrectos.\n",
    "\n",
    "-   También permiten:\n",
    "\n",
    "    -   Verificar **tipos** de los argumentos o valores.\n",
    "\n",
    "    -   Revisar **anomalías** en las estructuras de datos.\n",
    "\n",
    "    -   Revisar **restricciones** en los valores de retorno.\n",
    "\n",
    "    -   Revisar **violaciones** en las restricciones de un\n",
    "        procedimiento."
   ]
  }
 ],
 "metadata": {
  "kernelspec": {
   "display_name": "Python 3",
   "language": "python",
   "name": "python3"
  },
  "language_info": {
   "codemirror_mode": {
    "name": "ipython",
    "version": 3
   },
   "file_extension": ".py",
   "mimetype": "text/x-python",
   "name": "python",
   "nbconvert_exporter": "python",
   "pygments_lexer": "ipython3",
   "version": "3.13.6"
  }
 },
 "nbformat": 4,
 "nbformat_minor": 2
}
