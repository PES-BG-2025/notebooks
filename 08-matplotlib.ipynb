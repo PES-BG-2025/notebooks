{
 "cells": [
  {
   "cell_type": "markdown",
   "metadata": {},
   "source": [
    "# Introducción a las ciencias de la computación *y programación en Python*\n",
    "\n",
    "*Banco de Guatemala*  \n",
    "*PES 2025-2026*  \n",
    "*Programación I*  \n",
    "*Septiembre de 2025*  "
   ]
  },
  {
   "cell_type": "markdown",
   "metadata": {},
   "source": [
    "## Abstract\n",
    "\n",
    "> \"*I do not fear computers. I fear lack of them.*\" **Isaac Asimov**\n",
    "\n",
    "- Matplotlib\n",
    "\n",
    "    - Introducción\n",
    "    \n",
    "    - Conceptos básicos de utilización\n",
    "    \n",
    "    - Ejercicios"
   ]
  },
  {
   "cell_type": "markdown",
   "metadata": {},
   "source": [
    "# matplotlib"
   ]
  },
  {
   "cell_type": "markdown",
   "metadata": {},
   "source": [
    "[Matplotlib](https://matplotlib.org/) is a Python library for data visualization (2D/3D-graphics, animation etc.). It provides publication-quality figures in many formats. We will explore matplotlib in interactive mode covering most common cases in this tutorial."
   ]
  },
  {
   "cell_type": "code",
   "execution_count": null,
   "metadata": {},
   "outputs": [],
   "source": [
    "import numpy as np\n",
    "import matplotlib\n",
    "import matplotlib.pyplot as plt\n",
    "from mpl_toolkits.mplot3d import Axes3D  # for 3D plotting"
   ]
  },
  {
   "cell_type": "markdown",
   "metadata": {},
   "source": [
    "`pyplot` provides a convenient interface to the matplotlib object-oriented plotting library. It is modeled closely after MATLAB. Therefore, the majority of plotting commands in pyplot have MATLAB analogs with similar arguments. Important commands are explained with interactive examples."
   ]
  },
  {
   "cell_type": "code",
   "execution_count": null,
   "metadata": {},
   "outputs": [],
   "source": [
    "# check version\n",
    "matplotlib.__version__"
   ]
  },
  {
   "cell_type": "markdown",
   "metadata": {},
   "source": [
    "Let's now see a simple plotting and understand the ingredients that goes into customizing our plot as per our will and wish."
   ]
  },
  {
   "cell_type": "markdown",
   "metadata": {},
   "source": [
    "## **Simple curve plot**"
   ]
  },
  {
   "cell_type": "code",
   "execution_count": null,
   "metadata": {},
   "outputs": [],
   "source": [
    "# get 10 linearly spaced points in the interval [0, 5)\n",
    "x = np.linspace(0, 5, 10)\n",
    "y = x ** 2\n",
    "\n",
    "# create a figure/canvas of desired size\n",
    "plt.figure(figsize=(8, 6))\n",
    "\n",
    "# plot values; with a color `red`\n",
    "plt.plot(x, y, 'r')\n",
    "\n",
    "# give labels to the axes\n",
    "plt.xlabel('x')\n",
    "plt.ylabel('y')\n",
    "\n",
    "# give a title to the plot\n",
    "plt.title(r\"Plot of $y=x^2$\")\n",
    "plt.show()"
   ]
  },
  {
   "cell_type": "markdown",
   "metadata": {},
   "source": [
    "### **Cosine & Sine Plot**\n",
    "\n",
    "Starting with default settings, we would like to draw a `cosine` and `sine` functions on the same plot. Then, we will make it look prettier by customizing the default settings."
   ]
  },
  {
   "cell_type": "code",
   "execution_count": null,
   "metadata": {},
   "outputs": [],
   "source": [
    "# 256 linearly spaced values between -pi and +pi\n",
    "# both endpoints would be included; check (X[0], X[-1])\n",
    "X = np.linspace(-np.pi, np.pi, 256, endpoint=True)\n",
    "\n",
    "# compute cosine and sin values\n",
    "C, S = np.cos(X), np.sin(X)\n",
    "\n",
    "# plot both curves\n",
    "plt.plot(X, C)\n",
    "plt.plot(X, S)\n",
    "\n",
    "# show the plot\n",
    "plt.show()"
   ]
  },
  {
   "cell_type": "markdown",
   "metadata": {},
   "source": [
    "### The above plot doesn't seem too appealing. So, let's customizing the default settings a bit.\n",
    "\n",
    "*Matplotlib* allows the aspect ratio, DPI and figure size to be specified when the Figure object is created, using the `figsize` and `dpi` keyword arguments. `figsize` is a tuple of the `width` and `height` of the figure in inches, and `dpi` is the dots-per-inch (pixel per inch). To create an 800x600 pixel, 100 dots-per-inch figure, we can do:"
   ]
  },
  {
   "cell_type": "code",
   "execution_count": null,
   "metadata": {},
   "outputs": [],
   "source": [
    "# Create a new figure of size 800x600, using 100 dots per inch\n",
    "plt.figure(figsize=(8, 6), dpi=100)\n",
    "\n",
    "# Create a new subplot from a grid of 1x1\n",
    "plt.subplot(111)\n",
    "\n",
    "# Now, plot `cosine` using `blue` color with a continuous line of width 1 (pixel)\n",
    "plt.plot(X, C, color=\"blue\", linewidth=1.0, linestyle=\"-\")\n",
    "\n",
    "# And plot `sine` using `green` color with a continuous line of width 1 (pixel)\n",
    "plt.plot(X, S, color=\"green\", linewidth=1.0, linestyle=\"-\")\n",
    "\n",
    "# Set x limits to [-4, +4]\n",
    "plt.xlim(-4.0, 4.0)\n",
    "\n",
    "# Set y limits to [-1, +1]\n",
    "plt.ylim(-1.0, 1.0)\n",
    "\n",
    "# optionally, save the figure as a pdf using 72 dots per inch\n",
    "plt.savefig(\"./sine_cosine.pdf\", format='pdf', dpi=72)\n",
    "\n",
    "# show grid\n",
    "plt.grid(True)\n",
    "\n",
    "# Show the plot on the screen\n",
    "plt.show()"
   ]
  },
  {
   "cell_type": "markdown",
   "metadata": {},
   "source": [
    "---\n",
    "\n",
    "## Setting axes limits\n",
    "\n",
    "Instead of hard-coding the `xlim` and `ylim` values, we can take these values from the array itself and then set the limits accordingly.\n",
    "We can also change the `linewidth` and `color` kwargs as per our wish."
   ]
  },
  {
   "cell_type": "code",
   "execution_count": null,
   "metadata": {},
   "outputs": [],
   "source": [
    "# set figure size and dpi (dots per inch)\n",
    "plt.figure(figsize=(10, 6), dpi=80)\n",
    "\n",
    "# Create a new subplot from a grid of 1x1\n",
    "plt.subplot(111)\n",
    "\n",
    "# customize color and line width\n",
    "plt.plot(X, C, color=\"blue\", linewidth=2.5, linestyle=\"-\")\n",
    "plt.plot(X, S, color=\"red\",  linewidth=2.5, linestyle=\"-\")\n",
    "\n",
    "# set lower & upper bound by taking min & max value respectively\n",
    "plt.xlim(X.min()*1.1, X.max()*1.1)\n",
    "plt.ylim(C.min()*1.1, C.max()*1.1)\n",
    "\n",
    "# optionally, save the figure as a pdf using 72 dots per inch\n",
    "plt.savefig(\"./sine_cosine.pdf\", format='pdf', dpi=80)\n",
    "\n",
    "# show it on screen\n",
    "plt.show()"
   ]
  },
  {
   "cell_type": "markdown",
   "metadata": {},
   "source": [
    "## Setting axes ticks"
   ]
  },
  {
   "cell_type": "code",
   "execution_count": null,
   "metadata": {},
   "outputs": [],
   "source": [
    "# set figure size and dpi (dots per inch)\n",
    "plt.figure(figsize=(10, 6), dpi=80)\n",
    "\n",
    "# Create a new subplot from a grid of 1x1\n",
    "plt.subplot(111)\n",
    "\n",
    "# customize color and line width\n",
    "plt.plot(X, C, color=\"blue\", linewidth=2.5, linestyle=\"-\")\n",
    "plt.plot(X, S, color=\"red\",  linewidth=2.5, linestyle=\"-\")\n",
    "\n",
    "# set lower & upper bound by taking min & max value respectively\n",
    "plt.xlim(X.min()*1.1, X.max()*1.1)\n",
    "plt.ylim(C.min()*1.1, C.max()*1.1)\n",
    "\n",
    "# provide five tick values for x and 3 for y\n",
    "plt.xticks([-np.pi, -np.pi/2, 0, np.pi/2, np.pi])\n",
    "plt.yticks([-1, 0, +1])\n",
    "\n",
    "# optionally, save the figure as a pdf using 72 dots per inch\n",
    "plt.savefig(\"./sine_cosine.pdf\", format='pdf', dpi=80)\n",
    "\n",
    "# show it on screen\n",
    "plt.show()"
   ]
  },
  {
   "cell_type": "markdown",
   "metadata": {},
   "source": [
    "## Setting axes tick labels\n",
    "\n",
    "We fixed the aexs ticks but their label is not very explicit. We could guess that 3.142 is π but it would be better to make it explicit. When we set tick values, we can also provide a corresponding label in the second argument list. Note that we'll use latex to allow for nice rendering of the label."
   ]
  },
  {
   "cell_type": "code",
   "execution_count": null,
   "metadata": {},
   "outputs": [],
   "source": [
    "# set figure size and dpi (dots per inch)\n",
    "plt.figure(figsize=(10, 6), dpi=80)\n",
    "\n",
    "# Create a new subplot from a grid of 1x1\n",
    "plt.subplot(111)\n",
    "\n",
    "# customize color and line width\n",
    "plt.plot(X, C, color=\"blue\", linewidth=2.5, linestyle=\"-\")\n",
    "plt.plot(X, S, color=\"red\",  linewidth=2.5, linestyle=\"-\")\n",
    "\n",
    "# set lower & upper bound by taking min & max value respectively\n",
    "plt.xlim(X.min()*1.1, X.max()*1.1)\n",
    "plt.ylim(C.min()*1.1, C.max()*1.1)\n",
    "\n",
    "# provide five tick values for x and 3 for y\n",
    "# and pass the corresponding label as a second argument.\n",
    "plt.xticks([-np.pi, -np.pi/2, 0, np.pi/2, np.pi],\n",
    "           [r'$-\\pi$', r'$-\\pi/2$', r'$0$', r'$+\\pi/2$', r'$+\\pi$'])\n",
    "\n",
    "plt.yticks([-1, 0, +1],\n",
    "           [r'$-1$', r'$0$', r'$+1$'])\n",
    "\n",
    "# optionally, save the figure as a pdf using 72 dots per inch\n",
    "plt.savefig(\"./sine_cosine.pdf\", format='pdf', dpi=80)\n",
    "\n",
    "# show it on screen\n",
    "plt.show()\n"
   ]
  },
  {
   "cell_type": "markdown",
   "metadata": {},
   "source": [
    "## Adding legends"
   ]
  },
  {
   "cell_type": "code",
   "execution_count": null,
   "metadata": {},
   "outputs": [],
   "source": [
    "# set figure size and dpi (dots per inch)\n",
    "plt.figure(figsize=(10, 6), dpi=80)\n",
    "\n",
    "# Create a new subplot from a grid of 1x1\n",
    "plt.subplot(111)\n",
    "\n",
    "# customize color and line width\n",
    "# `label` is essential for `plt.legend` to work\n",
    "plt.plot(X, C, color=\"blue\", linewidth=2.5, linestyle=\"-\", label=\"cosine\")\n",
    "plt.plot(X, S, color=\"red\",  linewidth=2.5, linestyle=\"-\", label=\"sine\")\n",
    "\n",
    "# set lower & upper bound by taking min & max value respectively\n",
    "plt.xlim(X.min()*1.1, X.max()*1.1)\n",
    "plt.ylim(C.min()*1.1, C.max()*1.1)\n",
    "\n",
    "# provide five tick values for x and 3 for y\n",
    "# and pass the corresponding label as a second argument.\n",
    "plt.xticks([-np.pi, -np.pi/2, 0, np.pi/2, np.pi],\n",
    "           [r'$-\\pi$', r'$-\\pi/2$', r'$0$', r'$+\\pi/2$', r'$+\\pi$'])\n",
    "\n",
    "plt.yticks([-1, 0, +1],\n",
    "           [r'$-1$', r'$0$', r'$+1$'])\n",
    "\n",
    "# show legend on the upper left side of the axes\n",
    "plt.legend(loc='upper left', frameon=False)\n",
    "\n",
    "# optionally, save the figure as a pdf using 72 dots per inch\n",
    "plt.savefig(\"./sine_cosine.pdf\", format='pdf', dpi=80)\n",
    "\n",
    "# show it on screen\n",
    "plt.show()\n"
   ]
  },
  {
   "cell_type": "markdown",
   "metadata": {},
   "source": [
    "***\n",
    "\n",
    "# Figure and Subplots\n"
   ]
  },
  {
   "cell_type": "markdown",
   "metadata": {},
   "source": [
    "## Figure\n",
    "\n",
    "A figure is the windows in the GUI that has \"Figure #\" as title. Figures are numbered starting from 1 as opposed to the normal Python way starting from 0. There are several parameters that determine how the figure looks like.\n",
    "\n",
    "| Argument  |     Default      |                                 Description |\n",
    "|-----------|:----------------:|--------------------------------------------:|\n",
    "| num       |        1         |                            number of figure |\n",
    "| figsize   |  figure.figsize  |    figure size in in inches (width, height) |\n",
    "| dpi       |    figure.dpi    |                 resolution in dots per inch |\n",
    "| facecolor | figure.facecolor |             color of the drawing background |\n",
    "| edgecolor | figure.edgecolor | color of edge around the drawing background |\n",
    "| frameon   |       True       |                    draw figure frame or not |"
   ]
  },
  {
   "cell_type": "markdown",
   "metadata": {},
   "source": [
    "## Subplot\n",
    "\n",
    "With subplot you can arrange plots in a regular grid. You need to specify the number of rows and columns and the number of the plot."
   ]
  },
  {
   "attachments": {
    "subplot-grid.png": {
     "image/png": "[encoded data removed]"
    }
   },
   "cell_type": "markdown",
   "metadata": {},
   "source": [
    "![subplot-grid.png](attachment:subplot-grid.png)"
   ]
  },
  {
   "attachments": {
    "subplot-horizontal.png": {
     "image/png": "[encoded data removed]"
    }
   },
   "cell_type": "markdown",
   "metadata": {},
   "source": [
    "![subplot-horizontal.png](attachment:subplot-horizontal.png)"
   ]
  },
  {
   "attachments": {
    "subplot-vertical.png": {
     "image/png": "[encoded data removed]"
    }
   },
   "cell_type": "markdown",
   "metadata": {},
   "source": [
    "![subplot-vertical.png](attachment:subplot-vertical.png)"
   ]
  },
  {
   "cell_type": "markdown",
   "metadata": {},
   "source": [
    "The following plot shows how to use the *figure title*, *axis labels*, and *legends* in a subplot:"
   ]
  },
  {
   "cell_type": "code",
   "execution_count": null,
   "metadata": {},
   "outputs": [],
   "source": [
    "x = np.linspace(0, 5, 10)\n",
    "y = x ** 2\n",
    "\n",
    "fig, axes = plt.subplots(1, 2, figsize=(8,4), dpi=100)\n",
    "\n",
    "# plot subplot 1\n",
    "axes[0].plot(x, x**2, color=\"green\", label=\"y = x**2\")\n",
    "axes[0].plot(x, x**3, color=\"red\", label=\"y = x**3\")\n",
    "axes[0].legend(loc=2); # upper left corner\n",
    "axes[0].set_xlabel('x')\n",
    "axes[0].set_ylabel('y')\n",
    "axes[0].set_title('Plot of y=x^2 and y=x^3')\n",
    "\n",
    "# plot subplot 2\n",
    "axes[1].plot(x, x**2, color=\"violet\", label=\"y = x**2\")\n",
    "axes[1].plot(x, x**3, color=\"blue\", label=\"y = x**3\")\n",
    "axes[1].legend(loc=2); # upper left corner\n",
    "axes[1].set_xlabel('x')\n",
    "axes[1].set_ylabel('y')\n",
    "axes[1].set_title('Plot of y=x^2 and y=x^3')\n",
    "\n",
    "# `fig.tight_layout()` automatically adjusts the positions of the axes on the figure canvas so that there is no overlapping content\n",
    "# comment this out to see the difference\n",
    "fig.tight_layout()\n",
    "\n",
    "plt.show()"
   ]
  },
  {
   "cell_type": "markdown",
   "metadata": {},
   "source": [
    "# Formatting text: LaTeX, fontsize, font family\n",
    "\n",
    "Matplotlib has great support for $LaTeX$. All we need to do is to use dollar signs encapsulate LaTeX in any text (legend, title, label, etc.). For example, `\"$y=x^3$\"`.\n",
    "\n",
    "But here we might run into a slightly subtle problem with $LaTeX$ code and Python text strings. In $LaTeX$, we frequently use the backslash in commands, for example `\\alpha` to produce the symbol α. But the backslash already has a meaning in Python strings (the escape code character). To avoid Python messing up our latex code, we need to use \"raw\" text strings. Raw text strings are prepended with an `'r'`, like `r\"\\alpha\"` or `r'\\alpha'` instead of `\"\\alpha\"` or `'\\alpha'`:"
   ]
  },
  {
   "cell_type": "code",
   "execution_count": null,
   "metadata": {},
   "outputs": [],
   "source": [
    "fig, ax = plt.subplots(figsize=(8,4), dpi=100)\n",
    "\n",
    "ax.plot(x, x**2, label=r\"$y = \\alpha^2$\")\n",
    "ax.plot(x, x**3, label=r\"$y = \\alpha^3$\")\n",
    "ax.legend(loc=2) # upper left corner\n",
    "ax.set_xlabel(r'$\\alpha$', fontsize=18)\n",
    "ax.set_ylabel(r'$y$', fontsize=18)\n",
    "ax.set_title(r'Plot of y=$\\alpha^{2}$ and y=$\\alpha^{3}$')\n",
    "plt.show()"
   ]
  },
  {
   "cell_type": "markdown",
   "metadata": {},
   "source": [
    "## Line and marker styles\n",
    "\n",
    "To change the line width, we can use the `linewidth` or `lw` keyword argument. The line style can be selected using the `linestyle` or `ls` keyword arguments:"
   ]
  },
  {
   "cell_type": "code",
   "execution_count": null,
   "metadata": {},
   "outputs": [],
   "source": [
    "fig, ax = plt.subplots(figsize=(12,6))\n",
    "\n",
    "# possible marker symbols: marker = '+', 'o', '*', 's', ',', '.', '1', '2', '3', '4', ...\n",
    "ax.plot(x, x+ 9, color=\"green\", lw=2, ls='--', marker='+')\n",
    "ax.plot(x, x+10, color=\"green\", lw=2, ls='--', marker='o')\n",
    "ax.plot(x, x+11, color=\"green\", lw=2, ls='--', marker='s')\n",
    "ax.plot(x, x+12, color=\"green\", lw=2, ls='--', marker='1')\n",
    "\n",
    "plt.show()"
   ]
  },
  {
   "cell_type": "markdown",
   "metadata": {},
   "source": [
    "## Logarithmic scale\n",
    "It is also possible to set a logarithmic scale for one or both axes. This functionality is in fact only one application of a more general transformation system in Matplotlib. Each of the axes' scales are set seperately using `set_xscale` and `set_yscale` methods which accept one parameter (with the value `\"log\"` in this case):\n"
   ]
  },
  {
   "cell_type": "code",
   "execution_count": null,
   "metadata": {},
   "outputs": [],
   "source": [
    "fig, axes = plt.subplots(1, 2, figsize=(12, 6))\n",
    "\n",
    "# plot normal scale\n",
    "axes[0].plot(x, np.exp(x), color=\"red\")\n",
    "axes[0].plot(x, x**2, color=\"green\")\n",
    "axes[0].set_title(\"Normal scale\")\n",
    "axes[0].grid()  # show grid\n",
    "\n",
    "# plot `log` scale\n",
    "axes[1].plot(x, np.exp(x), color=\"blue\")\n",
    "axes[1].plot(x, x**2, color=\"violet\")\n",
    "axes[1].set_yscale(\"log\")\n",
    "axes[1].set_title(\"Logarithmic scale (y)\")\n",
    "axes[1].grid()  # show grid\n",
    "\n",
    "fig.tight_layout()\n",
    "plt.show()"
   ]
  },
  {
   "cell_type": "markdown",
   "metadata": {},
   "source": [
    "## Histogram plot"
   ]
  },
  {
   "cell_type": "code",
   "execution_count": null,
   "metadata": {},
   "outputs": [],
   "source": [
    "n = np.random.randn(100000)\n",
    "fig, axes = plt.subplots(1, 2, figsize=(12, 6))\n",
    "\n",
    "# plot default histogram\n",
    "axes[0].hist(n, color=\"blue\")\n",
    "axes[0].set_title(\"Default histogram\")\n",
    "axes[0].set_xlim((np.min(n), np.max(n)))\n",
    "\n",
    "# plot cumulative histogram\n",
    "axes[1].hist(n, cumulative=True, bins=50, color=\"green\")\n",
    "axes[1].set_title(\"Cumulative detailed histogram\")\n",
    "axes[1].set_xlim((np.min(n), np.max(n)))\n",
    "\n",
    "fig.tight_layout()\n",
    "plt.show()"
   ]
  },
  {
   "cell_type": "markdown",
   "metadata": {},
   "source": [
    "## Common types of plots\n",
    "\n",
    "- **Scatter plot**\n",
    " A simple scatter plot of random values drawn from the standard Gaussian distribution."
   ]
  },
  {
   "cell_type": "code",
   "execution_count": null,
   "metadata": {},
   "outputs": [],
   "source": [
    "# set figure size and dpi (dots per inch)\n",
    "plt.figure(figsize=(10, 6), dpi=80)\n",
    "\n",
    "# Create a new subplot from a grid of 1x1\n",
    "plt.subplot(111)\n",
    "\n",
    "n = 1024\n",
    "X = np.random.normal(0,1,n)\n",
    "Y = np.random.normal(0,1,n)\n",
    "\n",
    "# color is given by the angle between X & Y\n",
    "T = np.arctan2(Y,X)\n",
    "\n",
    "plt.axes([0.025, 0.025, 0.95, 0.95])\n",
    "\n",
    "# The alpha blending value, between 0 (transparent) and 1 (opaque).\n",
    "# s - marker size\n",
    "# c - color\n",
    "plt.scatter(X,Y, s=75, c=T, alpha=.5)\n",
    "\n",
    "plt.xlim(-2.0, 2.0), plt.xticks([])\n",
    "plt.ylim(-2.0, 2.0), plt.yticks([])\n",
    "plt.show()"
   ]
  },
  {
   "cell_type": "markdown",
   "metadata": {},
   "source": [
    "--------\n",
    "\n",
    "- **Contour plot**: A contour plot represents a 3-dimensional surface by plotting constant z slices, called contours, on a 2-dimensional grid. "
   ]
  },
  {
   "cell_type": "code",
   "execution_count": null,
   "metadata": {},
   "outputs": [],
   "source": [
    "# set figure size and dpi (dots per inch)\n",
    "plt.figure(figsize=(10, 6), dpi=80)\n",
    "\n",
    "# Create a new subplot from a grid of 1x1\n",
    "plt.subplot(111)\n",
    "\n",
    "\n",
    "def f(x,y):\n",
    "    return (1-x/2+x**5+y**3)*np.exp(-x**2-y**2)\n",
    "\n",
    "n = 256\n",
    "x = np.linspace(-3, 3, n)\n",
    "y = np.linspace(-3, 3, n)\n",
    "X,Y = np.meshgrid(x, y)\n",
    "\n",
    "plt.axes([0.025, 0.025, 0.95, 0.95])\n",
    "\n",
    "plt.contourf(X, Y, f(X,Y), 8, alpha=.75, cmap=plt.cm.hot)\n",
    "C = plt.contour(X, Y, f(X,Y), 8, colors='black')\n",
    "plt.clabel(C, inline=1, fontsize=10)\n",
    "\n",
    "plt.xticks([]), plt.yticks([])\n",
    "plt.show()"
   ]
  },
  {
   "cell_type": "markdown",
   "metadata": {},
   "source": [
    "***\n",
    "\n",
    "- **3D plot**\n",
    "\n",
    "Represents a 3-dimensional surface.  To use 3D graphics in matplotlib, we first need to create an axes instance of the class `Axes3D`. 3D axes can be added to a matplotlib figure canvas in exactly the same way as 2D axes, but a conventient way to create a 3D axis instance is to use the projection='3d' keyword argument to the add_axes or add_subplot functions.\n",
    "  \n",
    "Note: You can't rotate the plot within Jupyter Notebook. Plot it as a standalone module to zoom around and visualize it by rotating."
   ]
  },
  {
   "cell_type": "code",
   "execution_count": null,
   "metadata": {},
   "outputs": [],
   "source": [
    "\n",
    "# create figure and set figure size and dpi (dots per inch)\n",
    "fig = plt.figure(figsize=(10, 6), dpi=80)\n",
    "ax = Axes3D(fig)\n",
    "\n",
    "# inputs\n",
    "X = np.arange(-4, 4, 0.25)\n",
    "Y = np.arange(-4, 4, 0.25)\n",
    "\n",
    "X, Y = np.meshgrid(X, Y)\n",
    "\n",
    "# 3D surface\n",
    "R = np.sqrt(X**2 + Y**2)\n",
    "Z = np.sin(R)\n",
    "\n",
    "ax.plot_surface(X, Y, Z, rstride=1, cstride=1, cmap=plt.cm.hot)\n",
    "ax.contourf(X, Y, Z, zdir='z', offset=-2, cmap=plt.cm.hot)\n",
    "\n",
    "# set z axis limit\n",
    "ax.set_zlim(-3, 3)\n",
    "\n",
    "plt.show()"
   ]
  },
  {
   "cell_type": "markdown",
   "metadata": {},
   "source": [
    "--------\n",
    "\n",
    "- **3D Surface Plot**"
   ]
  },
  {
   "cell_type": "code",
   "execution_count": null,
   "metadata": {},
   "outputs": [],
   "source": [
    "alpha = 0.7\n",
    "phi_ext = 2 * np.pi * 0.5\n",
    "\n",
    "def flux_qubit_potential(phi_m, phi_p):\n",
    "    return 2 + alpha - 2 * np.cos(phi_p)*np.cos(phi_m) - alpha * np.cos(phi_ext - 2*phi_p)\n",
    "\n",
    "phi_m = np.linspace(0, 2*np.pi, 100)\n",
    "phi_p = np.linspace(0, 2*np.pi, 100)\n",
    "X,Y = np.meshgrid(phi_p, phi_m)\n",
    "Z = flux_qubit_potential(X, Y).T"
   ]
  },
  {
   "cell_type": "code",
   "execution_count": null,
   "metadata": {},
   "outputs": [],
   "source": [
    "fig = plt.figure(figsize=(25, 10))\n",
    "\n",
    "# `ax` is a 3D-aware axis instance, because of the projection='3d' keyword argument to add_subplot\n",
    "ax = fig.add_subplot(1, 2, 1, projection='3d')\n",
    "\n",
    "p = ax.plot_surface(X, Y, Z, rstride=4, cstride=4, linewidth=0)\n",
    "\n",
    "# surface_plot with color grading and color bar\n",
    "ax = fig.add_subplot(1, 2, 2, projection='3d')\n",
    "p = ax.plot_surface(X, Y, Z, rstride=1, cstride=1, cmap=plt.cm.coolwarm, linewidth=0, antialiased=False)\n",
    "cb = fig.colorbar(p, shrink=0.5)\n",
    "\n",
    "plt.show()"
   ]
  },
  {
   "cell_type": "markdown",
   "metadata": {},
   "source": [
    "--------\n",
    "\n",
    "- **3D Wireframe Plot**"
   ]
  },
  {
   "cell_type": "code",
   "execution_count": null,
   "metadata": {},
   "outputs": [],
   "source": [
    "fig = plt.figure(figsize=(25, 10))\n",
    "\n",
    "# `ax` is a 3D-aware axis instance, because of the projection='3d' keyword argument to add_subplot\n",
    "ax = fig.add_subplot(1, 1, 1, projection='3d')\n",
    "\n",
    "# create and plot a wireframe\n",
    "p = ax.plot_wireframe(X, Y, Z, rstride=4, cstride=4)\n",
    "\n",
    "plt.show()"
   ]
  },
  {
   "cell_type": "markdown",
   "metadata": {},
   "source": [
    "--------\n",
    "\n",
    "- **Coutour plots with axis level projections**"
   ]
  },
  {
   "cell_type": "code",
   "execution_count": null,
   "metadata": {},
   "outputs": [],
   "source": [
    "fig = plt.figure(figsize=(18, 8))\n",
    "\n",
    "# `ax` is a 3D-aware axis instance, because of the projection='3d' keyword argument to add_subplot\n",
    "ax = fig.add_subplot(1, 1, 1, projection='3d')\n",
    "\n",
    "ax.plot_surface(X, Y, Z, rstride=4, cstride=4, alpha=0.25)\n",
    "cset = ax.contour(X, Y, Z, zdir='z', offset=-np.pi, cmap=plt.cm.coolwarm)\n",
    "cset = ax.contour(X, Y, Z, zdir='x', offset=-np.pi, cmap=plt.cm.coolwarm)\n",
    "cset = ax.contour(X, Y, Z, zdir='y', offset=3*np.pi, cmap=plt.cm.coolwarm)\n",
    "\n",
    "ax.set_xlim3d(-np.pi, 2*np.pi);\n",
    "ax.set_ylim3d(0, 3*np.pi);\n",
    "ax.set_zlim3d(-np.pi, 2*np.pi);\n",
    "\n",
    "plt.show()"
   ]
  },
  {
   "cell_type": "markdown",
   "metadata": {},
   "source": [
    "**Changing viewing angle**\n",
    " - We can change the perspective of a 3D plot using the `view_init` function, which takes two arguments: the elevation and the azimuth angles (unit degrees)"
   ]
  },
  {
   "cell_type": "code",
   "execution_count": null,
   "metadata": {},
   "outputs": [],
   "source": [
    "fig = plt.figure(figsize=(8, 8))\n",
    "\n",
    "# `ax` is a 3D-aware axis instance, because of the projection='3d' keyword argument to add_subplot\n",
    "ax = fig.add_subplot(2, 1, 1, projection='3d')\n",
    "ax.plot_wireframe(X, Y, Z, rstride=4, cstride=4, alpha=0.25)\n",
    "ax.view_init(30, 45)\n",
    "\n",
    "# `ax` is a 3D-aware axis instance, because of the projection='3d' keyword argument to add_subplot\n",
    "ax = fig.add_subplot(2,1,2, projection='3d')\n",
    "ax.plot_wireframe(X, Y, Z, rstride=4, cstride=4, alpha=0.25)\n",
    "ax.view_init(70, 30)\n",
    "\n",
    "fig.tight_layout()"
   ]
  },
  {
   "cell_type": "markdown",
   "metadata": {},
   "source": [
    "## **Reference**\n",
    "\n",
    " - Adapted slightly from [Scipy-matplotlib-guide](http://www.scipy-lectures.org/intro/matplotlib/)"
   ]
  }
 ],
 "metadata": {
  "kernelspec": {
   "display_name": "base",
   "language": "python",
   "name": "python3"
  },
  "language_info": {
   "codemirror_mode": {
    "name": "ipython",
    "version": 3
   },
   "file_extension": ".py",
   "mimetype": "text/x-python",
   "name": "python",
   "nbconvert_exporter": "python",
   "pygments_lexer": "ipython3",
   "version": "3.13.5"
  }
 },
 "nbformat": 4,
 "nbformat_minor": 2
}
