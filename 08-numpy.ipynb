{
 "cells": [
  {
   "cell_type": "markdown",
   "metadata": {},
   "source": [
    "# Introducción a las ciencias de la computación *y programación en Python*\n",
    "\n",
    "*Banco de Guatemala*  \n",
    "*PES 2025-2026*  \n",
    "*Programación I*  \n",
    "*Septiembre de 2025*  "
   ]
  },
  {
   "cell_type": "markdown",
   "metadata": {
    "slideshow": {
     "slide_type": "slide"
    }
   },
   "source": [
    "## Abstract\n",
    "\n",
    "> \"*I do not fear computers. I fear lack of them.*\" **Isaac Asimov**\n",
    "\n",
    "- Paquete de computación científica NumPy\n",
    "\n",
    "    - Introducción\n",
    "    \n",
    "    - Conceptos básicos de utilización\n",
    "    \n",
    "    - Ejercicios"
   ]
  },
  {
   "attachments": {},
   "cell_type": "markdown",
   "metadata": {},
   "source": [
    "# NumPy\n",
    "\n",
    "- Paquete de Python para **computación científica** de **alto desempeño** sobre vectores, matrices y estructuras de mayores dimensiones (tensores).\n",
    "\n",
    "- Implementado en C y Fortran, por lo que cuando se **vectorizan** las oepraciones, el desempeño es muy bueno.\n",
    "\n",
    "- Ofrece una estructura de datos `ndarray` para procesar de forma **eficiente** datos homogéneos.\n",
    "\n",
    "- Capacidades de algebra lineal, transformada de Fourier y generación de números aleatorios."
   ]
  },
  {
   "cell_type": "markdown",
   "metadata": {},
   "source": [
    "## Pero, ¿y las listas de Python?\n",
    "\n",
    "- Las listas son muy generales, pueden contener cualquier tipo de objeto.\n",
    "\n",
    "    - Implementan tipos dinámicos.\n",
    "    \n",
    "    - No permiten operaciones matemáticas como la *multiplicación matricial* o *producto punto*.\n",
    "    \n",
    "- Los vectores de NumPy son de tipado estático y homogéneo. El tipo del arreglo se determina cuando se crea el vector.\n",
    "\n",
    "    - Son eficientes en memoria.\n",
    "    \n",
    "    - Es posible implementar **funciones universales** (ufuncs). \n",
    "    \n",
    "    - El tipado estático permite implementar operaciones matemáticas de forma eficiente a través de C y Fortran.\n",
    "    "
   ]
  },
  {
   "cell_type": "code",
   "execution_count": 2,
   "metadata": {},
   "outputs": [
    {
     "ename": "TypeError",
     "evalue": "can't multiply sequence by non-int of type 'list'",
     "output_type": "error",
     "traceback": [
      "\u001b[31m---------------------------------------------------------------------------\u001b[39m",
      "\u001b[31mTypeError\u001b[39m                                 Traceback (most recent call last)",
      "\u001b[36mCell\u001b[39m\u001b[36m \u001b[39m\u001b[32mIn[2]\u001b[39m\u001b[32m, line 1\u001b[39m\n\u001b[32m----> \u001b[39m\u001b[32m1\u001b[39m \u001b[43m[\u001b[49m\u001b[43m[\u001b[49m\u001b[32;43m1\u001b[39;49m\u001b[43m,\u001b[49m\u001b[32;43m2\u001b[39;49m\u001b[43m]\u001b[49m\u001b[43m,\u001b[49m\u001b[43m[\u001b[49m\u001b[32;43m3\u001b[39;49m\u001b[43m,\u001b[49m\u001b[32;43m4\u001b[39;49m\u001b[43m]\u001b[49m\u001b[43m]\u001b[49m\u001b[43m \u001b[49m\u001b[43m*\u001b[49m\u001b[43m \u001b[49m\u001b[43m[\u001b[49m\u001b[32;43m1\u001b[39;49m\u001b[43m,\u001b[49m\u001b[32;43m2\u001b[39;49m\u001b[43m]\u001b[49m\n",
      "\u001b[31mTypeError\u001b[39m: can't multiply sequence by non-int of type 'list'"
     ]
    }
   ],
   "source": [
    "[[1,2],[3,4]] * [1,2]"
   ]
  },
  {
   "cell_type": "code",
   "execution_count": 4,
   "metadata": {},
   "outputs": [
    {
     "ename": "TypeError",
     "evalue": "can only concatenate list (not \"int\") to list",
     "output_type": "error",
     "traceback": [
      "\u001b[31m---------------------------------------------------------------------------\u001b[39m",
      "\u001b[31mTypeError\u001b[39m                                 Traceback (most recent call last)",
      "\u001b[36mCell\u001b[39m\u001b[36m \u001b[39m\u001b[32mIn[4]\u001b[39m\u001b[32m, line 4\u001b[39m\n\u001b[32m      1\u001b[39m \u001b[38;5;28;01mdef\u001b[39;00m\u001b[38;5;250m \u001b[39m\u001b[34mf\u001b[39m(x):\n\u001b[32m      2\u001b[39m     \u001b[38;5;28;01mreturn\u001b[39;00m \u001b[32m2\u001b[39m*x + \u001b[32m1\u001b[39m\n\u001b[32m----> \u001b[39m\u001b[32m4\u001b[39m \u001b[43mf\u001b[49m\u001b[43m(\u001b[49m\u001b[43m[\u001b[49m\u001b[32;43m2\u001b[39;49m\u001b[43m,\u001b[49m\u001b[32;43m3\u001b[39;49m\u001b[43m,\u001b[49m\u001b[32;43m4\u001b[39;49m\u001b[43m]\u001b[49m\u001b[43m)\u001b[49m\n",
      "\u001b[36mCell\u001b[39m\u001b[36m \u001b[39m\u001b[32mIn[4]\u001b[39m\u001b[32m, line 2\u001b[39m, in \u001b[36mf\u001b[39m\u001b[34m(x)\u001b[39m\n\u001b[32m      1\u001b[39m \u001b[38;5;28;01mdef\u001b[39;00m\u001b[38;5;250m \u001b[39m\u001b[34mf\u001b[39m(x):\n\u001b[32m----> \u001b[39m\u001b[32m2\u001b[39m     \u001b[38;5;28;01mreturn\u001b[39;00m \u001b[32;43m2\u001b[39;49m\u001b[43m*\u001b[49m\u001b[43mx\u001b[49m\u001b[43m \u001b[49m\u001b[43m+\u001b[49m\u001b[43m \u001b[49m\u001b[32;43m1\u001b[39;49m\n",
      "\u001b[31mTypeError\u001b[39m: can only concatenate list (not \"int\") to list"
     ]
    }
   ],
   "source": [
    "def f(x):\n",
    "    return 2*x + 1\n",
    "\n",
    "f([2,3,4])"
   ]
  },
  {
   "cell_type": "markdown",
   "metadata": {},
   "source": [
    "### Comparación entre lenguajes de programación"
   ]
  },
  {
   "cell_type": "markdown",
   "metadata": {},
   "source": [
    "![julia-benchmarks.svg](figs/numpy/julia-benchmarks.svg)\n",
    "\n",
    "[5 Razones para aprender NumPy](https://insights.dice.com/2016/09/01/5-reasons-know-numpy/): \n",
    "\n",
    "    It's fast\n",
    "    It works very well with SciPy and other Libraries\n",
    "    It lets you do matrix arithmetic\n",
    "    It has lots of built-in functions\n",
    "    It has universal functions\n"
   ]
  },
  {
   "cell_type": "markdown",
   "metadata": {},
   "source": [
    "## Importando NumPy"
   ]
  },
  {
   "cell_type": "code",
   "execution_count": 5,
   "metadata": {},
   "outputs": [],
   "source": [
    "import numpy as np"
   ]
  },
  {
   "cell_type": "markdown",
   "metadata": {},
   "source": [
    "- Revisamos la versión de NumPy (importante al ver la documentación)"
   ]
  },
  {
   "cell_type": "code",
   "execution_count": 6,
   "metadata": {},
   "outputs": [
    {
     "data": {
      "text/plain": [
       "'2.2.6'"
      ]
     },
     "execution_count": 6,
     "metadata": {},
     "output_type": "execute_result"
    }
   ],
   "source": [
    "np.__version__"
   ]
  },
  {
   "cell_type": "markdown",
   "metadata": {},
   "source": [
    "### Obteniendo ayuda"
   ]
  },
  {
   "cell_type": "code",
   "execution_count": 7,
   "metadata": {},
   "outputs": [
    {
     "name": "stdout",
     "output_type": "stream",
     "text": [
      "\u001b[31mInit signature:\u001b[39m np.ndarray(self, /, *args, **kwargs)\n",
      "\u001b[31mDocstring:\u001b[39m     \n",
      "ndarray(shape, dtype=float, buffer=None, offset=0,\n",
      "        strides=None, order=None)\n",
      "\n",
      "An array object represents a multidimensional, homogeneous array\n",
      "of fixed-size items.  An associated data-type object describes the\n",
      "format of each element in the array (its byte-order, how many bytes it\n",
      "occupies in memory, whether it is an integer, a floating point number,\n",
      "or something else, etc.)\n",
      "\n",
      "Arrays should be constructed using `array`, `zeros` or `empty` (refer\n",
      "to the See Also section below).  The parameters given here refer to\n",
      "a low-level method (`ndarray(...)`) for instantiating an array.\n",
      "\n",
      "For more information, refer to the `numpy` module and examine the\n",
      "methods and attributes of an array.\n",
      "\n",
      "Parameters\n",
      "----------\n",
      "(for the __new__ method; see Notes below)\n",
      "\n",
      "shape : tuple of ints\n",
      "    Shape of created array.\n",
      "dtype : data-type, optional\n",
      "    Any object that can be interpreted as a numpy data type.\n",
      "buffer : object exposing buffer interface, optional\n",
      "    Used to fill the array with data.\n",
      "offset : int, optional\n",
      "    Offset of array data in buffer.\n",
      "strides : tuple of ints, optional\n",
      "    Strides of data in memory.\n",
      "order : {'C', 'F'}, optional\n",
      "    Row-major (C-style) or column-major (Fortran-style) order.\n",
      "\n",
      "Attributes\n",
      "----------\n",
      "T : ndarray\n",
      "    Transpose of the array.\n",
      "data : buffer\n",
      "    The array's elements, in memory.\n",
      "dtype : dtype object\n",
      "    Describes the format of the elements in the array.\n",
      "flags : dict\n",
      "    Dictionary containing information related to memory use, e.g.,\n",
      "    'C_CONTIGUOUS', 'OWNDATA', 'WRITEABLE', etc.\n",
      "flat : numpy.flatiter object\n",
      "    Flattened version of the array as an iterator.  The iterator\n",
      "    allows assignments, e.g., ``x.flat = 3`` (See `ndarray.flat` for\n",
      "    assignment examples; TODO).\n",
      "imag : ndarray\n",
      "    Imaginary part of the array.\n",
      "real : ndarray\n",
      "    Real part of the array.\n",
      "size : int\n",
      "    Number of elements in the array.\n",
      "itemsize : int\n",
      "    The memory use of each array element in bytes.\n",
      "nbytes : int\n",
      "    The total number of bytes required to store the array data,\n",
      "    i.e., ``itemsize * size``.\n",
      "ndim : int\n",
      "    The array's number of dimensions.\n",
      "shape : tuple of ints\n",
      "    Shape of the array.\n",
      "strides : tuple of ints\n",
      "    The step-size required to move from one element to the next in\n",
      "    memory. For example, a contiguous ``(3, 4)`` array of type\n",
      "    ``int16`` in C-order has strides ``(8, 2)``.  This implies that\n",
      "    to move from element to element in memory requires jumps of 2 bytes.\n",
      "    To move from row-to-row, one needs to jump 8 bytes at a time\n",
      "    (``2 * 4``).\n",
      "ctypes : ctypes object\n",
      "    Class containing properties of the array needed for interaction\n",
      "    with ctypes.\n",
      "base : ndarray\n",
      "    If the array is a view into another array, that array is its `base`\n",
      "    (unless that array is also a view).  The `base` array is where the\n",
      "    array data is actually stored.\n",
      "\n",
      "See Also\n",
      "--------\n",
      "array : Construct an array.\n",
      "zeros : Create an array, each element of which is zero.\n",
      "empty : Create an array, but leave its allocated memory unchanged (i.e.,\n",
      "        it contains \"garbage\").\n",
      "dtype : Create a data-type.\n",
      "numpy.typing.NDArray : An ndarray alias :term:`generic <generic type>`\n",
      "                       w.r.t. its `dtype.type <numpy.dtype.type>`.\n",
      "\n",
      "Notes\n",
      "-----\n",
      "There are two modes of creating an array using ``__new__``:\n",
      "\n",
      "1. If `buffer` is None, then only `shape`, `dtype`, and `order`\n",
      "   are used.\n",
      "2. If `buffer` is an object exposing the buffer interface, then\n",
      "   all keywords are interpreted.\n",
      "\n",
      "No ``__init__`` method is needed because the array is fully initialized\n",
      "after the ``__new__`` method.\n",
      "\n",
      "Examples\n",
      "--------\n",
      "These examples illustrate the low-level `ndarray` constructor.  Refer\n",
      "to the `See Also` section above for easier ways of constructing an\n",
      "ndarray.\n",
      "\n",
      "First mode, `buffer` is None:\n",
      "\n",
      ">>> import numpy as np\n",
      ">>> np.ndarray(shape=(2,2), dtype=float, order='F')\n",
      "array([[0.0e+000, 0.0e+000], # random\n",
      "       [     nan, 2.5e-323]])\n",
      "\n",
      "Second mode:\n",
      "\n",
      ">>> np.ndarray((2,), buffer=np.array([1,2,3]),\n",
      "...            offset=np.int_().itemsize,\n",
      "...            dtype=int) # offset = 1*itemsize, i.e. skip first element\n",
      "array([2, 3])\n",
      "\u001b[31mFile:\u001b[39m           c:\\users\\lenovo\\miniconda3\\lib\\site-packages\\numpy\\__init__.py\n",
      "\u001b[31mType:\u001b[39m           type\n",
      "\u001b[31mSubclasses:\u001b[39m     recarray, memmap, matrix"
     ]
    }
   ],
   "source": [
    "# Obtiene una ventana de ayuda\n",
    "np.ndarray?"
   ]
  },
  {
   "cell_type": "code",
   "execution_count": 9,
   "metadata": {},
   "outputs": [
    {
     "data": {
      "text/plain": [
       "<function numpy.array>"
      ]
     },
     "execution_count": 9,
     "metadata": {},
     "output_type": "execute_result"
    }
   ],
   "source": [
    "np.array"
   ]
  },
  {
   "cell_type": "code",
   "execution_count": 8,
   "metadata": {},
   "outputs": [
    {
     "name": "stdout",
     "output_type": "stream",
     "text": [
      "Help on built-in function array in module numpy:\n",
      "\n",
      "array(...)\n",
      "    array(object, dtype=None, *, copy=True, order='K', subok=False, ndmin=0,\n",
      "          like=None)\n",
      "\n",
      "    Create an array.\n",
      "\n",
      "    Parameters\n",
      "    ----------\n",
      "    object : array_like\n",
      "        An array, any object exposing the array interface, an object whose\n",
      "        ``__array__`` method returns an array, or any (nested) sequence.\n",
      "        If object is a scalar, a 0-dimensional array containing object is\n",
      "        returned.\n",
      "    dtype : data-type, optional\n",
      "        The desired data-type for the array. If not given, NumPy will try to use\n",
      "        a default ``dtype`` that can represent the values (by applying promotion\n",
      "        rules when necessary.)\n",
      "    copy : bool, optional\n",
      "        If ``True`` (default), then the array data is copied. If ``None``,\n",
      "        a copy will only be made if ``__array__`` returns a copy, if obj is\n",
      "        a nested sequence, or if a copy is needed to satisfy any of the other\n",
      "        requirements (``dtype``, ``order``, etc.). Note that any copy of\n",
      "        the data is shallow, i.e., for arrays with object dtype, the new\n",
      "        array will point to the same objects. See Examples for `ndarray.copy`.\n",
      "        For ``False`` it raises a ``ValueError`` if a copy cannot be avoided.\n",
      "        Default: ``True``.\n",
      "    order : {'K', 'A', 'C', 'F'}, optional\n",
      "        Specify the memory layout of the array. If object is not an array, the\n",
      "        newly created array will be in C order (row major) unless 'F' is\n",
      "        specified, in which case it will be in Fortran order (column major).\n",
      "        If object is an array the following holds.\n",
      "\n",
      "        ===== ========= ===================================================\n",
      "        order  no copy                     copy=True\n",
      "        ===== ========= ===================================================\n",
      "        'K'   unchanged F & C order preserved, otherwise most similar order\n",
      "        'A'   unchanged F order if input is F and not C, otherwise C order\n",
      "        'C'   C order   C order\n",
      "        'F'   F order   F order\n",
      "        ===== ========= ===================================================\n",
      "\n",
      "        When ``copy=None`` and a copy is made for other reasons, the result is\n",
      "        the same as if ``copy=True``, with some exceptions for 'A', see the\n",
      "        Notes section. The default order is 'K'.\n",
      "    subok : bool, optional\n",
      "        If True, then sub-classes will be passed-through, otherwise\n",
      "        the returned array will be forced to be a base-class array (default).\n",
      "    ndmin : int, optional\n",
      "        Specifies the minimum number of dimensions that the resulting\n",
      "        array should have.  Ones will be prepended to the shape as\n",
      "        needed to meet this requirement.\n",
      "    like : array_like, optional\n",
      "        Reference object to allow the creation of arrays which are not\n",
      "        NumPy arrays. If an array-like passed in as ``like`` supports\n",
      "        the ``__array_function__`` protocol, the result will be defined\n",
      "        by it. In this case, it ensures the creation of an array object\n",
      "        compatible with that passed in via this argument.\n",
      "\n",
      "        .. versionadded:: 1.20.0\n",
      "\n",
      "    Returns\n",
      "    -------\n",
      "    out : ndarray\n",
      "        An array object satisfying the specified requirements.\n",
      "\n",
      "    See Also\n",
      "    --------\n",
      "    empty_like : Return an empty array with shape and type of input.\n",
      "    ones_like : Return an array of ones with shape and type of input.\n",
      "    zeros_like : Return an array of zeros with shape and type of input.\n",
      "    full_like : Return a new array with shape of input filled with value.\n",
      "    empty : Return a new uninitialized array.\n",
      "    ones : Return a new array setting values to one.\n",
      "    zeros : Return a new array setting values to zero.\n",
      "    full : Return a new array of given shape filled with value.\n",
      "    copy: Return an array copy of the given object.\n",
      "\n",
      "\n",
      "    Notes\n",
      "    -----\n",
      "    When order is 'A' and ``object`` is an array in neither 'C' nor 'F' order,\n",
      "    and a copy is forced by a change in dtype, then the order of the result is\n",
      "    not necessarily 'C' as expected. This is likely a bug.\n",
      "\n",
      "    Examples\n",
      "    --------\n",
      "    >>> import numpy as np\n",
      "    >>> np.array([1, 2, 3])\n",
      "    array([1, 2, 3])\n",
      "\n",
      "    Upcasting:\n",
      "\n",
      "    >>> np.array([1, 2, 3.0])\n",
      "    array([ 1.,  2.,  3.])\n",
      "\n",
      "    More than one dimension:\n",
      "\n",
      "    >>> np.array([[1, 2], [3, 4]])\n",
      "    array([[1, 2],\n",
      "           [3, 4]])\n",
      "\n",
      "    Minimum dimensions 2:\n",
      "\n",
      "    >>> np.array([1, 2, 3], ndmin=2)\n",
      "    array([[1, 2, 3]])\n",
      "\n",
      "    Type provided:\n",
      "\n",
      "    >>> np.array([1, 2, 3], dtype=complex)\n",
      "    array([ 1.+0.j,  2.+0.j,  3.+0.j])\n",
      "\n",
      "    Data-type consisting of more than one element:\n",
      "\n",
      "    >>> x = np.array([(1,2),(3,4)],dtype=[('a','<i4'),('b','<i4')])\n",
      "    >>> x['a']\n",
      "    array([1, 3], dtype=int32)\n",
      "\n",
      "    Creating an array from sub-classes:\n",
      "\n",
      "    >>> np.array(np.asmatrix('1 2; 3 4'))\n",
      "    array([[1, 2],\n",
      "           [3, 4]])\n",
      "\n",
      "    >>> np.array(np.asmatrix('1 2; 3 4'), subok=True)\n",
      "    matrix([[1, 2],\n",
      "            [3, 4]])\n",
      "\n"
     ]
    }
   ],
   "source": [
    "# Función help para una función\n",
    "help(np.array)"
   ]
  },
  {
   "cell_type": "markdown",
   "metadata": {},
   "source": [
    "***\n",
    "## La clase `ndarray`"
   ]
  },
  {
   "cell_type": "code",
   "execution_count": 11,
   "metadata": {},
   "outputs": [
    {
     "data": {
      "text/plain": [
       "numpy.ndarray"
      ]
     },
     "execution_count": 11,
     "metadata": {},
     "output_type": "execute_result"
    }
   ],
   "source": [
    "x = np.array([1,2,3])\n",
    "type(x)"
   ]
  },
  {
   "cell_type": "markdown",
   "metadata": {},
   "source": [
    "- La clase básica de NumPy se llama `ndarray` (alias `array`). Sus atributos más importantes son: \n",
    "\n",
    "    - `ndarray.ndim` : número de dimensiones del arreglo.\n",
    "\n",
    "    - `ndarray.shape` : dimensiones del arreglo. Esta es una **tupla de enteros** que indica el tamaño de la matriz en cada dimensión. Para una matriz con $n$ filas y $m$ columnas, la forma será $(n, m)$. La longitud de la tupla de forma es, por lo tanto, el número de ejes, `ndim`.\n",
    "\n",
    "    - `darray.size` : el número total de elementos del arreglo. Es igual al producto de los elementos de la tupla `shape`.\n",
    "\n",
    "    - `ndarray.dtype` : un **objeto** que describe el **tipo** de los elementos en el arreglo. Es posible crear y especificar `dtypes` propios.\n",
    "        - Adicionalmente, NumPy provee algunos tipos propios muy utilizados: `numpy.int32`, `numpy.int16`, and `numpy.float64`.\n",
    "\n",
    "    - `ndarray.itemsize` : el tamaño en bytes de cada elemento en el arreglo. Por ejemplo, un arreglo de tipo `float64` tiene tamaño en bytes de $8 (=64/8)$. Equivalente a `ndarray.dtype.itemsize`.\n",
    "\n",
    "    - `ndarray.data` : el búfer que contiene los elementos del arreglo. Aunque normalmente, no accedemos al atributo directamente, ya que hacemos uso de los elementos con *slicing*.\n",
    "\n"
   ]
  },
  {
   "cell_type": "code",
   "execution_count": 25,
   "metadata": {},
   "outputs": [
    {
     "data": {
      "text/plain": [
       "array([[ 0.,  1.,  2.,  3.,  4.],\n",
       "       [ 5.,  6.,  7.,  8.,  9.],\n",
       "       [10., 11., 12., 13., 14.]])"
      ]
     },
     "execution_count": 25,
     "metadata": {},
     "output_type": "execute_result"
    }
   ],
   "source": [
    "a = np.arange(15, dtype='float64').reshape(3, 5)\n",
    "a"
   ]
  },
  {
   "cell_type": "code",
   "execution_count": 34,
   "metadata": {},
   "outputs": [
    {
     "data": {
      "text/plain": [
       "(3, 5)"
      ]
     },
     "execution_count": 34,
     "metadata": {},
     "output_type": "execute_result"
    }
   ],
   "source": [
    "a.shape"
   ]
  },
  {
   "cell_type": "code",
   "execution_count": 35,
   "metadata": {},
   "outputs": [
    {
     "data": {
      "text/plain": [
       "2"
      ]
     },
     "execution_count": 35,
     "metadata": {},
     "output_type": "execute_result"
    }
   ],
   "source": [
    "a.ndim"
   ]
  },
  {
   "cell_type": "code",
   "execution_count": 28,
   "metadata": {},
   "outputs": [
    {
     "data": {
      "text/plain": [
       "dtype('float64')"
      ]
     },
     "execution_count": 28,
     "metadata": {},
     "output_type": "execute_result"
    }
   ],
   "source": [
    "a.dtype\n",
    "# type(a.dtype)"
   ]
  },
  {
   "cell_type": "code",
   "execution_count": 29,
   "metadata": {},
   "outputs": [
    {
     "data": {
      "text/plain": [
       "'float64'"
      ]
     },
     "execution_count": 29,
     "metadata": {},
     "output_type": "execute_result"
    }
   ],
   "source": [
    "a.dtype.name"
   ]
  },
  {
   "cell_type": "code",
   "execution_count": 30,
   "metadata": {},
   "outputs": [
    {
     "data": {
      "text/plain": [
       "8"
      ]
     },
     "execution_count": 30,
     "metadata": {},
     "output_type": "execute_result"
    }
   ],
   "source": [
    "a.itemsize"
   ]
  },
  {
   "cell_type": "code",
   "execution_count": 31,
   "metadata": {},
   "outputs": [
    {
     "data": {
      "text/plain": [
       "<memory at 0x000001547D0B7C60>"
      ]
     },
     "execution_count": 31,
     "metadata": {},
     "output_type": "execute_result"
    }
   ],
   "source": [
    "a.data"
   ]
  },
  {
   "cell_type": "code",
   "execution_count": 32,
   "metadata": {},
   "outputs": [
    {
     "data": {
      "text/plain": [
       "15"
      ]
     },
     "execution_count": 32,
     "metadata": {},
     "output_type": "execute_result"
    }
   ],
   "source": [
    "a.size"
   ]
  },
  {
   "cell_type": "code",
   "execution_count": 33,
   "metadata": {},
   "outputs": [
    {
     "data": {
      "text/plain": [
       "numpy.ndarray"
      ]
     },
     "execution_count": 33,
     "metadata": {},
     "output_type": "execute_result"
    }
   ],
   "source": [
    "type(a)"
   ]
  },
  {
   "cell_type": "markdown",
   "metadata": {},
   "source": [
    "***\n",
    "# Creando arreglos N-dimensionales de NumPy\n",
    "\n",
    "- Hay varias formas de inicializar nuevas matrices numpy, por ejemplo desde\n",
    "\n",
    "    - Una lista de Python o tuplas.\n",
    "    \n",
    "    - Utilizando funciones dedicadas a **generar** arreglos de NumPy.\n",
    "\n",
    "      - Es común inicializar vectores de ceros o con valores aleatorios.\n",
    "    \n",
    "    - Leer información de archivos. "
   ]
  },
  {
   "cell_type": "code",
   "execution_count": 40,
   "metadata": {},
   "outputs": [
    {
     "data": {
      "text/plain": [
       "array([2, 3, 4])"
      ]
     },
     "execution_count": 40,
     "metadata": {},
     "output_type": "execute_result"
    }
   ],
   "source": [
    "a = np.array([2,3,4])\n",
    "a"
   ]
  },
  {
   "cell_type": "code",
   "execution_count": 41,
   "metadata": {},
   "outputs": [
    {
     "data": {
      "text/plain": [
       "dtype('int64')"
      ]
     },
     "execution_count": 41,
     "metadata": {},
     "output_type": "execute_result"
    }
   ],
   "source": [
    "a.dtype"
   ]
  },
  {
   "cell_type": "code",
   "execution_count": 42,
   "metadata": {},
   "outputs": [
    {
     "data": {
      "text/plain": [
       "array([1.2, 3.5, 5.1])"
      ]
     },
     "execution_count": 42,
     "metadata": {},
     "output_type": "execute_result"
    }
   ],
   "source": [
    "b = np.array([1.2, 3.5, 5.1])\n",
    "b"
   ]
  },
  {
   "cell_type": "code",
   "execution_count": 43,
   "metadata": {},
   "outputs": [
    {
     "data": {
      "text/plain": [
       "dtype('float64')"
      ]
     },
     "execution_count": 43,
     "metadata": {},
     "output_type": "execute_result"
    }
   ],
   "source": [
    "b.dtype"
   ]
  },
  {
   "cell_type": "code",
   "execution_count": 45,
   "metadata": {},
   "outputs": [
    {
     "data": {
      "text/plain": [
       "array([1., 2., 3.])"
      ]
     },
     "execution_count": 45,
     "metadata": {},
     "output_type": "execute_result"
    }
   ],
   "source": [
    "c = np.array([1.,2,3])\n",
    "c"
   ]
  },
  {
   "cell_type": "markdown",
   "metadata": {},
   "source": [
    "### Error frecuente\n",
    "\n",
    "Crear el arreglo con varios argumentos en vez de proveer una sola lista o secuencia como argumento"
   ]
  },
  {
   "cell_type": "code",
   "execution_count": 47,
   "metadata": {},
   "outputs": [
    {
     "name": "stdout",
     "output_type": "stream",
     "text": [
      "\u001b[31mDocstring:\u001b[39m\n",
      "array(object, dtype=None, *, copy=True, order='K', subok=False, ndmin=0,\n",
      "      like=None)\n",
      "\n",
      "Create an array.\n",
      "\n",
      "Parameters\n",
      "----------\n",
      "object : array_like\n",
      "    An array, any object exposing the array interface, an object whose\n",
      "    ``__array__`` method returns an array, or any (nested) sequence.\n",
      "    If object is a scalar, a 0-dimensional array containing object is\n",
      "    returned.\n",
      "dtype : data-type, optional\n",
      "    The desired data-type for the array. If not given, NumPy will try to use\n",
      "    a default ``dtype`` that can represent the values (by applying promotion\n",
      "    rules when necessary.)\n",
      "copy : bool, optional\n",
      "    If ``True`` (default), then the array data is copied. If ``None``,\n",
      "    a copy will only be made if ``__array__`` returns a copy, if obj is\n",
      "    a nested sequence, or if a copy is needed to satisfy any of the other\n",
      "    requirements (``dtype``, ``order``, etc.). Note that any copy of\n",
      "    the data is shallow, i.e., for arrays with object dtype, the new\n",
      "    array will point to the same objects. See Examples for `ndarray.copy`.\n",
      "    For ``False`` it raises a ``ValueError`` if a copy cannot be avoided.\n",
      "    Default: ``True``.\n",
      "order : {'K', 'A', 'C', 'F'}, optional\n",
      "    Specify the memory layout of the array. If object is not an array, the\n",
      "    newly created array will be in C order (row major) unless 'F' is\n",
      "    specified, in which case it will be in Fortran order (column major).\n",
      "    If object is an array the following holds.\n",
      "\n",
      "    ===== ========= ===================================================\n",
      "    order  no copy                     copy=True\n",
      "    ===== ========= ===================================================\n",
      "    'K'   unchanged F & C order preserved, otherwise most similar order\n",
      "    'A'   unchanged F order if input is F and not C, otherwise C order\n",
      "    'C'   C order   C order\n",
      "    'F'   F order   F order\n",
      "    ===== ========= ===================================================\n",
      "\n",
      "    When ``copy=None`` and a copy is made for other reasons, the result is\n",
      "    the same as if ``copy=True``, with some exceptions for 'A', see the\n",
      "    Notes section. The default order is 'K'.\n",
      "subok : bool, optional\n",
      "    If True, then sub-classes will be passed-through, otherwise\n",
      "    the returned array will be forced to be a base-class array (default).\n",
      "ndmin : int, optional\n",
      "    Specifies the minimum number of dimensions that the resulting\n",
      "    array should have.  Ones will be prepended to the shape as\n",
      "    needed to meet this requirement.\n",
      "like : array_like, optional\n",
      "    Reference object to allow the creation of arrays which are not\n",
      "    NumPy arrays. If an array-like passed in as ``like`` supports\n",
      "    the ``__array_function__`` protocol, the result will be defined\n",
      "    by it. In this case, it ensures the creation of an array object\n",
      "    compatible with that passed in via this argument.\n",
      "\n",
      "    .. versionadded:: 1.20.0\n",
      "\n",
      "Returns\n",
      "-------\n",
      "out : ndarray\n",
      "    An array object satisfying the specified requirements.\n",
      "\n",
      "See Also\n",
      "--------\n",
      "empty_like : Return an empty array with shape and type of input.\n",
      "ones_like : Return an array of ones with shape and type of input.\n",
      "zeros_like : Return an array of zeros with shape and type of input.\n",
      "full_like : Return a new array with shape of input filled with value.\n",
      "empty : Return a new uninitialized array.\n",
      "ones : Return a new array setting values to one.\n",
      "zeros : Return a new array setting values to zero.\n",
      "full : Return a new array of given shape filled with value.\n",
      "copy: Return an array copy of the given object.\n",
      "\n",
      "\n",
      "Notes\n",
      "-----\n",
      "When order is 'A' and ``object`` is an array in neither 'C' nor 'F' order,\n",
      "and a copy is forced by a change in dtype, then the order of the result is\n",
      "not necessarily 'C' as expected. This is likely a bug.\n",
      "\n",
      "Examples\n",
      "--------\n",
      ">>> import numpy as np\n",
      ">>> np.array([1, 2, 3])\n",
      "array([1, 2, 3])\n",
      "\n",
      "Upcasting:\n",
      "\n",
      ">>> np.array([1, 2, 3.0])\n",
      "array([ 1.,  2.,  3.])\n",
      "\n",
      "More than one dimension:\n",
      "\n",
      ">>> np.array([[1, 2], [3, 4]])\n",
      "array([[1, 2],\n",
      "       [3, 4]])\n",
      "\n",
      "Minimum dimensions 2:\n",
      "\n",
      ">>> np.array([1, 2, 3], ndmin=2)\n",
      "array([[1, 2, 3]])\n",
      "\n",
      "Type provided:\n",
      "\n",
      ">>> np.array([1, 2, 3], dtype=complex)\n",
      "array([ 1.+0.j,  2.+0.j,  3.+0.j])\n",
      "\n",
      "Data-type consisting of more than one element:\n",
      "\n",
      ">>> x = np.array([(1,2),(3,4)],dtype=[('a','<i4'),('b','<i4')])\n",
      ">>> x['a']\n",
      "array([1, 3], dtype=int32)\n",
      "\n",
      "Creating an array from sub-classes:\n",
      "\n",
      ">>> np.array(np.asmatrix('1 2; 3 4'))\n",
      "array([[1, 2],\n",
      "       [3, 4]])\n",
      "\n",
      ">>> np.array(np.asmatrix('1 2; 3 4'), subok=True)\n",
      "matrix([[1, 2],\n",
      "        [3, 4]])\n",
      "\u001b[31mType:\u001b[39m      builtin_function_or_method"
     ]
    }
   ],
   "source": [
    "np.array?"
   ]
  },
  {
   "cell_type": "code",
   "execution_count": 46,
   "metadata": {},
   "outputs": [
    {
     "ename": "TypeError",
     "evalue": "array() takes from 1 to 2 positional arguments but 4 were given",
     "output_type": "error",
     "traceback": [
      "\u001b[31m---------------------------------------------------------------------------\u001b[39m",
      "\u001b[31mTypeError\u001b[39m                                 Traceback (most recent call last)",
      "\u001b[36mCell\u001b[39m\u001b[36m \u001b[39m\u001b[32mIn[46]\u001b[39m\u001b[32m, line 2\u001b[39m\n\u001b[32m      1\u001b[39m \u001b[38;5;66;03m# Error frecuente\u001b[39;00m\n\u001b[32m----> \u001b[39m\u001b[32m2\u001b[39m a = \u001b[43mnp\u001b[49m\u001b[43m.\u001b[49m\u001b[43marray\u001b[49m\u001b[43m(\u001b[49m\u001b[32;43m1\u001b[39;49m\u001b[43m,\u001b[49m\u001b[32;43m2\u001b[39;49m\u001b[43m,\u001b[49m\u001b[32;43m3\u001b[39;49m\u001b[43m,\u001b[49m\u001b[32;43m4\u001b[39;49m\u001b[43m)\u001b[49m\n",
      "\u001b[31mTypeError\u001b[39m: array() takes from 1 to 2 positional arguments but 4 were given"
     ]
    }
   ],
   "source": [
    "# Error frecuente\n",
    "a = np.array(1,2,3,4)"
   ]
  },
  {
   "cell_type": "code",
   "execution_count": 51,
   "metadata": {},
   "outputs": [
    {
     "data": {
      "text/plain": [
       "array([1, 2, 3, 4], dtype=int16)"
      ]
     },
     "execution_count": 51,
     "metadata": {},
     "output_type": "execute_result"
    }
   ],
   "source": [
    "a = np.array([1,2,3,4], dtype='int16')\n",
    "a"
   ]
  },
  {
   "cell_type": "markdown",
   "metadata": {},
   "source": [
    "## A partir de listas o tuplas \n",
    "`ndarray` transforma secuencias de secuencias en matrices bidimensionales, secuencias de secuencias de secuencias en matrices tridimensionales, etc."
   ]
  },
  {
   "cell_type": "code",
   "execution_count": 52,
   "metadata": {},
   "outputs": [
    {
     "data": {
      "text/plain": [
       "array([[1.5, 2. , 3. ],\n",
       "       [4. , 5. , 6. ]])"
      ]
     },
     "execution_count": 52,
     "metadata": {},
     "output_type": "execute_result"
    }
   ],
   "source": [
    "b = np.array([[1.5,2,3], [4,5,6]])\n",
    "b"
   ]
  },
  {
   "cell_type": "code",
   "execution_count": 55,
   "metadata": {},
   "outputs": [
    {
     "data": {
      "text/plain": [
       "array([[[1.5, 2. ],\n",
       "        [4. , 5. ]],\n",
       "\n",
       "       [[1. , 2. ],\n",
       "        [3. , 4. ]]])"
      ]
     },
     "execution_count": 55,
     "metadata": {},
     "output_type": "execute_result"
    }
   ],
   "source": [
    "b = np.array([ [[1.5,2], [4,5]], [[1,2], [3,4]]])\n",
    "b"
   ]
  },
  {
   "cell_type": "code",
   "execution_count": 57,
   "metadata": {},
   "outputs": [
    {
     "data": {
      "text/plain": [
       "array([[[[1.5, 2. ],\n",
       "         [4. , 5. ]],\n",
       "\n",
       "        [[1. , 2. ],\n",
       "         [3. , 4. ]]],\n",
       "\n",
       "\n",
       "       [[[1.5, 2. ],\n",
       "         [4. , 5. ]],\n",
       "\n",
       "        [[1. , 2. ],\n",
       "         [3. , 4. ]]]])"
      ]
     },
     "execution_count": 57,
     "metadata": {},
     "output_type": "execute_result"
    }
   ],
   "source": [
    "b = np.array([\n",
    "    [ [[1.5,2], [4,5]], [[1,2], [3,4]]], \n",
    "    [ [[1.5,2], [4,5]], [[1,2], [3,4]]]\n",
    "])\n",
    "b"
   ]
  },
  {
   "cell_type": "markdown",
   "metadata": {},
   "source": [
    "El tipo de matriz también se puede especificar explícitamente en el momento de la creación:"
   ]
  },
  {
   "cell_type": "code",
   "execution_count": 58,
   "metadata": {},
   "outputs": [
    {
     "data": {
      "text/plain": [
       "array([[1.+0.j, 2.+0.j],\n",
       "       [3.+0.j, 4.+0.j]])"
      ]
     },
     "execution_count": 58,
     "metadata": {},
     "output_type": "execute_result"
    }
   ],
   "source": [
    "c = np.array( [ [1,2], [3,4] ], dtype=complex )\n",
    "c"
   ]
  },
  {
   "cell_type": "markdown",
   "metadata": {},
   "source": [
    "## Funciones de generación de arreglos"
   ]
  },
  {
   "cell_type": "code",
   "execution_count": 59,
   "metadata": {},
   "outputs": [
    {
     "data": {
      "text/plain": [
       "array([10, 15, 20, 25])"
      ]
     },
     "execution_count": 59,
     "metadata": {},
     "output_type": "execute_result"
    }
   ],
   "source": [
    "np.arange(10, 30, 5)"
   ]
  },
  {
   "cell_type": "code",
   "execution_count": 60,
   "metadata": {},
   "outputs": [
    {
     "data": {
      "text/plain": [
       "array([0. , 0.3, 0.6, 0.9, 1.2, 1.5, 1.8])"
      ]
     },
     "execution_count": 60,
     "metadata": {},
     "output_type": "execute_result"
    }
   ],
   "source": [
    "# A diferencia de range\n",
    "np.arange(0, 2, 0.3)"
   ]
  },
  {
   "cell_type": "code",
   "execution_count": 61,
   "metadata": {},
   "outputs": [
    {
     "data": {
      "text/plain": [
       "array([0.00000000e+00, 1.00010001e-02, 2.00020002e-02, ...,\n",
       "       9.99799980e+01, 9.99899990e+01, 1.00000000e+02], shape=(10000,))"
      ]
     },
     "execution_count": 61,
     "metadata": {},
     "output_type": "execute_result"
    }
   ],
   "source": [
    "np.linspace(0, 100, 10000)"
   ]
  },
  {
   "cell_type": "code",
   "execution_count": 62,
   "metadata": {},
   "outputs": [
    {
     "data": {
      "text/plain": [
       "array([0., 0., 0., 0., 0., 0., 0., 0., 0., 0., 0., 0., 0., 0., 0., 0., 0.,\n",
       "       0., 0., 0., 0., 0., 0., 0., 0., 0., 0., 0., 0., 0., 0., 0., 0., 0.,\n",
       "       0., 0., 0., 0., 0., 0., 0., 0., 0., 0., 0., 0., 0., 0., 0., 0., 0.,\n",
       "       0., 0., 0., 0., 0., 0., 0., 0., 0., 0., 0., 0., 0., 0., 0., 0., 0.,\n",
       "       0., 0., 0., 0., 0., 0., 0., 0., 0., 0., 0., 0., 0., 0., 0., 0., 0.,\n",
       "       0., 0., 0., 0., 0., 0., 0., 0., 0., 0., 0., 0., 0., 0., 0.])"
      ]
     },
     "execution_count": 62,
     "metadata": {},
     "output_type": "execute_result"
    }
   ],
   "source": [
    "np.zeros(100)"
   ]
  },
  {
   "cell_type": "code",
   "execution_count": 68,
   "metadata": {},
   "outputs": [
    {
     "data": {
      "text/plain": [
       "array([[[0., 0.],\n",
       "        [0., 0.],\n",
       "        [0., 0.],\n",
       "        [0., 0.],\n",
       "        [0., 0.],\n",
       "        [0., 0.],\n",
       "        [0., 0.],\n",
       "        [0., 0.],\n",
       "        [0., 0.],\n",
       "        [0., 0.]],\n",
       "\n",
       "       [[0., 0.],\n",
       "        [0., 0.],\n",
       "        [0., 0.],\n",
       "        [0., 0.],\n",
       "        [0., 0.],\n",
       "        [0., 0.],\n",
       "        [0., 0.],\n",
       "        [0., 0.],\n",
       "        [0., 0.],\n",
       "        [0., 0.]],\n",
       "\n",
       "       [[0., 0.],\n",
       "        [0., 0.],\n",
       "        [0., 0.],\n",
       "        [0., 0.],\n",
       "        [0., 0.],\n",
       "        [0., 0.],\n",
       "        [0., 0.],\n",
       "        [0., 0.],\n",
       "        [0., 0.],\n",
       "        [0., 0.]],\n",
       "\n",
       "       [[0., 0.],\n",
       "        [0., 0.],\n",
       "        [0., 0.],\n",
       "        [0., 0.],\n",
       "        [0., 0.],\n",
       "        [0., 0.],\n",
       "        [0., 0.],\n",
       "        [0., 0.],\n",
       "        [0., 0.],\n",
       "        [0., 0.]],\n",
       "\n",
       "       [[0., 0.],\n",
       "        [0., 0.],\n",
       "        [0., 0.],\n",
       "        [0., 0.],\n",
       "        [0., 0.],\n",
       "        [0., 0.],\n",
       "        [0., 0.],\n",
       "        [0., 0.],\n",
       "        [0., 0.],\n",
       "        [0., 0.]],\n",
       "\n",
       "       [[0., 0.],\n",
       "        [0., 0.],\n",
       "        [0., 0.],\n",
       "        [0., 0.],\n",
       "        [0., 0.],\n",
       "        [0., 0.],\n",
       "        [0., 0.],\n",
       "        [0., 0.],\n",
       "        [0., 0.],\n",
       "        [0., 0.]],\n",
       "\n",
       "       [[0., 0.],\n",
       "        [0., 0.],\n",
       "        [0., 0.],\n",
       "        [0., 0.],\n",
       "        [0., 0.],\n",
       "        [0., 0.],\n",
       "        [0., 0.],\n",
       "        [0., 0.],\n",
       "        [0., 0.],\n",
       "        [0., 0.]],\n",
       "\n",
       "       [[0., 0.],\n",
       "        [0., 0.],\n",
       "        [0., 0.],\n",
       "        [0., 0.],\n",
       "        [0., 0.],\n",
       "        [0., 0.],\n",
       "        [0., 0.],\n",
       "        [0., 0.],\n",
       "        [0., 0.],\n",
       "        [0., 0.]],\n",
       "\n",
       "       [[0., 0.],\n",
       "        [0., 0.],\n",
       "        [0., 0.],\n",
       "        [0., 0.],\n",
       "        [0., 0.],\n",
       "        [0., 0.],\n",
       "        [0., 0.],\n",
       "        [0., 0.],\n",
       "        [0., 0.],\n",
       "        [0., 0.]],\n",
       "\n",
       "       [[0., 0.],\n",
       "        [0., 0.],\n",
       "        [0., 0.],\n",
       "        [0., 0.],\n",
       "        [0., 0.],\n",
       "        [0., 0.],\n",
       "        [0., 0.],\n",
       "        [0., 0.],\n",
       "        [0., 0.],\n",
       "        [0., 0.]]])"
      ]
     },
     "execution_count": 68,
     "metadata": {},
     "output_type": "execute_result"
    }
   ],
   "source": [
    "np.zeros((10,10,2))"
   ]
  },
  {
   "cell_type": "code",
   "execution_count": 66,
   "metadata": {},
   "outputs": [
    {
     "name": "stdout",
     "output_type": "stream",
     "text": [
      "\u001b[31mSignature:\u001b[39m np.ones(shape, dtype=\u001b[38;5;28;01mNone\u001b[39;00m, order=\u001b[33m'C'\u001b[39m, *, device=\u001b[38;5;28;01mNone\u001b[39;00m, like=\u001b[38;5;28;01mNone\u001b[39;00m)\n",
      "\u001b[31mDocstring:\u001b[39m\n",
      "Return a new array of given shape and type, filled with ones.\n",
      "\n",
      "Parameters\n",
      "----------\n",
      "shape : int or sequence of ints\n",
      "    Shape of the new array, e.g., ``(2, 3)`` or ``2``.\n",
      "dtype : data-type, optional\n",
      "    The desired data-type for the array, e.g., `numpy.int8`.  Default is\n",
      "    `numpy.float64`.\n",
      "order : {'C', 'F'}, optional, default: C\n",
      "    Whether to store multi-dimensional data in row-major\n",
      "    (C-style) or column-major (Fortran-style) order in\n",
      "    memory.\n",
      "device : str, optional\n",
      "    The device on which to place the created array. Default: None.\n",
      "    For Array-API interoperability only, so must be ``\"cpu\"`` if passed.\n",
      "\n",
      "    .. versionadded:: 2.0.0\n",
      "like : array_like, optional\n",
      "        Reference object to allow the creation of arrays which are not\n",
      "        NumPy arrays. If an array-like passed in as ``like`` supports\n",
      "        the ``__array_function__`` protocol, the result will be defined\n",
      "        by it. In this case, it ensures the creation of an array object\n",
      "        compatible with that passed in via this argument.\n",
      "\n",
      "    .. versionadded:: 1.20.0\n",
      "\n",
      "Returns\n",
      "-------\n",
      "out : ndarray\n",
      "    Array of ones with the given shape, dtype, and order.\n",
      "\n",
      "See Also\n",
      "--------\n",
      "ones_like : Return an array of ones with shape and type of input.\n",
      "empty : Return a new uninitialized array.\n",
      "zeros : Return a new array setting values to zero.\n",
      "full : Return a new array of given shape filled with value.\n",
      "\n",
      "Examples\n",
      "--------\n",
      ">>> import numpy as np\n",
      ">>> np.ones(5)\n",
      "array([1., 1., 1., 1., 1.])\n",
      "\n",
      ">>> np.ones((5,), dtype=int)\n",
      "array([1, 1, 1, 1, 1])\n",
      "\n",
      ">>> np.ones((2, 1))\n",
      "array([[1.],\n",
      "       [1.]])\n",
      "\n",
      ">>> s = (2,2)\n",
      ">>> np.ones(s)\n",
      "array([[1.,  1.],\n",
      "       [1.,  1.]])\n",
      "\u001b[31mFile:\u001b[39m      c:\\users\\lenovo\\miniconda3\\lib\\site-packages\\numpy\\_core\\numeric.py\n",
      "\u001b[31mType:\u001b[39m      function"
     ]
    }
   ],
   "source": [
    "np.ones?"
   ]
  },
  {
   "cell_type": "markdown",
   "metadata": {},
   "source": [
    "#### Evaluación de funciones\n",
    "\n",
    "Notar que la evaluación de funciones es \"vectorizada\", es decir, sobre todos los elementos del arreglo a la vez. \n",
    "\n",
    "- ¡Evitamos los ciclos `for` de Python porque son más lentos!"
   ]
  },
  {
   "cell_type": "code",
   "execution_count": 72,
   "metadata": {},
   "outputs": [],
   "source": [
    "T = 1000"
   ]
  },
  {
   "cell_type": "code",
   "execution_count": 73,
   "metadata": {},
   "outputs": [
    {
     "data": {
      "text/plain": [
       "array([0.        , 0.00628947, 0.01257895, 0.01886842, 0.0251579 ,\n",
       "       0.03144737, 0.03773685, 0.04402632, 0.0503158 , 0.05660527,\n",
       "       0.06289475, 0.06918422, 0.0754737 , 0.08176317, 0.08805265,\n",
       "       0.09434212, 0.1006316 , 0.10692107, 0.11321055, 0.11950002,\n",
       "       0.1257895 , 0.13207897, 0.13836845, 0.14465792, 0.15094739,\n",
       "       0.15723687, 0.16352634, 0.16981582, 0.17610529, 0.18239477,\n",
       "       0.18868424, 0.19497372, 0.20126319, 0.20755267, 0.21384214,\n",
       "       0.22013162, 0.22642109, 0.23271057, 0.23900004, 0.24528952,\n",
       "       0.25157899, 0.25786847, 0.26415794, 0.27044742, 0.27673689,\n",
       "       0.28302637, 0.28931584, 0.29560531, 0.30189479, 0.30818426,\n",
       "       0.31447374, 0.32076321, 0.32705269, 0.33334216, 0.33963164,\n",
       "       0.34592111, 0.35221059, 0.35850006, 0.36478954, 0.37107901,\n",
       "       0.37736849, 0.38365796, 0.38994744, 0.39623691, 0.40252639,\n",
       "       0.40881586, 0.41510534, 0.42139481, 0.42768429, 0.43397376,\n",
       "       0.44026323, 0.44655271, 0.45284218, 0.45913166, 0.46542113,\n",
       "       0.47171061, 0.47800008, 0.48428956, 0.49057903, 0.49686851,\n",
       "       0.50315798, 0.50944746, 0.51573693, 0.52202641, 0.52831588,\n",
       "       0.53460536, 0.54089483, 0.54718431, 0.55347378, 0.55976326,\n",
       "       0.56605273, 0.57234221, 0.57863168, 0.58492115, 0.59121063,\n",
       "       0.5975001 , 0.60378958, 0.61007905, 0.61636853, 0.622658  ,\n",
       "       0.62894748, 0.63523695, 0.64152643, 0.6478159 , 0.65410538,\n",
       "       0.66039485, 0.66668433, 0.6729738 , 0.67926328, 0.68555275,\n",
       "       0.69184223, 0.6981317 , 0.70442118, 0.71071065, 0.71700013,\n",
       "       0.7232896 , 0.72957907, 0.73586855, 0.74215802, 0.7484475 ,\n",
       "       0.75473697, 0.76102645, 0.76731592, 0.7736054 , 0.77989487,\n",
       "       0.78618435, 0.79247382, 0.7987633 , 0.80505277, 0.81134225,\n",
       "       0.81763172, 0.8239212 , 0.83021067, 0.83650015, 0.84278962,\n",
       "       0.8490791 , 0.85536857, 0.86165805, 0.86794752, 0.87423699,\n",
       "       0.88052647, 0.88681594, 0.89310542, 0.89939489, 0.90568437,\n",
       "       0.91197384, 0.91826332, 0.92455279, 0.93084227, 0.93713174,\n",
       "       0.94342122, 0.94971069, 0.95600017, 0.96228964, 0.96857912,\n",
       "       0.97486859, 0.98115807, 0.98744754, 0.99373702, 1.00002649,\n",
       "       1.00631597, 1.01260544, 1.01889491, 1.02518439, 1.03147386,\n",
       "       1.03776334, 1.04405281, 1.05034229, 1.05663176, 1.06292124,\n",
       "       1.06921071, 1.07550019, 1.08178966, 1.08807914, 1.09436861,\n",
       "       1.10065809, 1.10694756, 1.11323704, 1.11952651, 1.12581599,\n",
       "       1.13210546, 1.13839494, 1.14468441, 1.15097389, 1.15726336,\n",
       "       1.16355283, 1.16984231, 1.17613178, 1.18242126, 1.18871073,\n",
       "       1.19500021, 1.20128968, 1.20757916, 1.21386863, 1.22015811,\n",
       "       1.22644758, 1.23273706, 1.23902653, 1.24531601, 1.25160548,\n",
       "       1.25789496, 1.26418443, 1.27047391, 1.27676338, 1.28305286,\n",
       "       1.28934233, 1.29563181, 1.30192128, 1.30821075, 1.31450023,\n",
       "       1.3207897 , 1.32707918, 1.33336865, 1.33965813, 1.3459476 ,\n",
       "       1.35223708, 1.35852655, 1.36481603, 1.3711055 , 1.37739498,\n",
       "       1.38368445, 1.38997393, 1.3962634 , 1.40255288, 1.40884235,\n",
       "       1.41513183, 1.4214213 , 1.42771078, 1.43400025, 1.44028973,\n",
       "       1.4465792 , 1.45286867, 1.45915815, 1.46544762, 1.4717371 ,\n",
       "       1.47802657, 1.48431605, 1.49060552, 1.496895  , 1.50318447,\n",
       "       1.50947395, 1.51576342, 1.5220529 , 1.52834237, 1.53463185,\n",
       "       1.54092132, 1.5472108 , 1.55350027, 1.55978975, 1.56607922,\n",
       "       1.5723687 , 1.57865817, 1.58494765, 1.59123712, 1.59752659,\n",
       "       1.60381607, 1.61010554, 1.61639502, 1.62268449, 1.62897397,\n",
       "       1.63526344, 1.64155292, 1.64784239, 1.65413187, 1.66042134,\n",
       "       1.66671082, 1.67300029, 1.67928977, 1.68557924, 1.69186872,\n",
       "       1.69815819, 1.70444767, 1.71073714, 1.71702662, 1.72331609,\n",
       "       1.72960557, 1.73589504, 1.74218451, 1.74847399, 1.75476346,\n",
       "       1.76105294, 1.76734241, 1.77363189, 1.77992136, 1.78621084,\n",
       "       1.79250031, 1.79878979, 1.80507926, 1.81136874, 1.81765821,\n",
       "       1.82394769, 1.83023716, 1.83652664, 1.84281611, 1.84910559,\n",
       "       1.85539506, 1.86168454, 1.86797401, 1.87426349, 1.88055296,\n",
       "       1.88684243, 1.89313191, 1.89942138, 1.90571086, 1.91200033,\n",
       "       1.91828981, 1.92457928, 1.93086876, 1.93715823, 1.94344771,\n",
       "       1.94973718, 1.95602666, 1.96231613, 1.96860561, 1.97489508,\n",
       "       1.98118456, 1.98747403, 1.99376351, 2.00005298, 2.00634246,\n",
       "       2.01263193, 2.01892141, 2.02521088, 2.03150035, 2.03778983,\n",
       "       2.0440793 , 2.05036878, 2.05665825, 2.06294773, 2.0692372 ,\n",
       "       2.07552668, 2.08181615, 2.08810563, 2.0943951 , 2.10068458,\n",
       "       2.10697405, 2.11326353, 2.119553  , 2.12584248, 2.13213195,\n",
       "       2.13842143, 2.1447109 , 2.15100038, 2.15728985, 2.16357932,\n",
       "       2.1698688 , 2.17615827, 2.18244775, 2.18873722, 2.1950267 ,\n",
       "       2.20131617, 2.20760565, 2.21389512, 2.2201846 , 2.22647407,\n",
       "       2.23276355, 2.23905302, 2.2453425 , 2.25163197, 2.25792145,\n",
       "       2.26421092, 2.2705004 , 2.27678987, 2.28307935, 2.28936882,\n",
       "       2.2956583 , 2.30194777, 2.30823724, 2.31452672, 2.32081619,\n",
       "       2.32710567, 2.33339514, 2.33968462, 2.34597409, 2.35226357,\n",
       "       2.35855304, 2.36484252, 2.37113199, 2.37742147, 2.38371094,\n",
       "       2.39000042, 2.39628989, 2.40257937, 2.40886884, 2.41515832,\n",
       "       2.42144779, 2.42773727, 2.43402674, 2.44031622, 2.44660569,\n",
       "       2.45289516, 2.45918464, 2.46547411, 2.47176359, 2.47805306,\n",
       "       2.48434254, 2.49063201, 2.49692149, 2.50321096, 2.50950044,\n",
       "       2.51578991, 2.52207939, 2.52836886, 2.53465834, 2.54094781,\n",
       "       2.54723729, 2.55352676, 2.55981624, 2.56610571, 2.57239519,\n",
       "       2.57868466, 2.58497414, 2.59126361, 2.59755308, 2.60384256,\n",
       "       2.61013203, 2.61642151, 2.62271098, 2.62900046, 2.63528993,\n",
       "       2.64157941, 2.64786888, 2.65415836, 2.66044783, 2.66673731,\n",
       "       2.67302678, 2.67931626, 2.68560573, 2.69189521, 2.69818468,\n",
       "       2.70447416, 2.71076363, 2.71705311, 2.72334258, 2.72963206,\n",
       "       2.73592153, 2.742211  , 2.74850048, 2.75478995, 2.76107943,\n",
       "       2.7673689 , 2.77365838, 2.77994785, 2.78623733, 2.7925268 ,\n",
       "       2.79881628, 2.80510575, 2.81139523, 2.8176847 , 2.82397418,\n",
       "       2.83026365, 2.83655313, 2.8428426 , 2.84913208, 2.85542155,\n",
       "       2.86171103, 2.8680005 , 2.87428998, 2.88057945, 2.88686892,\n",
       "       2.8931584 , 2.89944787, 2.90573735, 2.91202682, 2.9183163 ,\n",
       "       2.92460577, 2.93089525, 2.93718472, 2.9434742 , 2.94976367,\n",
       "       2.95605315, 2.96234262, 2.9686321 , 2.97492157, 2.98121105,\n",
       "       2.98750052, 2.99379   , 3.00007947, 3.00636895, 3.01265842,\n",
       "       3.0189479 , 3.02523737, 3.03152684, 3.03781632, 3.04410579,\n",
       "       3.05039527, 3.05668474, 3.06297422, 3.06926369, 3.07555317,\n",
       "       3.08184264, 3.08813212, 3.09442159, 3.10071107, 3.10700054,\n",
       "       3.11329002, 3.11957949, 3.12586897, 3.13215844, 3.13844792,\n",
       "       3.14473739, 3.15102687, 3.15731634, 3.16360582, 3.16989529,\n",
       "       3.17618476, 3.18247424, 3.18876371, 3.19505319, 3.20134266,\n",
       "       3.20763214, 3.21392161, 3.22021109, 3.22650056, 3.23279004,\n",
       "       3.23907951, 3.24536899, 3.25165846, 3.25794794, 3.26423741,\n",
       "       3.27052689, 3.27681636, 3.28310584, 3.28939531, 3.29568479,\n",
       "       3.30197426, 3.30826374, 3.31455321, 3.32084268, 3.32713216,\n",
       "       3.33342163, 3.33971111, 3.34600058, 3.35229006, 3.35857953,\n",
       "       3.36486901, 3.37115848, 3.37744796, 3.38373743, 3.39002691,\n",
       "       3.39631638, 3.40260586, 3.40889533, 3.41518481, 3.42147428,\n",
       "       3.42776376, 3.43405323, 3.44034271, 3.44663218, 3.45292166,\n",
       "       3.45921113, 3.4655006 , 3.47179008, 3.47807955, 3.48436903,\n",
       "       3.4906585 , 3.49694798, 3.50323745, 3.50952693, 3.5158164 ,\n",
       "       3.52210588, 3.52839535, 3.53468483, 3.5409743 , 3.54726378,\n",
       "       3.55355325, 3.55984273, 3.5661322 , 3.57242168, 3.57871115,\n",
       "       3.58500063, 3.5912901 , 3.59757958, 3.60386905, 3.61015852,\n",
       "       3.616448  , 3.62273747, 3.62902695, 3.63531642, 3.6416059 ,\n",
       "       3.64789537, 3.65418485, 3.66047432, 3.6667638 , 3.67305327,\n",
       "       3.67934275, 3.68563222, 3.6919217 , 3.69821117, 3.70450065,\n",
       "       3.71079012, 3.7170796 , 3.72336907, 3.72965855, 3.73594802,\n",
       "       3.7422375 , 3.74852697, 3.75481644, 3.76110592, 3.76739539,\n",
       "       3.77368487, 3.77997434, 3.78626382, 3.79255329, 3.79884277,\n",
       "       3.80513224, 3.81142172, 3.81771119, 3.82400067, 3.83029014,\n",
       "       3.83657962, 3.84286909, 3.84915857, 3.85544804, 3.86173752,\n",
       "       3.86802699, 3.87431647, 3.88060594, 3.88689542, 3.89318489,\n",
       "       3.89947436, 3.90576384, 3.91205331, 3.91834279, 3.92463226,\n",
       "       3.93092174, 3.93721121, 3.94350069, 3.94979016, 3.95607964,\n",
       "       3.96236911, 3.96865859, 3.97494806, 3.98123754, 3.98752701,\n",
       "       3.99381649, 4.00010596, 4.00639544, 4.01268491, 4.01897439,\n",
       "       4.02526386, 4.03155334, 4.03784281, 4.04413228, 4.05042176,\n",
       "       4.05671123, 4.06300071, 4.06929018, 4.07557966, 4.08186913,\n",
       "       4.08815861, 4.09444808, 4.10073756, 4.10702703, 4.11331651,\n",
       "       4.11960598, 4.12589546, 4.13218493, 4.13847441, 4.14476388,\n",
       "       4.15105336, 4.15734283, 4.16363231, 4.16992178, 4.17621126,\n",
       "       4.18250073, 4.1887902 , 4.19507968, 4.20136915, 4.20765863,\n",
       "       4.2139481 , 4.22023758, 4.22652705, 4.23281653, 4.239106  ,\n",
       "       4.24539548, 4.25168495, 4.25797443, 4.2642639 , 4.27055338,\n",
       "       4.27684285, 4.28313233, 4.2894218 , 4.29571128, 4.30200075,\n",
       "       4.30829023, 4.3145797 , 4.32086918, 4.32715865, 4.33344812,\n",
       "       4.3397376 , 4.34602707, 4.35231655, 4.35860602, 4.3648955 ,\n",
       "       4.37118497, 4.37747445, 4.38376392, 4.3900534 , 4.39634287,\n",
       "       4.40263235, 4.40892182, 4.4152113 , 4.42150077, 4.42779025,\n",
       "       4.43407972, 4.4403692 , 4.44665867, 4.45294815, 4.45923762,\n",
       "       4.4655271 , 4.47181657, 4.47810604, 4.48439552, 4.49068499,\n",
       "       4.49697447, 4.50326394, 4.50955342, 4.51584289, 4.52213237,\n",
       "       4.52842184, 4.53471132, 4.54100079, 4.54729027, 4.55357974,\n",
       "       4.55986922, 4.56615869, 4.57244817, 4.57873764, 4.58502712,\n",
       "       4.59131659, 4.59760607, 4.60389554, 4.61018502, 4.61647449,\n",
       "       4.62276396, 4.62905344, 4.63534291, 4.64163239, 4.64792186,\n",
       "       4.65421134, 4.66050081, 4.66679029, 4.67307976, 4.67936924,\n",
       "       4.68565871, 4.69194819, 4.69823766, 4.70452714, 4.71081661,\n",
       "       4.71710609, 4.72339556, 4.72968504, 4.73597451, 4.74226399,\n",
       "       4.74855346, 4.75484294, 4.76113241, 4.76742188, 4.77371136,\n",
       "       4.78000083, 4.78629031, 4.79257978, 4.79886926, 4.80515873,\n",
       "       4.81144821, 4.81773768, 4.82402716, 4.83031663, 4.83660611,\n",
       "       4.84289558, 4.84918506, 4.85547453, 4.86176401, 4.86805348,\n",
       "       4.87434296, 4.88063243, 4.88692191, 4.89321138, 4.89950086,\n",
       "       4.90579033, 4.9120798 , 4.91836928, 4.92465875, 4.93094823,\n",
       "       4.9372377 , 4.94352718, 4.94981665, 4.95610613, 4.9623956 ,\n",
       "       4.96868508, 4.97497455, 4.98126403, 4.9875535 , 4.99384298,\n",
       "       5.00013245, 5.00642193, 5.0127114 , 5.01900088, 5.02529035,\n",
       "       5.03157983, 5.0378693 , 5.04415878, 5.05044825, 5.05673772,\n",
       "       5.0630272 , 5.06931667, 5.07560615, 5.08189562, 5.0881851 ,\n",
       "       5.09447457, 5.10076405, 5.10705352, 5.113343  , 5.11963247,\n",
       "       5.12592195, 5.13221142, 5.1385009 , 5.14479037, 5.15107985,\n",
       "       5.15736932, 5.1636588 , 5.16994827, 5.17623775, 5.18252722,\n",
       "       5.1888167 , 5.19510617, 5.20139564, 5.20768512, 5.21397459,\n",
       "       5.22026407, 5.22655354, 5.23284302, 5.23913249, 5.24542197,\n",
       "       5.25171144, 5.25800092, 5.26429039, 5.27057987, 5.27686934,\n",
       "       5.28315882, 5.28944829, 5.29573777, 5.30202724, 5.30831672,\n",
       "       5.31460619, 5.32089567, 5.32718514, 5.33347462, 5.33976409,\n",
       "       5.34605356, 5.35234304, 5.35863251, 5.36492199, 5.37121146,\n",
       "       5.37750094, 5.38379041, 5.39007989, 5.39636936, 5.40265884,\n",
       "       5.40894831, 5.41523779, 5.42152726, 5.42781674, 5.43410621,\n",
       "       5.44039569, 5.44668516, 5.45297464, 5.45926411, 5.46555359,\n",
       "       5.47184306, 5.47813254, 5.48442201, 5.49071148, 5.49700096,\n",
       "       5.50329043, 5.50957991, 5.51586938, 5.52215886, 5.52844833,\n",
       "       5.53473781, 5.54102728, 5.54731676, 5.55360623, 5.55989571,\n",
       "       5.56618518, 5.57247466, 5.57876413, 5.58505361, 5.59134308,\n",
       "       5.59763256, 5.60392203, 5.61021151, 5.61650098, 5.62279046,\n",
       "       5.62907993, 5.6353694 , 5.64165888, 5.64794835, 5.65423783,\n",
       "       5.6605273 , 5.66681678, 5.67310625, 5.67939573, 5.6856852 ,\n",
       "       5.69197468, 5.69826415, 5.70455363, 5.7108431 , 5.71713258,\n",
       "       5.72342205, 5.72971153, 5.736001  , 5.74229048, 5.74857995,\n",
       "       5.75486943, 5.7611589 , 5.76744838, 5.77373785, 5.78002732,\n",
       "       5.7863168 , 5.79260627, 5.79889575, 5.80518522, 5.8114747 ,\n",
       "       5.81776417, 5.82405365, 5.83034312, 5.8366326 , 5.84292207,\n",
       "       5.84921155, 5.85550102, 5.8617905 , 5.86807997, 5.87436945,\n",
       "       5.88065892, 5.8869484 , 5.89323787, 5.89952735, 5.90581682,\n",
       "       5.9121063 , 5.91839577, 5.92468524, 5.93097472, 5.93726419,\n",
       "       5.94355367, 5.94984314, 5.95613262, 5.96242209, 5.96871157,\n",
       "       5.97500104, 5.98129052, 5.98757999, 5.99386947, 6.00015894,\n",
       "       6.00644842, 6.01273789, 6.01902737, 6.02531684, 6.03160632,\n",
       "       6.03789579, 6.04418527, 6.05047474, 6.05676422, 6.06305369,\n",
       "       6.06934316, 6.07563264, 6.08192211, 6.08821159, 6.09450106,\n",
       "       6.10079054, 6.10708001, 6.11336949, 6.11965896, 6.12594844,\n",
       "       6.13223791, 6.13852739, 6.14481686, 6.15110634, 6.15739581,\n",
       "       6.16368529, 6.16997476, 6.17626424, 6.18255371, 6.18884319,\n",
       "       6.19513266, 6.20142214, 6.20771161, 6.21400108, 6.22029056,\n",
       "       6.22658003, 6.23286951, 6.23915898, 6.24544846, 6.25173793,\n",
       "       6.25802741, 6.26431688, 6.27060636, 6.27689583, 6.28318531])"
      ]
     },
     "execution_count": 73,
     "metadata": {},
     "output_type": "execute_result"
    }
   ],
   "source": [
    "x = np.linspace(0, 2*np.pi, T)\n",
    "x"
   ]
  },
  {
   "cell_type": "code",
   "execution_count": 74,
   "metadata": {},
   "outputs": [
    {
     "data": {
      "text/plain": [
       "array([ 0.00000000e+00,  6.28943332e-03,  1.25786178e-02,  1.88673048e-02,\n",
       "        2.51552454e-02,  3.14421909e-02,  3.77278927e-02,  4.40121020e-02,\n",
       "        5.02945704e-02,  5.65750492e-02,  6.28532900e-02,  6.91290446e-02,\n",
       "        7.54020646e-02,  8.16721019e-02,  8.79389084e-02,  9.42022363e-02,\n",
       "        1.00461838e-01,  1.06717465e-01,  1.12968871e-01,  1.19215809e-01,\n",
       "        1.25458030e-01,  1.31695289e-01,  1.37927338e-01,  1.44153931e-01,\n",
       "        1.50374822e-01,  1.56589764e-01,  1.62798512e-01,  1.69000820e-01,\n",
       "        1.75196443e-01,  1.81385136e-01,  1.87566653e-01,  1.93740751e-01,\n",
       "        1.99907185e-01,  2.06065711e-01,  2.12216086e-01,  2.18358066e-01,\n",
       "        2.24491409e-01,  2.30615871e-01,  2.36731210e-01,  2.42837185e-01,\n",
       "        2.48933554e-01,  2.55020076e-01,  2.61096510e-01,  2.67162616e-01,\n",
       "        2.73218154e-01,  2.79262883e-01,  2.85296566e-01,  2.91318963e-01,\n",
       "        2.97329837e-01,  3.03328948e-01,  3.09316061e-01,  3.15290939e-01,\n",
       "        3.21253344e-01,  3.27203041e-01,  3.33139795e-01,  3.39063370e-01,\n",
       "        3.44973534e-01,  3.50870051e-01,  3.56752688e-01,  3.62621214e-01,\n",
       "        3.68475395e-01,  3.74315000e-01,  3.80139798e-01,  3.85949559e-01,\n",
       "        3.91744053e-01,  3.97523050e-01,  4.03286322e-01,  4.09033642e-01,\n",
       "        4.14764781e-01,  4.20479513e-01,  4.26177612e-01,  4.31858853e-01,\n",
       "        4.37523010e-01,  4.43169861e-01,  4.48799180e-01,  4.54410746e-01,\n",
       "        4.60004337e-01,  4.65579732e-01,  4.71136709e-01,  4.76675049e-01,\n",
       "        4.82194534e-01,  4.87694944e-01,  4.93176062e-01,  4.98637671e-01,\n",
       "        5.04079556e-01,  5.09501500e-01,  5.14903290e-01,  5.20284712e-01,\n",
       "        5.25645553e-01,  5.30985600e-01,  5.36304643e-01,  5.41602472e-01,\n",
       "        5.46878875e-01,  5.52133646e-01,  5.57366576e-01,  5.62577458e-01,\n",
       "        5.67766086e-01,  5.72932255e-01,  5.78075760e-01,  5.83196397e-01,\n",
       "        5.88293965e-01,  5.93368262e-01,  5.98419086e-01,  6.03446239e-01,\n",
       "        6.08449521e-01,  6.13428734e-01,  6.18383682e-01,  6.23314168e-01,\n",
       "        6.28219997e-01,  6.33100976e-01,  6.37956911e-01,  6.42787610e-01,\n",
       "        6.47592882e-01,  6.52372537e-01,  6.57126385e-01,  6.61854240e-01,\n",
       "        6.66555913e-01,  6.71231219e-01,  6.75879973e-01,  6.80501991e-01,\n",
       "        6.85097090e-01,  6.89665089e-01,  6.94205806e-01,  6.98719062e-01,\n",
       "        7.03204679e-01,  7.07662479e-01,  7.12092285e-01,  7.16493923e-01,\n",
       "        7.20867219e-01,  7.25211999e-01,  7.29528091e-01,  7.33815325e-01,\n",
       "        7.38073532e-01,  7.42302542e-01,  7.46502188e-01,  7.50672305e-01,\n",
       "        7.54812728e-01,  7.58923291e-01,  7.63003834e-01,  7.67054195e-01,\n",
       "        7.71074213e-01,  7.75063729e-01,  7.79022586e-01,  7.82950626e-01,\n",
       "        7.86847695e-01,  7.90713639e-01,  7.94548304e-01,  7.98351539e-01,\n",
       "        8.02123193e-01,  8.05863117e-01,  8.09571163e-01,  8.13247185e-01,\n",
       "        8.16891037e-01,  8.20502575e-01,  8.24081656e-01,  8.27628139e-01,\n",
       "        8.31141882e-01,  8.34622748e-01,  8.38070599e-01,  8.41485297e-01,\n",
       "        8.44866709e-01,  8.48214700e-01,  8.51529138e-01,  8.54809891e-01,\n",
       "        8.58056831e-01,  8.61269828e-01,  8.64448755e-01,  8.67593488e-01,\n",
       "        8.70703900e-01,  8.73779870e-01,  8.76821275e-01,  8.79827996e-01,\n",
       "        8.82799913e-01,  8.85736908e-01,  8.88638867e-01,  8.91505673e-01,\n",
       "        8.94337213e-01,  8.97133376e-01,  8.99894051e-01,  9.02619128e-01,\n",
       "        9.05308500e-01,  9.07962060e-01,  9.10579704e-01,  9.13161327e-01,\n",
       "        9.15706829e-01,  9.18216107e-01,  9.20689063e-01,  9.23125599e-01,\n",
       "        9.25525619e-01,  9.27889027e-01,  9.30215731e-01,  9.32505637e-01,\n",
       "        9.34758657e-01,  9.36974699e-01,  9.39153678e-01,  9.41295506e-01,\n",
       "        9.43400098e-01,  9.45467373e-01,  9.47497247e-01,  9.49489640e-01,\n",
       "        9.51444475e-01,  9.53361672e-01,  9.55241158e-01,  9.57082856e-01,\n",
       "        9.58886695e-01,  9.60652602e-01,  9.62380509e-01,  9.64070347e-01,\n",
       "        9.65722048e-01,  9.67335548e-01,  9.68910783e-01,  9.70447691e-01,\n",
       "        9.71946209e-01,  9.73406281e-01,  9.74827847e-01,  9.76210851e-01,\n",
       "        9.77555239e-01,  9.78860957e-01,  9.80127955e-01,  9.81356181e-01,\n",
       "        9.82545587e-01,  9.83696126e-01,  9.84807753e-01,  9.85880423e-01,\n",
       "        9.86914095e-01,  9.87908727e-01,  9.88864280e-01,  9.89780716e-01,\n",
       "        9.90657999e-01,  9.91496094e-01,  9.92294968e-01,  9.93054589e-01,\n",
       "        9.93774928e-01,  9.94455956e-01,  9.95097645e-01,  9.95699972e-01,\n",
       "        9.96262911e-01,  9.96786440e-01,  9.97270539e-01,  9.97715189e-01,\n",
       "        9.98120372e-01,  9.98486072e-01,  9.98812274e-01,  9.99098966e-01,\n",
       "        9.99346136e-01,  9.99553775e-01,  9.99721874e-01,  9.99850427e-01,\n",
       "        9.99939428e-01,  9.99988874e-01,  9.99998764e-01,  9.99969096e-01,\n",
       "        9.99899872e-01,  9.99791094e-01,  9.99642768e-01,  9.99454898e-01,\n",
       "        9.99227492e-01,  9.98960560e-01,  9.98654111e-01,  9.98308158e-01,\n",
       "        9.97922715e-01,  9.97497797e-01,  9.97033420e-01,  9.96529603e-01,\n",
       "        9.95986366e-01,  9.95403731e-01,  9.94781719e-01,  9.94120357e-01,\n",
       "        9.93419671e-01,  9.92679687e-01,  9.91900435e-01,  9.91081947e-01,\n",
       "        9.90224253e-01,  9.89327390e-01,  9.88391391e-01,  9.87416293e-01,\n",
       "        9.86402137e-01,  9.85348960e-01,  9.84256806e-01,  9.83125718e-01,\n",
       "        9.81955739e-01,  9.80746917e-01,  9.79499299e-01,  9.78212935e-01,\n",
       "        9.76887875e-01,  9.75524172e-01,  9.74121880e-01,  9.72681055e-01,\n",
       "        9.71201752e-01,  9.69684032e-01,  9.68127953e-01,  9.66533578e-01,\n",
       "        9.64900969e-01,  9.63230191e-01,  9.61521310e-01,  9.59774394e-01,\n",
       "        9.57989512e-01,  9.56166735e-01,  9.54306134e-01,  9.52407783e-01,\n",
       "        9.50471757e-01,  9.48498134e-01,  9.46486990e-01,  9.44438405e-01,\n",
       "        9.42352462e-01,  9.40229241e-01,  9.38068827e-01,  9.35871306e-01,\n",
       "        9.33636764e-01,  9.31365289e-01,  9.29056973e-01,  9.26711905e-01,\n",
       "        9.24330180e-01,  9.21911890e-01,  9.19457131e-01,  9.16966002e-01,\n",
       "        9.14438599e-01,  9.11875024e-01,  9.09275378e-01,  9.06639763e-01,\n",
       "        9.03968283e-01,  9.01261046e-01,  8.98518156e-01,  8.95739724e-01,\n",
       "        8.92925858e-01,  8.90076671e-01,  8.87192274e-01,  8.84272783e-01,\n",
       "        8.81318312e-01,  8.78328979e-01,  8.75304901e-01,  8.72246198e-01,\n",
       "        8.69152992e-01,  8.66025404e-01,  8.62863558e-01,  8.59667580e-01,\n",
       "        8.56437596e-01,  8.53173733e-01,  8.49876121e-01,  8.46544890e-01,\n",
       "        8.43180172e-01,  8.39782100e-01,  8.36350809e-01,  8.32886434e-01,\n",
       "        8.29389112e-01,  8.25858981e-01,  8.22296182e-01,  8.18700854e-01,\n",
       "        8.15073141e-01,  8.11413186e-01,  8.07721134e-01,  8.03997130e-01,\n",
       "        8.00241323e-01,  7.96453860e-01,  7.92634891e-01,  7.88784567e-01,\n",
       "        7.84903042e-01,  7.80990468e-01,  7.77046999e-01,  7.73072793e-01,\n",
       "        7.69068007e-01,  7.65032797e-01,  7.60967326e-01,  7.56871752e-01,\n",
       "        7.52746238e-01,  7.48590948e-01,  7.44406046e-01,  7.40191697e-01,\n",
       "        7.35948067e-01,  7.31675326e-01,  7.27373642e-01,  7.23043184e-01,\n",
       "        7.18684125e-01,  7.14296636e-01,  7.09880892e-01,  7.05437067e-01,\n",
       "        7.00965337e-01,  6.96465878e-01,  6.91938869e-01,  6.87384489e-01,\n",
       "        6.82802917e-01,  6.78194336e-01,  6.73558927e-01,  6.68896874e-01,\n",
       "        6.64208361e-01,  6.59493574e-01,  6.54752698e-01,  6.49985923e-01,\n",
       "        6.45193436e-01,  6.40375427e-01,  6.35532086e-01,  6.30663605e-01,\n",
       "        6.25770177e-01,  6.20851995e-01,  6.15909254e-01,  6.10942149e-01,\n",
       "        6.05950876e-01,  6.00935634e-01,  5.95896621e-01,  5.90834035e-01,\n",
       "        5.85748078e-01,  5.80638949e-01,  5.75506853e-01,  5.70351991e-01,\n",
       "        5.65174567e-01,  5.59974786e-01,  5.54752854e-01,  5.49508978e-01,\n",
       "        5.44243365e-01,  5.38956222e-01,  5.33647760e-01,  5.28318189e-01,\n",
       "        5.22967718e-01,  5.17596560e-01,  5.12204928e-01,  5.06793034e-01,\n",
       "        5.01361093e-01,  4.95909319e-01,  4.90437928e-01,  4.84947137e-01,\n",
       "        4.79437162e-01,  4.73908223e-01,  4.68360536e-01,  4.62794323e-01,\n",
       "        4.57209803e-01,  4.51607196e-01,  4.45986726e-01,  4.40348613e-01,\n",
       "        4.34693081e-01,  4.29020354e-01,  4.23330656e-01,  4.17624212e-01,\n",
       "        4.11901248e-01,  4.06161991e-01,  4.00406666e-01,  3.94635503e-01,\n",
       "        3.88848729e-01,  3.83046573e-01,  3.77229264e-01,  3.71397034e-01,\n",
       "        3.65550112e-01,  3.59688730e-01,  3.53813119e-01,  3.47923513e-01,\n",
       "        3.42020143e-01,  3.36103245e-01,  3.30173050e-01,  3.24229795e-01,\n",
       "        3.18273715e-01,  3.12305044e-01,  3.06324020e-01,  3.00330878e-01,\n",
       "        2.94325855e-01,  2.88309190e-01,  2.82281120e-01,  2.76241884e-01,\n",
       "        2.70191721e-01,  2.64130869e-01,  2.58059569e-01,  2.51978061e-01,\n",
       "        2.45886586e-01,  2.39785383e-01,  2.33674696e-01,  2.27554765e-01,\n",
       "        2.21425832e-01,  2.15288141e-01,  2.09141933e-01,  2.02987452e-01,\n",
       "        1.96824941e-01,  1.90654645e-01,  1.84476807e-01,  1.78291671e-01,\n",
       "        1.72099483e-01,  1.65900487e-01,  1.59694928e-01,  1.53483052e-01,\n",
       "        1.47265105e-01,  1.41041332e-01,  1.34811980e-01,  1.28577295e-01,\n",
       "        1.22337524e-01,  1.16092914e-01,  1.09843712e-01,  1.03590164e-01,\n",
       "        9.73325184e-02,  9.10710227e-02,  8.48059245e-02,  7.85374716e-02,\n",
       "        7.22659119e-02,  6.59914936e-02,  5.97144649e-02,  5.34350740e-02,\n",
       "        4.71535694e-02,  4.08701994e-02,  3.45852128e-02,  2.82988581e-02,\n",
       "        2.20113839e-02,  1.57230391e-02,  9.43407223e-03,  3.14473221e-03,\n",
       "       -3.14473221e-03, -9.43407223e-03, -1.57230391e-02, -2.20113839e-02,\n",
       "       -2.82988581e-02, -3.45852128e-02, -4.08701994e-02, -4.71535694e-02,\n",
       "       -5.34350740e-02, -5.97144649e-02, -6.59914936e-02, -7.22659119e-02,\n",
       "       -7.85374716e-02, -8.48059245e-02, -9.10710227e-02, -9.73325184e-02,\n",
       "       -1.03590164e-01, -1.09843712e-01, -1.16092914e-01, -1.22337524e-01,\n",
       "       -1.28577295e-01, -1.34811980e-01, -1.41041332e-01, -1.47265105e-01,\n",
       "       -1.53483052e-01, -1.59694928e-01, -1.65900487e-01, -1.72099483e-01,\n",
       "       -1.78291671e-01, -1.84476807e-01, -1.90654645e-01, -1.96824941e-01,\n",
       "       -2.02987452e-01, -2.09141933e-01, -2.15288141e-01, -2.21425832e-01,\n",
       "       -2.27554765e-01, -2.33674696e-01, -2.39785383e-01, -2.45886586e-01,\n",
       "       -2.51978061e-01, -2.58059569e-01, -2.64130869e-01, -2.70191721e-01,\n",
       "       -2.76241884e-01, -2.82281120e-01, -2.88309190e-01, -2.94325855e-01,\n",
       "       -3.00330878e-01, -3.06324020e-01, -3.12305044e-01, -3.18273715e-01,\n",
       "       -3.24229795e-01, -3.30173050e-01, -3.36103245e-01, -3.42020143e-01,\n",
       "       -3.47923513e-01, -3.53813119e-01, -3.59688730e-01, -3.65550112e-01,\n",
       "       -3.71397034e-01, -3.77229264e-01, -3.83046573e-01, -3.88848729e-01,\n",
       "       -3.94635503e-01, -4.00406666e-01, -4.06161991e-01, -4.11901248e-01,\n",
       "       -4.17624212e-01, -4.23330656e-01, -4.29020354e-01, -4.34693081e-01,\n",
       "       -4.40348613e-01, -4.45986726e-01, -4.51607196e-01, -4.57209803e-01,\n",
       "       -4.62794323e-01, -4.68360536e-01, -4.73908223e-01, -4.79437162e-01,\n",
       "       -4.84947137e-01, -4.90437928e-01, -4.95909319e-01, -5.01361093e-01,\n",
       "       -5.06793034e-01, -5.12204928e-01, -5.17596560e-01, -5.22967718e-01,\n",
       "       -5.28318189e-01, -5.33647760e-01, -5.38956222e-01, -5.44243365e-01,\n",
       "       -5.49508978e-01, -5.54752854e-01, -5.59974786e-01, -5.65174567e-01,\n",
       "       -5.70351991e-01, -5.75506853e-01, -5.80638949e-01, -5.85748078e-01,\n",
       "       -5.90834035e-01, -5.95896621e-01, -6.00935634e-01, -6.05950876e-01,\n",
       "       -6.10942149e-01, -6.15909254e-01, -6.20851995e-01, -6.25770177e-01,\n",
       "       -6.30663605e-01, -6.35532086e-01, -6.40375427e-01, -6.45193436e-01,\n",
       "       -6.49985923e-01, -6.54752698e-01, -6.59493574e-01, -6.64208361e-01,\n",
       "       -6.68896874e-01, -6.73558927e-01, -6.78194336e-01, -6.82802917e-01,\n",
       "       -6.87384489e-01, -6.91938869e-01, -6.96465878e-01, -7.00965337e-01,\n",
       "       -7.05437067e-01, -7.09880892e-01, -7.14296636e-01, -7.18684125e-01,\n",
       "       -7.23043184e-01, -7.27373642e-01, -7.31675326e-01, -7.35948067e-01,\n",
       "       -7.40191697e-01, -7.44406046e-01, -7.48590948e-01, -7.52746238e-01,\n",
       "       -7.56871752e-01, -7.60967326e-01, -7.65032797e-01, -7.69068007e-01,\n",
       "       -7.73072793e-01, -7.77046999e-01, -7.80990468e-01, -7.84903042e-01,\n",
       "       -7.88784567e-01, -7.92634891e-01, -7.96453860e-01, -8.00241323e-01,\n",
       "       -8.03997130e-01, -8.07721134e-01, -8.11413186e-01, -8.15073141e-01,\n",
       "       -8.18700854e-01, -8.22296182e-01, -8.25858981e-01, -8.29389112e-01,\n",
       "       -8.32886434e-01, -8.36350809e-01, -8.39782100e-01, -8.43180172e-01,\n",
       "       -8.46544890e-01, -8.49876121e-01, -8.53173733e-01, -8.56437596e-01,\n",
       "       -8.59667580e-01, -8.62863558e-01, -8.66025404e-01, -8.69152992e-01,\n",
       "       -8.72246198e-01, -8.75304901e-01, -8.78328979e-01, -8.81318312e-01,\n",
       "       -8.84272783e-01, -8.87192274e-01, -8.90076671e-01, -8.92925858e-01,\n",
       "       -8.95739724e-01, -8.98518156e-01, -9.01261046e-01, -9.03968283e-01,\n",
       "       -9.06639763e-01, -9.09275378e-01, -9.11875024e-01, -9.14438599e-01,\n",
       "       -9.16966002e-01, -9.19457131e-01, -9.21911890e-01, -9.24330180e-01,\n",
       "       -9.26711905e-01, -9.29056973e-01, -9.31365289e-01, -9.33636764e-01,\n",
       "       -9.35871306e-01, -9.38068827e-01, -9.40229241e-01, -9.42352462e-01,\n",
       "       -9.44438405e-01, -9.46486990e-01, -9.48498134e-01, -9.50471757e-01,\n",
       "       -9.52407783e-01, -9.54306134e-01, -9.56166735e-01, -9.57989512e-01,\n",
       "       -9.59774394e-01, -9.61521310e-01, -9.63230191e-01, -9.64900969e-01,\n",
       "       -9.66533578e-01, -9.68127953e-01, -9.69684032e-01, -9.71201752e-01,\n",
       "       -9.72681055e-01, -9.74121880e-01, -9.75524172e-01, -9.76887875e-01,\n",
       "       -9.78212935e-01, -9.79499299e-01, -9.80746917e-01, -9.81955739e-01,\n",
       "       -9.83125718e-01, -9.84256806e-01, -9.85348960e-01, -9.86402137e-01,\n",
       "       -9.87416293e-01, -9.88391391e-01, -9.89327390e-01, -9.90224253e-01,\n",
       "       -9.91081947e-01, -9.91900435e-01, -9.92679687e-01, -9.93419671e-01,\n",
       "       -9.94120357e-01, -9.94781719e-01, -9.95403731e-01, -9.95986366e-01,\n",
       "       -9.96529603e-01, -9.97033420e-01, -9.97497797e-01, -9.97922715e-01,\n",
       "       -9.98308158e-01, -9.98654111e-01, -9.98960560e-01, -9.99227492e-01,\n",
       "       -9.99454898e-01, -9.99642768e-01, -9.99791094e-01, -9.99899872e-01,\n",
       "       -9.99969096e-01, -9.99998764e-01, -9.99988874e-01, -9.99939428e-01,\n",
       "       -9.99850427e-01, -9.99721874e-01, -9.99553775e-01, -9.99346136e-01,\n",
       "       -9.99098966e-01, -9.98812274e-01, -9.98486072e-01, -9.98120372e-01,\n",
       "       -9.97715189e-01, -9.97270539e-01, -9.96786440e-01, -9.96262911e-01,\n",
       "       -9.95699972e-01, -9.95097645e-01, -9.94455956e-01, -9.93774928e-01,\n",
       "       -9.93054589e-01, -9.92294968e-01, -9.91496094e-01, -9.90657999e-01,\n",
       "       -9.89780716e-01, -9.88864280e-01, -9.87908727e-01, -9.86914095e-01,\n",
       "       -9.85880423e-01, -9.84807753e-01, -9.83696126e-01, -9.82545587e-01,\n",
       "       -9.81356181e-01, -9.80127955e-01, -9.78860957e-01, -9.77555239e-01,\n",
       "       -9.76210851e-01, -9.74827847e-01, -9.73406281e-01, -9.71946209e-01,\n",
       "       -9.70447691e-01, -9.68910783e-01, -9.67335548e-01, -9.65722048e-01,\n",
       "       -9.64070347e-01, -9.62380509e-01, -9.60652602e-01, -9.58886695e-01,\n",
       "       -9.57082856e-01, -9.55241158e-01, -9.53361672e-01, -9.51444475e-01,\n",
       "       -9.49489640e-01, -9.47497247e-01, -9.45467373e-01, -9.43400098e-01,\n",
       "       -9.41295506e-01, -9.39153678e-01, -9.36974699e-01, -9.34758657e-01,\n",
       "       -9.32505637e-01, -9.30215731e-01, -9.27889027e-01, -9.25525619e-01,\n",
       "       -9.23125599e-01, -9.20689063e-01, -9.18216107e-01, -9.15706829e-01,\n",
       "       -9.13161327e-01, -9.10579704e-01, -9.07962060e-01, -9.05308500e-01,\n",
       "       -9.02619128e-01, -8.99894051e-01, -8.97133376e-01, -8.94337213e-01,\n",
       "       -8.91505673e-01, -8.88638867e-01, -8.85736908e-01, -8.82799913e-01,\n",
       "       -8.79827996e-01, -8.76821275e-01, -8.73779870e-01, -8.70703900e-01,\n",
       "       -8.67593488e-01, -8.64448755e-01, -8.61269828e-01, -8.58056831e-01,\n",
       "       -8.54809891e-01, -8.51529138e-01, -8.48214700e-01, -8.44866709e-01,\n",
       "       -8.41485297e-01, -8.38070599e-01, -8.34622748e-01, -8.31141882e-01,\n",
       "       -8.27628139e-01, -8.24081656e-01, -8.20502575e-01, -8.16891037e-01,\n",
       "       -8.13247185e-01, -8.09571163e-01, -8.05863117e-01, -8.02123193e-01,\n",
       "       -7.98351539e-01, -7.94548304e-01, -7.90713639e-01, -7.86847695e-01,\n",
       "       -7.82950626e-01, -7.79022586e-01, -7.75063729e-01, -7.71074213e-01,\n",
       "       -7.67054195e-01, -7.63003834e-01, -7.58923291e-01, -7.54812728e-01,\n",
       "       -7.50672305e-01, -7.46502188e-01, -7.42302542e-01, -7.38073532e-01,\n",
       "       -7.33815325e-01, -7.29528091e-01, -7.25211999e-01, -7.20867219e-01,\n",
       "       -7.16493923e-01, -7.12092285e-01, -7.07662479e-01, -7.03204679e-01,\n",
       "       -6.98719062e-01, -6.94205806e-01, -6.89665089e-01, -6.85097090e-01,\n",
       "       -6.80501991e-01, -6.75879973e-01, -6.71231219e-01, -6.66555913e-01,\n",
       "       -6.61854240e-01, -6.57126385e-01, -6.52372537e-01, -6.47592882e-01,\n",
       "       -6.42787610e-01, -6.37956911e-01, -6.33100976e-01, -6.28219997e-01,\n",
       "       -6.23314168e-01, -6.18383682e-01, -6.13428734e-01, -6.08449521e-01,\n",
       "       -6.03446239e-01, -5.98419086e-01, -5.93368262e-01, -5.88293965e-01,\n",
       "       -5.83196397e-01, -5.78075760e-01, -5.72932255e-01, -5.67766086e-01,\n",
       "       -5.62577458e-01, -5.57366576e-01, -5.52133646e-01, -5.46878875e-01,\n",
       "       -5.41602472e-01, -5.36304643e-01, -5.30985600e-01, -5.25645553e-01,\n",
       "       -5.20284712e-01, -5.14903290e-01, -5.09501500e-01, -5.04079556e-01,\n",
       "       -4.98637671e-01, -4.93176062e-01, -4.87694944e-01, -4.82194534e-01,\n",
       "       -4.76675049e-01, -4.71136709e-01, -4.65579732e-01, -4.60004337e-01,\n",
       "       -4.54410746e-01, -4.48799180e-01, -4.43169861e-01, -4.37523010e-01,\n",
       "       -4.31858853e-01, -4.26177612e-01, -4.20479513e-01, -4.14764781e-01,\n",
       "       -4.09033642e-01, -4.03286322e-01, -3.97523050e-01, -3.91744053e-01,\n",
       "       -3.85949559e-01, -3.80139798e-01, -3.74315000e-01, -3.68475395e-01,\n",
       "       -3.62621214e-01, -3.56752688e-01, -3.50870051e-01, -3.44973534e-01,\n",
       "       -3.39063370e-01, -3.33139795e-01, -3.27203041e-01, -3.21253344e-01,\n",
       "       -3.15290939e-01, -3.09316061e-01, -3.03328948e-01, -2.97329837e-01,\n",
       "       -2.91318963e-01, -2.85296566e-01, -2.79262883e-01, -2.73218154e-01,\n",
       "       -2.67162616e-01, -2.61096510e-01, -2.55020076e-01, -2.48933554e-01,\n",
       "       -2.42837185e-01, -2.36731210e-01, -2.30615871e-01, -2.24491409e-01,\n",
       "       -2.18358066e-01, -2.12216086e-01, -2.06065711e-01, -1.99907185e-01,\n",
       "       -1.93740751e-01, -1.87566653e-01, -1.81385136e-01, -1.75196443e-01,\n",
       "       -1.69000820e-01, -1.62798512e-01, -1.56589764e-01, -1.50374822e-01,\n",
       "       -1.44153931e-01, -1.37927338e-01, -1.31695289e-01, -1.25458030e-01,\n",
       "       -1.19215809e-01, -1.12968871e-01, -1.06717465e-01, -1.00461838e-01,\n",
       "       -9.42022363e-02, -8.79389084e-02, -8.16721019e-02, -7.54020646e-02,\n",
       "       -6.91290446e-02, -6.28532900e-02, -5.65750492e-02, -5.02945704e-02,\n",
       "       -4.40121020e-02, -3.77278927e-02, -3.14421909e-02, -2.51552454e-02,\n",
       "       -1.88673048e-02, -1.25786178e-02, -6.28943332e-03, -2.44929360e-16])"
      ]
     },
     "execution_count": 74,
     "metadata": {},
     "output_type": "execute_result"
    }
   ],
   "source": [
    "y = np.sin(x)\n",
    "y "
   ]
  },
  {
   "cell_type": "code",
   "execution_count": 80,
   "metadata": {},
   "outputs": [
    {
     "name": "stdout",
     "output_type": "stream",
     "text": [
      "8.3 μs ± 235 ns per loop (mean ± std. dev. of 7 runs, 100,000 loops each)\n"
     ]
    }
   ],
   "source": [
    "%%timeit\n",
    "y = np.sin(x)"
   ]
  },
  {
   "cell_type": "code",
   "execution_count": 81,
   "metadata": {},
   "outputs": [
    {
     "name": "stdout",
     "output_type": "stream",
     "text": [
      "1.34 ms ± 170 μs per loop (mean ± std. dev. of 7 runs, 100 loops each)\n"
     ]
    }
   ],
   "source": [
    "%%timeit \n",
    "y2 = np.zeros(T)\n",
    "for i in range(len(x)):\n",
    "    xi = x[i]\n",
    "    y2[i] = np.sin(xi)"
   ]
  },
  {
   "cell_type": "markdown",
   "metadata": {},
   "source": [
    "##  Variables aleatorias"
   ]
  },
  {
   "cell_type": "code",
   "execution_count": 82,
   "metadata": {},
   "outputs": [
    {
     "data": {
      "text/plain": [
       "array([[3.19503319e-01, 8.48880415e-01, 7.27544496e-01, 6.00807043e-05,\n",
       "        3.53521966e-01],\n",
       "       [9.06803034e-01, 5.16840413e-01, 3.45874020e-01, 9.09777818e-01,\n",
       "        2.28914291e-01],\n",
       "       [7.71109910e-01, 8.97127913e-01, 8.61218615e-01, 5.11860581e-01,\n",
       "        5.73153465e-01],\n",
       "       [2.23203910e-02, 9.66105537e-01, 3.75012347e-01, 5.39493617e-02,\n",
       "        6.77702163e-01],\n",
       "       [5.20644170e-01, 3.99119344e-01, 9.12016710e-01, 6.77066269e-01,\n",
       "        1.43693639e-01]])"
      ]
     },
     "execution_count": 82,
     "metadata": {},
     "output_type": "execute_result"
    }
   ],
   "source": [
    "b = np.random.random((5, 5))\n",
    "b"
   ]
  },
  {
   "cell_type": "markdown",
   "metadata": {},
   "source": [
    "## Unos, ceros"
   ]
  },
  {
   "cell_type": "code",
   "execution_count": 83,
   "metadata": {},
   "outputs": [
    {
     "data": {
      "text/plain": [
       "array([[0., 0., 0., 0., 0., 0., 0., 0., 0., 0.],\n",
       "       [0., 0., 0., 0., 0., 0., 0., 0., 0., 0.],\n",
       "       [0., 0., 0., 0., 0., 0., 0., 0., 0., 0.],\n",
       "       [0., 0., 0., 0., 0., 0., 0., 0., 0., 0.],\n",
       "       [0., 0., 0., 0., 0., 0., 0., 0., 0., 0.],\n",
       "       [0., 0., 0., 0., 0., 0., 0., 0., 0., 0.],\n",
       "       [0., 0., 0., 0., 0., 0., 0., 0., 0., 0.],\n",
       "       [0., 0., 0., 0., 0., 0., 0., 0., 0., 0.],\n",
       "       [0., 0., 0., 0., 0., 0., 0., 0., 0., 0.],\n",
       "       [0., 0., 0., 0., 0., 0., 0., 0., 0., 0.]])"
      ]
     },
     "execution_count": 83,
     "metadata": {},
     "output_type": "execute_result"
    }
   ],
   "source": [
    "np.zeros([10, 10])"
   ]
  },
  {
   "cell_type": "code",
   "execution_count": 84,
   "metadata": {},
   "outputs": [
    {
     "data": {
      "text/plain": [
       "array([[1., 1., 1., 1., 1.],\n",
       "       [1., 1., 1., 1., 1.],\n",
       "       [1., 1., 1., 1., 1.],\n",
       "       [1., 1., 1., 1., 1.],\n",
       "       [1., 1., 1., 1., 1.]])"
      ]
     },
     "execution_count": 84,
     "metadata": {},
     "output_type": "execute_result"
    }
   ],
   "source": [
    "np.ones([5, 5])"
   ]
  },
  {
   "cell_type": "code",
   "execution_count": 85,
   "metadata": {},
   "outputs": [
    {
     "data": {
      "text/plain": [
       "array([1., 1., 1., 1., 1., 1., 1., 1., 1., 1., 1., 1., 1., 1., 1., 1., 1.,\n",
       "       1., 1., 1., 1., 1., 1., 1., 1., 1., 1., 1., 1., 1., 1., 1., 1., 1.,\n",
       "       1., 1., 1., 1., 1., 1., 1., 1., 1., 1., 1., 1., 1., 1., 1., 1., 1.,\n",
       "       1., 1., 1., 1., 1., 1., 1., 1., 1., 1., 1., 1., 1., 1., 1., 1., 1.,\n",
       "       1., 1., 1., 1., 1., 1., 1., 1., 1., 1., 1., 1., 1., 1., 1., 1., 1.,\n",
       "       1., 1., 1., 1., 1., 1., 1., 1., 1., 1., 1., 1., 1., 1., 1., 1., 1.,\n",
       "       1., 1., 1., 1., 1., 1., 1., 1., 1., 1., 1., 1., 1., 1., 1., 1., 1.,\n",
       "       1., 1., 1., 1., 1., 1., 1., 1., 1., 1., 1., 1., 1., 1., 1., 1., 1.,\n",
       "       1., 1., 1., 1., 1., 1., 1., 1., 1., 1., 1., 1., 1., 1., 1., 1., 1.,\n",
       "       1., 1., 1., 1., 1., 1., 1., 1., 1., 1., 1., 1., 1., 1., 1., 1., 1.,\n",
       "       1., 1., 1., 1., 1., 1., 1., 1., 1., 1., 1., 1., 1., 1., 1., 1., 1.,\n",
       "       1., 1., 1., 1., 1., 1., 1., 1., 1., 1., 1., 1., 1., 1., 1., 1., 1.,\n",
       "       1., 1., 1., 1., 1., 1., 1., 1., 1., 1., 1., 1., 1., 1., 1., 1., 1.,\n",
       "       1., 1., 1., 1., 1., 1., 1., 1., 1., 1., 1., 1., 1., 1., 1., 1., 1.,\n",
       "       1., 1., 1., 1., 1., 1., 1., 1., 1., 1., 1., 1., 1., 1., 1., 1., 1.,\n",
       "       1., 1., 1., 1., 1., 1., 1., 1., 1., 1., 1., 1., 1., 1., 1., 1., 1.,\n",
       "       1., 1., 1., 1., 1., 1., 1., 1., 1., 1., 1., 1., 1., 1., 1., 1., 1.,\n",
       "       1., 1., 1., 1., 1., 1., 1., 1., 1., 1., 1., 1., 1., 1., 1., 1., 1.,\n",
       "       1., 1., 1., 1., 1., 1., 1., 1., 1., 1., 1., 1., 1., 1., 1., 1., 1.,\n",
       "       1., 1., 1., 1., 1., 1., 1., 1., 1., 1., 1., 1., 1., 1., 1., 1., 1.,\n",
       "       1., 1., 1., 1., 1., 1., 1., 1., 1., 1., 1., 1., 1., 1., 1., 1., 1.,\n",
       "       1., 1., 1., 1., 1., 1., 1., 1., 1., 1., 1., 1., 1., 1., 1., 1., 1.,\n",
       "       1., 1., 1., 1., 1., 1., 1., 1., 1., 1., 1., 1., 1., 1., 1., 1., 1.,\n",
       "       1., 1., 1., 1., 1., 1., 1., 1., 1., 1., 1., 1., 1., 1., 1., 1., 1.,\n",
       "       1., 1., 1., 1., 1., 1., 1., 1., 1., 1., 1., 1., 1., 1., 1., 1., 1.,\n",
       "       1., 1., 1., 1., 1., 1., 1., 1., 1., 1., 1., 1., 1., 1., 1., 1., 1.,\n",
       "       1., 1., 1., 1., 1., 1., 1., 1., 1., 1., 1., 1., 1., 1., 1., 1., 1.,\n",
       "       1., 1., 1., 1., 1., 1., 1., 1., 1., 1., 1., 1., 1., 1., 1., 1., 1.,\n",
       "       1., 1., 1., 1., 1., 1., 1., 1., 1., 1., 1., 1., 1., 1., 1., 1., 1.,\n",
       "       1., 1., 1., 1., 1., 1., 1., 1., 1., 1., 1., 1., 1., 1., 1., 1., 1.,\n",
       "       1., 1., 1., 1., 1., 1., 1., 1., 1., 1., 1., 1., 1., 1., 1., 1., 1.,\n",
       "       1., 1., 1., 1., 1., 1., 1., 1., 1., 1., 1., 1., 1., 1., 1., 1., 1.,\n",
       "       1., 1., 1., 1., 1., 1., 1., 1., 1., 1., 1., 1., 1., 1., 1., 1., 1.,\n",
       "       1., 1., 1., 1., 1., 1., 1., 1., 1., 1., 1., 1., 1., 1., 1., 1., 1.,\n",
       "       1., 1., 1., 1., 1., 1., 1., 1., 1., 1., 1., 1., 1., 1., 1., 1., 1.,\n",
       "       1., 1., 1., 1., 1., 1., 1., 1., 1., 1., 1., 1., 1., 1., 1., 1., 1.,\n",
       "       1., 1., 1., 1., 1., 1., 1., 1., 1., 1., 1., 1., 1., 1., 1., 1., 1.,\n",
       "       1., 1., 1., 1., 1., 1., 1., 1., 1., 1., 1., 1., 1., 1., 1., 1., 1.,\n",
       "       1., 1., 1., 1., 1., 1., 1., 1., 1., 1., 1., 1., 1., 1., 1., 1., 1.,\n",
       "       1., 1., 1., 1., 1., 1., 1., 1., 1., 1., 1., 1., 1., 1., 1., 1., 1.,\n",
       "       1., 1., 1., 1., 1., 1., 1., 1., 1., 1., 1., 1., 1., 1., 1., 1., 1.,\n",
       "       1., 1., 1., 1., 1., 1., 1., 1., 1., 1., 1., 1., 1., 1., 1., 1., 1.,\n",
       "       1., 1., 1., 1., 1., 1., 1., 1., 1., 1., 1., 1., 1., 1., 1., 1., 1.,\n",
       "       1., 1., 1., 1., 1., 1., 1., 1., 1., 1., 1., 1., 1., 1., 1., 1., 1.,\n",
       "       1., 1., 1., 1., 1., 1., 1., 1., 1., 1., 1., 1., 1., 1., 1., 1., 1.,\n",
       "       1., 1., 1., 1., 1., 1., 1., 1., 1., 1., 1., 1., 1., 1., 1., 1., 1.,\n",
       "       1., 1., 1., 1., 1., 1., 1., 1., 1., 1., 1., 1., 1., 1., 1., 1., 1.,\n",
       "       1., 1., 1., 1., 1., 1., 1., 1., 1., 1., 1., 1., 1., 1., 1., 1., 1.,\n",
       "       1., 1., 1., 1., 1., 1., 1., 1., 1., 1., 1., 1., 1., 1., 1., 1., 1.,\n",
       "       1., 1., 1., 1., 1., 1., 1., 1., 1., 1., 1., 1., 1., 1., 1., 1., 1.,\n",
       "       1., 1., 1., 1., 1., 1., 1., 1., 1., 1., 1., 1., 1., 1., 1., 1., 1.,\n",
       "       1., 1., 1., 1., 1., 1., 1., 1., 1., 1., 1., 1., 1., 1., 1., 1., 1.,\n",
       "       1., 1., 1., 1., 1., 1., 1., 1., 1., 1., 1., 1., 1., 1., 1., 1., 1.,\n",
       "       1., 1., 1., 1., 1., 1., 1., 1., 1., 1., 1., 1., 1., 1., 1., 1., 1.,\n",
       "       1., 1., 1., 1., 1., 1., 1., 1., 1., 1., 1., 1., 1., 1., 1., 1., 1.,\n",
       "       1., 1., 1., 1., 1., 1., 1., 1., 1., 1., 1., 1., 1., 1., 1., 1., 1.,\n",
       "       1., 1., 1., 1., 1., 1., 1., 1., 1., 1., 1., 1., 1., 1., 1., 1., 1.,\n",
       "       1., 1., 1., 1., 1., 1., 1., 1., 1., 1., 1., 1., 1., 1., 1., 1., 1.,\n",
       "       1., 1., 1., 1., 1., 1., 1., 1., 1., 1., 1., 1., 1., 1.])"
      ]
     },
     "execution_count": 85,
     "metadata": {},
     "output_type": "execute_result"
    }
   ],
   "source": [
    "# Copiando la forma de x\n",
    "np.ones_like(x)"
   ]
  },
  {
   "cell_type": "code",
   "execution_count": 86,
   "metadata": {},
   "outputs": [
    {
     "data": {
      "text/plain": [
       "array([[1., 0., 0., 0., 0.],\n",
       "       [0., 1., 0., 0., 0.],\n",
       "       [0., 0., 1., 0., 0.],\n",
       "       [0., 0., 0., 1., 0.],\n",
       "       [0., 0., 0., 0., 1.]])"
      ]
     },
     "execution_count": 86,
     "metadata": {},
     "output_type": "execute_result"
    }
   ],
   "source": [
    "np.identity(5)"
   ]
  },
  {
   "cell_type": "markdown",
   "metadata": {},
   "source": [
    "## Desde archivos"
   ]
  },
  {
   "cell_type": "code",
   "execution_count": 87,
   "metadata": {},
   "outputs": [
    {
     "data": {
      "text/plain": [
       "array([[1.00000000e+00, 3.44899870e-01],\n",
       "       [2.00000000e+00, 9.31072695e-01],\n",
       "       [3.00000000e+00, 6.25704035e-01],\n",
       "       [4.00000000e+00, 8.41599361e-01],\n",
       "       [5.00000000e+00, 8.87112967e-01],\n",
       "       [6.00000000e+00, 5.58222238e-01],\n",
       "       [7.00000000e+00, 3.05687170e-02],\n",
       "       [8.00000000e+00, 7.21006651e-01],\n",
       "       [9.00000000e+00, 2.15081930e-02],\n",
       "       [1.00000000e+01, 4.89341526e-01],\n",
       "       [1.10000000e+01, 3.23284084e-01],\n",
       "       [1.20000000e+01, 1.86885658e-01],\n",
       "       [1.30000000e+01, 4.64906445e-01],\n",
       "       [1.40000000e+01, 5.60553301e-01],\n",
       "       [1.50000000e+01, 3.83349378e-01],\n",
       "       [1.60000000e+01, 4.76682101e-01],\n",
       "       [1.70000000e+01, 9.40387708e-01],\n",
       "       [1.80000000e+01, 4.03836182e-01],\n",
       "       [1.90000000e+01, 8.30264821e-01],\n",
       "       [2.00000000e+01, 2.50129241e-01],\n",
       "       [2.10000000e+01, 5.85427477e-01],\n",
       "       [2.20000000e+01, 9.33801603e-01],\n",
       "       [2.30000000e+01, 6.32389807e-01],\n",
       "       [2.40000000e+01, 1.85051348e-01],\n",
       "       [2.50000000e+01, 7.97244083e-01],\n",
       "       [2.60000000e+01, 2.71814947e-01]])"
      ]
     },
     "execution_count": 87,
     "metadata": {},
     "output_type": "execute_result"
    }
   ],
   "source": [
    "data = np.loadtxt(\"data/data.csv\", delimiter=',', skiprows=1)\n",
    "data"
   ]
  },
  {
   "cell_type": "markdown",
   "metadata": {},
   "source": [
    "***\n",
    "# Impresión de arreglos\n",
    "\n",
    "Cuando imprimes una matriz, NumPy la muestra de forma similar a las listas anidadas, pero con el siguiente diseño:\n",
    "\n",
    "- el último eje se imprime de izquierda a derecha,\n",
    "\n",
    "- el penúltimo se imprime de arriba a abajo,\n",
    "\n",
    "- el resto también se imprime de arriba a abajo, con cada corte separado del siguiente por una línea vacía.\n",
    "\n",
    "Las matrices unidimensionales se imprimen como filas, bidimensionales como matrices y tridimensionales como listas de matrices."
   ]
  },
  {
   "cell_type": "code",
   "execution_count": 91,
   "metadata": {},
   "outputs": [
    {
     "data": {
      "text/plain": [
       "array([[ 0,  1,  2,  3],\n",
       "       [ 4,  5,  6,  7],\n",
       "       [ 8,  9, 10, 11],\n",
       "       [12, 13, 14, 15]])"
      ]
     },
     "execution_count": 91,
     "metadata": {},
     "output_type": "execute_result"
    }
   ],
   "source": [
    "a = np.arange(16).reshape(4,4)\n",
    "a"
   ]
  },
  {
   "cell_type": "code",
   "execution_count": 94,
   "metadata": {},
   "outputs": [
    {
     "data": {
      "text/plain": [
       "(4, 4)"
      ]
     },
     "execution_count": 94,
     "metadata": {},
     "output_type": "execute_result"
    }
   ],
   "source": [
    "a.shape"
   ]
  },
  {
   "cell_type": "code",
   "execution_count": 88,
   "metadata": {},
   "outputs": [
    {
     "name": "stdout",
     "output_type": "stream",
     "text": [
      "[0 1 2 3 4 5]\n"
     ]
    }
   ],
   "source": [
    "a = np.arange(6)\n",
    "print(a)"
   ]
  },
  {
   "cell_type": "code",
   "execution_count": 95,
   "metadata": {},
   "outputs": [
    {
     "data": {
      "text/plain": [
       "array([[[[1.5, 2. ],\n",
       "         [4. , 5. ]],\n",
       "\n",
       "        [[1. , 2. ],\n",
       "         [3. , 4. ]]],\n",
       "\n",
       "\n",
       "       [[[1.5, 2. ],\n",
       "         [4. , 5. ]],\n",
       "\n",
       "        [[1. , 2. ],\n",
       "         [3. , 4. ]]]])"
      ]
     },
     "execution_count": 95,
     "metadata": {},
     "output_type": "execute_result"
    }
   ],
   "source": [
    "b = np.array([\n",
    "    [ [[1.5,2], [4,5]], [[1,2], [3,4]]], \n",
    "    [ [[1.5,2], [4,5]], [[1,2], [3,4]]]\n",
    "])\n",
    "b"
   ]
  },
  {
   "cell_type": "code",
   "execution_count": 96,
   "metadata": {},
   "outputs": [
    {
     "name": "stdout",
     "output_type": "stream",
     "text": [
      "[[ 0  1  2]\n",
      " [ 3  4  5]\n",
      " [ 6  7  8]\n",
      " [ 9 10 11]]\n"
     ]
    }
   ],
   "source": [
    "b = np.arange(12).reshape(4,3)\n",
    "print(b)"
   ]
  },
  {
   "cell_type": "code",
   "execution_count": 97,
   "metadata": {},
   "outputs": [
    {
     "name": "stdout",
     "output_type": "stream",
     "text": [
      "[[[ 0  1  2  3]\n",
      "  [ 4  5  6  7]\n",
      "  [ 8  9 10 11]]\n",
      "\n",
      " [[12 13 14 15]\n",
      "  [16 17 18 19]\n",
      "  [20 21 22 23]]]\n"
     ]
    }
   ],
   "source": [
    "c = np.arange(24).reshape(2,3,4) \n",
    "print(c)"
   ]
  },
  {
   "cell_type": "code",
   "execution_count": 98,
   "metadata": {},
   "outputs": [
    {
     "name": "stdout",
     "output_type": "stream",
     "text": [
      "[   0    1    2 ... 9997 9998 9999]\n"
     ]
    }
   ],
   "source": [
    "# Si es muy grande, se suprime parte de la salida\n",
    "print(np.arange(10000))"
   ]
  },
  {
   "cell_type": "code",
   "execution_count": 99,
   "metadata": {},
   "outputs": [
    {
     "name": "stdout",
     "output_type": "stream",
     "text": [
      "[[   0    1    2 ...   97   98   99]\n",
      " [ 100  101  102 ...  197  198  199]\n",
      " [ 200  201  202 ...  297  298  299]\n",
      " ...\n",
      " [9700 9701 9702 ... 9797 9798 9799]\n",
      " [9800 9801 9802 ... 9897 9898 9899]\n",
      " [9900 9901 9902 ... 9997 9998 9999]]\n"
     ]
    }
   ],
   "source": [
    "print(np.arange(10000).reshape(100,100))"
   ]
  },
  {
   "cell_type": "markdown",
   "metadata": {},
   "source": [
    "***\n",
    "# Operaciones básicas\n",
    "\n",
    "Las operaciones básicas son aplicadas elemento a elemento (*elementwise*). Se crea un nuevo arreglo lleno con el resultado"
   ]
  },
  {
   "cell_type": "code",
   "execution_count": 100,
   "metadata": {},
   "outputs": [
    {
     "data": {
      "text/plain": [
       "(array([20, 30, 40, 50]), array([0, 1, 2, 3]))"
      ]
     },
     "execution_count": 100,
     "metadata": {},
     "output_type": "execute_result"
    }
   ],
   "source": [
    "a = np.array( [20,30,40,50] )\n",
    "b = np.arange(4)\n",
    "a, b"
   ]
  },
  {
   "cell_type": "code",
   "execution_count": 101,
   "metadata": {},
   "outputs": [
    {
     "data": {
      "text/plain": [
       "array([20, 29, 38, 47])"
      ]
     },
     "execution_count": 101,
     "metadata": {},
     "output_type": "execute_result"
    }
   ],
   "source": [
    "c = a - b\n",
    "c"
   ]
  },
  {
   "cell_type": "markdown",
   "metadata": {},
   "source": [
    "`*` opera en sentido elemento a elemento sobre los arreglos."
   ]
  },
  {
   "cell_type": "code",
   "execution_count": 103,
   "metadata": {},
   "outputs": [
    {
     "data": {
      "text/plain": [
       "array([  0,  30,  80, 150])"
      ]
     },
     "execution_count": 103,
     "metadata": {},
     "output_type": "execute_result"
    }
   ],
   "source": [
    "a*b"
   ]
  },
  {
   "cell_type": "code",
   "execution_count": 104,
   "metadata": {},
   "outputs": [
    {
     "data": {
      "text/plain": [
       "array([ 9.12945251, -9.88031624,  7.4511316 , -2.62374854])"
      ]
     },
     "execution_count": 104,
     "metadata": {},
     "output_type": "execute_result"
    }
   ],
   "source": [
    "# Constante por arreglo\n",
    "10 * np.sin(a)"
   ]
  },
  {
   "cell_type": "code",
   "execution_count": 107,
   "metadata": {},
   "outputs": [
    {
     "data": {
      "text/plain": [
       "array([20, 30, 40, 50])"
      ]
     },
     "execution_count": 107,
     "metadata": {},
     "output_type": "execute_result"
    }
   ],
   "source": [
    "a"
   ]
  },
  {
   "cell_type": "code",
   "execution_count": 110,
   "metadata": {},
   "outputs": [
    {
     "data": {
      "text/plain": [
       "array([ True,  True, False, False])"
      ]
     },
     "execution_count": 110,
     "metadata": {},
     "output_type": "execute_result"
    }
   ],
   "source": [
    "# Arreglos lógicos\n",
    "a < 35"
   ]
  },
  {
   "cell_type": "markdown",
   "metadata": {},
   "source": [
    "La multiplicación matricial puede hacerse utilizando `@` o el método `dot`"
   ]
  },
  {
   "cell_type": "code",
   "execution_count": 111,
   "metadata": {},
   "outputs": [],
   "source": [
    "A = np.array( [[1, 1], [0, 1]] )\n",
    "B = np.array( [[2, 0], [3, 4]] )"
   ]
  },
  {
   "cell_type": "code",
   "execution_count": 112,
   "metadata": {},
   "outputs": [
    {
     "data": {
      "text/plain": [
       "array([[2, 0],\n",
       "       [0, 4]])"
      ]
     },
     "execution_count": 112,
     "metadata": {},
     "output_type": "execute_result"
    }
   ],
   "source": [
    "A * B"
   ]
  },
  {
   "cell_type": "code",
   "execution_count": 119,
   "metadata": {},
   "outputs": [
    {
     "data": {
      "text/plain": [
       "array([[5, 4],\n",
       "       [3, 4]])"
      ]
     },
     "execution_count": 119,
     "metadata": {},
     "output_type": "execute_result"
    }
   ],
   "source": [
    "A @ B"
   ]
  },
  {
   "cell_type": "code",
   "execution_count": 115,
   "metadata": {},
   "outputs": [
    {
     "data": {
      "text/plain": [
       "array([[5, 4],\n",
       "       [3, 4]])"
      ]
     },
     "execution_count": 115,
     "metadata": {},
     "output_type": "execute_result"
    }
   ],
   "source": [
    "A.dot(B)"
   ]
  },
  {
   "cell_type": "code",
   "execution_count": 120,
   "metadata": {
    "scrolled": true
   },
   "outputs": [
    {
     "data": {
      "text/plain": [
       "array([[5, 4],\n",
       "       [3, 4]])"
      ]
     },
     "execution_count": 120,
     "metadata": {},
     "output_type": "execute_result"
    }
   ],
   "source": [
    "np.matmul(A, B)"
   ]
  },
  {
   "cell_type": "code",
   "execution_count": 121,
   "metadata": {},
   "outputs": [
    {
     "data": {
      "text/plain": [
       "array([[0.06108971, 0.61888647, 0.35705625],\n",
       "       [0.83231658, 0.45864597, 0.83045078]])"
      ]
     },
     "execution_count": 121,
     "metadata": {},
     "output_type": "execute_result"
    }
   ],
   "source": [
    "b = np.random.random((2,3))\n",
    "b"
   ]
  },
  {
   "cell_type": "markdown",
   "metadata": {},
   "source": [
    "Operadores `+=` y `*=` son válidos para modificar arreglos existentes."
   ]
  },
  {
   "cell_type": "code",
   "execution_count": 122,
   "metadata": {},
   "outputs": [
    {
     "data": {
      "text/plain": [
       "array([[3, 3, 3],\n",
       "       [3, 3, 3]])"
      ]
     },
     "execution_count": 122,
     "metadata": {},
     "output_type": "execute_result"
    }
   ],
   "source": [
    "a = np.ones((2,3), dtype=int)\n",
    "a *= 3\n",
    "a"
   ]
  },
  {
   "cell_type": "code",
   "execution_count": 124,
   "metadata": {},
   "outputs": [
    {
     "data": {
      "text/plain": [
       "array([[3.89805782, 3.28750691, 3.43495223],\n",
       "       [3.71278341, 3.19852295, 3.00442716]])"
      ]
     },
     "execution_count": 124,
     "metadata": {},
     "output_type": "execute_result"
    }
   ],
   "source": [
    "b = np.random.random((2,3))\n",
    "b += a \n",
    "b"
   ]
  },
  {
   "cell_type": "markdown",
   "metadata": {},
   "source": [
    "## Métodos útiles"
   ]
  },
  {
   "cell_type": "code",
   "execution_count": 125,
   "metadata": {},
   "outputs": [
    {
     "data": {
      "text/plain": [
       "array([[0.13479703, 0.58589737, 0.14673818],\n",
       "       [0.8898179 , 0.26787626, 0.24184777]])"
      ]
     },
     "execution_count": 125,
     "metadata": {},
     "output_type": "execute_result"
    }
   ],
   "source": [
    "a = np.random.random((2, 3))\n",
    "a"
   ]
  },
  {
   "cell_type": "code",
   "execution_count": 127,
   "metadata": {},
   "outputs": [
    {
     "data": {
      "text/plain": [
       "np.float64(2.266974501296758)"
      ]
     },
     "execution_count": 127,
     "metadata": {},
     "output_type": "execute_result"
    }
   ],
   "source": [
    "a.sum() # equivalente a np.sum(a)"
   ]
  },
  {
   "cell_type": "code",
   "execution_count": 128,
   "metadata": {},
   "outputs": [
    {
     "data": {
      "text/plain": [
       "np.float64(0.13479702657657933)"
      ]
     },
     "execution_count": 128,
     "metadata": {},
     "output_type": "execute_result"
    }
   ],
   "source": [
    "a.min()"
   ]
  },
  {
   "cell_type": "code",
   "execution_count": 129,
   "metadata": {},
   "outputs": [
    {
     "data": {
      "text/plain": [
       "np.float64(0.8898179009428776)"
      ]
     },
     "execution_count": 129,
     "metadata": {},
     "output_type": "execute_result"
    }
   ],
   "source": [
    "a.max()"
   ]
  },
  {
   "cell_type": "markdown",
   "metadata": {},
   "source": [
    "Por defecto operan sobre el arreglo como si fueran una lista de números. Es posible especificar el eje sobre el cuál se desea aplicar la operación con el parámetro `axis`"
   ]
  },
  {
   "cell_type": "code",
   "execution_count": 133,
   "metadata": {},
   "outputs": [
    {
     "data": {
      "text/plain": [
       "array([[ 0,  1,  2,  3],\n",
       "       [ 4,  5,  6,  7],\n",
       "       [ 8,  9, 10, 11]])"
      ]
     },
     "execution_count": 133,
     "metadata": {},
     "output_type": "execute_result"
    }
   ],
   "source": [
    "b = np.arange(12).reshape(3,4)\n",
    "b"
   ]
  },
  {
   "cell_type": "code",
   "execution_count": 136,
   "metadata": {},
   "outputs": [
    {
     "data": {
      "text/plain": [
       "np.int64(66)"
      ]
     },
     "execution_count": 136,
     "metadata": {},
     "output_type": "execute_result"
    }
   ],
   "source": [
    "b.sum()"
   ]
  },
  {
   "cell_type": "code",
   "execution_count": 135,
   "metadata": {},
   "outputs": [
    {
     "data": {
      "text/plain": [
       "array([[ 0,  1,  2,  3],\n",
       "       [ 4,  5,  6,  7],\n",
       "       [ 8,  9, 10, 11]])"
      ]
     },
     "execution_count": 135,
     "metadata": {},
     "output_type": "execute_result"
    }
   ],
   "source": [
    "b"
   ]
  },
  {
   "cell_type": "code",
   "execution_count": null,
   "metadata": {},
   "outputs": [
    {
     "data": {
      "text/plain": [
       "array([12, 15, 18, 21])"
      ]
     },
     "execution_count": 137,
     "metadata": {},
     "output_type": "execute_result"
    }
   ],
   "source": [
    "# Suma de las columnas \n",
    "b.sum(axis=0)"
   ]
  },
  {
   "cell_type": "code",
   "execution_count": 141,
   "metadata": {},
   "outputs": [
    {
     "data": {
      "text/plain": [
       "array([[12, 15, 18, 21]])"
      ]
     },
     "execution_count": 141,
     "metadata": {},
     "output_type": "execute_result"
    }
   ],
   "source": [
    "# Vector fila: agregamos dimensiones\n",
    "b.sum(axis=0)[np.newaxis, :]"
   ]
  },
  {
   "cell_type": "code",
   "execution_count": 146,
   "metadata": {},
   "outputs": [
    {
     "data": {
      "text/plain": [
       "(3,)"
      ]
     },
     "execution_count": 146,
     "metadata": {},
     "output_type": "execute_result"
    }
   ],
   "source": [
    "# Mínimo de cada fila\n",
    "b.min(axis=1).shape"
   ]
  },
  {
   "cell_type": "code",
   "execution_count": 147,
   "metadata": {},
   "outputs": [
    {
     "data": {
      "text/plain": [
       "(3, 1)"
      ]
     },
     "execution_count": 147,
     "metadata": {},
     "output_type": "execute_result"
    }
   ],
   "source": [
    "# Mínimo de cada fila\n",
    "b.min(axis=1)[:, np.newaxis].shape"
   ]
  },
  {
   "cell_type": "code",
   "execution_count": 148,
   "metadata": {},
   "outputs": [
    {
     "data": {
      "text/plain": [
       "array([[ 0,  1,  3,  6],\n",
       "       [ 4,  9, 15, 22],\n",
       "       [ 8, 17, 27, 38]])"
      ]
     },
     "execution_count": 148,
     "metadata": {},
     "output_type": "execute_result"
    }
   ],
   "source": [
    "# Suma acumulada en las columnas \n",
    "b.cumsum(axis=1)"
   ]
  },
  {
   "cell_type": "code",
   "execution_count": 150,
   "metadata": {},
   "outputs": [
    {
     "data": {
      "text/plain": [
       "array([ 8,  9, 10, 11])"
      ]
     },
     "execution_count": 150,
     "metadata": {},
     "output_type": "execute_result"
    }
   ],
   "source": [
    "b.max(axis=0)"
   ]
  },
  {
   "cell_type": "markdown",
   "metadata": {},
   "source": [
    "***\n",
    "## Funciones universales (*ufuncs*)"
   ]
  },
  {
   "cell_type": "code",
   "execution_count": 151,
   "metadata": {},
   "outputs": [
    {
     "data": {
      "text/plain": [
       "array([0, 1, 2, 3, 4])"
      ]
     },
     "execution_count": 151,
     "metadata": {},
     "output_type": "execute_result"
    }
   ],
   "source": [
    "a = np.arange(5)\n",
    "a"
   ]
  },
  {
   "cell_type": "code",
   "execution_count": 152,
   "metadata": {},
   "outputs": [
    {
     "data": {
      "text/plain": [
       "array([ 1.        ,  2.71828183,  7.3890561 , 20.08553692, 54.59815003])"
      ]
     },
     "execution_count": 152,
     "metadata": {},
     "output_type": "execute_result"
    }
   ],
   "source": [
    "np.exp(a)"
   ]
  },
  {
   "cell_type": "code",
   "execution_count": 153,
   "metadata": {},
   "outputs": [
    {
     "data": {
      "text/plain": [
       "array([0.        , 1.        , 1.41421356, 1.73205081, 2.        ])"
      ]
     },
     "execution_count": 153,
     "metadata": {},
     "output_type": "execute_result"
    }
   ],
   "source": [
    "np.sqrt(a)"
   ]
  },
  {
   "cell_type": "markdown",
   "metadata": {},
   "source": [
    "Podemos definir funciones de usuario que sean universales: $$ f(x) = 2x + e^x - \\sqrt{x} $$"
   ]
  },
  {
   "cell_type": "code",
   "execution_count": 154,
   "metadata": {},
   "outputs": [],
   "source": [
    "def f(x):\n",
    "    return 2*x + np.exp(x) - np.sqrt(x)"
   ]
  },
  {
   "cell_type": "code",
   "execution_count": 155,
   "metadata": {},
   "outputs": [
    {
     "data": {
      "text/plain": [
       "array([0, 1, 2, 3, 4])"
      ]
     },
     "execution_count": 155,
     "metadata": {},
     "output_type": "execute_result"
    }
   ],
   "source": [
    "a"
   ]
  },
  {
   "cell_type": "code",
   "execution_count": 156,
   "metadata": {},
   "outputs": [
    {
     "data": {
      "text/plain": [
       "np.float64(9.974842536557555)"
      ]
     },
     "execution_count": 156,
     "metadata": {},
     "output_type": "execute_result"
    }
   ],
   "source": [
    "f(2)"
   ]
  },
  {
   "cell_type": "code",
   "execution_count": 157,
   "metadata": {},
   "outputs": [
    {
     "data": {
      "text/plain": [
       "array([ 1.        ,  3.71828183,  9.97484254, 24.35348612, 60.59815003])"
      ]
     },
     "execution_count": 157,
     "metadata": {},
     "output_type": "execute_result"
    }
   ],
   "source": [
    "f(a)"
   ]
  },
  {
   "cell_type": "markdown",
   "metadata": {},
   "source": [
    "***\n",
    "## Indexing, Slicing and Iterating\n",
    "\n",
    "Los arreglos unidimensionales se pueden indexar, dividir e iterar, al igual que las listas y otras secuencias de Python."
   ]
  },
  {
   "cell_type": "code",
   "execution_count": 162,
   "metadata": {},
   "outputs": [
    {
     "data": {
      "text/plain": [
       "array([  0,   1,   8,  27,  64, 125, 216, 343, 512, 729])"
      ]
     },
     "execution_count": 162,
     "metadata": {},
     "output_type": "execute_result"
    }
   ],
   "source": [
    "a = np.arange(10)**3\n",
    "a"
   ]
  },
  {
   "cell_type": "code",
   "execution_count": 161,
   "metadata": {},
   "outputs": [
    {
     "data": {
      "text/plain": [
       "10"
      ]
     },
     "execution_count": 161,
     "metadata": {},
     "output_type": "execute_result"
    }
   ],
   "source": [
    "a.size"
   ]
  },
  {
   "cell_type": "code",
   "execution_count": 163,
   "metadata": {},
   "outputs": [
    {
     "data": {
      "text/plain": [
       "np.int64(8)"
      ]
     },
     "execution_count": 163,
     "metadata": {},
     "output_type": "execute_result"
    }
   ],
   "source": [
    "a[2]"
   ]
  },
  {
   "cell_type": "code",
   "execution_count": 165,
   "metadata": {},
   "outputs": [
    {
     "data": {
      "text/plain": [
       "array([ 8, 27, 64])"
      ]
     },
     "execution_count": 165,
     "metadata": {},
     "output_type": "execute_result"
    }
   ],
   "source": [
    "a[2:5]"
   ]
  },
  {
   "cell_type": "code",
   "execution_count": 169,
   "metadata": {},
   "outputs": [
    {
     "data": {
      "text/plain": [
       "array([-1000,     1, -1000,    27, -1000,   125,   216,   343,   512,\n",
       "         729])"
      ]
     },
     "execution_count": 169,
     "metadata": {},
     "output_type": "execute_result"
    }
   ],
   "source": [
    "# Asignación múltiple\n",
    "a[0:6:2] = -1000\n",
    "a"
   ]
  },
  {
   "cell_type": "code",
   "execution_count": 168,
   "metadata": {},
   "outputs": [
    {
     "data": {
      "text/plain": [
       "array([-1000,     1, -1000,    27, -1000,   125,   216,   343,   512,\n",
       "         729])"
      ]
     },
     "execution_count": 168,
     "metadata": {},
     "output_type": "execute_result"
    }
   ],
   "source": [
    "for i in range(0, 6, 2): \n",
    "    a[i] = -1000\n",
    "a"
   ]
  },
  {
   "cell_type": "code",
   "execution_count": 172,
   "metadata": {},
   "outputs": [],
   "source": [
    "def f(x,y):\n",
    "    return 10*x + y"
   ]
  },
  {
   "cell_type": "code",
   "execution_count": 173,
   "metadata": {},
   "outputs": [
    {
     "data": {
      "text/plain": [
       "array([[ 0,  1,  2,  3],\n",
       "       [10, 11, 12, 13],\n",
       "       [20, 21, 22, 23],\n",
       "       [30, 31, 32, 33],\n",
       "       [40, 41, 42, 43]])"
      ]
     },
     "execution_count": 173,
     "metadata": {},
     "output_type": "execute_result"
    }
   ],
   "source": [
    "b = np.fromfunction(f, (5,4), dtype=int)\n",
    "b"
   ]
  },
  {
   "cell_type": "code",
   "execution_count": 174,
   "metadata": {},
   "outputs": [
    {
     "ename": "IndexError",
     "evalue": "arrays used as indices must be of integer (or boolean) type",
     "output_type": "error",
     "traceback": [
      "\u001b[31m---------------------------------------------------------------------------\u001b[39m",
      "\u001b[31mIndexError\u001b[39m                                Traceback (most recent call last)",
      "\u001b[36mCell\u001b[39m\u001b[36m \u001b[39m\u001b[32mIn[174]\u001b[39m\u001b[32m, line 1\u001b[39m\n\u001b[32m----> \u001b[39m\u001b[32m1\u001b[39m \u001b[43mb\u001b[49m\u001b[43m[\u001b[49m\u001b[43mx\u001b[49m\u001b[43m]\u001b[49m[y]\n",
      "\u001b[31mIndexError\u001b[39m: arrays used as indices must be of integer (or boolean) type"
     ]
    }
   ],
   "source": [
    "b[x][y]"
   ]
  },
  {
   "cell_type": "code",
   "execution_count": 176,
   "metadata": {},
   "outputs": [
    {
     "data": {
      "text/plain": [
       "array([[ 0,  1,  2,  3],\n",
       "       [10, 11, 12, 13],\n",
       "       [20, 21, 22, 23],\n",
       "       [30, 31, 32, 33],\n",
       "       [40, 41, 42, 43]])"
      ]
     },
     "execution_count": 176,
     "metadata": {},
     "output_type": "execute_result"
    }
   ],
   "source": [
    "b"
   ]
  },
  {
   "cell_type": "code",
   "execution_count": 182,
   "metadata": {},
   "outputs": [
    {
     "data": {
      "text/plain": [
       "array([ 2, 12, 22, 32, 42])"
      ]
     },
     "execution_count": 182,
     "metadata": {},
     "output_type": "execute_result"
    }
   ],
   "source": [
    "b[:, 2]"
   ]
  },
  {
   "cell_type": "code",
   "execution_count": 183,
   "metadata": {},
   "outputs": [
    {
     "data": {
      "text/plain": [
       "array([20, 21, 22, 23])"
      ]
     },
     "execution_count": 183,
     "metadata": {},
     "output_type": "execute_result"
    }
   ],
   "source": [
    "b[2, :]"
   ]
  },
  {
   "cell_type": "code",
   "execution_count": 192,
   "metadata": {},
   "outputs": [
    {
     "data": {
      "text/plain": [
       "array([[ 0,  1,  2,  3],\n",
       "       [10,  1, 12, 13],\n",
       "       [20,  1, 22, 23],\n",
       "       [30,  1, 32, 33],\n",
       "       [40,  1, 42, 43]])"
      ]
     },
     "execution_count": 192,
     "metadata": {},
     "output_type": "execute_result"
    }
   ],
   "source": [
    "b"
   ]
  },
  {
   "cell_type": "code",
   "execution_count": 193,
   "metadata": {},
   "outputs": [],
   "source": [
    "b[0:5, 1] = 1"
   ]
  },
  {
   "cell_type": "code",
   "execution_count": 194,
   "metadata": {},
   "outputs": [
    {
     "data": {
      "text/plain": [
       "array([1, 1, 1, 1, 1])"
      ]
     },
     "execution_count": 194,
     "metadata": {},
     "output_type": "execute_result"
    }
   ],
   "source": [
    "b[:, 1]"
   ]
  },
  {
   "cell_type": "markdown",
   "metadata": {},
   "source": [
    "Cuando se proporcionan menos índices que el número de ejes, los índices faltantes se consideran segmentos completos `:`"
   ]
  },
  {
   "cell_type": "code",
   "execution_count": 195,
   "metadata": {},
   "outputs": [
    {
     "data": {
      "text/plain": [
       "array([[ 0,  1,  2,  3],\n",
       "       [10,  1, 12, 13],\n",
       "       [20,  1, 22, 23],\n",
       "       [30,  1, 32, 33],\n",
       "       [40,  1, 42, 43]])"
      ]
     },
     "execution_count": 195,
     "metadata": {},
     "output_type": "execute_result"
    }
   ],
   "source": [
    "b"
   ]
  },
  {
   "cell_type": "code",
   "execution_count": 196,
   "metadata": {},
   "outputs": [
    {
     "data": {
      "text/plain": [
       "array([40,  1, 42, 43])"
      ]
     },
     "execution_count": 196,
     "metadata": {},
     "output_type": "execute_result"
    }
   ],
   "source": [
    "# Ultima fila, todas las columnas\n",
    "b[-1]"
   ]
  },
  {
   "cell_type": "code",
   "execution_count": 205,
   "metadata": {},
   "outputs": [
    {
     "data": {
      "text/plain": [
       "np.True_"
      ]
     },
     "execution_count": 205,
     "metadata": {},
     "output_type": "execute_result"
    }
   ],
   "source": [
    "b[-4, -4] == b[1, 0]"
   ]
  },
  {
   "cell_type": "code",
   "execution_count": 200,
   "metadata": {},
   "outputs": [
    {
     "data": {
      "text/plain": [
       "array([[[[1.],\n",
       "         [1.]],\n",
       "\n",
       "        [[1.],\n",
       "         [1.]],\n",
       "\n",
       "        [[1.],\n",
       "         [1.]]],\n",
       "\n",
       "\n",
       "       [[[1.],\n",
       "         [1.]],\n",
       "\n",
       "        [[1.],\n",
       "         [1.]],\n",
       "\n",
       "        [[1.],\n",
       "         [1.]]],\n",
       "\n",
       "\n",
       "       [[[1.],\n",
       "         [1.]],\n",
       "\n",
       "        [[1.],\n",
       "         [1.]],\n",
       "\n",
       "        [[1.],\n",
       "         [1.]]],\n",
       "\n",
       "\n",
       "       [[[1.],\n",
       "         [1.]],\n",
       "\n",
       "        [[1.],\n",
       "         [1.]],\n",
       "\n",
       "        [[1.],\n",
       "         [1.]]]])"
      ]
     },
     "execution_count": 200,
     "metadata": {},
     "output_type": "execute_result"
    }
   ],
   "source": [
    "np.ones((4,3,2,1))"
   ]
  },
  {
   "cell_type": "markdown",
   "metadata": {},
   "source": [
    "La iteración sobre arreglos multidimensionales se realiza con respecto al primer eje"
   ]
  },
  {
   "cell_type": "code",
   "execution_count": 218,
   "metadata": {},
   "outputs": [
    {
     "data": {
      "text/plain": [
       "array([1., 1., 1.])"
      ]
     },
     "execution_count": 218,
     "metadata": {},
     "output_type": "execute_result"
    }
   ],
   "source": [
    "b = np.ones((10,3,3))\n",
    "np.min(b, axis=(0,1))"
   ]
  },
  {
   "cell_type": "code",
   "execution_count": 212,
   "metadata": {},
   "outputs": [
    {
     "name": "stdout",
     "output_type": "stream",
     "text": [
      "[[1. 1. 1.]\n",
      " [1. 1. 1.]\n",
      " [1. 1. 1.]]\n",
      "[[1. 1. 1.]\n",
      " [1. 1. 1.]\n",
      " [1. 1. 1.]]\n",
      "[[1. 1. 1.]\n",
      " [1. 1. 1.]\n",
      " [1. 1. 1.]]\n",
      "[[1. 1. 1.]\n",
      " [1. 1. 1.]\n",
      " [1. 1. 1.]]\n",
      "[[1. 1. 1.]\n",
      " [1. 1. 1.]\n",
      " [1. 1. 1.]]\n",
      "[[1. 1. 1.]\n",
      " [1. 1. 1.]\n",
      " [1. 1. 1.]]\n",
      "[[1. 1. 1.]\n",
      " [1. 1. 1.]\n",
      " [1. 1. 1.]]\n",
      "[[1. 1. 1.]\n",
      " [1. 1. 1.]\n",
      " [1. 1. 1.]]\n",
      "[[1. 1. 1.]\n",
      " [1. 1. 1.]\n",
      " [1. 1. 1.]]\n",
      "[[1. 1. 1.]\n",
      " [1. 1. 1.]\n",
      " [1. 1. 1.]]\n"
     ]
    }
   ],
   "source": [
    "for row in b:\n",
    "    print(row)"
   ]
  },
  {
   "cell_type": "markdown",
   "metadata": {},
   "source": [
    "Sin embargo, si se desea realizar una operación en cada elemento de la matriz, se puede usar el atributo `flat` que es un iterador sobre todos los elementos de la matriz:"
   ]
  },
  {
   "cell_type": "code",
   "execution_count": 220,
   "metadata": {},
   "outputs": [
    {
     "data": {
      "text/plain": [
       "array([[[1., 1., 1.],\n",
       "        [1., 1., 1.],\n",
       "        [1., 1., 1.]],\n",
       "\n",
       "       [[1., 1., 1.],\n",
       "        [1., 1., 1.],\n",
       "        [1., 1., 1.]],\n",
       "\n",
       "       [[1., 1., 1.],\n",
       "        [1., 1., 1.],\n",
       "        [1., 1., 1.]],\n",
       "\n",
       "       [[1., 1., 1.],\n",
       "        [1., 1., 1.],\n",
       "        [1., 1., 1.]],\n",
       "\n",
       "       [[1., 1., 1.],\n",
       "        [1., 1., 1.],\n",
       "        [1., 1., 1.]],\n",
       "\n",
       "       [[1., 1., 1.],\n",
       "        [1., 1., 1.],\n",
       "        [1., 1., 1.]],\n",
       "\n",
       "       [[1., 1., 1.],\n",
       "        [1., 1., 1.],\n",
       "        [1., 1., 1.]],\n",
       "\n",
       "       [[1., 1., 1.],\n",
       "        [1., 1., 1.],\n",
       "        [1., 1., 1.]],\n",
       "\n",
       "       [[1., 1., 1.],\n",
       "        [1., 1., 1.],\n",
       "        [1., 1., 1.]],\n",
       "\n",
       "       [[1., 1., 1.],\n",
       "        [1., 1., 1.],\n",
       "        [1., 1., 1.]]])"
      ]
     },
     "execution_count": 220,
     "metadata": {},
     "output_type": "execute_result"
    }
   ],
   "source": [
    "b"
   ]
  },
  {
   "cell_type": "code",
   "execution_count": 222,
   "metadata": {},
   "outputs": [
    {
     "data": {
      "text/plain": [
       "<numpy.flatiter at 0x1547b6c2c10>"
      ]
     },
     "execution_count": 222,
     "metadata": {},
     "output_type": "execute_result"
    }
   ],
   "source": [
    "b.flat"
   ]
  },
  {
   "cell_type": "code",
   "execution_count": 219,
   "metadata": {},
   "outputs": [
    {
     "name": "stdout",
     "output_type": "stream",
     "text": [
      "1.0\n",
      "1.0\n",
      "1.0\n",
      "1.0\n",
      "1.0\n",
      "1.0\n",
      "1.0\n",
      "1.0\n",
      "1.0\n",
      "1.0\n",
      "1.0\n",
      "1.0\n",
      "1.0\n",
      "1.0\n",
      "1.0\n",
      "1.0\n",
      "1.0\n",
      "1.0\n",
      "1.0\n",
      "1.0\n",
      "1.0\n",
      "1.0\n",
      "1.0\n",
      "1.0\n",
      "1.0\n",
      "1.0\n",
      "1.0\n",
      "1.0\n",
      "1.0\n",
      "1.0\n",
      "1.0\n",
      "1.0\n",
      "1.0\n",
      "1.0\n",
      "1.0\n",
      "1.0\n",
      "1.0\n",
      "1.0\n",
      "1.0\n",
      "1.0\n",
      "1.0\n",
      "1.0\n",
      "1.0\n",
      "1.0\n",
      "1.0\n",
      "1.0\n",
      "1.0\n",
      "1.0\n",
      "1.0\n",
      "1.0\n",
      "1.0\n",
      "1.0\n",
      "1.0\n",
      "1.0\n",
      "1.0\n",
      "1.0\n",
      "1.0\n",
      "1.0\n",
      "1.0\n",
      "1.0\n",
      "1.0\n",
      "1.0\n",
      "1.0\n",
      "1.0\n",
      "1.0\n",
      "1.0\n",
      "1.0\n",
      "1.0\n",
      "1.0\n",
      "1.0\n",
      "1.0\n",
      "1.0\n",
      "1.0\n",
      "1.0\n",
      "1.0\n",
      "1.0\n",
      "1.0\n",
      "1.0\n",
      "1.0\n",
      "1.0\n",
      "1.0\n",
      "1.0\n",
      "1.0\n",
      "1.0\n",
      "1.0\n",
      "1.0\n",
      "1.0\n",
      "1.0\n",
      "1.0\n",
      "1.0\n"
     ]
    }
   ],
   "source": [
    "for element in b.flat:\n",
    "    print(element)"
   ]
  },
  {
   "cell_type": "code",
   "execution_count": 223,
   "metadata": {},
   "outputs": [
    {
     "data": {
      "text/plain": [
       "array([1., 1., 1., 1., 1., 1., 1., 1., 1., 1., 1., 1., 1., 1., 1., 1., 1.,\n",
       "       1., 1., 1., 1., 1., 1., 1., 1., 1., 1., 1., 1., 1., 1., 1., 1., 1.,\n",
       "       1., 1., 1., 1., 1., 1., 1., 1., 1., 1., 1., 1., 1., 1., 1., 1., 1.,\n",
       "       1., 1., 1., 1., 1., 1., 1., 1., 1., 1., 1., 1., 1., 1., 1., 1., 1.,\n",
       "       1., 1., 1., 1., 1., 1., 1., 1., 1., 1., 1., 1., 1., 1., 1., 1., 1.,\n",
       "       1., 1., 1., 1., 1.])"
      ]
     },
     "execution_count": 223,
     "metadata": {},
     "output_type": "execute_result"
    }
   ],
   "source": [
    "b.flatten()"
   ]
  },
  {
   "cell_type": "markdown",
   "metadata": {},
   "source": [
    "***\n",
    "## Manipulación del `shape` (forma) del arreglo\n",
    "\n",
    "Una matriz tiene una forma dada por el número de elementos a lo largo de cada eje:"
   ]
  },
  {
   "cell_type": "code",
   "execution_count": 224,
   "metadata": {},
   "outputs": [
    {
     "data": {
      "text/plain": [
       "array([[2., 8., 5., 3.],\n",
       "       [6., 3., 6., 7.],\n",
       "       [4., 6., 8., 4.]])"
      ]
     },
     "execution_count": 224,
     "metadata": {},
     "output_type": "execute_result"
    }
   ],
   "source": [
    "a = np.floor ( 10 * np.random.random (( 3 , 4 )))\n",
    "a"
   ]
  },
  {
   "cell_type": "code",
   "execution_count": 225,
   "metadata": {},
   "outputs": [
    {
     "data": {
      "text/plain": [
       "(3, 4)"
      ]
     },
     "execution_count": 225,
     "metadata": {},
     "output_type": "execute_result"
    }
   ],
   "source": [
    "a.shape"
   ]
  },
  {
   "cell_type": "markdown",
   "metadata": {},
   "source": [
    "La forma de una matriz se puede cambiar con varios comandos. Tenga en cuenta que los siguientes tres comandos devuelven una matriz modificada, pero **no cambian la matriz original**:"
   ]
  },
  {
   "cell_type": "code",
   "execution_count": 226,
   "metadata": {},
   "outputs": [
    {
     "data": {
      "text/plain": [
       "array([2., 8., 5., 3., 6., 3., 6., 7., 4., 6., 8., 4.])"
      ]
     },
     "execution_count": 226,
     "metadata": {},
     "output_type": "execute_result"
    }
   ],
   "source": [
    "a.ravel()  # returns the array, flattened"
   ]
  },
  {
   "cell_type": "code",
   "execution_count": 227,
   "metadata": {},
   "outputs": [
    {
     "data": {
      "text/plain": [
       "array([2., 8., 5., 3., 6., 3., 6., 7., 4., 6., 8., 4.])"
      ]
     },
     "execution_count": 227,
     "metadata": {},
     "output_type": "execute_result"
    }
   ],
   "source": [
    "a.flatten()"
   ]
  },
  {
   "cell_type": "code",
   "execution_count": 232,
   "metadata": {},
   "outputs": [
    {
     "data": {
      "text/plain": [
       "array([[2., 8., 5., 3., 6., 3.],\n",
       "       [6., 7., 4., 6., 8., 4.]])"
      ]
     },
     "execution_count": 232,
     "metadata": {},
     "output_type": "execute_result"
    }
   ],
   "source": [
    "a.reshape(2, -1)  # returns the array with a modified shape"
   ]
  },
  {
   "cell_type": "code",
   "execution_count": 234,
   "metadata": {},
   "outputs": [
    {
     "data": {
      "text/plain": [
       "array([[2., 8., 5., 3.],\n",
       "       [6., 3., 6., 7.],\n",
       "       [4., 6., 8., 4.]])"
      ]
     },
     "execution_count": 234,
     "metadata": {},
     "output_type": "execute_result"
    }
   ],
   "source": [
    "a"
   ]
  },
  {
   "cell_type": "code",
   "execution_count": 235,
   "metadata": {},
   "outputs": [
    {
     "data": {
      "text/plain": [
       "array([[2., 6., 4.],\n",
       "       [8., 3., 6.],\n",
       "       [5., 6., 8.],\n",
       "       [3., 7., 4.]])"
      ]
     },
     "execution_count": 235,
     "metadata": {},
     "output_type": "execute_result"
    }
   ],
   "source": [
    "a.T"
   ]
  },
  {
   "cell_type": "code",
   "execution_count": 236,
   "metadata": {},
   "outputs": [
    {
     "data": {
      "text/plain": [
       "(4, 3)"
      ]
     },
     "execution_count": 236,
     "metadata": {},
     "output_type": "execute_result"
    }
   ],
   "source": [
    "a.T.shape"
   ]
  },
  {
   "cell_type": "code",
   "execution_count": 240,
   "metadata": {},
   "outputs": [
    {
     "data": {
      "text/plain": [
       "(3, 2, 1)"
      ]
     },
     "execution_count": 240,
     "metadata": {},
     "output_type": "execute_result"
    }
   ],
   "source": [
    "a = np.ones([3,2,1])\n",
    "a.shape"
   ]
  },
  {
   "cell_type": "code",
   "execution_count": 242,
   "metadata": {},
   "outputs": [
    {
     "data": {
      "text/plain": [
       "(1, 2, 3)"
      ]
     },
     "execution_count": 242,
     "metadata": {},
     "output_type": "execute_result"
    }
   ],
   "source": [
    "a.T\n",
    "a.T.shape"
   ]
  },
  {
   "cell_type": "markdown",
   "metadata": {},
   "source": [
    "- El orden de los elementos en la matriz resultante de `ravel()` es normalmente \"estilo `C`\", es decir, el índice de la derecha \"cambia más rápido\", por lo que el elemento después de un `[0,0]` es un `[0,1]`. \n",
    "\n",
    "- Si la matriz se reforma a otra forma, nuevamente la matriz se trata como \"estilo `C`\". NumPy normalmente crea matrices almacenadas en este orden, por lo que `ravel()` generalmente no necesitará copiar su argumento, pero si la matriz se hizo tomando segmentos de otra matriz o se creó con opciones inusuales, es posible que deba copiarse. \n",
    "\n",
    "- Las funciones `ravel()` y `reshape()` también se pueden instruir, utilizando un argumento opcional, para usar matrices de estilo FORTRAN, en las que el índice más a la izquierda cambia más rápido."
   ]
  },
  {
   "cell_type": "markdown",
   "metadata": {},
   "source": [
    "La función de `reshape` devuelve su argumento con una forma modificada, mientras que el método `ndarray.resize` modifica la matriz en sí:"
   ]
  },
  {
   "cell_type": "code",
   "execution_count": null,
   "metadata": {},
   "outputs": [],
   "source": [
    "a"
   ]
  },
  {
   "cell_type": "code",
   "execution_count": null,
   "metadata": {},
   "outputs": [],
   "source": [
    "a.resize((2, 6))\n",
    "a"
   ]
  },
  {
   "cell_type": "markdown",
   "metadata": {},
   "source": [
    "***\n",
    "## Concatenación de arreglos\n",
    "Se pueden apilar varios arreglos a lo largo de diferentes ejes:"
   ]
  },
  {
   "cell_type": "code",
   "execution_count": 245,
   "metadata": {},
   "outputs": [
    {
     "data": {
      "text/plain": [
       "array([[5., 6.],\n",
       "       [1., 9.]])"
      ]
     },
     "execution_count": 245,
     "metadata": {},
     "output_type": "execute_result"
    }
   ],
   "source": [
    "a = np.floor(10*np.random.random((2,2)))\n",
    "a"
   ]
  },
  {
   "cell_type": "code",
   "execution_count": 246,
   "metadata": {},
   "outputs": [
    {
     "data": {
      "text/plain": [
       "array([[4., 5.],\n",
       "       [7., 8.]])"
      ]
     },
     "execution_count": 246,
     "metadata": {},
     "output_type": "execute_result"
    }
   ],
   "source": [
    "b = np.floor(10*np.random.random((2,2)))\n",
    "b"
   ]
  },
  {
   "cell_type": "code",
   "execution_count": 247,
   "metadata": {},
   "outputs": [
    {
     "data": {
      "text/plain": [
       "array([[5., 6.],\n",
       "       [1., 9.],\n",
       "       [4., 5.],\n",
       "       [7., 8.]])"
      ]
     },
     "execution_count": 247,
     "metadata": {},
     "output_type": "execute_result"
    }
   ],
   "source": [
    "# np.vstack pide una tupla de ndarrays \n",
    "np.vstack((a,b))"
   ]
  },
  {
   "cell_type": "code",
   "execution_count": 248,
   "metadata": {},
   "outputs": [
    {
     "data": {
      "text/plain": [
       "array([[5., 6., 4., 5.],\n",
       "       [1., 9., 7., 8.]])"
      ]
     },
     "execution_count": 248,
     "metadata": {},
     "output_type": "execute_result"
    }
   ],
   "source": [
    "# np.hstack pide una tupla de ndarrays \n",
    "np.hstack((a,b))"
   ]
  },
  {
   "cell_type": "code",
   "execution_count": 249,
   "metadata": {},
   "outputs": [
    {
     "data": {
      "text/plain": [
       "array([[5., 6., 4., 5.],\n",
       "       [1., 9., 7., 8.]])"
      ]
     },
     "execution_count": 249,
     "metadata": {},
     "output_type": "execute_result"
    }
   ],
   "source": [
    "np.column_stack((a,b)) # Equivalente a np.hstack para arreglos 2D"
   ]
  },
  {
   "cell_type": "code",
   "execution_count": 250,
   "metadata": {},
   "outputs": [
    {
     "data": {
      "text/plain": [
       "array([[5., 6., 4., 5.],\n",
       "       [1., 9., 7., 8.]])"
      ]
     },
     "execution_count": 250,
     "metadata": {},
     "output_type": "execute_result"
    }
   ],
   "source": [
    "np.hstack((a,b)) "
   ]
  },
  {
   "cell_type": "markdown",
   "metadata": {},
   "source": [
    "- Cuando los arreglos son 1D, `np.column_stack()` y `np.hstack()` se comportan diferente"
   ]
  },
  {
   "cell_type": "code",
   "execution_count": 252,
   "metadata": {},
   "outputs": [],
   "source": [
    "a = np.array([4.,2.])\n",
    "b = np.array([3.,8.])"
   ]
  },
  {
   "cell_type": "code",
   "execution_count": 253,
   "metadata": {},
   "outputs": [
    {
     "data": {
      "text/plain": [
       "array([[4., 3.],\n",
       "       [2., 8.]])"
      ]
     },
     "execution_count": 253,
     "metadata": {},
     "output_type": "execute_result"
    }
   ],
   "source": [
    "np.column_stack((a,b))"
   ]
  },
  {
   "cell_type": "code",
   "execution_count": 254,
   "metadata": {},
   "outputs": [
    {
     "data": {
      "text/plain": [
       "array([4., 2., 3., 8.])"
      ]
     },
     "execution_count": 254,
     "metadata": {},
     "output_type": "execute_result"
    }
   ],
   "source": [
    "np.hstack((a,b)) "
   ]
  },
  {
   "cell_type": "markdown",
   "metadata": {},
   "source": [
    "- Podemos crear nuevas dimensiones en el arreglo con `np.newaxis` o con `None`"
   ]
  },
  {
   "cell_type": "code",
   "execution_count": 258,
   "metadata": {},
   "outputs": [
    {
     "data": {
      "text/plain": [
       "array([1, 2, 3, 4])"
      ]
     },
     "execution_count": 258,
     "metadata": {},
     "output_type": "execute_result"
    }
   ],
   "source": [
    "a = np.array([1,2,3,4])\n",
    "a"
   ]
  },
  {
   "cell_type": "code",
   "execution_count": 259,
   "metadata": {},
   "outputs": [
    {
     "data": {
      "text/plain": [
       "array([[1],\n",
       "       [2],\n",
       "       [3],\n",
       "       [4]])"
      ]
     },
     "execution_count": 259,
     "metadata": {},
     "output_type": "execute_result"
    }
   ],
   "source": [
    "a[:, np.newaxis]"
   ]
  },
  {
   "cell_type": "code",
   "execution_count": 261,
   "metadata": {},
   "outputs": [
    {
     "data": {
      "text/plain": [
       "array([[1, 2, 3, 4]])"
      ]
     },
     "execution_count": 261,
     "metadata": {},
     "output_type": "execute_result"
    }
   ],
   "source": [
    "a[np.newaxis, :]"
   ]
  },
  {
   "cell_type": "code",
   "execution_count": 260,
   "metadata": {},
   "outputs": [
    {
     "data": {
      "text/plain": [
       "array([[1],\n",
       "       [2],\n",
       "       [3],\n",
       "       [4]])"
      ]
     },
     "execution_count": 260,
     "metadata": {},
     "output_type": "execute_result"
    }
   ],
   "source": [
    "a[:, None]"
   ]
  },
  {
   "cell_type": "code",
   "execution_count": 262,
   "metadata": {},
   "outputs": [
    {
     "ename": "ValueError",
     "evalue": "all the input array dimensions except for the concatenation axis must match exactly, but along dimension 0, the array at index 0 has size 4 and the array at index 1 has size 2",
     "output_type": "error",
     "traceback": [
      "\u001b[31m---------------------------------------------------------------------------\u001b[39m",
      "\u001b[31mValueError\u001b[39m                                Traceback (most recent call last)",
      "\u001b[36mCell\u001b[39m\u001b[36m \u001b[39m\u001b[32mIn[262]\u001b[39m\u001b[32m, line 1\u001b[39m\n\u001b[32m----> \u001b[39m\u001b[32m1\u001b[39m \u001b[43mnp\u001b[49m\u001b[43m.\u001b[49m\u001b[43mcolumn_stack\u001b[49m\u001b[43m(\u001b[49m\u001b[43m(\u001b[49m\u001b[43ma\u001b[49m\u001b[43m[\u001b[49m\u001b[43m:\u001b[49m\u001b[43m,\u001b[49m\u001b[43m \u001b[49m\u001b[43mnp\u001b[49m\u001b[43m.\u001b[49m\u001b[43mnewaxis\u001b[49m\u001b[43m]\u001b[49m\u001b[43m,\u001b[49m\u001b[43m \u001b[49m\u001b[43mb\u001b[49m\u001b[43m[\u001b[49m\u001b[43m:\u001b[49m\u001b[43m,\u001b[49m\u001b[43m \u001b[49m\u001b[43mnp\u001b[49m\u001b[43m.\u001b[49m\u001b[43mnewaxis\u001b[49m\u001b[43m]\u001b[49m\u001b[43m)\u001b[49m\u001b[43m)\u001b[49m\n",
      "\u001b[36mFile \u001b[39m\u001b[32mc:\\Users\\Lenovo\\miniconda3\\Lib\\site-packages\\numpy\\lib\\_shape_base_impl.py:662\u001b[39m, in \u001b[36mcolumn_stack\u001b[39m\u001b[34m(tup)\u001b[39m\n\u001b[32m    660\u001b[39m         arr = array(arr, copy=\u001b[38;5;28;01mNone\u001b[39;00m, subok=\u001b[38;5;28;01mTrue\u001b[39;00m, ndmin=\u001b[32m2\u001b[39m).T\n\u001b[32m    661\u001b[39m     arrays.append(arr)\n\u001b[32m--> \u001b[39m\u001b[32m662\u001b[39m \u001b[38;5;28;01mreturn\u001b[39;00m \u001b[43m_nx\u001b[49m\u001b[43m.\u001b[49m\u001b[43mconcatenate\u001b[49m\u001b[43m(\u001b[49m\u001b[43marrays\u001b[49m\u001b[43m,\u001b[49m\u001b[43m \u001b[49m\u001b[32;43m1\u001b[39;49m\u001b[43m)\u001b[49m\n",
      "\u001b[31mValueError\u001b[39m: all the input array dimensions except for the concatenation axis must match exactly, but along dimension 0, the array at index 0 has size 4 and the array at index 1 has size 2"
     ]
    }
   ],
   "source": [
    "np.column_stack((a[:, np.newaxis], b[:, np.newaxis]))"
   ]
  },
  {
   "cell_type": "markdown",
   "metadata": {},
   "source": [
    "- Por otro lado, la función `row_stack` es equivalente a `vstack` para cualquier arreglo de entrada. De hecho, `row_stack` es un alias para `vstack`"
   ]
  },
  {
   "cell_type": "code",
   "execution_count": null,
   "metadata": {},
   "outputs": [],
   "source": [
    "np.row_stack is np.vstack"
   ]
  },
  {
   "cell_type": "markdown",
   "metadata": {},
   "source": [
    "- En general, para arreglos con más de dos dimensiones:\n",
    "    \n",
    "    - `hstack` apila a lo largo del segundo eje, \n",
    "    \n",
    "    - `vstack` apila a lo largo del primer eje y \n",
    "    \n",
    "    - `concatenate` permite argumentos opcionales que dan el número del eje (`axis`) a lo largo del cual debe ocurrir la concatenación."
   ]
  },
  {
   "cell_type": "markdown",
   "metadata": {},
   "source": [
    "***\n",
    "## Separar un arreglo en varios más pequeños"
   ]
  },
  {
   "cell_type": "code",
   "execution_count": 263,
   "metadata": {},
   "outputs": [
    {
     "data": {
      "text/plain": [
       "array([[6., 5., 2., 0., 9., 5., 0., 5., 9., 2., 5., 4.],\n",
       "       [9., 8., 2., 7., 7., 8., 5., 1., 1., 5., 9., 2.]])"
      ]
     },
     "execution_count": 263,
     "metadata": {},
     "output_type": "execute_result"
    }
   ],
   "source": [
    "a = np.floor(10*np.random.random((2,12)))\n",
    "a"
   ]
  },
  {
   "cell_type": "code",
   "execution_count": 265,
   "metadata": {},
   "outputs": [
    {
     "data": {
      "text/plain": [
       "[array([[6., 5., 2., 0.],\n",
       "        [9., 8., 2., 7.]]),\n",
       " array([[9., 5., 0., 5.],\n",
       "        [7., 8., 5., 1.]]),\n",
       " array([[9., 2., 5., 4.],\n",
       "        [1., 5., 9., 2.]])]"
      ]
     },
     "execution_count": 265,
     "metadata": {},
     "output_type": "execute_result"
    }
   ],
   "source": [
    "np.hsplit(a,3)   # Split a into 3"
   ]
  },
  {
   "cell_type": "code",
   "execution_count": 267,
   "metadata": {},
   "outputs": [
    {
     "data": {
      "text/plain": [
       "[array([[6., 5., 2.],\n",
       "        [9., 8., 2.]]),\n",
       " array([[0.],\n",
       "        [7.]]),\n",
       " array([[9., 5., 0., 5., 9., 2., 5., 4.],\n",
       "        [7., 8., 5., 1., 1., 5., 9., 2.]])]"
      ]
     },
     "execution_count": 267,
     "metadata": {},
     "output_type": "execute_result"
    }
   ],
   "source": [
    "np.hsplit(a, (3,4))   # Split a after the third and the fourth column"
   ]
  },
  {
   "cell_type": "code",
   "execution_count": 266,
   "metadata": {
    "scrolled": true
   },
   "outputs": [
    {
     "name": "stdout",
     "output_type": "stream",
     "text": [
      "Help on _ArrayFunctionDispatcher in module numpy:\n",
      "\n",
      "hsplit(ary, indices_or_sections)\n",
      "    Split an array into multiple sub-arrays horizontally (column-wise).\n",
      "\n",
      "    Please refer to the `split` documentation.  `hsplit` is equivalent\n",
      "    to `split` with ``axis=1``, the array is always split along the second\n",
      "    axis except for 1-D arrays, where it is split at ``axis=0``.\n",
      "\n",
      "    See Also\n",
      "    --------\n",
      "    split : Split an array into multiple sub-arrays of equal size.\n",
      "\n",
      "    Examples\n",
      "    --------\n",
      "    >>> import numpy as np\n",
      "    >>> x = np.arange(16.0).reshape(4, 4)\n",
      "    >>> x\n",
      "    array([[ 0.,   1.,   2.,   3.],\n",
      "           [ 4.,   5.,   6.,   7.],\n",
      "           [ 8.,   9.,  10.,  11.],\n",
      "           [12.,  13.,  14.,  15.]])\n",
      "    >>> np.hsplit(x, 2)\n",
      "    [array([[  0.,   1.],\n",
      "           [  4.,   5.],\n",
      "           [  8.,   9.],\n",
      "           [12.,  13.]]),\n",
      "     array([[  2.,   3.],\n",
      "           [  6.,   7.],\n",
      "           [10.,  11.],\n",
      "           [14.,  15.]])]\n",
      "    >>> np.hsplit(x, np.array([3, 6]))\n",
      "    [array([[ 0.,   1.,   2.],\n",
      "           [ 4.,   5.,   6.],\n",
      "           [ 8.,   9.,  10.],\n",
      "           [12.,  13.,  14.]]),\n",
      "     array([[ 3.],\n",
      "           [ 7.],\n",
      "           [11.],\n",
      "           [15.]]),\n",
      "     array([], shape=(4, 0), dtype=float64)]\n",
      "\n",
      "    With a higher dimensional array the split is still along the second axis.\n",
      "\n",
      "    >>> x = np.arange(8.0).reshape(2, 2, 2)\n",
      "    >>> x\n",
      "    array([[[0.,  1.],\n",
      "            [2.,  3.]],\n",
      "           [[4.,  5.],\n",
      "            [6.,  7.]]])\n",
      "    >>> np.hsplit(x, 2)\n",
      "    [array([[[0.,  1.]],\n",
      "           [[4.,  5.]]]),\n",
      "     array([[[2.,  3.]],\n",
      "           [[6.,  7.]]])]\n",
      "\n",
      "    With a 1-D array, the split is along axis 0.\n",
      "\n",
      "    >>> x = np.array([0, 1, 2, 3, 4, 5])\n",
      "    >>> np.hsplit(x, 2)\n",
      "    [array([0, 1, 2]), array([3, 4, 5])]\n",
      "\n"
     ]
    }
   ],
   "source": [
    "help(np.hsplit)"
   ]
  },
  {
   "cell_type": "markdown",
   "metadata": {},
   "source": [
    "***\n",
    "# Mutabilidad y clonado\n",
    "\n",
    "Al operar y manipular arreglos, los datos a veces se copian en un nuevo arreglo y otras no. Esto es a menudo una fuente de confusión para los principiantes. \n",
    "\n",
    "Hay tres casos:"
   ]
  },
  {
   "cell_type": "code",
   "execution_count": 274,
   "metadata": {},
   "outputs": [
    {
     "data": {
      "text/plain": [
       "True"
      ]
     },
     "execution_count": 274,
     "metadata": {},
     "output_type": "execute_result"
    }
   ],
   "source": [
    "a = np.arange( 12 )\n",
    "b = a\n",
    "b is a"
   ]
  },
  {
   "cell_type": "code",
   "execution_count": 273,
   "metadata": {},
   "outputs": [
    {
     "data": {
      "text/plain": [
       "(12,)"
      ]
     },
     "execution_count": 273,
     "metadata": {},
     "output_type": "execute_result"
    }
   ],
   "source": [
    "a.shape"
   ]
  },
  {
   "cell_type": "code",
   "execution_count": 275,
   "metadata": {},
   "outputs": [
    {
     "data": {
      "text/plain": [
       "(3, 4)"
      ]
     },
     "execution_count": 275,
     "metadata": {},
     "output_type": "execute_result"
    }
   ],
   "source": [
    "b.shape = 3, 4\n",
    "a.shape"
   ]
  },
  {
   "cell_type": "markdown",
   "metadata": {},
   "source": [
    "1. Cortar una matriz devuelve una vista de ella:"
   ]
  },
  {
   "cell_type": "code",
   "execution_count": 276,
   "metadata": {},
   "outputs": [
    {
     "data": {
      "text/plain": [
       "array([[ 0,  1,  2,  3],\n",
       "       [ 4,  5,  6,  7],\n",
       "       [ 8,  9, 10, 11]])"
      ]
     },
     "execution_count": 276,
     "metadata": {},
     "output_type": "execute_result"
    }
   ],
   "source": [
    "a"
   ]
  },
  {
   "cell_type": "code",
   "execution_count": 279,
   "metadata": {},
   "outputs": [
    {
     "data": {
      "text/plain": [
       "array([[ 1,  2],\n",
       "       [ 5,  6],\n",
       "       [ 9, 10]])"
      ]
     },
     "execution_count": 279,
     "metadata": {},
     "output_type": "execute_result"
    }
   ],
   "source": [
    "s = a[:, 1:3] # Slicing genera copias\n",
    "s"
   ]
  },
  {
   "cell_type": "code",
   "execution_count": 278,
   "metadata": {},
   "outputs": [
    {
     "data": {
      "text/plain": [
       "False"
      ]
     },
     "execution_count": 278,
     "metadata": {},
     "output_type": "execute_result"
    }
   ],
   "source": [
    "s is a"
   ]
  },
  {
   "cell_type": "markdown",
   "metadata": {},
   "source": [
    "## Copia profunda \n",
    "\n",
    "El método de copy hace una copia completa de la matriz y sus datos."
   ]
  },
  {
   "cell_type": "code",
   "execution_count": 281,
   "metadata": {},
   "outputs": [
    {
     "data": {
      "text/plain": [
       "array([[ 0,  1,  2,  3],\n",
       "       [ 4,  5,  6,  7],\n",
       "       [ 8,  9, 10, 11]])"
      ]
     },
     "execution_count": 281,
     "metadata": {},
     "output_type": "execute_result"
    }
   ],
   "source": [
    "# a new array object with new data is created\n",
    "d = a.copy()\n",
    "d"
   ]
  },
  {
   "cell_type": "code",
   "execution_count": 282,
   "metadata": {},
   "outputs": [
    {
     "data": {
      "text/plain": [
       "False"
      ]
     },
     "execution_count": 282,
     "metadata": {},
     "output_type": "execute_result"
    }
   ],
   "source": [
    "d is a"
   ]
  },
  {
   "cell_type": "code",
   "execution_count": 283,
   "metadata": {},
   "outputs": [
    {
     "data": {
      "text/plain": [
       "array([[ True,  True,  True,  True],\n",
       "       [ True,  True,  True,  True],\n",
       "       [ True,  True,  True,  True]])"
      ]
     },
     "execution_count": 283,
     "metadata": {},
     "output_type": "execute_result"
    }
   ],
   "source": [
    "d == a"
   ]
  },
  {
   "cell_type": "code",
   "execution_count": 284,
   "metadata": {},
   "outputs": [
    {
     "data": {
      "text/plain": [
       "np.True_"
      ]
     },
     "execution_count": 284,
     "metadata": {},
     "output_type": "execute_result"
    }
   ],
   "source": [
    "np.all(d == a)"
   ]
  },
  {
   "cell_type": "markdown",
   "metadata": {},
   "source": [
    "***\n",
    "# Rutinas de NumPy\n",
    "\n",
    "[Rutinas y funcionalidad](https://numpy.org/devdocs/reference/routines.html#routines)"
   ]
  },
  {
   "cell_type": "markdown",
   "metadata": {},
   "source": [
    "***\n",
    "# Para usuarios ***pro*** (como ustedes)"
   ]
  },
  {
   "cell_type": "markdown",
   "metadata": {},
   "source": [
    "## *Broadcasting* (difusión)\n",
    "\n",
    "- Este mecanismo permite que las funciones universales manejen de manera significativa entradas que no tienen exactamente la misma forma.\n",
    "\n",
    "[General Broadcasting Rules](https://numpy.org/devdocs/user/basics.broadcasting.html)"
   ]
  },
  {
   "cell_type": "markdown",
   "metadata": {},
   "source": [
    "- Un ejemplo:"
   ]
  },
  {
   "cell_type": "code",
   "execution_count": null,
   "metadata": {},
   "outputs": [],
   "source": [
    "x = np.arange(4)\n",
    "x"
   ]
  },
  {
   "cell_type": "code",
   "execution_count": null,
   "metadata": {},
   "outputs": [],
   "source": [
    "xx = x.reshape(4,1)\n",
    "xx"
   ]
  },
  {
   "cell_type": "code",
   "execution_count": null,
   "metadata": {
    "scrolled": true
   },
   "outputs": [],
   "source": [
    "x + xx"
   ]
  },
  {
   "cell_type": "code",
   "execution_count": null,
   "metadata": {},
   "outputs": [],
   "source": [
    "x.shape"
   ]
  },
  {
   "cell_type": "code",
   "execution_count": null,
   "metadata": {
    "scrolled": true
   },
   "outputs": [],
   "source": [
    "xx.shape"
   ]
  },
  {
   "cell_type": "markdown",
   "metadata": {},
   "source": [
    "- El *broadcasting* proporciona una forma conveniente de tomar el producto externo (o cualquier otra operación externa) de dos matrices. El siguiente ejemplo muestra una operación de adición externa de dos matrices 1D:"
   ]
  },
  {
   "cell_type": "code",
   "execution_count": null,
   "metadata": {},
   "outputs": [],
   "source": [
    "a = np.array([0.0, 10.0, 20.0, 30.0])\n",
    "b = np.array([1.0, 2.0, 3.0])"
   ]
  },
  {
   "cell_type": "code",
   "execution_count": null,
   "metadata": {
    "scrolled": true
   },
   "outputs": [],
   "source": [
    "a[:, None] + b"
   ]
  },
  {
   "cell_type": "markdown",
   "metadata": {},
   "source": [
    "Aquí, `None` inserta un nuevo eje en `a`, haciéndolo un arreglo bidimensional de `4x1`. Al combinar este arreglo de `4x1` con `b`, que tiene forma `(3,)`, resulta un arreglo de `4x3`"
   ]
  },
  {
   "cell_type": "markdown",
   "metadata": {},
   "source": [
    "### ¿Por qué funciona?\n",
    "\n",
    "- Cuando se operan dos arreglos, NumPy compara sus formas (`shape`) elemento a elemento, empezando por la última dimensión y hacia arriba. \n",
    "\n",
    "- Dos dimensiones son compatibles cuando:\n",
    "    \n",
    "    - Son iguales, o\n",
    "    \n",
    "    - Una de ellas es 1\n",
    "    \n",
    "- Cuando alguna de las dos dimensiones es uno, **se utiliza la otra**. \n",
    "\n",
    "    - En otras palabras, las dimensiones con tamaño 1 son \"estiradas\" o \"copiadas\" para ajustarse a la otra."
   ]
  },
  {
   "cell_type": "markdown",
   "metadata": {},
   "source": [
    "***\n",
    "## *Fancy indexing* y trucos de indexación\n",
    "\n",
    "- NumPy ofrece más funciones de indexación que las secuencias regulares de Python. Además de la indexación por enteros y sectores, como vimos antes, las matrices se pueden indexar por matrices de enteros y matrices de booleanos."
   ]
  },
  {
   "cell_type": "code",
   "execution_count": null,
   "metadata": {},
   "outputs": [],
   "source": [
    "a = np.arange(11)**2\n",
    "a"
   ]
  },
  {
   "cell_type": "code",
   "execution_count": null,
   "metadata": {},
   "outputs": [],
   "source": [
    "i = np.array( [ 1,1,3,8,5 ] )\n",
    "i"
   ]
  },
  {
   "cell_type": "code",
   "execution_count": null,
   "metadata": {},
   "outputs": [],
   "source": [
    "a[i]   # the elements of a at the positions i"
   ]
  },
  {
   "cell_type": "code",
   "execution_count": null,
   "metadata": {},
   "outputs": [],
   "source": [
    "j = np.array([[ 3, 4], [ 9, 7 ]])  # a bidimensional array of indices\n",
    "j"
   ]
  },
  {
   "cell_type": "code",
   "execution_count": null,
   "metadata": {},
   "outputs": [],
   "source": [
    "a[j] # the same shape as j"
   ]
  },
  {
   "cell_type": "markdown",
   "metadata": {},
   "source": [
    "- También podemos dar índices para más de una dimensión. Las matrices de índices para cada dimensión deben tener la misma forma."
   ]
  },
  {
   "cell_type": "code",
   "execution_count": null,
   "metadata": {},
   "outputs": [],
   "source": [
    "a = np.arange(12).reshape(3,4)\n",
    "a"
   ]
  },
  {
   "cell_type": "code",
   "execution_count": null,
   "metadata": {},
   "outputs": [],
   "source": [
    "i = np.array([[0,1], [1,2]])\n",
    "j = np.array([[2,1], [3,3]])"
   ]
  },
  {
   "cell_type": "code",
   "execution_count": null,
   "metadata": {},
   "outputs": [],
   "source": [
    "i"
   ]
  },
  {
   "cell_type": "code",
   "execution_count": null,
   "metadata": {},
   "outputs": [],
   "source": [
    "j"
   ]
  },
  {
   "cell_type": "code",
   "execution_count": null,
   "metadata": {},
   "outputs": [],
   "source": [
    "a[i,j] # i and j must have equal shape"
   ]
  },
  {
   "cell_type": "code",
   "execution_count": null,
   "metadata": {},
   "outputs": [],
   "source": [
    "a[i,2]"
   ]
  },
  {
   "cell_type": "code",
   "execution_count": null,
   "metadata": {},
   "outputs": [],
   "source": [
    "a[:,j]"
   ]
  },
  {
   "cell_type": "markdown",
   "metadata": {},
   "source": [
    "***\n",
    "### Búsqueda del máximo"
   ]
  },
  {
   "cell_type": "code",
   "execution_count": null,
   "metadata": {},
   "outputs": [],
   "source": [
    "data = np.sin(np.arange(20)).reshape(5,4)\n",
    "data"
   ]
  },
  {
   "cell_type": "code",
   "execution_count": null,
   "metadata": {},
   "outputs": [],
   "source": [
    "# index of the maxima for each series\n",
    "ind = data.argmax(axis=0)\n",
    "ind"
   ]
  },
  {
   "cell_type": "markdown",
   "metadata": {},
   "source": [
    "***\n",
    "###  Asignación múltiple con indexación"
   ]
  },
  {
   "cell_type": "code",
   "execution_count": null,
   "metadata": {},
   "outputs": [],
   "source": [
    "a = np.arange(5)\n",
    "a"
   ]
  },
  {
   "cell_type": "code",
   "execution_count": null,
   "metadata": {},
   "outputs": [],
   "source": [
    "a[[1,3,4]] = 0\n",
    "a"
   ]
  },
  {
   "cell_type": "code",
   "execution_count": null,
   "metadata": {},
   "outputs": [],
   "source": [
    "# Se queda la última asignación\n",
    "a = np.arange(5)\n",
    "a[[0,0,2]] = [1,2,3]\n",
    "a"
   ]
  },
  {
   "cell_type": "markdown",
   "metadata": {},
   "source": [
    "***\n",
    "### Indexado con arreglos booleanos\n",
    "\n",
    "- Cuando indexamos arreglos con otros arreglos de índices (enteros), proporcionamos la lista de índices para elegir. Con los índices booleanos, el enfoque es diferente; **elegimos explícitamente qué elementos de la matriz queremos y cuáles no**.\n",
    "\n",
    "La forma más natural en la que uno puede pensar para la indexación booleana es usar matrices booleanas que tengan la misma forma que la matriz original:"
   ]
  },
  {
   "cell_type": "code",
   "execution_count": null,
   "metadata": {},
   "outputs": [],
   "source": [
    "a = np.arange(12).reshape(3,4)\n",
    "a"
   ]
  },
  {
   "cell_type": "code",
   "execution_count": null,
   "metadata": {},
   "outputs": [],
   "source": [
    "b = a > 4\n",
    "b"
   ]
  },
  {
   "cell_type": "code",
   "execution_count": null,
   "metadata": {},
   "outputs": [],
   "source": [
    "a[b]"
   ]
  },
  {
   "cell_type": "markdown",
   "metadata": {},
   "source": [
    "- También se puede utilizar en asignaciones:"
   ]
  },
  {
   "cell_type": "code",
   "execution_count": null,
   "metadata": {},
   "outputs": [],
   "source": [
    "a[b] = 0\n",
    "a"
   ]
  },
  {
   "cell_type": "markdown",
   "metadata": {},
   "source": [
    "***\n",
    "# Álgebra lineal"
   ]
  },
  {
   "cell_type": "code",
   "execution_count": null,
   "metadata": {},
   "outputs": [],
   "source": [
    "a = np.array([[1.0, 2.0], [3.0, 4.0]])\n",
    "a"
   ]
  },
  {
   "cell_type": "code",
   "execution_count": null,
   "metadata": {},
   "outputs": [],
   "source": [
    "a.transpose()"
   ]
  },
  {
   "cell_type": "code",
   "execution_count": null,
   "metadata": {},
   "outputs": [],
   "source": [
    "np.linalg.inv(a)"
   ]
  },
  {
   "cell_type": "code",
   "execution_count": null,
   "metadata": {},
   "outputs": [],
   "source": [
    "np.eye(2)"
   ]
  },
  {
   "cell_type": "code",
   "execution_count": null,
   "metadata": {},
   "outputs": [],
   "source": [
    "j = np.array([[0.0, -1.0], [1.0, 0.0]])\n",
    "\n",
    "j @ j"
   ]
  },
  {
   "cell_type": "code",
   "execution_count": null,
   "metadata": {},
   "outputs": [],
   "source": [
    "y = np.array([[5.], [7.]])\n",
    "y"
   ]
  },
  {
   "cell_type": "code",
   "execution_count": null,
   "metadata": {},
   "outputs": [],
   "source": [
    "np.linalg.solve(a, y)"
   ]
  },
  {
   "cell_type": "code",
   "execution_count": null,
   "metadata": {},
   "outputs": [],
   "source": [
    "# eigenvalores y eigenvectores\n",
    "np.linalg.eig(a)"
   ]
  },
  {
   "cell_type": "markdown",
   "metadata": {},
   "source": [
    "***\n",
    "# Ejercicios propuestos\n",
    "\n",
    "1. De las siguientes secciones, revisa las funciones de NumPy disponibles para darte una idea de lo que es posible hacer. \n",
    "\n",
    "    - [Array creation routines](https://numpy.org/devdocs/reference/routines.array-creation.html)\n",
    "\n",
    "    - [Array manipulation routines](https://numpy.org/devdocs/reference/routines.array-manipulation.html)\n",
    "\n",
    "    - [Binary operations](https://numpy.org/devdocs/reference/routines.bitwise.html)\n",
    "\n",
    "    - [String operations](https://numpy.org/devdocs/reference/routines.char.html)\n",
    "    \n",
    "\n",
    "2. Crear un ejemplo de cómo guardar y cargar arreglos de un archivo binario `.npy` y `.npz`:\n",
    "\n",
    "    - [NumPy binary files (NPY, NPZ)](https://numpy.org/devdocs/reference/routines.io.html#numpy-binary-files-npy-npz)\n",
    "    \n",
    "3. Crear un ejemplo de cómo guardar y cargar arreglos de un archivo de texto `.txt`:\n",
    "\n",
    "    - [NumPy Text files](https://numpy.org/devdocs/reference/routines.io.html#text-files)    \n",
    "    \n",
    "4. Crear una función llamada `estimate` que lea un archivo CSV con 7 columnas, que corresponden a las variables $(x_{1i}, \\ldots, x_{6i})$ y $y_i$. \n",
    "\n",
    "    - La función debe computar matricialmente los parámetros del modelo de regresión lineal: $y = X\\beta$. \n",
    "\n",
    "    - Estos parámetros deben ser devueltos como un arreglo de NumPy. \n",
    "\n",
    "    - Utilice la función de lectura de archivos de NumPy."
   ]
  },
  {
   "cell_type": "code",
   "execution_count": 1,
   "metadata": {},
   "outputs": [],
   "source": [
    "import numpy as np"
   ]
  },
  {
   "cell_type": "code",
   "execution_count": 9,
   "metadata": {},
   "outputs": [
    {
     "data": {
      "text/plain": [
       "np.float64(3.143768)"
      ]
     },
     "execution_count": 9,
     "metadata": {},
     "output_type": "execute_result"
    }
   ],
   "source": [
    "T = 1000000\n",
    "x = 2*np.random.rand(T) - 1\n",
    "y = 2*np.random.rand(T) - 1\n",
    "\n",
    "dentro = (x**2 + y**2 < 1**2).sum()\n",
    "prop = dentro / T\n",
    "prop\n",
    "\n",
    "pi_approx = 4 * prop\n",
    "pi_approx\n"
   ]
  }
 ],
 "metadata": {
  "kernelspec": {
   "display_name": "base",
   "language": "python",
   "name": "python3"
  },
  "language_info": {
   "codemirror_mode": {
    "name": "ipython",
    "version": 3
   },
   "file_extension": ".py",
   "mimetype": "text/x-python",
   "name": "python",
   "nbconvert_exporter": "python",
   "pygments_lexer": "ipython3",
   "version": "3.13.5"
  }
 },
 "nbformat": 4,
 "nbformat_minor": 2
}
