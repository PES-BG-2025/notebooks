{
 "cells": [
  {
   "cell_type": "markdown",
   "id": "97cdbb47",
   "metadata": {},
   "source": [
    "# Introducción a las ciencias de la computación *y programación en Python*\n",
    "\n",
    "*Banco de Guatemala*  \n",
    "*PES 2025-2026*  \n",
    "*Programación I*  \n",
    "*Septiembre de 2025*  "
   ]
  },
  {
   "cell_type": "markdown",
   "id": "efb293ee",
   "metadata": {},
   "source": [
    "## Introducción\n",
    "\n",
    "> \"*Everybody should learn to program a computer, because it teaches you how to think.*\" **Steve Jobs**\n",
    "\n",
    "- Veremos un poco más acerca de la manipulación de cadenas de texto."
   ]
  },
  {
   "cell_type": "markdown",
   "id": "5c4a95ff",
   "metadata": {},
   "source": [
    "# Manipulación de cadenas de texto\n",
    "\n",
    "Cadenas de texto: \n",
    "\n",
    "-   Tipo de datos no escalar en Python.\n",
    "\n",
    "-   Algunos operadores curiosos definidos: `>, <, ==`.\n",
    "\n",
    "-   Podemos utilizar la función `len()` para obtener el largo de la\n",
    "    cadena."
   ]
  },
  {
   "cell_type": "code",
   "execution_count": null,
   "id": "c3893466",
   "metadata": {},
   "outputs": [],
   "source": [
    "s = \"abcde\"\n",
    "len(s) # devuelve 3"
   ]
  },
  {
   "cell_type": "markdown",
   "id": "fcab99bf",
   "metadata": {},
   "source": [
    "## Cadenas de texto\n",
    "\n",
    "-   Los objetos de tipo `str` poseen estructura. Esto nos permite\n",
    "    **indexar** los caracteres que la conforman.\n",
    "\n",
    "```python\n",
    "s[0]  # -> devuelve \"a\"\n",
    "s[1]  # -> devuelve \"b\"\n",
    "s[2]  # -> devuelve \"c\"\n",
    "s[3]  # -> fuera de límites, error\n",
    "s[-1] # -> devuelve \"c\"\n",
    "s[-2] # -> devuelve \"b\"\n",
    "s[-3] # -> devuelve \"a\"\n",
    "```"
   ]
  },
  {
   "cell_type": "markdown",
   "id": "6f8974e5",
   "metadata": {},
   "source": [
    "## *Slicing*\n",
    "\n",
    "-   Las cadenas se pueden \"partir\" utilizando `[start:stop:step]`.\n",
    "\n",
    "-   Si `[start:stop]`, `step = 1` por defecto.\n",
    "\n",
    "-   Se pueden omitir números y dejar `:`"
   ]
  },
  {
   "cell_type": "code",
   "execution_count": null,
   "id": "078a0a98",
   "metadata": {},
   "outputs": [],
   "source": [
    "s = \"abcdefgh\"\n",
    "s[3:6]   # -> s[3:6:1]"
   ]
  },
  {
   "cell_type": "code",
   "execution_count": null,
   "id": "fa808a87",
   "metadata": {},
   "outputs": [],
   "source": [
    "s[3:6:2] "
   ]
  },
  {
   "cell_type": "code",
   "execution_count": null,
   "id": "95a27a9c",
   "metadata": {},
   "outputs": [],
   "source": [
    "s[::]"
   ]
  },
  {
   "cell_type": "code",
   "execution_count": null,
   "id": "8cd46c2a",
   "metadata": {},
   "outputs": [],
   "source": [
    "s[::-1]  # -> s[-1:-(len(s)+1):-1]"
   ]
  },
  {
   "cell_type": "code",
   "execution_count": null,
   "id": "1b405a2b",
   "metadata": {},
   "outputs": [],
   "source": [
    "s[4:1:-2]"
   ]
  },
  {
   "cell_type": "markdown",
   "id": "a6d82384",
   "metadata": {},
   "source": [
    "## Inmutabilidad\n",
    "\n",
    "-   Las cadenas de texto son \"inmutables\" `=` no pueden ser modificadas."
   ]
  },
  {
   "cell_type": "code",
   "execution_count": null,
   "id": "f8337624",
   "metadata": {},
   "outputs": [],
   "source": [
    "s = \"hello\"\n",
    "s[0] = 'y'            # error"
   ]
  },
  {
   "cell_type": "markdown",
   "id": "b9aa1a47",
   "metadata": {},
   "source": [
    "En vez de eso, debemos **redefinir** la cadena de texto:"
   ]
  },
  {
   "cell_type": "code",
   "execution_count": null,
   "id": "177dda21",
   "metadata": {},
   "outputs": [],
   "source": [
    "s = 'y' + s[1:len(s)] # redefinir\n",
    "s"
   ]
  },
  {
   "cell_type": "markdown",
   "id": "cbda4267",
   "metadata": {},
   "source": [
    "\n",
    "\n",
    "![image](figs/strings/inmutability-strings.png){width=\"50%\"}"
   ]
  },
  {
   "cell_type": "markdown",
   "id": "eaf815a4",
   "metadata": {},
   "source": [
    "## Recapitulación de `for`\n",
    "\n",
    "-   Previamente, aprendimos que `for` trabaja en conjunto con la función\n",
    "    `range`.\n",
    "\n",
    "```python\n",
    "for var in range(4): \n",
    "    <expresiones>\n",
    "    ...\n",
    "```\n",
    "\n",
    "```python\n",
    "for var in range(4, 10):\n",
    "    <expresiones>\n",
    "    ...\n",
    "```\n",
    "\n",
    "-   Los ciclos `for` pueden iterar sobre cualquier conjunto de valores,\n",
    "    ¡no solamente números!\n"
   ]
  },
  {
   "cell_type": "markdown",
   "id": "87870327",
   "metadata": {},
   "source": [
    "## Cadenas de texto y ciclos\n",
    "\n",
    "-   Los bloques de abajo son **equivalentes**."
   ]
  },
  {
   "cell_type": "code",
   "execution_count": null,
   "id": "77243e29",
   "metadata": {},
   "outputs": [],
   "source": [
    "s = \"abcdefgh\"\n",
    "\n",
    "for index in range(len(s)):\n",
    "    if s[index] == 'i' or s[index] == 'u':\n",
    "        print(\"There is an i or u\")\n",
    "\n",
    "for char in s:\n",
    "    if char == 'i' or char == 'u':\n",
    "        print(\"There is an i or u\")"
   ]
  },
  {
   "cell_type": "markdown",
   "id": "4ac83739",
   "metadata": {},
   "source": [
    "## Ejemplo: porristas robot"
   ]
  },
  {
   "cell_type": "code",
   "execution_count": null,
   "id": "61d4b0c7",
   "metadata": {},
   "outputs": [],
   "source": [
    "an_letters = \"aefhilmnorsxAEFHILMNORSX\"\n",
    "word = input(\"I will cheer for you! Enter a word: \")\n",
    "times = int(input(\"Enthusiasm level (1-10): \"))\n",
    "\n",
    "i = 0\n",
    "while i < len(word):\n",
    "    char = word[i]\n",
    "    if char in an_letters:\n",
    "        print(\"Give me an \" + char + \"! \" + char)\n",
    "    else:\n",
    "        print(\"Give me a  \" + char + \"! \" + char)\n",
    "    i += 1\n",
    "    \n",
    "print(\"What does that spell?\")\n",
    "for i in range(times):\n",
    "    print(word, \"!!!\")"
   ]
  }
 ],
 "metadata": {
  "kernelspec": {
   "display_name": "base",
   "language": "python",
   "name": "python3"
  },
  "language_info": {
   "codemirror_mode": {
    "name": "ipython",
    "version": 3
   },
   "file_extension": ".py",
   "mimetype": "text/x-python",
   "name": "python",
   "nbconvert_exporter": "python",
   "pygments_lexer": "ipython3",
   "version": "3.13.5"
  }
 },
 "nbformat": 4,
 "nbformat_minor": 5
}
