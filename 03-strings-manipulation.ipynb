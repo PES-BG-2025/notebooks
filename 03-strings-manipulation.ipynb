{
 "cells": [
  {
   "cell_type": "markdown",
   "id": "97cdbb47",
   "metadata": {},
   "source": [
    "# Introducción a las ciencias de la computación *y programación en Python*\n",
    "\n",
    "*Banco de Guatemala*  \n",
    "*PES 2025-2026*  \n",
    "*Programación I*  \n",
    "*Septiembre de 2025*  "
   ]
  },
  {
   "cell_type": "markdown",
   "id": "efb293ee",
   "metadata": {},
   "source": [
    "## Introducción\n",
    "\n",
    "> \"*Everybody should learn to program a computer, because it teaches you how to think.*\" **Steve Jobs**\n",
    "\n",
    "- Veremos un poco más acerca de la manipulación de cadenas de texto."
   ]
  },
  {
   "cell_type": "markdown",
   "id": "5c4a95ff",
   "metadata": {},
   "source": [
    "# Manipulación de cadenas de texto\n",
    "\n",
    "Cadenas de texto: \n",
    "\n",
    "-   Tipo de datos no escalar en Python.\n",
    "\n",
    "-   Algunos operadores curiosos definidos: `>, <, ==`.\n",
    "\n",
    "-   Podemos utilizar la función `len()` para obtener el largo de la\n",
    "    cadena."
   ]
  },
  {
   "cell_type": "code",
   "execution_count": 2,
   "id": "c3893466",
   "metadata": {},
   "outputs": [
    {
     "data": {
      "text/plain": [
       "True"
      ]
     },
     "execution_count": 2,
     "metadata": {},
     "output_type": "execute_result"
    }
   ],
   "source": [
    "s = \"abcde\"\n",
    "len(s) # devuelve 3\n",
    "\n",
    "t = 'defg'\n",
    "\n",
    "s<t"
   ]
  },
  {
   "cell_type": "markdown",
   "id": "fcab99bf",
   "metadata": {},
   "source": [
    "## Cadenas de texto\n",
    "\n",
    "-   Los objetos de tipo `str` poseen estructura. Esto nos permite\n",
    "    **indexar** los caracteres que la conforman.\n",
    "\n",
    "```python\n",
    "s[0]  # -> devuelve \"a\"\n",
    "s[1]  # -> devuelve \"b\"\n",
    "s[2]  # -> devuelve \"c\"\n",
    "s[3]  # -> fuera de límites, error\n",
    "s[-1] # -> devuelve \"c\"\n",
    "s[-2] # -> devuelve \"b\"\n",
    "s[-3] # -> devuelve \"a\"\n",
    "```"
   ]
  },
  {
   "cell_type": "code",
   "execution_count": 7,
   "id": "ac722d4b",
   "metadata": {},
   "outputs": [
    {
     "ename": "IndexError",
     "evalue": "string index out of range",
     "output_type": "error",
     "traceback": [
      "\u001b[31m---------------------------------------------------------------------------\u001b[39m",
      "\u001b[31mIndexError\u001b[39m                                Traceback (most recent call last)",
      "\u001b[36mCell\u001b[39m\u001b[36m \u001b[39m\u001b[32mIn[7]\u001b[39m\u001b[32m, line 8\u001b[39m\n\u001b[32m      6\u001b[39m s[-\u001b[32m2\u001b[39m] \u001b[38;5;66;03m# -> devuelve \"d\"\u001b[39;00m\n\u001b[32m      7\u001b[39m s[-\u001b[32m3\u001b[39m] \u001b[38;5;66;03m# -> devuelve \"c\"\u001b[39;00m\n\u001b[32m----> \u001b[39m\u001b[32m8\u001b[39m \u001b[43ms\u001b[49m\u001b[43m[\u001b[49m\u001b[32;43m6\u001b[39;49m\u001b[43m]\u001b[49m\n",
      "\u001b[31mIndexError\u001b[39m: string index out of range"
     ]
    }
   ],
   "source": [
    "s[0]  # -> devuelve \"a\"\n",
    "s[1]  # -> devuelve \"b\"\n",
    "s[2]  # -> devuelve \"c\"\n",
    "s[3]  # -> fuera de límites, error\n",
    "s[-1] # -> devuelve \"e\"\n",
    "s[-2] # -> devuelve \"d\"\n",
    "s[-3] # -> devuelve \"c\"\n",
    "s[6]"
   ]
  },
  {
   "cell_type": "markdown",
   "id": "6f8974e5",
   "metadata": {},
   "source": [
    "## *Slicing*\n",
    "\n",
    "-   Las cadenas se pueden \"partir\" utilizando `[start:stop:step]`.\n",
    "\n",
    "-   Si `[start:stop]`, `step = 1` por defecto.\n",
    "\n",
    "-   Se pueden omitir números y dejar `:`"
   ]
  },
  {
   "cell_type": "code",
   "execution_count": 8,
   "id": "078a0a98",
   "metadata": {},
   "outputs": [
    {
     "data": {
      "text/plain": [
       "'def'"
      ]
     },
     "execution_count": 8,
     "metadata": {},
     "output_type": "execute_result"
    }
   ],
   "source": [
    "s = \"abcdefgh\"\n",
    "s[3:6]   # -> s[3:6:1]"
   ]
  },
  {
   "cell_type": "code",
   "execution_count": 9,
   "id": "fa808a87",
   "metadata": {},
   "outputs": [
    {
     "data": {
      "text/plain": [
       "'df'"
      ]
     },
     "execution_count": 9,
     "metadata": {},
     "output_type": "execute_result"
    }
   ],
   "source": [
    "s[3:6:2] "
   ]
  },
  {
   "cell_type": "code",
   "execution_count": 10,
   "id": "95a27a9c",
   "metadata": {},
   "outputs": [
    {
     "data": {
      "text/plain": [
       "'abcdefgh'"
      ]
     },
     "execution_count": 10,
     "metadata": {},
     "output_type": "execute_result"
    }
   ],
   "source": [
    "s[::]"
   ]
  },
  {
   "cell_type": "code",
   "execution_count": 12,
   "id": "8cd46c2a",
   "metadata": {},
   "outputs": [],
   "source": [
    "r=s[::-1]  # -> s[-1:-(len(s)+1):-1]"
   ]
  },
  {
   "cell_type": "code",
   "execution_count": null,
   "id": "1b405a2b",
   "metadata": {},
   "outputs": [],
   "source": [
    "s[4:1:-2]"
   ]
  },
  {
   "cell_type": "markdown",
   "id": "a6d82384",
   "metadata": {},
   "source": [
    "## Inmutabilidad\n",
    "\n",
    "-   Las cadenas de texto son \"inmutables\" `=` no pueden ser modificadas."
   ]
  },
  {
   "cell_type": "code",
   "execution_count": 18,
   "id": "f8337624",
   "metadata": {},
   "outputs": [
    {
     "data": {
      "text/plain": [
       "'10.0'"
      ]
     },
     "execution_count": 18,
     "metadata": {},
     "output_type": "execute_result"
    }
   ],
   "source": [
    "s = \"hello\"\n",
    "#s[0] = 'y'# error\n",
    "type(s)\n",
    "\n",
    "p =str(10.0)\n",
    "p"
   ]
  },
  {
   "cell_type": "markdown",
   "id": "b9aa1a47",
   "metadata": {},
   "source": [
    "En vez de eso, debemos **redefinir** la cadena de texto:"
   ]
  },
  {
   "cell_type": "code",
   "execution_count": 23,
   "id": "177dda21",
   "metadata": {},
   "outputs": [
    {
     "data": {
      "text/plain": [
       "'aaaaa'"
      ]
     },
     "execution_count": 23,
     "metadata": {},
     "output_type": "execute_result"
    }
   ],
   "source": [
    "s = 'y' + s[1:] # redefinir\n",
    "s\n",
    "\n",
    "'a'+\"b\"+'c'\n",
    "\n",
    "'a'*5\n"
   ]
  },
  {
   "cell_type": "code",
   "execution_count": null,
   "id": "98341084",
   "metadata": {},
   "outputs": [
    {
     "data": {
      "text/plain": [
       "[5, 2, 3]"
      ]
     },
     "execution_count": 30,
     "metadata": {},
     "output_type": "execute_result"
    }
   ],
   "source": [
    "var1 = 'Solo'\n",
    "var2 = 'p'+var1[1:]\n",
    "\n",
    "#var1[0]= 'p'\n",
    "\n",
    "\n",
    "lista = [1,2,3]\n",
    "lista[0]= 5\n",
    "\n",
    "lista\n",
    "\n"
   ]
  },
  {
   "cell_type": "code",
   "execution_count": null,
   "id": "fba3c58f",
   "metadata": {},
   "outputs": [
    {
     "data": {
      "text/plain": [
       "True"
      ]
     },
     "execution_count": 39,
     "metadata": {},
     "output_type": "execute_result"
    }
   ],
   "source": [
    "var1 = var1.lower()\n",
    "\n",
    "lista = ['a', 'b', 'c']\n",
    "\n",
    "var = 'abc'\n",
    "\n",
    "lista[0]='c'\n",
    "\n",
    "#var[0]='c'\n",
    "\n",
    "'s'in var1"
   ]
  },
  {
   "cell_type": "markdown",
   "id": "cbda4267",
   "metadata": {},
   "source": [
    "\n",
    "\n",
    "![image](figs/strings/inmutability-strings.png){width=\"50%\"}"
   ]
  },
  {
   "cell_type": "code",
   "execution_count": 43,
   "id": "05f32e22",
   "metadata": {},
   "outputs": [
    {
     "data": {
      "text/plain": [
       "'Hola'"
      ]
     },
     "execution_count": 43,
     "metadata": {},
     "output_type": "execute_result"
    }
   ],
   "source": [
    "var3 = 'hola'\n",
    "var4 = 'adios'\n",
    "\n",
    "#var3 = var4\n",
    "var3 = var3.capitalize()\n",
    "var3"
   ]
  },
  {
   "cell_type": "markdown",
   "id": "eaf815a4",
   "metadata": {},
   "source": [
    "## Recapitulación de `for`\n",
    "\n",
    "-   Previamente, aprendimos que `for` trabaja en conjunto con la función\n",
    "    `range`.\n",
    "\n",
    "```python\n",
    "for var in range(4): \n",
    "    <expresiones>\n",
    "    ...\n",
    "```\n",
    "\n",
    "```python\n",
    "for var in range(4, 10):\n",
    "    <expresiones>\n",
    "    ...\n",
    "```\n",
    "\n",
    "-   Los ciclos `for` pueden iterar sobre cualquier conjunto de valores,\n",
    "    ¡no solamente números!\n"
   ]
  },
  {
   "cell_type": "code",
   "execution_count": 45,
   "id": "4eab0d96",
   "metadata": {},
   "outputs": [
    {
     "name": "stdout",
     "output_type": "stream",
     "text": [
      "s\n",
      "o\n",
      "l\n",
      "o\n"
     ]
    }
   ],
   "source": [
    "for i in range(len(var1)):\n",
    "    print(var1[i])"
   ]
  },
  {
   "cell_type": "code",
   "execution_count": 49,
   "id": "57ad2180",
   "metadata": {},
   "outputs": [
    {
     "name": "stdout",
     "output_type": "stream",
     "text": [
      "s\n",
      "o\n",
      "l\n",
      "o\n"
     ]
    },
    {
     "data": {
      "text/plain": [
       "2"
      ]
     },
     "execution_count": 49,
     "metadata": {},
     "output_type": "execute_result"
    }
   ],
   "source": [
    "var1[0:len(var1):1]\n",
    "for letra in var1:\n",
    "    print(letra)\n",
    "\n",
    "var1.find('l')"
   ]
  },
  {
   "cell_type": "code",
   "execution_count": 59,
   "id": "c703ecf7",
   "metadata": {},
   "outputs": [
    {
     "data": {
      "text/plain": [
       "False"
      ]
     },
     "execution_count": 59,
     "metadata": {},
     "output_type": "execute_result"
    }
   ],
   "source": [
    "var4 = \"Hola, mundo\"\n",
    "\n",
    "var4.split(',')\n",
    "\n",
    "var5= \"      veinte    \"\n",
    "\n",
    "var6 = var5.strip()\n",
    "var5 ==var6"
   ]
  },
  {
   "cell_type": "markdown",
   "id": "87870327",
   "metadata": {},
   "source": [
    "## Cadenas de texto y ciclos\n",
    "\n",
    "-   Los bloques de abajo son **equivalentes**."
   ]
  },
  {
   "cell_type": "code",
   "execution_count": null,
   "id": "77243e29",
   "metadata": {},
   "outputs": [],
   "source": [
    "s = \"abcdefgh\"\n",
    "\n",
    "for index in range(len(s)):\n",
    "    if s[index] == 'i' or s[index] == 'u':\n",
    "        print(\"There is an i or u\")\n",
    "    \n",
    "\n"
   ]
  },
  {
   "cell_type": "code",
   "execution_count": 64,
   "id": "aa7a6613",
   "metadata": {},
   "outputs": [],
   "source": [
    "for char in s:\n",
    "    if char == 'i' or char == 'u':\n",
    "        print(\"There is an i or u\")"
   ]
  },
  {
   "cell_type": "code",
   "execution_count": 65,
   "id": "cff1b5a0",
   "metadata": {},
   "outputs": [
    {
     "data": {
      "text/plain": [
       "1"
      ]
     },
     "execution_count": 65,
     "metadata": {},
     "output_type": "execute_result"
    }
   ],
   "source": [
    "var8 = 'hola'\n",
    "\n",
    "var8.count('a')"
   ]
  },
  {
   "cell_type": "code",
   "execution_count": 62,
   "id": "c9981708",
   "metadata": {},
   "outputs": [
    {
     "name": "stdout",
     "output_type": "stream",
     "text": [
      "The Zen of Python, by Tim Peters\n",
      "\n",
      "Beautiful is better than ugly.\n",
      "Explicit is better than implicit.\n",
      "Simple is better than complex.\n",
      "Complex is better than complicated.\n",
      "Flat is better than nested.\n",
      "Sparse is better than dense.\n",
      "Readability counts.\n",
      "Special cases aren't special enough to break the rules.\n",
      "Although practicality beats purity.\n",
      "Errors should never pass silently.\n",
      "Unless explicitly silenced.\n",
      "In the face of ambiguity, refuse the temptation to guess.\n",
      "There should be one-- and preferably only one --obvious way to do it.\n",
      "Although that way may not be obvious at first unless you're Dutch.\n",
      "Now is better than never.\n",
      "Although never is often better than *right* now.\n",
      "If the implementation is hard to explain, it's a bad idea.\n",
      "If the implementation is easy to explain, it may be a good idea.\n",
      "Namespaces are one honking great idea -- let's do more of those!\n"
     ]
    }
   ],
   "source": [
    "import this"
   ]
  },
  {
   "cell_type": "markdown",
   "id": "4ac83739",
   "metadata": {},
   "source": [
    "## Ejemplo: porristas robot"
   ]
  },
  {
   "cell_type": "code",
   "execution_count": 66,
   "id": "61d4b0c7",
   "metadata": {},
   "outputs": [
    {
     "name": "stdout",
     "output_type": "stream",
     "text": [
      "Give me a  B! B\n",
      "Give me an r! r\n",
      "Give me an i! i\n",
      "Give me an a! a\n",
      "Give me an n! n\n",
      "What does that spell?\n",
      "Brian !!!\n",
      "Brian !!!\n",
      "Brian !!!\n",
      "Brian !!!\n",
      "Brian !!!\n",
      "Brian !!!\n",
      "Brian !!!\n",
      "Brian !!!\n",
      "Brian !!!\n",
      "Brian !!!\n"
     ]
    }
   ],
   "source": [
    "an_letters = \"aefhilmnorsxAEFHILMNORSX\"\n",
    "word = input(\"I will cheer for you! Enter a word: \")\n",
    "times = int(input(\"Enthusiasm level (1-10): \"))\n",
    "\n",
    "i = 0\n",
    "while i < len(word):\n",
    "    char = word[i]\n",
    "    if char in an_letters:\n",
    "        print(\"Give me an \" + char + \"! \" + char)\n",
    "    else:\n",
    "        print(\"Give me a  \" + char + \"! \" + char)\n",
    "    i += 1\n",
    "    \n",
    "print(\"What does that spell?\")\n",
    "for i in range(times):\n",
    "    print(word, \"!!!\")"
   ]
  }
 ],
 "metadata": {
  "kernelspec": {
   "display_name": "base",
   "language": "python",
   "name": "python3"
  },
  "language_info": {
   "codemirror_mode": {
    "name": "ipython",
    "version": 3
   },
   "file_extension": ".py",
   "mimetype": "text/x-python",
   "name": "python",
   "nbconvert_exporter": "python",
   "pygments_lexer": "ipython3",
   "version": "3.13.5"
  }
 },
 "nbformat": 4,
 "nbformat_minor": 5
}
