{
 "cells": [
  {
   "cell_type": "markdown",
   "id": "bec33ea4",
   "metadata": {},
   "source": [
    "# Introducción a las ciencias de la computación *y programación en Python*\n",
    "\n",
    "*Banco de Guatemala*  \n",
    "*PES 2025-2026*  \n",
    "*Programación I*  \n",
    "*Septiembre de 2025*  "
   ]
  },
  {
   "cell_type": "markdown",
   "id": "0dbca09e",
   "metadata": {},
   "source": [
    "## Introducción al curso\n",
    "\n",
    "> \"*Whether you want to uncover the secrets of the universe, or you just want to pursue a career in the 21st century, basic computer programming is an essential skill to learn.*\" **Stephen Hawking**\n",
    "\n",
    "- Discutiremos lo que aprenderemos en este curso y cómo lo vamos a evaluar.\n",
    "\n",
    "- Discutiremos algunos conceptos importantes en ciencias de la computación.\n",
    "\n",
    "- Hablaremos del lenguaje de programación Python y por qué lo vamos a utilizar."
   ]
  },
  {
   "cell_type": "markdown",
   "id": "0aed8a6f",
   "metadata": {},
   "source": [
    "## Introducción\n",
    "\n",
    "## Objetivo del curso \n",
    "> Que los participantes aprendan sobre la teoría básica de las ciencias de la computación, acompañada de su implementación en un lenguaje de programación de alto nivel.\n",
    "\n",
    "![image](figs/common/python-logo-inkscape.svg)\n"
   ]
  },
  {
   "cell_type": "markdown",
   "id": "e545f322",
   "metadata": {},
   "source": [
    "## Metodología\n",
    "\n",
    "-   Presentaciones y ejercicios en clase basados en el curso *Introduction to Computer Science and Programming in Python* del Massachusetts Institute of Technology (MIT).  \n",
    "    - [Curso en línea en edX](https://www.edx.org/learn/computer-science/massachusetts-institute-of-technology-introduction-to-computer-science-and-programming-using-python). \n",
    "\n",
    "- Cuadernos Jupyter para cada tema en repositorio de materiales: \n",
    "  - https://github.com/PES-BG-2025/notebooks\n",
    "\n",
    "- Libro de texto auxiliar: *Think Python* de Allen Downey.\n",
    "  - https://allendowney.github.io/ThinkPython/\n",
    "\n",
    "![image](figs/common/book_think_python_3e.jpg){width=\"30%\"}\n"
   ]
  },
  {
   "cell_type": "markdown",
   "id": "54e78957",
   "metadata": {},
   "source": [
    "## Calificación \n",
    "\n",
    "- Proyecto individual: Este proyecto estará orientado a aplicar los conceptos más básicos de programación: estructuras de datos y de control. \n",
    "\n",
    "- Examen corto: Evaluar la capacidad de resolver un problema de programación con el conocimiento y las herramientas disponibles en línea. \n",
    "\n",
    "- Proyecto grupal: Orientado a desarrollar una aplicación más práctica utilizando módulos no vistos en clase para desarrollar la solución. \n",
    "\n",
    " | **Actividad**       | **Punteo** |\n",
    " |---------------------|------------|\n",
    " | Tareas y ejercicios | 40%        |\n",
    " | Proyecto personal   | 25%        |\n",
    " | Examen corto        | 10%        |\n",
    " | Proyecto grupal     | 25%        |"
   ]
  },
  {
   "cell_type": "markdown",
   "id": "fd69da0c",
   "metadata": {},
   "source": [
    "## Recomendaciones\n",
    "\n",
    "-   Se debe buscar aprender la **lógica de programación** y no las\n",
    "    recetas vistas en clase.\n",
    "\n",
    "    -   Lo importante es aprender a escribir programas para resolver\n",
    "        problemas.\n",
    "\n",
    "    -   Esto te permite aprender a programar en otro lenguaje más\n",
    "        rápidamente.\n",
    "\n",
    "-   ¿Eres totalmente nuevo en programación?\n",
    "\n",
    "    -   **PRACTICA, PRACTICA y ¡PRACTICA!**\n",
    "\n",
    "    -   No temas en probar instrucciones de Python, ¡la computadora no\n",
    "        va a explotar!\n",
    "\n",
    "    -   **¡TEN PACIENCIA!**\n",
    "\n",
    "-   Puedes consultar un sinfín de cursos, blogs, tutoriales y\n",
    "    documentación en Internet.\n"
   ]
  },
  {
   "cell_type": "markdown",
   "id": "b00359fc",
   "metadata": {},
   "source": [
    "## Cronograma\n",
    "\n",
    "- Discusión del [cronograma](https://github.com/PES-BG-2025/notebooks#cronograma)"
   ]
  },
  {
   "cell_type": "markdown",
   "id": "72aa7ac6",
   "metadata": {},
   "source": [
    "## Agenda\n",
    "-   Introducción a la computación.\n",
    "\n",
    "-   Introducción a Python."
   ]
  },
  {
   "cell_type": "markdown",
   "id": "52125b76",
   "metadata": {},
   "source": [
    "# Introducción a la computación"
   ]
  },
  {
   "cell_type": "markdown",
   "id": "b7e5a136",
   "metadata": {},
   "source": [
    "## Tipos de conocimiento\n",
    "\n",
    "-   **Declarativo**: afirmación o enunciado a partir de un hecho.\n",
    "\n",
    "    > La raíz cuadrada de $x$ es un número $y$ tal que $y\\times y = x$.\n",
    "\n",
    "-   **Imperativo**: una receta de cómo hacerlo.\n",
    "\n",
    "\n",
    "    -   Empiece con una deducción $g$.\n",
    "    -   Si $g\\times g$ está cerca de $x$, deténgase y $g$ es la respuesta.\n",
    "    -   De lo contrario, su nueva deducción es el promedio de $g$ y $x/g$.\n",
    "    -   Repita el proceso hasta estar cerca de $x$.\n"
   ]
  },
  {
   "cell_type": "markdown",
   "id": "00502dd8",
   "metadata": {},
   "source": [
    "## ¿Qué hace una computadora?\n",
    "\n",
    "-   Fundamentalmente:\n",
    "\n",
    "    -   Realiza cálculos (hasta billones por segundo).\n",
    "\n",
    "    -   Guarda los resultados (cientos de GBs).\n",
    "\n",
    "-   ¿Qué tipo de cálculos?\n",
    "\n",
    "    -   Muy simples: operaciones aritméticas y lógicas.\n",
    "\n",
    "    -   Los que el programador **define**."
   ]
  },
  {
   "cell_type": "markdown",
   "id": "a34ed00e",
   "metadata": {},
   "source": [
    "## Algoritmos\n",
    "\n",
    "-   Secuencias de pasos simples (*atómicos*).\n",
    "\n",
    "-   Hay un flujo de control que especifica cuándo se ejecuta cada paso.\n",
    "\n",
    "-   Existe una forma de determinar cuando parar.\n",
    "\n"
   ]
  },
  {
   "cell_type": "markdown",
   "id": "8df7d9a4",
   "metadata": {},
   "source": [
    "\n",
    "## Tipos de computadoras\n",
    "\n",
    "-   ¿Qué exactamente es una computadora?\n",
    "\n",
    "-   Las computadoras son máquinas que capturan la receta.\n",
    "\n",
    "    -   de programas fijos (e.g. calculadora).\n",
    "\n",
    "    -   de programas almacenados: guardan y ejecutan instrucciones almacenadas en memoria."
   ]
  },
  {
   "cell_type": "markdown",
   "id": "79d4388b",
   "metadata": {},
   "source": [
    "## Arquitectura básica\n",
    "![image](figs/intro/computer-architecture.png){width=\"90%\"}"
   ]
  },
  {
   "cell_type": "markdown",
   "id": "9b633561",
   "metadata": {},
   "source": [
    "## Programas almacenados\n",
    "\n",
    "-   Consisten en una secuencia de instrucciones almacenadas en la\n",
    "    computadora.\n",
    "\n",
    "-   Construidas a partir de instrucciones primitivas:\n",
    "\n",
    "    -   Aritméticas y lógicas.\n",
    "\n",
    "    -   Condiciones simples.\n",
    "\n",
    "    -   Operaciones de memoria.\n",
    "\n",
    "-   El **intérprete** se encarga de ejecutar las instrucciones en orden.\n",
    "\n",
    "-   Utiliza pruebas para cambiar el flujo de control en la secuencia.\n",
    "\n",
    "-   Se detiene cuando termina la ejecución."
   ]
  },
  {
   "cell_type": "markdown",
   "id": "909dda4a",
   "metadata": {},
   "source": [
    "## Máquina universal de Turing\n",
    "\n",
    "> (\\...) The Church-Turing thesis leads directly to the notion of Turing completeness. A programming language is said to be Turing complete if it can be used to simulate a universal Turing Machine. All modern programming languages are Turing complete. As a consequence, anything that can be programmed in one programming language (e.g., Python) can be programmed in any other programming language (e.g., Java). Of course, some things may be easier to program in a particular language, but all languages are fundamentally equal with respect to computational power.\"\n",
    "\n",
    "- [¿Qué es una máquina de Turing?](https://www.youtube.com/watch?v=iaXLDz_UeYY)"
   ]
  },
  {
   "cell_type": "markdown",
   "id": "7c994960",
   "metadata": {},
   "source": [
    "## Primitivas básicas\n",
    "\n",
    "-   Turing mostró que se puede computar **cualquier cosa** con algunas\n",
    "    primitivas básicas.\n",
    "\n",
    "-   Los lenguajes de programación modernos tienen primitivas más\n",
    "    convenientes.\n",
    "\n",
    "    -   Análogamente a un lenguaje natural, tienen palabras, sintaxis,\n",
    "        semántica y significado.\n"
   ]
  },
  {
   "cell_type": "markdown",
   "id": "7afeec7d",
   "metadata": {},
   "source": [
    "## Construyendo expresiones\n",
    "\n",
    "-   Las expresiones son combinaciones (complejas) legales de primitivas\n",
    "    en un lenguaje de programación (LP).\n",
    "\n",
    "-   Las expresiones y cómputos tienen valores y significados en el\n",
    "    lenguaje.\n",
    "\n",
    "-   Construcciones primitivas:\n",
    "\n",
    "    -   Español: palabras.\n",
    "\n",
    "    -   Lenguaje de programación: números, cadenas de texto, operadores.\n"
   ]
  },
  {
   "cell_type": "markdown",
   "id": "0741cf5f",
   "metadata": {},
   "source": [
    "## Sintaxis\n",
    "\n",
    "-   Se refiere a las reglas que especifican secuencias correctas de\n",
    "    símbolos que pueden ser usadas para formar expresiones en el\n",
    "    lenguaje.\n",
    "\n",
    "-   Por ejemplo: \"Niño gato perro\" no es sintácticamente válida en\n",
    "    español.\n",
    "\n",
    "-   En Python, una secuencia correcta es `1.5+1.6`, pero no `1.5 1.6`."
   ]
  },
  {
   "cell_type": "markdown",
   "id": "00c9f733",
   "metadata": {},
   "source": [
    "## Semántica estática\n",
    "\n",
    "-   Se refiere a que las cadenas sintácticamente válidas tengan\n",
    "    significado.\n",
    "\n",
    "-   \"Yo estamos hambriento\" no es semánticamente válida.\n",
    "\n",
    "-   En Python:\n"
   ]
  },
  {
   "cell_type": "code",
   "execution_count": 7,
   "id": "42ca44b5",
   "metadata": {},
   "outputs": [
    {
     "data": {
      "text/plain": [
       "16.0"
      ]
     },
     "execution_count": 7,
     "metadata": {},
     "output_type": "execute_result"
    }
   ],
   "source": [
    "3.2*5   # es válida."
   ]
  },
  {
   "cell_type": "code",
   "execution_count": 8,
   "id": "d4dc9de0",
   "metadata": {},
   "outputs": [
    {
     "ename": "TypeError",
     "evalue": "unsupported operand type(s) for +: 'int' and 'str'",
     "output_type": "error",
     "traceback": [
      "\u001b[31m---------------------------------------------------------------------------\u001b[39m",
      "\u001b[31mTypeError\u001b[39m                                 Traceback (most recent call last)",
      "\u001b[36mCell\u001b[39m\u001b[36m \u001b[39m\u001b[32mIn[8]\u001b[39m\u001b[32m, line 1\u001b[39m\n\u001b[32m----> \u001b[39m\u001b[32m1\u001b[39m \u001b[32;43m3\u001b[39;49m\u001b[43m \u001b[49m\u001b[43m+\u001b[49m\u001b[43m \u001b[49m\u001b[33;43m\"\u001b[39;49m\u001b[33;43mhola\u001b[39;49m\u001b[33;43m\"\u001b[39;49m  \u001b[38;5;66;03m# no es válida.\u001b[39;00m\n",
      "\u001b[31mTypeError\u001b[39m: unsupported operand type(s) for +: 'int' and 'str'"
     ]
    }
   ],
   "source": [
    "3 + \"hola\"  # no es válida."
   ]
  },
  {
   "cell_type": "markdown",
   "id": "0b0f32cc",
   "metadata": {},
   "source": [
    "## Semántica\n",
    "\n",
    "-   Se refiere al significado asociado a las cadenas sintácticamente\n",
    "    válidas y sin errores semánticos estáticos.\n",
    "\n",
    "-   \"Estudiar el PES es alegre\" puede tener diversos significados.\n",
    "\n",
    "-   Los lenguajes de programación están diseñados para tener solo un\n",
    "    significado.\n",
    "\n",
    "    -   Aunque en ocasiones, este puede no ser el deseado por el\n",
    "        programador.\n",
    "\n"
   ]
  },
  {
   "cell_type": "markdown",
   "id": "18716a6d",
   "metadata": {},
   "source": [
    "\n",
    "# Tipos de errores\n",
    "\n",
    "-   **de sintaxis**:\n",
    "\n",
    "    -   Muy comunes y fácilmente detectables.\n",
    "\n",
    "-   **de semántica estática**:\n",
    "\n",
    "    -   Algunos programan revisan antes de permitir la ejecución.\n",
    "\n",
    "    -   Pueden causar comportamiento impredecible.\n",
    "\n",
    "-   Sin errores semánticos pero **diferente significado al deseado**:\n",
    "\n",
    "    -   Los programas se detienen, fallan o se ejecutan para siempre.\n",
    "\n",
    "    -   La respuesta puede no ser la esperada."
   ]
  },
  {
   "cell_type": "markdown",
   "id": "91c43725",
   "metadata": {},
   "source": [
    "# ¿Python?\n",
    "\n",
    "![image](figs/common/python-ranking.jpg){width=\"90%\"}\n",
    "\n"
   ]
  },
  {
   "cell_type": "markdown",
   "id": "4710a4c2",
   "metadata": {},
   "source": [
    "## Python\n",
    "\n",
    "-   Es un lenguaje interpretado de código abierto, relativamente\n",
    "    **simple**, y excelente opción para principiantes.\n",
    "\n",
    "-   Es de propósito general:\n",
    "\n",
    "    -   Aplicaciones de escritorio y web.\n",
    "\n",
    "    -   Interacción con *hardware*, videojuegos.\n",
    "\n",
    "    -   Computación científica (*data science*, AI).\n",
    "\n",
    "-   Utilizado en la industria, academia y por muchos profesionales:\n",
    "\n",
    "    -   Google, Amazon, Dropbox, Instagram, Mr. Robot.\n"
   ]
  },
  {
   "cell_type": "markdown",
   "id": "d6ecfbb0",
   "metadata": {},
   "source": [
    "## Python es interpretado\n",
    "\n",
    "-   Los lenguajes compilados convierten el código fuente a código de\n",
    "    máquina.\n",
    "\n",
    "-   En los lenguajes interpretados, el intérprete convierte la fuente a\n",
    "    su estructura interna y ejecuta línea por línea.\n",
    "\n",
    "![image](figs/intro/python-interpretado.jpg){width=\"60%\"}\n"
   ]
  },
  {
   "cell_type": "markdown",
   "id": "8334143f",
   "metadata": {},
   "source": [
    "# Programas de Python\n",
    "\n",
    "-   Un programa es una secuencia de definiciones e instrucciones.\n",
    "\n",
    "    -   Las definiciones son evaluadas:"
   ]
  },
  {
   "cell_type": "code",
   "execution_count": 2,
   "id": "0bbaebf7",
   "metadata": {},
   "outputs": [
    {
     "data": {
      "text/plain": [
       "(3, 2)"
      ]
     },
     "execution_count": 2,
     "metadata": {},
     "output_type": "execute_result"
    }
   ],
   "source": [
    "x = 2\n",
    "y = 3\n",
    "x, y = y, x\n",
    "x, y"
   ]
  },
  {
   "cell_type": "markdown",
   "id": "c014c06e",
   "metadata": {},
   "source": [
    " -   Las instrucciones son ejecutadas una a una por el intérprete: `print(\"Hola amigo\")`."
   ]
  },
  {
   "cell_type": "code",
   "execution_count": 9,
   "id": "a8cd79fe",
   "metadata": {},
   "outputs": [
    {
     "name": "stdout",
     "output_type": "stream",
     "text": [
      "Hola amigo\n"
     ]
    }
   ],
   "source": [
    "print(\"Hola amigo\")"
   ]
  },
  {
   "cell_type": "markdown",
   "id": "58fef8e9",
   "metadata": {},
   "source": [
    "-   Las instrucciones indican al intérprete qué hacer.\n",
    "\n",
    "-   Pueden ser dadas directamente en la línea de comandos o en un\n",
    "    archivo de texto.\n",
    "\n",
    "    -   Ahora estamos utilizando un popular cuaderno Jupyter."
   ]
  },
  {
   "cell_type": "markdown",
   "id": "b21250b6",
   "metadata": {},
   "source": [
    "## Objetos\n",
    "\n",
    "-   Los programas de Python manipulan **objetos**.\n",
    "\n",
    "-   Cada objeto tiene un tipo asociado, que define lo que se puede hacer\n",
    "    con él.\n",
    "\n",
    "-   Los objetos pueden ser de tipo:\n",
    "\n",
    "    -   **escalar**: indivisibles (atómicos).\n",
    "\n",
    "    -   **no escalares**: poseen estructura interna."
   ]
  },
  {
   "cell_type": "markdown",
   "id": "ef3bb4cc",
   "metadata": {},
   "source": [
    "Objetos escalares En Python, existen 4 tipos de objetos escalares\n",
    "\n",
    "-   `int` --- representa número enteros: `2`, `3-2`.\n",
    "\n",
    "-   `float` --- representa números reales: `3.14159`\n",
    "\n",
    "-   `bool` --- representa valores booleanos: `True` y `False`.\n",
    "\n",
    "-   `NoneType` --- toma el valor especial `None`.\n",
    "\n",
    "-   Conversión de tipos con las funciones `int()`, `float()`, `bool()`.\n",
    "  \n",
    "\n",
    "> Python es *case sensitive*: no es lo mismo `True` que `true`. "
   ]
  },
  {
   "cell_type": "code",
   "execution_count": 15,
   "id": "aa2a510c",
   "metadata": {},
   "outputs": [
    {
     "name": "stdout",
     "output_type": "stream",
     "text": [
      "2.3\n"
     ]
    }
   ],
   "source": [
    "print('2.3')"
   ]
  },
  {
   "cell_type": "code",
   "execution_count": 16,
   "id": "5407e463",
   "metadata": {},
   "outputs": [
    {
     "data": {
      "text/plain": [
       "4.6"
      ]
     },
     "execution_count": 16,
     "metadata": {},
     "output_type": "execute_result"
    }
   ],
   "source": [
    "s = float('2.3')\n",
    "2*s"
   ]
  },
  {
   "cell_type": "markdown",
   "id": "3340fba9",
   "metadata": {},
   "source": [
    "Revisamos el tipo del objeto `s`"
   ]
  },
  {
   "cell_type": "code",
   "execution_count": 17,
   "id": "43cfa952",
   "metadata": {},
   "outputs": [
    {
     "data": {
      "text/plain": [
       "float"
      ]
     },
     "execution_count": 17,
     "metadata": {},
     "output_type": "execute_result"
    }
   ],
   "source": [
    "type(s)"
   ]
  },
  {
   "cell_type": "code",
   "execution_count": 18,
   "id": "882428f7",
   "metadata": {},
   "outputs": [
    {
     "data": {
      "text/plain": [
       "str"
      ]
     },
     "execution_count": 18,
     "metadata": {},
     "output_type": "execute_result"
    }
   ],
   "source": [
    "type('2.3')"
   ]
  },
  {
   "cell_type": "code",
   "execution_count": 21,
   "id": "90d09b77",
   "metadata": {},
   "outputs": [
    {
     "data": {
      "text/plain": [
       "NoneType"
      ]
     },
     "execution_count": 21,
     "metadata": {},
     "output_type": "execute_result"
    }
   ],
   "source": [
    "type(None)"
   ]
  },
  {
   "cell_type": "markdown",
   "id": "305da5f2",
   "metadata": {},
   "source": [
    "## Impresión en consola\n",
    "\n",
    "-   Para mostrar salida de un código al usuario, utilizamos el comando\n",
    "    `print`. Utilizado en archivos de código o *scripts*."
   ]
  },
  {
   "cell_type": "code",
   "execution_count": 22,
   "id": "e4ed9e5e",
   "metadata": {},
   "outputs": [
    {
     "name": "stdout",
     "output_type": "stream",
     "text": [
      "Hola amigos\n"
     ]
    }
   ],
   "source": [
    "print(\"Hola amigos\")"
   ]
  },
  {
   "cell_type": "code",
   "execution_count": 25,
   "id": "229338a4",
   "metadata": {},
   "outputs": [
    {
     "data": {
      "text/plain": [
       "4.6"
      ]
     },
     "execution_count": 25,
     "metadata": {},
     "output_type": "execute_result"
    }
   ],
   "source": [
    "2*s"
   ]
  },
  {
   "cell_type": "code",
   "execution_count": 28,
   "id": "324335d2",
   "metadata": {},
   "outputs": [
    {
     "name": "stdout",
     "output_type": "stream",
     "text": [
      "2.3\n"
     ]
    },
    {
     "data": {
      "text/plain": [
       "NoneType"
      ]
     },
     "execution_count": 28,
     "metadata": {},
     "output_type": "execute_result"
    }
   ],
   "source": [
    "type(print(s))"
   ]
  },
  {
   "cell_type": "markdown",
   "id": "be7e1fc1",
   "metadata": {},
   "source": [
    "-   Cuando estamos en la consola o en un cuaderno Jupyter, basta con escribir el nombre de la variable o expresión para mostrar un resultado."
   ]
  },
  {
   "cell_type": "code",
   "execution_count": 29,
   "id": "ecb18cb7",
   "metadata": {},
   "outputs": [
    {
     "data": {
      "text/plain": [
       "5"
      ]
     },
     "execution_count": 29,
     "metadata": {},
     "output_type": "execute_result"
    }
   ],
   "source": [
    "a=2\n",
    "b=3\n",
    "\n",
    "# Mostrar el resultado\n",
    "a+b"
   ]
  },
  {
   "cell_type": "code",
   "execution_count": null,
   "id": "ebb73b35",
   "metadata": {},
   "outputs": [
    {
     "name": "stdout",
     "output_type": "stream",
     "text": [
      "5\n"
     ]
    }
   ],
   "source": [
    "# Imprimir el resultado\n",
    "print(a+b)"
   ]
  },
  {
   "cell_type": "markdown",
   "id": "e4e5ddb7",
   "metadata": {},
   "source": [
    "## Expresiones\n",
    "\n",
    "-   Se **combinan objetos y operadores** para formar expresiones.\n",
    "\n",
    "-   Una expresión tiene un **valor**, el cual tiene un tipo.\n",
    "\n",
    "-   Sintaxis: `<objeto> <operador> <objeto>`\n"
   ]
  },
  {
   "cell_type": "code",
   "execution_count": 37,
   "id": "50db8b29",
   "metadata": {},
   "outputs": [
    {
     "data": {
      "text/plain": [
       "5.0"
      ]
     },
     "execution_count": 37,
     "metadata": {},
     "output_type": "execute_result"
    }
   ],
   "source": [
    "a=2.\n",
    "b=3.\n",
    "a+b"
   ]
  },
  {
   "cell_type": "code",
   "execution_count": 38,
   "id": "3b8e0b60",
   "metadata": {},
   "outputs": [
    {
     "data": {
      "text/plain": [
       "float"
      ]
     },
     "execution_count": 38,
     "metadata": {},
     "output_type": "execute_result"
    }
   ],
   "source": [
    "type(a+b)"
   ]
  },
  {
   "cell_type": "code",
   "execution_count": 39,
   "id": "537ecc16",
   "metadata": {},
   "outputs": [
    {
     "data": {
      "text/plain": [
       "5"
      ]
     },
     "execution_count": 39,
     "metadata": {},
     "output_type": "execute_result"
    }
   ],
   "source": [
    "int(a+b)"
   ]
  },
  {
   "cell_type": "markdown",
   "id": "7c7eacd7",
   "metadata": {},
   "source": [
    "## Operadores\n",
    "\n",
    "-   Aritméticos: `+ - * / // % **`\n",
    "\n",
    "-   Comparación: `== < > <= >=`\n",
    "\n",
    "-   Lógicos: `and`, `or` y `not`\n",
    "\n",
    "-   Asignación (une nombre a valor): `=`\n",
    "\n",
    "Considerar la precedencia de los operadores:\n",
    "\n",
    "-   Paréntesis\n",
    "\n",
    "-   `**`\n",
    "\n",
    "-   `*`\n",
    "\n",
    "-   `/`\n",
    "\n",
    "-   `+` y `-`"
   ]
  },
  {
   "cell_type": "code",
   "execution_count": 42,
   "id": "a158a3be",
   "metadata": {},
   "outputs": [
    {
     "data": {
      "text/plain": [
       "1"
      ]
     },
     "execution_count": 42,
     "metadata": {},
     "output_type": "execute_result"
    }
   ],
   "source": [
    "5 // 3"
   ]
  },
  {
   "cell_type": "code",
   "execution_count": 43,
   "id": "aedc72f4",
   "metadata": {},
   "outputs": [
    {
     "data": {
      "text/plain": [
       "2"
      ]
     },
     "execution_count": 43,
     "metadata": {},
     "output_type": "execute_result"
    }
   ],
   "source": [
    "5 % 3"
   ]
  },
  {
   "cell_type": "code",
   "execution_count": 44,
   "id": "8b327002",
   "metadata": {},
   "outputs": [
    {
     "data": {
      "text/plain": [
       "2.0"
      ]
     },
     "execution_count": 44,
     "metadata": {},
     "output_type": "execute_result"
    }
   ],
   "source": [
    "5.3 // 2"
   ]
  },
  {
   "cell_type": "code",
   "execution_count": 45,
   "id": "fffa041d",
   "metadata": {},
   "outputs": [
    {
     "data": {
      "text/plain": [
       "25"
      ]
     },
     "execution_count": 45,
     "metadata": {},
     "output_type": "execute_result"
    }
   ],
   "source": [
    "5**2"
   ]
  },
  {
   "cell_type": "code",
   "execution_count": 46,
   "id": "03941873",
   "metadata": {},
   "outputs": [
    {
     "data": {
      "text/plain": [
       "2.23606797749979"
      ]
     },
     "execution_count": 46,
     "metadata": {},
     "output_type": "execute_result"
    }
   ],
   "source": [
    "5**(1/2)"
   ]
  },
  {
   "cell_type": "code",
   "execution_count": 47,
   "id": "5670611f",
   "metadata": {},
   "outputs": [
    {
     "data": {
      "text/plain": [
       "2.23606797749979"
      ]
     },
     "execution_count": 47,
     "metadata": {},
     "output_type": "execute_result"
    }
   ],
   "source": [
    "import math\n",
    "math.sqrt(5)"
   ]
  },
  {
   "cell_type": "code",
   "execution_count": 48,
   "id": "447c575a",
   "metadata": {},
   "outputs": [
    {
     "data": {
      "text/plain": [
       "False"
      ]
     },
     "execution_count": 48,
     "metadata": {},
     "output_type": "execute_result"
    }
   ],
   "source": [
    "5 == 3"
   ]
  },
  {
   "cell_type": "code",
   "execution_count": 49,
   "id": "cbf02acd",
   "metadata": {},
   "outputs": [
    {
     "data": {
      "text/plain": [
       "True"
      ]
     },
     "execution_count": 49,
     "metadata": {},
     "output_type": "execute_result"
    }
   ],
   "source": [
    "2.0 == 2.0"
   ]
  },
  {
   "cell_type": "code",
   "execution_count": 52,
   "id": "e1b4908d",
   "metadata": {},
   "outputs": [
    {
     "data": {
      "text/plain": [
       "False"
      ]
     },
     "execution_count": 52,
     "metadata": {},
     "output_type": "execute_result"
    }
   ],
   "source": [
    "a = 0.1\n",
    "b = (1 - 0.9)\n",
    "a == b"
   ]
  },
  {
   "cell_type": "code",
   "execution_count": 55,
   "id": "bb6c2c01",
   "metadata": {},
   "outputs": [
    {
     "data": {
      "text/plain": [
       "2.7755575615628914e-17"
      ]
     },
     "execution_count": 55,
     "metadata": {},
     "output_type": "execute_result"
    }
   ],
   "source": [
    "a-b"
   ]
  },
  {
   "cell_type": "code",
   "execution_count": 54,
   "id": "658f5445",
   "metadata": {},
   "outputs": [
    {
     "data": {
      "text/plain": [
       "True"
      ]
     },
     "execution_count": 54,
     "metadata": {},
     "output_type": "execute_result"
    }
   ],
   "source": [
    "abs(a-b) <= 1e-8"
   ]
  },
  {
   "cell_type": "code",
   "execution_count": 82,
   "id": "9e8de549",
   "metadata": {},
   "outputs": [
    {
     "data": {
      "text/plain": [
       "False"
      ]
     },
     "execution_count": 82,
     "metadata": {},
     "output_type": "execute_result"
    }
   ],
   "source": [
    "a = 4\n",
    "\n",
    "(a % 2) == 1"
   ]
  },
  {
   "cell_type": "markdown",
   "id": "6a36fec3",
   "metadata": {},
   "source": [
    "## Expresiones más abstractas\n",
    "\n",
    "-   Nombres de variables $\\Rightarrow$ **reutilizar** nombres y valores.\n"
   ]
  },
  {
   "cell_type": "code",
   "execution_count": 77,
   "id": "02e3fd2e",
   "metadata": {},
   "outputs": [
    {
     "data": {
      "text/plain": [
       "15.205295600000001"
      ]
     },
     "execution_count": 77,
     "metadata": {},
     "output_type": "execute_result"
    }
   ],
   "source": [
    "pi = 3.14159\n",
    "radius = 2.2\n",
    "area = pi*(radius**2)\n",
    "area"
   ]
  },
  {
   "cell_type": "markdown",
   "id": "3a9c1846",
   "metadata": {},
   "source": [
    "-   Se vale referir a la misma variable:\n"
   ]
  },
  {
   "cell_type": "code",
   "execution_count": 75,
   "id": "7272ad18",
   "metadata": {},
   "outputs": [],
   "source": [
    "radius = radius + 1"
   ]
  },
  {
   "cell_type": "markdown",
   "id": "f233fbda",
   "metadata": {},
   "source": [
    "-   El valor de `area` no cambia hasta computarla nuevamente."
   ]
  }
 ],
 "metadata": {
  "kernelspec": {
   "display_name": "base",
   "language": "python",
   "name": "python3"
  },
  "language_info": {
   "codemirror_mode": {
    "name": "ipython",
    "version": 3
   },
   "file_extension": ".py",
   "mimetype": "text/x-python",
   "name": "python",
   "nbconvert_exporter": "python",
   "pygments_lexer": "ipython3",
   "version": "3.13.5"
  }
 },
 "nbformat": 4,
 "nbformat_minor": 5
}
