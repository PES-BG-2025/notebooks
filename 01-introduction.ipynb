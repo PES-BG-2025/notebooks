{
 "cells": [
  {
   "cell_type": "markdown",
   "id": "bec33ea4",
   "metadata": {},
   "source": [
    "# Introducción a las ciencias de la computación *y programación en Python*\n",
    "\n",
    "![Banco de Guatemala](figs/common/logo_banguat.png){style=\"width: 500px;\"}\n",
    "\n",
    "*PES 2025-2026*\n",
    "\n"
   ]
  },
  {
   "cell_type": "markdown",
   "id": "0dbca09e",
   "metadata": {},
   "source": [
    "## Introducción al curso\n",
    "\n",
    "> \"*Whether you want to uncover the secrets of the universe, or you just want to pursue a career in the 21st century, basic computer programming is an essential skill to learn.*\" **Stephen Hawking**\n",
    "\n",
    "- Discutiremos lo que aprenderemos en este curso y cómo lo vamos a evaluar.\n",
    "\n",
    "- Discutiremos algunos conceptos importantes en ciencias de la computación.\n",
    "\n",
    "- Hablaremos del lenguaje de programación Python y por qué lo vamos a utilizar."
   ]
  },
  {
   "cell_type": "markdown",
   "id": "0aed8a6f",
   "metadata": {},
   "source": [
    "## Introducción\n",
    "\n",
    "::: popblock\n",
    "## Objetivo del curso \n",
    "Que los participantes aprendan sobre la teoría\n",
    "básica de las ciencias de la computación, acompañada de su\n",
    "implementación en un lenguaje de programación de alto nivel.\n",
    ":::\n",
    "\n",
    "![image](figs/common/python-logo-inkscape.svg)\n"
   ]
  },
  {
   "cell_type": "markdown",
   "id": "e545f322",
   "metadata": {},
   "source": [
    "## Metodología\n",
    "\n",
    "-   Presentaciones y ejercicios en clase basados en el curso *Introduction to Computer Science and Programming in Python* del Massachusetts Institute of Technology (MIT).  \n",
    "    - [Curso en línea en edX](https://www.edx.org/learn/computer-science/massachusetts-institute-of-technology-introduction-to-computer-science-and-programming-using-python). \n",
    "\n",
    "- Cuadernos Jupyter para cada tema en repositorio de materiales: \n",
    "  - https://github.com/PES-BG-2025/notebooks\n",
    "\n",
    "- Libro de texto auxiliar: *Think Python* de Allen Downey.\n",
    "  - https://allendowney.github.io/ThinkPython/\n",
    "\n",
    "![image](figs/common/book_think_python_3e.jpg){width=\"30%\"}\n",
    "\n",
    "- Proyecto individual: Este proyecto estará orientado a aplicar los conceptos más básicos de programación: estructuras de datos y de control. \n",
    "\n",
    "- Examen corto: Evaluar la capacidad de resolver un problema de programación con el conocimiento y las herramientas disponibles en línea. \n",
    "\n",
    "- Proyecto grupal: Orientado a desarrollar una aplicación más práctica utilizando módulos no vistos en clase para desarrollar la solución. \n",
    "\n",
    " | **Actividad**       | **Punteo** |\n",
    " |---------------------|------------|\n",
    " | Tareas y ejercicios | 40%        |\n",
    " | Proyecto personal   | 25%        |\n",
    " | Examen corto        | 10%        |\n",
    " | Proyecto grupal     | 25%        |"
   ]
  },
  {
   "cell_type": "markdown",
   "id": "fd69da0c",
   "metadata": {},
   "source": [
    "## Recomendaciones\n",
    "\n",
    "-   Se debe buscar aprender la **lógica de programación** y no las\n",
    "    recetas vistas en clase.\n",
    "\n",
    "    -   Lo importante es aprender a escribir programas para resolver\n",
    "        problemas.\n",
    "\n",
    "    -   Esto te permite aprender a programar en otro lenguaje más\n",
    "        rápidamente.\n",
    "\n",
    "-   ¿Eres totalmente nuevo en programación?\n",
    "\n",
    "    -   **PRACTICA, PRACTICA y ¡PRACTICA!**\n",
    "\n",
    "    -   No temas en probar instrucciones de Python, ¡la computadora no\n",
    "        va a explotar!\n",
    "\n",
    "    -   **¡TEN PACIENCIA!**\n",
    "\n",
    "-   Puedes consultar un sinfín de cursos, blogs, tutoriales y\n",
    "    documentación en Internet.\n"
   ]
  },
  {
   "cell_type": "markdown",
   "id": "b00359fc",
   "metadata": {},
   "source": [
    "## Cronograma\n",
    "\n",
    "- Discusión del cronograma"
   ]
  },
  {
   "cell_type": "markdown",
   "id": "72aa7ac6",
   "metadata": {},
   "source": [
    "## Agenda\n",
    "-   Introducción a la computación.\n",
    "\n",
    "-   Introducción a Python."
   ]
  },
  {
   "cell_type": "markdown",
   "id": "6fff1f11",
   "metadata": {},
   "source": [
    "## ¿Qué hace una computadora?\n",
    "\n",
    "-   Fundamentalmente:\n",
    "\n",
    "    -   Realiza cálculos (hasta billones por segundo).\n",
    "\n",
    "    -   Guarda los resultados (cientos de GBs).\n",
    "\n",
    "-   ¿Qué tipo de cálculos?\n",
    "\n",
    "    -   Muy simples: operaciones aritméticas y lógicas.\n",
    "\n",
    "    -   Los que el programador **define**."
   ]
  },
  {
   "cell_type": "markdown",
   "id": "b7e5a136",
   "metadata": {},
   "source": [
    "# Tipos de conocimiento\n",
    "\n",
    "-   **Declarativo**: afirmación o enunciado a partir de un hecho.\n",
    "\n",
    "    ::: blurb\n",
    "\n",
    "    La raíz cuadrada de $x$ es un número $y$ tal que $y\\times y = x$.\n",
    "\n",
    "    :::\n",
    "\n",
    "-   **Imperativo**: una receta de cómo hacerlo.\n",
    "\n",
    "    ::: blurb\n",
    "\n",
    "    -   Empiece con una deducción $g$.\n",
    "\n",
    "    -   Si $g\\times g$ está cerca de $x$, deténgase y $g$ es la\n",
    "        respuesta.\n",
    "\n",
    "    -   De lo contrario, su nueva deducción es el promedio de $g$ y\n",
    "        $x/g$.\n",
    "\n",
    "    -   Repita el proceso hasta estar cerca de $x$.\n",
    "  \n",
    "  \n",
    "    :::\n",
    "\n",
    "\n",
    "# Algoritmos\n",
    "\n",
    "-   Secuencias de pasos simples (*atómicos*).\n",
    "\n",
    "-   Hay un flujo de control que especifica cuándo se ejecuta cada paso.\n",
    "\n",
    "-   Existe una forma de determinar cuando parar.\n",
    "\n",
    "\n",
    "# Tipos de computadoras\n",
    "\n",
    "-   ¿Qué exactamente es una computadora?\n",
    "\n",
    "-   Las computadoras son máquinas que capturan la receta.\n",
    "\n",
    "-   de programas fijos (e.g. calculadora).\n",
    "\n",
    "-   de programas almacenados: guardan y ejecutan instrucciones\n",
    "    almacenadas en memoria.\n",
    "\n",
    "\n",
    "\n",
    "# Arquitectura básica\n",
    "![image](figs/intro/computer-architecture.png){width=\"90%\"}\n",
    "\n",
    "\n",
    "\n",
    "Programas almacenados\n",
    "\n",
    "-   Consisten en una secuencia de instrucciones almacenadas en la\n",
    "    computadora.\n",
    "\n",
    "-   Construidas a partir de instrucciones primitivas:\n",
    "\n",
    "    -   Aritméticas y lógicas.\n",
    "\n",
    "    -   Condiciones simples.\n",
    "\n",
    "    -   Operaciones de memoria.\n",
    "\n",
    "-   El **intérprete** se encarga de ejecutar las instrucciones en orden.\n",
    "\n",
    "-   Utiliza pruebas para cambiar el flujo de control en la secuencia.\n",
    "\n",
    "-   Se detiene cuando termina la ejecución.\n"
   ]
  },
  {
   "cell_type": "markdown",
   "id": "909dda4a",
   "metadata": {},
   "source": [
    "# Máquina universal de Turing\n",
    "\n",
    "::: cpage\n",
    "\"(\\...) The Church-Turing thesis leads directly to the notion of Turing\n",
    "completeness. A programming language is said to be Turing complete if it\n",
    "can be used to simulate a universal Turing Machine. All modern\n",
    "programming languages are Turing complete. As a consequence, anything\n",
    "that can be programmed in one programming language (e.g., Python) can be\n",
    "programmed in any other programming language (e.g., Java). Of course,\n",
    "some things may be easier to program in a particular language, but all\n",
    "languages are fundamentally equal with respect to computational power.\"\n",
    ":::\n"
   ]
  },
  {
   "cell_type": "markdown",
   "id": "7c994960",
   "metadata": {},
   "source": [
    "\n",
    "\n",
    "# Primitivas básicas\n",
    "\n",
    "-   Turing mostró que se puede computar **cualquier cosa** con algunas\n",
    "    primitivas básicas.\n",
    "\n",
    "-   Los lenguajes de programación modernos tienen primitivas más\n",
    "    convenientes.\n",
    "\n",
    "    -   Análogamente a un lenguaje natural, tienen palabras, sintaxis,\n",
    "        semántica y significado.\n"
   ]
  },
  {
   "cell_type": "markdown",
   "id": "7afeec7d",
   "metadata": {},
   "source": [
    "\n",
    "# Construyendo expresiones\n",
    "\n",
    "-   Las expresiones son combinaciones (complejas) legales de primitivas\n",
    "    en un lenguaje de programación (LP).\n",
    "\n",
    "-   Las expresiones y cómputos tienen valores y significados en el\n",
    "    lenguaje.\n",
    "\n",
    "-   Construcciones primitivas:\n",
    "\n",
    "    -   Español: palabras.\n",
    "\n",
    "    -   LP: números, cadenas de texto, operadores.\n"
   ]
  },
  {
   "cell_type": "markdown",
   "id": "0741cf5f",
   "metadata": {},
   "source": [
    "# Sintaxis\n",
    "\n",
    "-   Se refiere a las reglas que especifican secuencias correctas de\n",
    "    símbolos que pueden ser usadas para formar expresiones en el\n",
    "    lenguaje.\n",
    "\n",
    "-   Por ejemplo: \"Niño gato perro\" no es sintácticamente válida en\n",
    "    español.\n",
    "\n",
    "-   En Python, una secuencia correcta es `1.5+1.6`, pero no `1.5 1.6`."
   ]
  },
  {
   "cell_type": "markdown",
   "id": "00c9f733",
   "metadata": {},
   "source": [
    "\n",
    "# Semántica estática\n",
    "\n",
    "-   Se refiere a que las cadenas sintácticamente válidas tengan\n",
    "    significado.\n",
    "\n",
    "-   \"Yo estamos hambriento\" no es semánticamente válida.\n",
    "\n",
    "-   En Python:\n"
   ]
  },
  {
   "cell_type": "code",
   "execution_count": null,
   "id": "42ca44b5",
   "metadata": {},
   "outputs": [
    {
     "data": {
      "text/plain": [
       "16.0"
      ]
     },
     "execution_count": 1,
     "metadata": {},
     "output_type": "execute_result"
    }
   ],
   "source": [
    "3.2*5 # es válida."
   ]
  },
  {
   "cell_type": "code",
   "execution_count": null,
   "id": "d4dc9de0",
   "metadata": {},
   "outputs": [],
   "source": [
    "3+\"hola\" # no es válida."
   ]
  },
  {
   "cell_type": "markdown",
   "id": "0b0f32cc",
   "metadata": {},
   "source": [
    "\n",
    "# Semántica\n",
    "\n",
    "-   Se refiere al significado asociado a las cadenas sintácticamente\n",
    "    válidas y sin errores semánticos estáticos.\n",
    "\n",
    "-   \"Estudiar el PES es alegre\" puede tener diversos significados.\n",
    "\n",
    "-   Los lenguajes de programación están diseñados para tener solo un\n",
    "    significado.\n",
    "\n",
    "    -   Aunque en ocasiones, este puede no ser el deseado por el\n",
    "        programador.\n",
    "\n",
    "\n",
    "# Tipos de errores\n",
    "\n",
    "-   **de sintaxis**:\n",
    "\n",
    "    -   Muy comunes y fácilmente detectables.\n",
    "\n",
    "-   **de semántica estática**:\n",
    "\n",
    "    -   Algunos programan revisan antes de permitir la ejecución.\n",
    "\n",
    "    -   Pueden causar comportamiento impredecible.\n",
    "\n",
    "-   Sin errores semánticos pero **diferente significado al deseado**:\n",
    "\n",
    "    -   Los programas se detienen, fallan o se ejecutan para siempre.\n",
    "\n",
    "    -   La respuesta puede no ser la esperada."
   ]
  },
  {
   "cell_type": "markdown",
   "id": "91c43725",
   "metadata": {},
   "source": [
    "\n",
    "# ¿Python?\n",
    "\n",
    "\n",
    "\n",
    "![image](figs/common/python-ranking.jpg){width=\"90%\"}\n",
    "\n",
    "\n",
    "\n",
    "\n",
    "\n",
    "-   Es un lenguaje interpretado de código abierto, relativamente\n",
    "    **simple**, y excelente opción para principiantes.\n",
    "\n",
    "-   Es de propósito general:\n",
    "\n",
    "    -   Aplicaciones de escritorio y web.\n",
    "\n",
    "    -   Interacción con *hardware*, videojuegos.\n",
    "\n",
    "    -   Computación científica (*data science*, AI).\n",
    "\n",
    "-   Utilizado en la industria, academia y por muchos profesionales:\n",
    "\n",
    "    -   Google, Amazon, Dropbox, Instagram, Mr. Robot.\n",
    "\n",
    "\n",
    "# Python es interpretado\n",
    "\n",
    "-   Los lenguajes compilados convierten el código fuente a código de\n",
    "    máquina.\n",
    "\n",
    "-   En los lenguajes interpretados, el intérprete convierte la fuente a\n",
    "    su estructura interna y ejecuta línea por línea.\n",
    "\n",
    "![image](figs/intro/python-interpretado.jpg){width=\"60%\"}\n",
    "\n",
    "\n",
    "\n"
   ]
  },
  {
   "cell_type": "markdown",
   "id": "8334143f",
   "metadata": {},
   "source": [
    "# Programas de Python\n",
    "\n",
    "-   Un programa es una secuencia de definiciones e instrucciones.\n",
    "\n",
    "    -   Las definiciones son evaluadas:"
   ]
  },
  {
   "cell_type": "code",
   "execution_count": 2,
   "id": "0bbaebf7",
   "metadata": {},
   "outputs": [
    {
     "ename": "NameError",
     "evalue": "name 'y' is not defined",
     "output_type": "error",
     "traceback": [
      "\u001b[0;31m---------------------------------------------------------------------------\u001b[0m",
      "\u001b[0;31mNameError\u001b[0m                                 Traceback (most recent call last)",
      "Input \u001b[0;32mIn [2]\u001b[0m, in \u001b[0;36m<module>\u001b[0;34m\u001b[0m\n\u001b[1;32m      1\u001b[0m a \u001b[38;5;241m=\u001b[39m \u001b[38;5;241m2\u001b[39m\n\u001b[0;32m----> 3\u001b[0m x,y \u001b[38;5;241m=\u001b[39m y, x\n",
      "\u001b[0;31mNameError\u001b[0m: name 'y' is not defined"
     ]
    }
   ],
   "source": [
    "a = 2\n",
    "\n",
    "x,y = y, x\n"
   ]
  },
  {
   "cell_type": "markdown",
   "id": "c014c06e",
   "metadata": {},
   "source": [
    " -   Las instrucciones son ejecutadas por el intérprete:\n",
    "        `print(\"Hola amigo\")`."
   ]
  },
  {
   "cell_type": "code",
   "execution_count": null,
   "id": "a8cd79fe",
   "metadata": {},
   "outputs": [
    {
     "name": "stdout",
     "output_type": "stream",
     "text": [
      "Hola amigo\n"
     ]
    }
   ],
   "source": [
    "print(\"Hola amigo\")"
   ]
  },
  {
   "cell_type": "markdown",
   "id": "58fef8e9",
   "metadata": {},
   "source": [
    "-   Las instrucciones indican al intérprete qué hacer.\n",
    "\n",
    "-   Pueden ser dadas directamente en la línea de comandos o en un\n",
    "    archivo de texto.\n",
    "\n",
    "    -   Jupyter notebooks."
   ]
  },
  {
   "cell_type": "markdown",
   "id": "b21250b6",
   "metadata": {},
   "source": [
    "# Objetos\n",
    "\n",
    "-   Los programas de Python manipulan **objetos**.\n",
    "\n",
    "-   Cada objeto tiene un tipo asociado, que define lo que se puede hacer\n",
    "    con él.\n",
    "\n",
    "-   Los objetos pueden ser de tipo:\n",
    "\n",
    "    -   **escalar**: indivisibles (atómicos).\n",
    "\n",
    "    -   **no escalares**: poseen estructura interna."
   ]
  },
  {
   "cell_type": "markdown",
   "id": "ef3bb4cc",
   "metadata": {},
   "source": [
    "Objetos escalares En Python, existen 4 tipos de objetos escalares\n",
    "\n",
    "-   `int` --- representa número enteros: `2`, `3-2`.\n",
    "\n",
    "-   `float` --- representa números reales: `3.14159`\n",
    "\n",
    "-   `bool` --- representa valores booleanos: `True` y `False`[^1].\n",
    "\n",
    "-   `NoneType` --- toma el valor especial `None`.\n",
    "\n",
    "-   Conversión de tipos con las funciones `int()`, `float()`, `bool()`.\n",
    "  \n",
    "\n",
    "[^1]: Python es *case sensitive*."
   ]
  },
  {
   "cell_type": "markdown",
   "id": "305da5f2",
   "metadata": {},
   "source": [
    "# Impresión en consola\n",
    "\n",
    "-   Para mostrar salida de un código al usuario, utilizamos el comando\n",
    "    `print`. Utilizado en archivos de código o *scripts*."
   ]
  },
  {
   "cell_type": "code",
   "execution_count": null,
   "id": "e4ed9e5e",
   "metadata": {},
   "outputs": [],
   "source": [
    "print(\"Hola amigos\")"
   ]
  },
  {
   "cell_type": "markdown",
   "id": "be7e1fc1",
   "metadata": {},
   "source": [
    "-   Cuando estamos en la consola, basta con escribir el nombre de la\n",
    "    variable o expresión para mostrar un resultado."
   ]
  },
  {
   "cell_type": "code",
   "execution_count": 3,
   "id": "ecb18cb7",
   "metadata": {},
   "outputs": [
    {
     "data": {
      "text/plain": [
       "5"
      ]
     },
     "execution_count": 3,
     "metadata": {},
     "output_type": "execute_result"
    }
   ],
   "source": [
    "\n",
    "a=2\n",
    "\n",
    "b=3\n",
    "\n",
    "# Imprimir el resultado\n",
    "a+b\n",
    "    "
   ]
  },
  {
   "cell_type": "markdown",
   "id": "e4e5ddb7",
   "metadata": {},
   "source": [
    "# Expresiones\n",
    "\n",
    "-   Se **combinan objetos y operadores** para formar expresiones.\n",
    "\n",
    "-   Una expresión tiene un **valor**, el cual tiene un tipo.\n",
    "\n",
    "-   Sintaxis: `<objeto> <operador> <objeto>`\n",
    "\n",
    "# Operadores\n",
    "\n",
    "-   Aritméticos: `+ - * / // \\% **`\n",
    "\n",
    "-   Comparación: `== < > <= >=`\n",
    "\n",
    "-   Lógicos: `and`, `or` y `not`\n",
    "\n",
    "-   Asignación (une nombre a valor): `=`\n",
    "\n",
    "Considerar la precedencia de los operadores:\n",
    "\n",
    "-   Paréntesis\n",
    "\n",
    "-   `**`\n",
    "\n",
    "-   `*`\n",
    "\n",
    "-   `/`\n",
    "\n",
    "-   `+` y `-`"
   ]
  },
  {
   "cell_type": "markdown",
   "id": "6a36fec3",
   "metadata": {},
   "source": [
    "# Expresiones más abstractas\n",
    "\n",
    "-   Nombres de variables $\\Rightarrow$ **reutilizar** nombres y valores.\n"
   ]
  },
  {
   "cell_type": "code",
   "execution_count": null,
   "id": "02e3fd2e",
   "metadata": {},
   "outputs": [],
   "source": [
    "\n",
    "pi = 3.14159\n",
    "radius = 2.2\n",
    "area = pi*(radius**2)"
   ]
  },
  {
   "cell_type": "markdown",
   "id": "3a9c1846",
   "metadata": {},
   "source": [
    "-   Se vale referir a la misma variable:\n"
   ]
  },
  {
   "cell_type": "code",
   "execution_count": null,
   "id": "7272ad18",
   "metadata": {},
   "outputs": [],
   "source": [
    "radius = radius + 1"
   ]
  },
  {
   "cell_type": "markdown",
   "id": "f233fbda",
   "metadata": {},
   "source": [
    "-   El valor de `area` no cambia hasta computarla nuevamente."
   ]
  }
 ],
 "metadata": {
  "kernelspec": {
   "display_name": "base",
   "language": "python",
   "name": "python3"
  },
  "language_info": {
   "codemirror_mode": {
    "name": "ipython",
    "version": 3
   },
   "file_extension": ".py",
   "mimetype": "text/x-python",
   "name": "python",
   "nbconvert_exporter": "python",
   "pygments_lexer": "ipython3",
   "version": "3.13.5"
  }
 },
 "nbformat": 4,
 "nbformat_minor": 5
}
