{
 "cells": [
  {
   "cell_type": "markdown",
   "id": "0a2ba613",
   "metadata": {},
   "source": [
    "# Introducción a las ciencias de la computación *y programación en Python*\n",
    "\n",
    "*Banco de Guatemala*  \n",
    "*PES 2025-2026*  \n",
    "*Programación I*  \n",
    "*Septiembre de 2025*  "
   ]
  },
  {
   "cell_type": "markdown",
   "id": "69dadb8b",
   "metadata": {},
   "source": [
    "## Abstract\n",
    "\n",
    "> \"**Commenting your code is like cleaning your bathroom — you never want to do it, but it really does create a more pleasant experience for you and your guests.**\" *Ryan Campbell*\n",
    "    \n",
    "- Veremos conceptos básicos y ejemplos del paradigma de programación orientada a objetos."
   ]
  },
  {
   "cell_type": "markdown",
   "id": "c933952c",
   "metadata": {},
   "source": [
    "# Programación orientada a objetos (OOP)\n"
   ]
  },
  {
   "cell_type": "markdown",
   "id": "de8e5f33",
   "metadata": {},
   "source": [
    "## Objetos\n",
    "-   Como vimos antes, Python representa información de diferentes formas:"
   ]
  },
  {
   "cell_type": "code",
   "execution_count": null,
   "id": "968d54f9",
   "metadata": {},
   "outputs": [],
   "source": [
    "1234                                    # int\n",
    "3.14159                                 # float\n",
    "\"Hello\"                                 # str\n",
    "[2, 4, 6, 8, 10]                        # list\n",
    "{\"GT\": \"Guatemala\", \"HN\":\"Honduras\"}    # dict"
   ]
  },
  {
   "cell_type": "markdown",
   "id": "0c8b3d04",
   "metadata": {},
   "source": [
    "-   Cada uno es un **objeto**, el cual tiene:\n",
    "\n",
    "    -   Un tipo.\n",
    "\n",
    "    -   Una representación interna (primitiva o compuesta).\n",
    "\n",
    "    -   Un conjunto de procedimientos de interacción con el objeto.\n",
    "\n",
    "-   Un objeto es una **instancia** de un tipo:\n",
    "\n",
    "    -   `1234` es una instancia de un entero : `int`.\n",
    "\n",
    "    -   `\"hello\"` es una instancia de un *string*: `str`."
   ]
  },
  {
   "cell_type": "markdown",
   "id": "c9fd156c",
   "metadata": {},
   "source": [
    "## Programación orientada a objetos\n",
    "\n",
    "- En Python, **¡TODO ES UN OBJETO!**\n",
    "\n",
    "- Bajo el esquema de OOP, podemos: \n",
    "\n",
    "    - Podemos **crear nuevos objetos** de algún tipo.\n",
    "\n",
    "    - Podemos **manipular objetos**.\n",
    "\n",
    "    - Podemos **destruir objetos**.\n",
    "        -   Utilizando `del` o \"dejándolos\" a un lado[^1].\n",
    "\n",
    "[^1]: Python utiliza un sistema de recolección de memoria para objetos destruidos o inaccesibles, llamado \"recolección de basura\".\n"
   ]
  },
  {
   "cell_type": "markdown",
   "id": "c078153d",
   "metadata": {},
   "source": [
    "## ¿Qué son los objetos?\n",
    "\n",
    "-   Representan una **abstracción de datos** que captura:\n",
    "\n",
    "-   Una **representación interna**:\n",
    "\n",
    "    -   A través de *atributos*.\n",
    "\n",
    "-   Una **interfaz** para interactuar con el objeto:\n",
    "\n",
    "    -   A través de *métodos* (alias procedimientos/funciones)\n",
    "\n",
    "    -   Que definen el comportamiento, pero ocultan detalles de\n",
    "        implementación."
   ]
  },
  {
   "cell_type": "markdown",
   "id": "4e323fe3",
   "metadata": {},
   "source": [
    "## Ventajas de la OOP\n",
    "\n",
    "-   Permiten **empaquetar** datos y procedimientos para trabajar sobre estos con interfaces bien definidas.\n",
    "\n",
    "-   Desarrollo al estilo \"**divide y conquistarás**\"\n",
    "\n",
    "    -   Implementación y pruebas sobre cada clase separada.\n",
    "\n",
    "    -   Incrementan la modularidad y reducen la complejidad.\n",
    "\n",
    "-   Permiten **reutilizar** el código fácilmente.\n",
    "\n",
    "    -   Muchos módulos definen nuevas clases.\n",
    "\n",
    "    -   Cada clase tiene un ambiente separado (no hay problemas de nombres de funciones).\n",
    "\n",
    "-   La *herencia* permite redefinir o extender el comportamiento de una clase padre."
   ]
  },
  {
   "cell_type": "markdown",
   "id": "7b7758be",
   "metadata": {},
   "source": [
    "## Definición vs instancia\n",
    "\n",
    "-   Existe una diferencia entre **crear una clase** e **instanciar una clase**.\n",
    "\n",
    "-   **Crear** una clase involucra\n",
    "\n",
    "    -   Definir el nombre de la clase.\n",
    "\n",
    "    -   Definir los atributos.\n",
    "\n",
    "    -   Por ejemplo: *alguien definió la clase `list`, sus atributos y métodos*.\n",
    "\n",
    "-   **Utilizar** la clase involucra:\n",
    "\n",
    "    -   Crear una nueva instancia del objeto.\n",
    "\n",
    "    -   Realizar operaciones con la instancia.\n",
    "\n",
    "    -   Por ejemplo: `L=[1,2]` y `len(L)`."
   ]
  },
  {
   "cell_type": "markdown",
   "id": "8360d561",
   "metadata": {},
   "source": [
    "Esta es una clase:"
   ]
  },
  {
   "cell_type": "code",
   "execution_count": null,
   "id": "00254904",
   "metadata": {},
   "outputs": [],
   "source": [
    "from collections import Counter \n",
    "type(Counter)"
   ]
  },
  {
   "cell_type": "markdown",
   "id": "b80c67cc",
   "metadata": {},
   "source": [
    "Esta es una instancia de `Counter`"
   ]
  },
  {
   "cell_type": "code",
   "execution_count": null,
   "id": "6ff010fb",
   "metadata": {},
   "outputs": [],
   "source": [
    "counter = Counter('programa de estudios superiores')\n",
    "counter"
   ]
  },
  {
   "cell_type": "code",
   "execution_count": null,
   "id": "f4456e66",
   "metadata": {},
   "outputs": [],
   "source": [
    "type(counter)"
   ]
  },
  {
   "cell_type": "markdown",
   "id": "7570e8b2",
   "metadata": {},
   "source": [
    "# Definición de una clase\n",
    "\n",
    "-   Para definir un nuevo tipo, utilizamos la palabra `class`:\n"
   ]
  },
  {
   "cell_type": "code",
   "execution_count": null,
   "id": "8b554309",
   "metadata": {},
   "outputs": [],
   "source": [
    "class Coordinate:\n",
    "    # Class definition...\n",
    "    pass"
   ]
  },
  {
   "cell_type": "code",
   "execution_count": null,
   "id": "cd2ea4dc",
   "metadata": {},
   "outputs": [],
   "source": [
    "c = Coordinate()\n",
    "type(c)"
   ]
  },
  {
   "cell_type": "markdown",
   "id": "11b8420b",
   "metadata": {},
   "source": [
    "\n",
    "-   Similar a `def`, indentamos para indicar qué elementos pertenecen a la clase.\n",
    "\n",
    "-   `object` se refiere a la clase padre de `Coordinate`.\n",
    "\n",
    "    -   `Coordinate` es una subclase de `object`.\n",
    "\n",
    "    -   `object` es una superclase de `Coordinate`."
   ]
  },
  {
   "cell_type": "markdown",
   "id": "b81e1c23",
   "metadata": {},
   "source": [
    "## ¿Qué son atributos?\n",
    "\n",
    "-   Datos y funciones que **pertenecen** a la clase.\n",
    "\n",
    "### Atributos de datos\n",
    "\n",
    "-   Objetos de datos que componen la clase.\n",
    "\n",
    "-   Por ejemplo: en `Coordinate` un atributo es la coordenada $x$.\n",
    "\n",
    "###   Métodos\n",
    "\n",
    "-   Funciones que solamente funcionan con esta clase.\n",
    "\n",
    "-   Permiten interactuar con el objeto.\n",
    "\n",
    "-   En `Coordinate` podríamos definir un método `distance` que nos devuelva la distancia hacia otro objeto `Coordinate`.\n",
    "\n",
    "    -   Notar que no necesariamente habría significado de `distance` entre dos objetos `list`."
   ]
  },
  {
   "cell_type": "markdown",
   "id": "94658295",
   "metadata": {},
   "source": [
    "## El método constructor\n",
    "\n",
    "-   Primero debemos definir **cómo crear** una instancia de la clase.\n",
    "\n",
    "-   A este método le llamamos **constructor**. En Python, definimos la función `__init__(self, ...)`."
   ]
  },
  {
   "cell_type": "code",
   "execution_count": null,
   "id": "e84ebfb2",
   "metadata": {},
   "outputs": [],
   "source": [
    "class Coordinate(object):\n",
    "    def __init__(self, x, y):\n",
    "        self.x = x\n",
    "        self.y = y"
   ]
  },
  {
   "cell_type": "markdown",
   "id": "543fb62a",
   "metadata": {},
   "source": [
    "## Instanciando una clase\n"
   ]
  },
  {
   "cell_type": "code",
   "execution_count": null,
   "id": "5cc46ca6",
   "metadata": {},
   "outputs": [],
   "source": [
    "c = Coordinate(3,4)\n",
    "origin = Coordinate(0,0)\n",
    "origin"
   ]
  },
  {
   "cell_type": "code",
   "execution_count": null,
   "id": "72c25550",
   "metadata": {},
   "outputs": [],
   "source": [
    "print(c.x, origin.x)"
   ]
  },
  {
   "cell_type": "markdown",
   "id": "7e3fa71d",
   "metadata": {},
   "source": [
    "-   Los atributos de datos de una instancia se convierten en **variables\n",
    "    de la instancia**.\n",
    "\n",
    "-   Notar que:\n",
    "\n",
    "    -   No proveemos argumento `self` $\\Rightarrow$ automático.\n",
    "\n",
    "    -   Utilización del `.` para acceder a los atributos/métodos.\n",
    "\n",
    "    -   Al llamar a `Coordinate`, invocamos la función `__init__`."
   ]
  },
  {
   "cell_type": "markdown",
   "id": "a2e16e9e",
   "metadata": {},
   "source": [
    "## ¿Qué es un método?\n",
    "\n",
    "-   Es también un atributo, pero **solo funciona con esta clase**.\n",
    "\n",
    "-   Python siempre pasa el objeto como primer argumento:\n",
    "\n",
    "    -   Utilizamos `self` como el primer argumento en cualquier método.\n",
    "\n",
    "-   **El operador `.`** permite acceder a cualquier atributo.\n",
    "\n",
    "    -   Llamar a un método del objeto.\n",
    "\n",
    "    -   Acceder a los datos almacenados en el objeto."
   ]
  },
  {
   "cell_type": "markdown",
   "id": "587d5604",
   "metadata": {},
   "source": [
    "## Nuestro primer método\n"
   ]
  },
  {
   "cell_type": "code",
   "execution_count": null,
   "id": "20cb845e",
   "metadata": {},
   "outputs": [],
   "source": [
    "class Coordinate(object):\n",
    "    \"\"\" A coordinate made up of an x and y value \"\"\"\n",
    "\n",
    "    def __init__(self, x, y):\n",
    "        \"\"\" Sets the x and y values \"\"\"\n",
    "        self.x = x\n",
    "        self.y = y\n",
    "\n",
    "    def distance(self, other):\n",
    "        \"\"\" Returns the euclidean distance between two points \"\"\"\n",
    "        x_diff_sq = (self.x - other.x)**2\n",
    "        y_diff_sq = (self.y - other.y)**2\n",
    "        return (x_diff_sq + y_diff_sq)**0.5"
   ]
  },
  {
   "cell_type": "markdown",
   "id": "31eb21ed",
   "metadata": {},
   "source": [
    "-   Aparte de `self` y la notación `.`, los métodos **se comportan igual\n",
    "    que las funciones**.\n",
    "\n",
    "    -   Toman parámetros.\n",
    "\n",
    "    -   Realizan cómputos, procedimientos.\n",
    "\n",
    "    -   Devuelven valores."
   ]
  },
  {
   "cell_type": "markdown",
   "id": "67c02939",
   "metadata": {},
   "source": [
    "## Cómo utilizar un método\n"
   ]
  },
  {
   "cell_type": "code",
   "execution_count": null,
   "id": "5a9cec80",
   "metadata": {},
   "outputs": [],
   "source": [
    "c = Coordinate(3,4)\n",
    "zero = Coordinate(0,0)"
   ]
  },
  {
   "cell_type": "markdown",
   "id": "550aa6cf",
   "metadata": {},
   "source": [
    "\n",
    "-   Forma convencional: lo invocamos sobre una instancia de un objeto. "
   ]
  },
  {
   "cell_type": "code",
   "execution_count": null,
   "id": "252e82d9",
   "metadata": {},
   "outputs": [],
   "source": [
    "c.distance(zero)"
   ]
  },
  {
   "cell_type": "markdown",
   "id": "044fdfa8",
   "metadata": {},
   "source": [
    "-   Notar que se omite `self`, pues está implicado por el objeto `c`.\n",
    "\n",
    "-   Equivalente a:"
   ]
  },
  {
   "cell_type": "code",
   "execution_count": null,
   "id": "2a83faf7",
   "metadata": {},
   "outputs": [],
   "source": [
    "Coordinate.distance(c, zero)"
   ]
  },
  {
   "cell_type": "markdown",
   "id": "164fe848",
   "metadata": {},
   "source": [
    "\n",
    "-   Se operan los dos objetos entre sí invocando el método desde la\n",
    "    clase y no desde una instancia."
   ]
  },
  {
   "cell_type": "code",
   "execution_count": null,
   "id": "438168ee",
   "metadata": {},
   "outputs": [],
   "source": [
    "c = Coordinate(3,4)\n",
    "print(c)"
   ]
  },
  {
   "cell_type": "markdown",
   "id": "8ee2fb22",
   "metadata": {},
   "source": [
    "-   Representación **poco informativa** por defecto.\n",
    "\n",
    "-   Podemos definir un método `__str__` para una clase.\n",
    "\n",
    "-   Cuando utilizamos `print` sobre un objeto, Python llama a su método\n",
    "    `__str__`.\n",
    "\n",
    "-   Podemos escoger qué mostrar, supongamos que queremos:"
   ]
  },
  {
   "cell_type": "code",
   "execution_count": null,
   "id": "aedb646d",
   "metadata": {},
   "outputs": [],
   "source": [
    "print(c)\n",
    "# Queremos: <3, 4>"
   ]
  },
  {
   "cell_type": "markdown",
   "id": "3db8c8d1",
   "metadata": {},
   "source": [
    "## Definición propia para `print`\n"
   ]
  },
  {
   "cell_type": "code",
   "execution_count": null,
   "id": "d2f061df",
   "metadata": {},
   "outputs": [],
   "source": [
    "class Coordinate(object):\n",
    "        \"\"\" A coordinate made up of an x and y value \"\"\"\n",
    "        def __init__(self, x, y):\n",
    "            \"\"\" Sets the x and y values \"\"\"\n",
    "            self.x = x\n",
    "            self.y = y\n",
    "\n",
    "        def distance(self, other):\n",
    "            \"\"\" Returns the euclidean distance  \"\"\"\n",
    "            x_diff_sq = (self.x-other.x)**2\n",
    "            y_diff_sq = (self.y-other.y)**2\n",
    "            return (x_diff_sq + y_diff_sq)**0.5\n",
    "\n",
    "        def __str__(self):\n",
    "            \"\"\" Returns a string representation of self \"\"\"\n",
    "            return \"<\"+str(self.x)+\",\"+str(self.y)+\">\""
   ]
  },
  {
   "cell_type": "markdown",
   "id": "b4984821",
   "metadata": {},
   "source": [
    "# Ejemplo: fracciones\n",
    "\n",
    "-   Crearemos un **nuevo tipo** para representar fracciones.\n",
    "\n",
    "-   Su **representación interna** serán dos enteros:\n",
    "\n",
    "    -   Numerador.\n",
    "\n",
    "    -   Denominador.\n",
    "\n",
    "-   Definiremos una interfaz (métodos) que permitirán:\n",
    "\n",
    "    -   Sumar, restar.\n",
    "\n",
    "    -   Imprimir la fracción\n",
    "\n",
    "    -   Convertir a flotante.\n",
    "\n",
    "    -   Obtener el recíproco.\n"
   ]
  },
  {
   "cell_type": "code",
   "execution_count": null,
   "id": "03455abc",
   "metadata": {},
   "outputs": [],
   "source": [
    "from typing import Self\n",
    "\n",
    "class Fraction: \n",
    "    def __init__(self, num: int, den: int):\n",
    "        self.num = num\n",
    "        self.den = den\n",
    "\n",
    "    def __str__(self):\n",
    "        \"Returns a string representation\"\n",
    "        pass\n",
    "\n",
    "    def __add__(self, other: Self) -> Self:\n",
    "        \"Returns a Fraction object representing the sum\"\n",
    "        pass\n",
    "\n",
    "    def __sub__(self, other: Self) -> Self:\n",
    "        \"Returns a Fraction object representing the subtraction\"\n",
    "        pass\n",
    "\n",
    "    def reciprocal(self) -> Self:\n",
    "        \"Returns a Fraction object with the reciprocal\"\n",
    "        pass\n",
    "\n",
    "    def floating(self) -> float:\n",
    "        \"Returns the floating-point representation, i.e. num/den\"\n",
    "        pass\n",
    "    "
   ]
  },
  {
   "cell_type": "code",
   "execution_count": null,
   "id": "b05f301f",
   "metadata": {},
   "outputs": [],
   "source": [
    "f1 = Fraction(2,3)\n",
    "f2 = Fraction(3,5)\n",
    "f1, f2"
   ]
  },
  {
   "cell_type": "code",
   "execution_count": null,
   "id": "5a3a602f",
   "metadata": {},
   "outputs": [],
   "source": [
    "f1 + f2"
   ]
  },
  {
   "cell_type": "code",
   "execution_count": null,
   "id": "34aaab6b",
   "metadata": {},
   "outputs": [],
   "source": [
    "f1 - f2"
   ]
  },
  {
   "cell_type": "code",
   "execution_count": null,
   "id": "87458e99",
   "metadata": {},
   "outputs": [],
   "source": [
    "f1.reciprocal()"
   ]
  },
  {
   "cell_type": "code",
   "execution_count": null,
   "id": "ca7dbb60",
   "metadata": {},
   "outputs": [],
   "source": [
    "f1.floating()"
   ]
  },
  {
   "cell_type": "markdown",
   "id": "9d0b2a11",
   "metadata": {},
   "source": [
    "# Conclusiones: El poder de OOP\n",
    "\n",
    "-   Podemos **empaquetar objetos** que comparten:\n",
    "\n",
    "    -   Atributos comunes.\n",
    "\n",
    "    -   Procedimientos que operan sobre esos atributos.\n",
    "\n",
    "-   Utilizamos **abstracción** para diferenciar cómo implementar un\n",
    "    objeto y cómo utilizarlo.\n",
    "\n",
    "-   Podemos construir **capas** de abstracción de objetos que hereden\n",
    "    comportamiento de otras clases de objetos.\n",
    "\n",
    "-   Podemos crear **nuestras propias clases de objetos** utilizando las\n",
    "    clases base de Python."
   ]
  }
 ],
 "metadata": {
  "kernelspec": {
   "display_name": "base",
   "language": "python",
   "name": "python3"
  },
  "language_info": {
   "codemirror_mode": {
    "name": "ipython",
    "version": 3
   },
   "file_extension": ".py",
   "mimetype": "text/x-python",
   "name": "python",
   "nbconvert_exporter": "python",
   "pygments_lexer": "ipython3",
   "version": "3.13.5"
  }
 },
 "nbformat": 4,
 "nbformat_minor": 5
}
