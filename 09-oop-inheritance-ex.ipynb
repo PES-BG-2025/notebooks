{
 "cells": [
  {
   "cell_type": "markdown",
   "metadata": {},
   "source": [
    "## Clase `Dice`\n",
    "\n",
    "Implementar una clase denominada `Dice`, que funcione como un conjunto de $n$ dados. La clase debe recibir como argumento el número de dados a tirar. Además, la clase debe implementar:\n",
    "\n",
    "- Un método de `roll()` que simula la tirada de los $n$ dados y guarda internamente una lista con los valores resultantes. No devuelve nada.\n",
    "    \n",
    "    - Si no se ha llamado a `roll()`, la lista interna debe ser vacía.\n",
    "\n",
    "- Un método `get_last_roll()` que devuelve la lista con los valores de la última tirada.\n",
    "\n",
    "- Un método `get_roll_sum()` que devuelve la suma de los valores de la última tirada.\n",
    "\n",
    "    - Si no se ha llamado a `roll()`, debe devolver cero.\n",
    "\n",
    "- Implemente los siguientes métodos:\n",
    "\n",
    "  - Suma de dados `d1 + d2` con `__sum__`: Devuelve un `Dice` con la unión de las listas de los dados. Si un objeto `Dice` tiene $n_1$ dados y otro $n_2$ dados, el objeto resultante debe tener $n_1 + n_2$ dados, uniendo las listas de las tiradas anteriores.\n",
    "\n",
    "  - Producto de dados `d1 * d2`: Devuelve la suma de todos los productos posibles de dos factores entre los resultados de ambos dados.\n",
    "  \n",
    "  - Iteración de dados: Permite iterar los resultados de las tiradas como sigue. \n",
    "    ```python \n",
    "    # Imprime cada valor del dado \n",
    "    for val in d1:\n",
    "        print(val)\n",
    "    ```\n"
   ]
  },
  {
   "cell_type": "code",
   "execution_count": null,
   "metadata": {},
   "outputs": [],
   "source": [
    "# Ayuda, utilizar la siguiente función del módulo random\n",
    "import random\n",
    "random.randint(1,6)"
   ]
  },
  {
   "cell_type": "code",
   "execution_count": null,
   "metadata": {},
   "outputs": [],
   "source": [
    "class Dice:\n",
    "    def __init__(self, n):\n",
    "        pass\n",
    "    \n",
    "    def roll():\n",
    "        pass\n",
    "    \n",
    "    def get_last_roll():\n",
    "        pass\n",
    "    \n",
    "    def get_roll_sum():\n",
    "        pass"
   ]
  },
  {
   "cell_type": "markdown",
   "metadata": {},
   "source": [
    "## Clase `ScaledDice`\n",
    "\n",
    "1. Crea una clase que herede de `Dice` llamada `ScaledDice`. \n",
    "2. Modifica el constructor para que reciba un argumento de escala, `scale: int = 2`.\n",
    "3. Modifica el comportamiento del método `roll` para que al tirar los dados, cada valor sea multiplicado por la escala `scale`.\n",
    "4. Comprueba que el resto de métodos no modificados funcionen correctamente."
   ]
  },
  {
   "cell_type": "code",
   "execution_count": null,
   "metadata": {},
   "outputs": [],
   "source": [
    "class ScaledDice(Dice):\n",
    "    pass"
   ]
  }
 ],
 "metadata": {
  "kernelspec": {
   "display_name": "Python 3",
   "language": "python",
   "name": "python3"
  },
  "language_info": {
   "codemirror_mode": {
    "name": "ipython",
    "version": 3
   },
   "file_extension": ".py",
   "mimetype": "text/x-python",
   "name": "python",
   "nbconvert_exporter": "python",
   "pygments_lexer": "ipython3",
   "version": "3.7.4"
  }
 },
 "nbformat": 4,
 "nbformat_minor": 2
}
