{
 "cells": [
  {
   "cell_type": "markdown",
   "metadata": {},
   "source": [
    "# Examen final \n",
    "\n",
    "*Banco de Guatemala*  \n",
    "*PES 2025-2026*  \n",
    "*Programación I*  \n",
    "*Septiembre de 2025*  "
   ]
  },
  {
   "cell_type": "markdown",
   "metadata": {},
   "source": [
    "## Instrucciones\n",
    "\n",
    "Resuelva los problemas descritos utilizando su lógica de programación y las herramientas vistas en clase. Algunos problemas requieren las soluciones de otros problemas. En caso de ser requerido, utilice los casos de prueba para asegurarse de validar su función para casos especiales. \n",
    "\n",
    "En cada problema se indica el tipo de objeto de salida. No utilice los paquetes adicionales (NumPy y Pandas) en los problemas en los que no esté indicado. "
   ]
  },
  {
   "cell_type": "code",
   "execution_count": 18,
   "metadata": {},
   "outputs": [],
   "source": [
    "# Se permite utilizar funciones de estos paquetes en donde se indique\n",
    "import math\n",
    "import numpy as np\n",
    "import pandas as pd"
   ]
  },
  {
   "cell_type": "markdown",
   "metadata": {},
   "source": [
    "## Problema 0, calentando... 😁🤓\n",
    "\n",
    "Escriba una función que determine si un número es múltiplo de otro. Por ejemplo, `is_multiple(4, 2)` devuelve `True`, pues 4 es múltiplo de 2. "
   ]
  },
  {
   "cell_type": "code",
   "execution_count": null,
   "metadata": {},
   "outputs": [],
   "source": [
    "def is_multiple(n: int, m: int) -> bool:\n",
    "    ### TU CÓDIGO EMPIEZA AQUÍ\n",
    "    ### TU CÓDIGO TERMINA AQUÍ"
   ]
  },
  {
   "cell_type": "code",
   "execution_count": 20,
   "metadata": {},
   "outputs": [
    {
     "data": {
      "text/plain": [
       "False"
      ]
     },
     "execution_count": 20,
     "metadata": {},
     "output_type": "execute_result"
    }
   ],
   "source": [
    "is_multiple(2, 3)"
   ]
  },
  {
   "cell_type": "code",
   "execution_count": 21,
   "metadata": {},
   "outputs": [
    {
     "data": {
      "text/plain": [
       "(True, False)"
      ]
     },
     "execution_count": 21,
     "metadata": {},
     "output_type": "execute_result"
    }
   ],
   "source": [
    "is_multiple(4, 2), is_multiple(2, 4)"
   ]
  },
  {
   "cell_type": "code",
   "execution_count": 22,
   "metadata": {},
   "outputs": [
    {
     "data": {
      "text/plain": [
       "array([  9, 361, 530, 126, 610, 189, 530, 665,  23, 690, 424, 144, 244,\n",
       "       255, 193, 173, 649,  20, 559, 980, 332, 297, 247, 342, 136, 950,\n",
       "       231, 192, 414, 474, 523, 103, 151, 216, 186, 128, 525, 991, 633,\n",
       "       172,  55, 134, 385,  61, 213, 205, 110, 322, 271, 666, 693, 208,\n",
       "       720,   7, 121, 436, 164, 340, 432, 120,  49,   8, 531,  55, 760,\n",
       "       229, 288, 621, 575,  76, 512, 162, 911, 189, 475,  89, 365, 304,\n",
       "       413,  37, 288, 337,  53, 631, 186, 366, 304, 163,  40, 103, 397,\n",
       "       153, 510, 769, 616, 233, 276, 304,  17, 204], dtype=int32)"
      ]
     },
     "execution_count": 22,
     "metadata": {},
     "output_type": "execute_result"
    }
   ],
   "source": [
    "y = np.random.randint(1, 100, 100)\n",
    "x = np.zeros(100, dtype=np.int32)\n",
    "z = np.random.rand(100) > 0.5\n",
    "x[z] = y[z] * np.random.randint(2,11, z.sum())\n",
    "x[np.logical_not(z)] = y[np.logical_not(z)] * np.random.randint(2,11, np.logical_not(z).sum()) + 1\n",
    "x"
   ]
  },
  {
   "cell_type": "code",
   "execution_count": 24,
   "metadata": {},
   "outputs": [
    {
     "data": {
      "text/plain": [
       "array([ True, False,  True, False, False,  True,  True,  True, False,\n",
       "        True,  True,  True,  True,  True, False, False, False,  True,\n",
       "       False,  True,  True, False, False,  True, False,  True,  True,\n",
       "        True, False,  True, False, False, False,  True,  True,  True,\n",
       "        True, False, False, False, False,  True,  True, False,  True,\n",
       "       False,  True,  True, False,  True,  True, False,  True,  True,\n",
       "       False, False,  True,  True,  True,  True, False,  True, False,\n",
       "       False,  True, False,  True, False, False, False,  True,  True,\n",
       "       False,  True,  True, False, False,  True,  True, False,  True,\n",
       "       False, False, False,  True, False,  True, False,  True, False,\n",
       "       False,  True,  True, False,  True, False, False,  True, False,\n",
       "       False])"
      ]
     },
     "execution_count": 24,
     "metadata": {},
     "output_type": "execute_result"
    }
   ],
   "source": [
    "# Función universal por defecto\n",
    "is_multiple(x,y)\n",
    "    "
   ]
  },
  {
   "cell_type": "markdown",
   "metadata": {},
   "source": [
    "***\n",
    "## Problema 1\n",
    "Escriba una función que devuelva una cadena de texto con la representación de un número entero $0 \\leq n \\leq 19$ como un número maya. Si $n$ está fuera de los límites, la función devuelve una cadena vacía `\"\"`. No debe agregar espacios adicionales al valor de retorno. Algunos casos de ejemplo son:\n",
    " \n",
    "- Si $n = 0$, lo representamos con la cadena especial `\"(''')\\n\"`\n",
    "- Si $n = 4$, la función devuelve `\"oooo\\n\"`\n",
    "- Si $n = 9$, se representa con una barra y cuatro puntos. En este caso, la función devuelve `\"oooo\\n-----\\n\"`. \n",
    "- Si $n = 15$, se representa con tres barras. En este caso, la función devuelve `\"-----\\n-----\\n-----\\n\"`\n",
    "\n",
    "Note que se utilizan caracteres de salto de línea `\\n`. Esto es para que al imprimir la representación se vea más natural: \n",
    "```python\n",
    ">>> print(mayanrep(18))\n",
    "ooo\n",
    "-----\n",
    "-----\n",
    "-----\n",
    "```"
   ]
  },
  {
   "cell_type": "code",
   "execution_count": null,
   "metadata": {},
   "outputs": [],
   "source": [
    "def mayanrep(n: int): \n",
    "    ### TU CÓDIGO EMPIEZA AQUÍ\n",
    "    ### TU CÓDIGO TERMINA AQUÍ"
   ]
  },
  {
   "cell_type": "code",
   "execution_count": 26,
   "metadata": {},
   "outputs": [
    {
     "data": {
      "text/plain": [
       "[\"(''')\\n\",\n",
       " 'o\\n',\n",
       " 'oo\\n',\n",
       " 'ooo\\n',\n",
       " 'oooo\\n',\n",
       " '-----\\n',\n",
       " 'o\\n-----\\n',\n",
       " 'oo\\n-----\\n',\n",
       " 'ooo\\n-----\\n',\n",
       " 'oooo\\n-----\\n',\n",
       " '-----\\n-----\\n',\n",
       " 'o\\n-----\\n-----\\n',\n",
       " 'oo\\n-----\\n-----\\n',\n",
       " 'ooo\\n-----\\n-----\\n',\n",
       " 'oooo\\n-----\\n-----\\n',\n",
       " '-----\\n-----\\n-----\\n',\n",
       " 'o\\n-----\\n-----\\n-----\\n',\n",
       " 'oo\\n-----\\n-----\\n-----\\n',\n",
       " 'ooo\\n-----\\n-----\\n-----\\n',\n",
       " 'oooo\\n-----\\n-----\\n-----\\n']"
      ]
     },
     "execution_count": 26,
     "metadata": {},
     "output_type": "execute_result"
    }
   ],
   "source": [
    "# Como ayuda, se muestran todas las salidas correctas.\n",
    "reps = [mayanrep(i) for i in range(20)]\n",
    "reps"
   ]
  },
  {
   "cell_type": "markdown",
   "metadata": {},
   "source": [
    "**Nota**: las salidas se muestran para apoyar la lógica a desarrollar. No se vale generar un vector con las salidas correctas y devolver el resultado de acuerdo a las posiciones del vector. En este caso, el problema se verá anulado. "
   ]
  },
  {
   "cell_type": "markdown",
   "metadata": {},
   "source": [
    "***\n",
    "## Problema 2\n",
    "\n",
    "Defina una función que determine y almacene en una lista los factores enteros y positivos de un número $n$. Si $n < 1$, devuelve una lista vacía.  \n",
    "- Por ejemplo: si $n=6$, la función debe devolver `[1,2,3,6]`.\n",
    "- Si $n=5$, la función debe devolver `[1,5]`.\n",
    "- Otro ejemplo: si $n=1$, la función debe devolver `[1]`."
   ]
  },
  {
   "cell_type": "code",
   "execution_count": null,
   "metadata": {},
   "outputs": [],
   "source": [
    "def get_factors(n: int): \n",
    "    ### TU CÓDIGO EMPIEZA AQUÍ\n",
    "    ### TU CÓDIGO TERMINA AQUÍ"
   ]
  },
  {
   "cell_type": "code",
   "execution_count": 28,
   "metadata": {},
   "outputs": [
    {
     "data": {
      "text/plain": [
       "[1, 2, 4, 5, 10, 20, 25, 50, 100]"
      ]
     },
     "execution_count": 28,
     "metadata": {},
     "output_type": "execute_result"
    }
   ],
   "source": [
    "get_factors(100)"
   ]
  },
  {
   "cell_type": "code",
   "execution_count": 29,
   "metadata": {},
   "outputs": [
    {
     "data": {
      "text/plain": [
       "{-1: [], 0: [], 1: [1]}"
      ]
     },
     "execution_count": 29,
     "metadata": {},
     "output_type": "execute_result"
    }
   ],
   "source": [
    "solutions = {i: get_factors(i) for i in range(-1, 2)}\n",
    "solutions"
   ]
  },
  {
   "cell_type": "markdown",
   "metadata": {},
   "source": [
    "***\n",
    "## Problema 3\n",
    "\n",
    "Resuelva y codifique una función que determine si un número entero positivo $n$ es un número perfecto. Un *número perfecto* es aquél en el que la suma de sus divisores propios es igual al número $n$. \n",
    "- Por ejemplo: el número 6 es un número perfecto, porque sus divisores propios son $\\{1,2,3\\}$ y su suma es $1+2+3 = 6$. "
   ]
  },
  {
   "cell_type": "code",
   "execution_count": null,
   "metadata": {},
   "outputs": [],
   "source": [
    "def is_perfect(n: int): \n",
    "    ### TU CÓDIGO EMPIEZA AQUÍ\n",
    "    ### TU CÓDIGO TERMINA AQUÍ"
   ]
  },
  {
   "cell_type": "code",
   "execution_count": 31,
   "metadata": {},
   "outputs": [
    {
     "data": {
      "text/plain": [
       "True"
      ]
     },
     "execution_count": 31,
     "metadata": {},
     "output_type": "execute_result"
    }
   ],
   "source": [
    "is_perfect(6)"
   ]
  },
  {
   "cell_type": "code",
   "execution_count": 32,
   "metadata": {},
   "outputs": [
    {
     "name": "stdout",
     "output_type": "stream",
     "text": [
      "6\n",
      "28\n",
      "496\n"
     ]
    }
   ],
   "source": [
    "for i in range(1, 1000):\n",
    "    if is_perfect(i): print(i)"
   ]
  },
  {
   "cell_type": "code",
   "execution_count": 33,
   "metadata": {},
   "outputs": [
    {
     "data": {
      "text/plain": [
       "{2: False,\n",
       " 4: False,\n",
       " 6: True,\n",
       " 8: False,\n",
       " 10: False,\n",
       " 12: False,\n",
       " 14: False,\n",
       " 16: False,\n",
       " 18: False,\n",
       " 20: False,\n",
       " 22: False,\n",
       " 24: False,\n",
       " 26: False,\n",
       " 28: True,\n",
       " 30: False,\n",
       " 32: False,\n",
       " 34: False,\n",
       " 36: False,\n",
       " 38: False,\n",
       " 40: False,\n",
       " 42: False,\n",
       " 44: False,\n",
       " 46: False,\n",
       " 48: False,\n",
       " 50: False,\n",
       " 52: False,\n",
       " 54: False,\n",
       " 56: False,\n",
       " 58: False,\n",
       " 60: False,\n",
       " 62: False,\n",
       " 64: False,\n",
       " 66: False,\n",
       " 68: False,\n",
       " 70: False,\n",
       " 72: False,\n",
       " 74: False,\n",
       " 76: False,\n",
       " 78: False,\n",
       " 80: False,\n",
       " 82: False,\n",
       " 84: False,\n",
       " 86: False,\n",
       " 88: False,\n",
       " 90: False,\n",
       " 92: False,\n",
       " 94: False,\n",
       " 96: False,\n",
       " 98: False,\n",
       " 100: False,\n",
       " 102: False,\n",
       " 104: False,\n",
       " 106: False,\n",
       " 108: False,\n",
       " 110: False,\n",
       " 112: False,\n",
       " 114: False,\n",
       " 116: False,\n",
       " 118: False,\n",
       " 120: False,\n",
       " 122: False,\n",
       " 124: False,\n",
       " 126: False,\n",
       " 128: False,\n",
       " 130: False,\n",
       " 132: False,\n",
       " 134: False,\n",
       " 136: False,\n",
       " 138: False,\n",
       " 140: False,\n",
       " 142: False,\n",
       " 144: False,\n",
       " 146: False,\n",
       " 148: False,\n",
       " 150: False,\n",
       " 152: False,\n",
       " 154: False,\n",
       " 156: False,\n",
       " 158: False,\n",
       " 160: False,\n",
       " 162: False,\n",
       " 164: False,\n",
       " 166: False,\n",
       " 168: False,\n",
       " 170: False,\n",
       " 172: False,\n",
       " 174: False,\n",
       " 176: False,\n",
       " 178: False,\n",
       " 180: False,\n",
       " 182: False,\n",
       " 184: False,\n",
       " 186: False,\n",
       " 188: False,\n",
       " 190: False,\n",
       " 192: False,\n",
       " 194: False,\n",
       " 196: False,\n",
       " 198: False,\n",
       " 200: False,\n",
       " 202: False,\n",
       " 204: False,\n",
       " 206: False,\n",
       " 208: False,\n",
       " 210: False,\n",
       " 212: False,\n",
       " 214: False,\n",
       " 216: False,\n",
       " 218: False,\n",
       " 220: False,\n",
       " 222: False,\n",
       " 224: False,\n",
       " 226: False,\n",
       " 228: False,\n",
       " 230: False,\n",
       " 232: False,\n",
       " 234: False,\n",
       " 236: False,\n",
       " 238: False,\n",
       " 240: False,\n",
       " 242: False,\n",
       " 244: False,\n",
       " 246: False,\n",
       " 248: False,\n",
       " 250: False,\n",
       " 252: False,\n",
       " 254: False,\n",
       " 256: False,\n",
       " 258: False,\n",
       " 260: False,\n",
       " 262: False,\n",
       " 264: False,\n",
       " 266: False,\n",
       " 268: False,\n",
       " 270: False,\n",
       " 272: False,\n",
       " 274: False,\n",
       " 276: False,\n",
       " 278: False,\n",
       " 280: False,\n",
       " 282: False,\n",
       " 284: False,\n",
       " 286: False,\n",
       " 288: False,\n",
       " 290: False,\n",
       " 292: False,\n",
       " 294: False,\n",
       " 296: False,\n",
       " 298: False,\n",
       " 300: False,\n",
       " 302: False,\n",
       " 304: False,\n",
       " 306: False,\n",
       " 308: False,\n",
       " 310: False,\n",
       " 312: False,\n",
       " 314: False,\n",
       " 316: False,\n",
       " 318: False,\n",
       " 320: False,\n",
       " 322: False,\n",
       " 324: False,\n",
       " 326: False,\n",
       " 328: False,\n",
       " 330: False,\n",
       " 332: False,\n",
       " 334: False,\n",
       " 336: False,\n",
       " 338: False,\n",
       " 340: False,\n",
       " 342: False,\n",
       " 344: False,\n",
       " 346: False,\n",
       " 348: False,\n",
       " 350: False,\n",
       " 352: False,\n",
       " 354: False,\n",
       " 356: False,\n",
       " 358: False,\n",
       " 360: False,\n",
       " 362: False,\n",
       " 364: False,\n",
       " 366: False,\n",
       " 368: False,\n",
       " 370: False,\n",
       " 372: False,\n",
       " 374: False,\n",
       " 376: False,\n",
       " 378: False,\n",
       " 380: False,\n",
       " 382: False,\n",
       " 384: False,\n",
       " 386: False,\n",
       " 388: False,\n",
       " 390: False,\n",
       " 392: False,\n",
       " 394: False,\n",
       " 396: False,\n",
       " 398: False,\n",
       " 400: False,\n",
       " 402: False,\n",
       " 404: False,\n",
       " 406: False,\n",
       " 408: False,\n",
       " 410: False,\n",
       " 412: False,\n",
       " 414: False,\n",
       " 416: False,\n",
       " 418: False,\n",
       " 420: False,\n",
       " 422: False,\n",
       " 424: False,\n",
       " 426: False,\n",
       " 428: False,\n",
       " 430: False,\n",
       " 432: False,\n",
       " 434: False,\n",
       " 436: False,\n",
       " 438: False,\n",
       " 440: False,\n",
       " 442: False,\n",
       " 444: False,\n",
       " 446: False,\n",
       " 448: False,\n",
       " 450: False,\n",
       " 452: False,\n",
       " 454: False,\n",
       " 456: False,\n",
       " 458: False,\n",
       " 460: False,\n",
       " 462: False,\n",
       " 464: False,\n",
       " 466: False,\n",
       " 468: False,\n",
       " 470: False,\n",
       " 472: False,\n",
       " 474: False,\n",
       " 476: False,\n",
       " 478: False,\n",
       " 480: False,\n",
       " 482: False,\n",
       " 484: False,\n",
       " 486: False,\n",
       " 488: False,\n",
       " 490: False,\n",
       " 492: False,\n",
       " 494: False,\n",
       " 496: True,\n",
       " 498: False,\n",
       " 500: False,\n",
       " 502: False,\n",
       " 504: False,\n",
       " 506: False,\n",
       " 508: False,\n",
       " 510: False,\n",
       " 512: False,\n",
       " 514: False,\n",
       " 516: False,\n",
       " 518: False,\n",
       " 520: False,\n",
       " 522: False,\n",
       " 524: False,\n",
       " 526: False,\n",
       " 528: False,\n",
       " 530: False,\n",
       " 532: False,\n",
       " 534: False,\n",
       " 536: False,\n",
       " 538: False,\n",
       " 540: False,\n",
       " 542: False,\n",
       " 544: False,\n",
       " 546: False,\n",
       " 548: False,\n",
       " 550: False,\n",
       " 552: False,\n",
       " 554: False,\n",
       " 556: False,\n",
       " 558: False,\n",
       " 560: False,\n",
       " 562: False,\n",
       " 564: False,\n",
       " 566: False,\n",
       " 568: False,\n",
       " 570: False,\n",
       " 572: False,\n",
       " 574: False,\n",
       " 576: False,\n",
       " 578: False,\n",
       " 580: False,\n",
       " 582: False,\n",
       " 584: False,\n",
       " 586: False,\n",
       " 588: False,\n",
       " 590: False,\n",
       " 592: False,\n",
       " 594: False,\n",
       " 596: False,\n",
       " 598: False,\n",
       " 600: False,\n",
       " 602: False,\n",
       " 604: False,\n",
       " 606: False,\n",
       " 608: False,\n",
       " 610: False,\n",
       " 612: False,\n",
       " 614: False,\n",
       " 616: False,\n",
       " 618: False,\n",
       " 620: False,\n",
       " 622: False,\n",
       " 624: False,\n",
       " 626: False,\n",
       " 628: False,\n",
       " 630: False,\n",
       " 632: False,\n",
       " 634: False,\n",
       " 636: False,\n",
       " 638: False,\n",
       " 640: False,\n",
       " 642: False,\n",
       " 644: False,\n",
       " 646: False,\n",
       " 648: False,\n",
       " 650: False,\n",
       " 652: False,\n",
       " 654: False,\n",
       " 656: False,\n",
       " 658: False,\n",
       " 660: False,\n",
       " 662: False,\n",
       " 664: False,\n",
       " 666: False,\n",
       " 668: False,\n",
       " 670: False,\n",
       " 672: False,\n",
       " 674: False,\n",
       " 676: False,\n",
       " 678: False,\n",
       " 680: False,\n",
       " 682: False,\n",
       " 684: False,\n",
       " 686: False,\n",
       " 688: False,\n",
       " 690: False,\n",
       " 692: False,\n",
       " 694: False,\n",
       " 696: False,\n",
       " 698: False,\n",
       " 700: False,\n",
       " 702: False,\n",
       " 704: False,\n",
       " 706: False,\n",
       " 708: False,\n",
       " 710: False,\n",
       " 712: False,\n",
       " 714: False,\n",
       " 716: False,\n",
       " 718: False,\n",
       " 720: False,\n",
       " 722: False,\n",
       " 724: False,\n",
       " 726: False,\n",
       " 728: False,\n",
       " 730: False,\n",
       " 732: False,\n",
       " 734: False,\n",
       " 736: False,\n",
       " 738: False,\n",
       " 740: False,\n",
       " 742: False,\n",
       " 744: False,\n",
       " 746: False,\n",
       " 748: False,\n",
       " 750: False,\n",
       " 752: False,\n",
       " 754: False,\n",
       " 756: False,\n",
       " 758: False,\n",
       " 760: False,\n",
       " 762: False,\n",
       " 764: False,\n",
       " 766: False,\n",
       " 768: False,\n",
       " 770: False,\n",
       " 772: False,\n",
       " 774: False,\n",
       " 776: False,\n",
       " 778: False,\n",
       " 780: False,\n",
       " 782: False,\n",
       " 784: False,\n",
       " 786: False,\n",
       " 788: False,\n",
       " 790: False,\n",
       " 792: False,\n",
       " 794: False,\n",
       " 796: False,\n",
       " 798: False,\n",
       " 800: False,\n",
       " 802: False,\n",
       " 804: False,\n",
       " 806: False,\n",
       " 808: False,\n",
       " 810: False,\n",
       " 812: False,\n",
       " 814: False,\n",
       " 816: False,\n",
       " 818: False,\n",
       " 820: False,\n",
       " 822: False,\n",
       " 824: False,\n",
       " 826: False,\n",
       " 828: False,\n",
       " 830: False,\n",
       " 832: False,\n",
       " 834: False,\n",
       " 836: False,\n",
       " 838: False,\n",
       " 840: False,\n",
       " 842: False,\n",
       " 844: False,\n",
       " 846: False,\n",
       " 848: False,\n",
       " 850: False,\n",
       " 852: False,\n",
       " 854: False,\n",
       " 856: False,\n",
       " 858: False,\n",
       " 860: False,\n",
       " 862: False,\n",
       " 864: False,\n",
       " 866: False,\n",
       " 868: False,\n",
       " 870: False,\n",
       " 872: False,\n",
       " 874: False,\n",
       " 876: False,\n",
       " 878: False,\n",
       " 880: False,\n",
       " 882: False,\n",
       " 884: False,\n",
       " 886: False,\n",
       " 888: False,\n",
       " 890: False,\n",
       " 892: False,\n",
       " 894: False,\n",
       " 896: False,\n",
       " 898: False,\n",
       " 900: False,\n",
       " 902: False,\n",
       " 904: False,\n",
       " 906: False,\n",
       " 908: False,\n",
       " 910: False,\n",
       " 912: False,\n",
       " 914: False,\n",
       " 916: False,\n",
       " 918: False,\n",
       " 920: False,\n",
       " 922: False,\n",
       " 924: False,\n",
       " 926: False,\n",
       " 928: False,\n",
       " 930: False,\n",
       " 932: False,\n",
       " 934: False,\n",
       " 936: False,\n",
       " 938: False,\n",
       " 940: False,\n",
       " 942: False,\n",
       " 944: False,\n",
       " 946: False,\n",
       " 948: False,\n",
       " 950: False,\n",
       " 952: False,\n",
       " 954: False,\n",
       " 956: False,\n",
       " 958: False,\n",
       " 960: False,\n",
       " 962: False,\n",
       " 964: False,\n",
       " 966: False,\n",
       " 968: False,\n",
       " 970: False,\n",
       " 972: False,\n",
       " 974: False,\n",
       " 976: False,\n",
       " 978: False,\n",
       " 980: False,\n",
       " 982: False,\n",
       " 984: False,\n",
       " 986: False,\n",
       " 988: False,\n",
       " 990: False,\n",
       " 992: False,\n",
       " 994: False,\n",
       " 996: False,\n",
       " 998: False,\n",
       " 1000: False}"
      ]
     },
     "execution_count": 33,
     "metadata": {},
     "output_type": "execute_result"
    }
   ],
   "source": [
    "d = {i:is_perfect(i) for i in range(2, 1000+1, 2)}\n",
    "d"
   ]
  },
  {
   "cell_type": "markdown",
   "metadata": {},
   "source": [
    "***\n",
    "## Problema 4\n",
    "\n",
    "Defina una función **recursiva** que implemente un *partorial*. Esta función devuelve el producto de los números pares hasta el valor entero positivo $n$. En este problema, puede suponer que `partorial(0) = 1` si lo necesita. Suponga que no habrá una entrada incorrecta de $n < 2$. Algunas salidas correctas son: \n",
    "- `partorial(2)` es igual a 2\n",
    "- `partorial(4)` es igual a 8, pues $2\\times 4 = 8$\n",
    "- `partorial(5)` es igual a 8, pues los números pares positivos hasta 5 son 2 y 4 únicamente. \n",
    "- `partorial(6)` es igual a 48, pues $2\\times 4 \\times 6$ = 48"
   ]
  },
  {
   "cell_type": "code",
   "execution_count": null,
   "metadata": {},
   "outputs": [],
   "source": [
    "def partorial(n):\n",
    "    ### TU CÓDIGO EMPIEZA AQUÍ\n",
    "    ### TU CÓDIGO TERMINA AQUÍ"
   ]
  },
  {
   "cell_type": "code",
   "execution_count": 35,
   "metadata": {},
   "outputs": [
    {
     "data": {
      "text/plain": [
       "1"
      ]
     },
     "execution_count": 35,
     "metadata": {},
     "output_type": "execute_result"
    }
   ],
   "source": [
    "partorial(1)"
   ]
  },
  {
   "cell_type": "code",
   "execution_count": 36,
   "metadata": {},
   "outputs": [
    {
     "data": {
      "text/plain": [
       "8"
      ]
     },
     "execution_count": 36,
     "metadata": {},
     "output_type": "execute_result"
    }
   ],
   "source": [
    "partorial(5)"
   ]
  },
  {
   "cell_type": "code",
   "execution_count": 37,
   "metadata": {},
   "outputs": [
    {
     "data": {
      "text/plain": [
       "3840"
      ]
     },
     "execution_count": 37,
     "metadata": {},
     "output_type": "execute_result"
    }
   ],
   "source": [
    "partorial(10)"
   ]
  },
  {
   "cell_type": "code",
   "execution_count": 38,
   "metadata": {},
   "outputs": [
    {
     "data": {
      "text/plain": [
       "{2: 2,\n",
       " 3: 2,\n",
       " 4: 8,\n",
       " 5: 8,\n",
       " 6: 48,\n",
       " 7: 48,\n",
       " 8: 384,\n",
       " 9: 384,\n",
       " 10: 3840,\n",
       " 11: 3840,\n",
       " 12: 46080,\n",
       " 13: 46080,\n",
       " 14: 645120,\n",
       " 15: 645120,\n",
       " 16: 10321920,\n",
       " 17: 10321920,\n",
       " 18: 185794560,\n",
       " 19: 185794560,\n",
       " 20: 3715891200}"
      ]
     },
     "execution_count": 38,
     "metadata": {},
     "output_type": "execute_result"
    }
   ],
   "source": [
    "{i:partorial(i) for i in range(2, 21)}"
   ]
  },
  {
   "cell_type": "markdown",
   "metadata": {},
   "source": [
    "***\n",
    "## Problema 5\n",
    "\n",
    "Realice una función que aproxime el área bajo la curva de una función $f$ definida en $[0, 1]$ y cuya imagen $y=f(x)$ también se encuentra definida en $[0, 1]$. Para aproximar el área bajo la curva debe utilizar una simulación de Monte Carlo. En este problema **no puede utilizar ciclos**, debe realizar todo de manera vectorizada para aprovechar la eficiencia de NumPy. \n",
    "\n",
    "- En este problema, puede suponer que el valor de la función dada no se saldrá en ningún intervalo del cuadrado definido por $[0,1]\\times[0,1]$"
   ]
  },
  {
   "cell_type": "code",
   "execution_count": null,
   "metadata": {},
   "outputs": [],
   "source": [
    "def approx_area(f, n=10000): \n",
    "    \"\"\"Computa una aproximación del área bajo la curva de la función f en el intervalo [0,1]\n",
    "\n",
    "    Args:\n",
    "        f ([function]): La función para computar el área bajo la curva.\n",
    "        n (int, optional): Número de simulaciones. Por defecto, 10000.\n",
    "\n",
    "    Returns:\n",
    "        [float]: El área bajo la función f. \n",
    "    \"\"\"\n",
    "    ### TU CÓDIGO EMPIEZA AQUÍ\n",
    "    ### TU CÓDIGO TERMINA AQUÍ\n"
   ]
  },
  {
   "cell_type": "markdown",
   "metadata": {},
   "source": [
    "Se muestran algunas salidas correctas de esta función: \n"
   ]
  },
  {
   "cell_type": "code",
   "execution_count": 49,
   "metadata": {},
   "outputs": [
    {
     "data": {
      "text/plain": [
       "0.3341"
      ]
     },
     "execution_count": 49,
     "metadata": {},
     "output_type": "execute_result"
    }
   ],
   "source": [
    "approx_area(lambda x: x**2, n=10000)"
   ]
  },
  {
   "cell_type": "code",
   "execution_count": 50,
   "metadata": {},
   "outputs": [
    {
     "data": {
      "text/plain": [
       "0.2459"
      ]
     },
     "execution_count": 50,
     "metadata": {},
     "output_type": "execute_result"
    }
   ],
   "source": [
    "approx_area(lambda x: x**3, n=10000)"
   ]
  },
  {
   "cell_type": "code",
   "execution_count": 51,
   "metadata": {},
   "outputs": [
    {
     "data": {
      "text/plain": [
       "0.668"
      ]
     },
     "execution_count": 51,
     "metadata": {},
     "output_type": "execute_result"
    }
   ],
   "source": [
    "approx_area(lambda x: x**0.5, n=10000)"
   ]
  },
  {
   "cell_type": "code",
   "execution_count": 52,
   "metadata": {},
   "outputs": [
    {
     "data": {
      "text/plain": [
       "1.0"
      ]
     },
     "execution_count": 52,
     "metadata": {},
     "output_type": "execute_result"
    }
   ],
   "source": [
    "approx_area(lambda x: 1, n=10000)"
   ]
  },
  {
   "cell_type": "code",
   "execution_count": 53,
   "metadata": {},
   "outputs": [
    {
     "data": {
      "text/plain": [
       "{np.float64(0.25): 0.8009,\n",
       " np.float64(0.5): 0.6652,\n",
       " np.float64(0.75): 0.5695,\n",
       " np.float64(1.0): 0.5083,\n",
       " np.float64(1.25): 0.4418,\n",
       " np.float64(1.5): 0.4005,\n",
       " np.float64(1.75): 0.365,\n",
       " np.float64(2.0): 0.3252,\n",
       " np.float64(2.25): 0.3238,\n",
       " np.float64(2.5): 0.2832,\n",
       " np.float64(2.75): 0.2714}"
      ]
     },
     "execution_count": 53,
     "metadata": {},
     "output_type": "execute_result"
    }
   ],
   "source": [
    "{i:approx_area(lambda x: x**i, n=10000) for i in np.arange(0.25, 3, 0.25)}"
   ]
  },
  {
   "cell_type": "code",
   "execution_count": 74,
   "metadata": {},
   "outputs": [
    {
     "data": {
      "text/plain": [
       "0.5031"
      ]
     },
     "execution_count": 74,
     "metadata": {},
     "output_type": "execute_result"
    }
   ],
   "source": [
    "approx_area(lambda x: 0.5, n=10000)"
   ]
  },
  {
   "cell_type": "markdown",
   "metadata": {},
   "source": [
    "## Problema 6 \n",
    "\n",
    "Se solicita que cree un sistema para gestionar y transformar coordenadas bidimensionales. Este ejercicio está diseñado para evaluar su comprensión de la herencia, la iteración de listas y la aritmética básica.\n",
    "\n",
    "Debe definir una clase base para un punto estático y una clase derivada para un punto móvil. Finalmente, creará una clase gestora para realizar operaciones en una lista de estos puntos. \n",
    "\n",
    "### Implementación\n",
    "\n",
    "Siga las indicaciones en los docstrings para implementar lo siguiente: \n",
    "\n",
    "1. Implemente el método `move` de un `MovablePoint`. Este debe permitir cambiar las coordenadas de un punto.\n",
    "\n",
    "2. Implemente los métodos `apply_movement_to_all` y `get_average_distance` de la clase `PointListManager`.\n",
    "\n",
    "### Verificación\n",
    "\n",
    "Para verificar su implementación, incluya una sección en su código que ejecute los siguientes pasos:\n",
    "\n",
    "1. Cree una lista que contenga al menos tres instancias de `MovablePoint` con diferentes coordenadas iniciales.\n",
    "\n",
    "2. Instancie `PointListManager` con esta lista.\n",
    "\n",
    "3. Imprima las coordenadas iniciales y la distancia promedio inicial desde el origen.\n",
    "\n",
    "4. Llame a `apply_movement_to_all(1.0, 1.0)` para desplazar todos los puntos una unidad en ambos ejes.\n",
    "\n",
    "5. Imprima las coordenadas finales y la nueva distancia promedio desde el origen."
   ]
  },
  {
   "cell_type": "code",
   "execution_count": null,
   "metadata": {},
   "outputs": [],
   "source": [
    "# ----------------------------------------------------------------------\n",
    "# 1. Base Class: Point\n",
    "# ----------------------------------------------------------------------\n",
    "class Point:\n",
    "    \"\"\"Represents a 2D coordinate (x, y).\"\"\"\n",
    "    \n",
    "    def __init__(self, x: float, y: float):\n",
    "        \"\"\"Initializes the point with x and y coordinates.\"\"\"\n",
    "        self.x = x\n",
    "        self.y = y\n",
    "\n",
    "    def distance_from_origin(self) -> float:\n",
    "        \"\"\"\n",
    "        Calculates the Euclidean distance from the origin (0, 0).\n",
    "        Formula: sqrt(x^2 + y^2)\n",
    "        \"\"\"\n",
    "        # Basic arithmetic: squaring and adding coordinates\n",
    "        distance_squared = self.x**2 + self.y**2\n",
    "        \n",
    "        # Mathematical operation: square root\n",
    "        return math.sqrt(distance_squared)\n",
    "\n",
    "    def __str__(self) -> str:\n",
    "        \"\"\"Provides a user-friendly string representation of the point.\"\"\"\n",
    "        return f\"({self.x:.2f}, {self.y:.2f})\"\n",
    "\n",
    "    def __repr__(self) -> str:\n",
    "        \"\"\"Provides a user-friendly string representation of the point.\"\"\"\n",
    "        return f\"Point({self.x:.2f}, {self.y:.2f})\"\n",
    "\n",
    "\n",
    "# ----------------------------------------------------------------------\n",
    "# 2. Derived Class: MovablePoint (Uses Inheritance)\n",
    "# ----------------------------------------------------------------------\n",
    "class MovablePoint(Point):\n",
    "    \"\"\"\n",
    "    Represents a point that can change its position.\n",
    "    Inherits x, y, and distance_from_origin() from Point.\n",
    "    \"\"\"\n",
    "    \n",
    "    # The __init__ is inherited by default if not defined, \n",
    "    # but we'll explicitly call the base class constructor for clarity.\n",
    "    def __init__(self, x: float, y: float):\n",
    "        super().__init__(x, y)\n",
    "\n",
    "    def move(self, dx: float, dy: float) -> None:\n",
    "        \"\"\"\n",
    "        Updates the point's coordinates by adding dx and dy.\n",
    "        Basic arithmetic: addition.\n",
    "        \"\"\"\n",
    "        # CAMBIAR AQUÍ\n",
    "        pass\n",
    "\n",
    "\n",
    "# ----------------------------------------------------------------------\n",
    "# 3. Manager Class: PointListManager (Uses List Iteration)\n",
    "# ----------------------------------------------------------------------\n",
    "class PointListManager:\n",
    "    \"\"\"Manages a list of MovablePoint objects.\"\"\"\n",
    "    \n",
    "    def __init__(self, points: list[MovablePoint]):\n",
    "        \"\"\"Initializes with a list of MovablePoint objects.\"\"\"\n",
    "        self.points = points\n",
    "\n",
    "    def apply_movement_to_all(self, dx: float, dy: float) -> None:\n",
    "        \"\"\"\n",
    "        Iterates over the list and applies a movement to every point.\n",
    "        \"\"\"\n",
    "        print(f\"\\nApplying movement: dx={dx}, dy={dy}\")\n",
    "        # CAMBIAR AQUÍ\n",
    "        # List iteration: Call move() on each object in the list\n",
    "        pass\n",
    "\n",
    "    def get_average_distance(self) -> float:\n",
    "        \"\"\"\n",
    "        Iterates over the list, calculates the distance from origin \n",
    "        for each point, and returns the average distance.\n",
    "        \"\"\"\n",
    "        # List iteration and aggregation: Summing up distances and compute average\n",
    "        # CAMBIAR AQUÍ\n",
    "        pass\n",
    "\n"
   ]
  },
  {
   "cell_type": "code",
   "execution_count": 68,
   "metadata": {},
   "outputs": [
    {
     "data": {
      "text/plain": [
       "[Point(3.00, 4.00), Point(0.00, 0.00), Point(-1.00, 2.00)]"
      ]
     },
     "execution_count": 68,
     "metadata": {},
     "output_type": "execute_result"
    }
   ],
   "source": [
    "# 1. Create a list of MovablePoint objects\n",
    "points_list = [\n",
    "    MovablePoint(3, 4),    # Initial distance = 5.0\n",
    "    MovablePoint(0, 0),    # Initial distance = 0.0\n",
    "    MovablePoint(-1, 2)    # Initial distance = sqrt(5) approx 2.236\n",
    "]\n",
    "points_list\n"
   ]
  },
  {
   "cell_type": "code",
   "execution_count": 69,
   "metadata": {},
   "outputs": [
    {
     "data": {
      "text/plain": [
       "<__main__.PointListManager at 0x1dd278b5160>"
      ]
     },
     "execution_count": 69,
     "metadata": {},
     "output_type": "execute_result"
    }
   ],
   "source": [
    "# 2. Instantiate the Manager\n",
    "manager = PointListManager(points_list)\n",
    "manager"
   ]
  },
  {
   "cell_type": "code",
   "execution_count": 70,
   "metadata": {},
   "outputs": [
    {
     "name": "stdout",
     "output_type": "stream",
     "text": [
      "Initial Points: ['(3.00, 4.00)', '(0.00, 0.00)', '(-1.00, 2.00)']\n",
      "Initial Average Distance: 2.412\n"
     ]
    }
   ],
   "source": [
    "# 3. Calculate initial average distance\n",
    "initial_avg_dist = manager.get_average_distance()\n",
    "print(f\"Initial Points: {[str(p) for p in points_list]}\")\n",
    "print(f\"Initial Average Distance: {initial_avg_dist:.3f}\")"
   ]
  },
  {
   "cell_type": "code",
   "execution_count": 71,
   "metadata": {},
   "outputs": [
    {
     "name": "stdout",
     "output_type": "stream",
     "text": [
      "\n",
      "Applying movement: dx=1.0, dy=1.0\n"
     ]
    }
   ],
   "source": [
    "# 4. Apply movement to all points (Testing List Iteration)\n",
    "movement_x = 1.0\n",
    "movement_y = 1.0\n",
    "manager.apply_movement_to_all(movement_x, movement_y)"
   ]
  },
  {
   "cell_type": "code",
   "execution_count": 72,
   "metadata": {},
   "outputs": [
    {
     "name": "stdout",
     "output_type": "stream",
     "text": [
      "Final Points:   ['(3.00, 4.00)', '(0.00, 0.00)', '(-1.00, 2.00)']\n",
      "Final Average Distance: 2.412\n"
     ]
    }
   ],
   "source": [
    "# 5. Calculate final average distance\n",
    "final_avg_dist = manager.get_average_distance()\n",
    "print(f\"Final Points:   {[str(p) for p in points_list]}\")\n",
    "print(f\"Final Average Distance: {final_avg_dist:.3f}\")"
   ]
  },
  {
   "cell_type": "code",
   "execution_count": 73,
   "metadata": {},
   "outputs": [],
   "source": [
    "# Verification:\n",
    "# Point 1: (3, 4) -> (4, 5). Distance = sqrt(16+25) = sqrt(41) ~ 6.403\n",
    "# Point 2: (0, 0) -> (1, 1). Distance = sqrt(1+1) = sqrt(2) ~ 1.414\n",
    "# Point 3: (-1, 2) -> (0, 3). Distance = sqrt(0+9) = 3.000\n",
    "# Final Avg: (6.403 + 1.414 + 3.000) / 3 = 10.817 / 3 ~ 3.606"
   ]
  },
  {
   "cell_type": "code",
   "execution_count": null,
   "metadata": {},
   "outputs": [],
   "source": []
  }
 ],
 "metadata": {
  "kernelspec": {
   "display_name": "base",
   "language": "python",
   "name": "python3"
  },
  "language_info": {
   "codemirror_mode": {
    "name": "ipython",
    "version": 3
   },
   "file_extension": ".py",
   "mimetype": "text/x-python",
   "name": "python",
   "nbconvert_exporter": "python",
   "pygments_lexer": "ipython3",
   "version": "3.13.5"
  },
  "orig_nbformat": 4
 },
 "nbformat": 4,
 "nbformat_minor": 2
}
