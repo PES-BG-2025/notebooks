{
 "cells": [
  {
   "cell_type": "markdown",
   "id": "6c5d2a0e",
   "metadata": {},
   "source": [
    "# Introducción a las ciencias de la computación *y programación en Python*\n",
    "\n",
    "*Banco de Guatemala*  \n",
    "*PES 2025-2026*  \n",
    "*Programación I*  \n",
    "*Septiembre de 2025*  "
   ]
  },
  {
   "cell_type": "markdown",
   "id": "42a14256-91c8-446e-92a7-ab6bf11055d3",
   "metadata": {},
   "source": [
    "## Introducción\n",
    "\n",
    "- Veremos como obtener una entrada del usuario y generar una salida a través de la línea de comandos.\n",
    "\n",
    "- Hablaremos de las condicionales y de las estructuras de iteración.\n",
    "\n",
    "   \n"
   ]
  },
  {
   "cell_type": "markdown",
   "id": "249eddb7",
   "metadata": {},
   "source": [
    "# Entradas y salidas\n",
    "\n",
    "## Cadenas de texto (introducción)\n",
    "\n",
    "-   Son objetos de tipo no escalar que permiten manejar números, letras,\n",
    "    espacios y caracteres especiales.\n",
    "\n",
    "-   Se encierran en comillas dobles o simples."
   ]
  },
  {
   "cell_type": "code",
   "execution_count": 19,
   "id": "4e049d1a",
   "metadata": {},
   "outputs": [],
   "source": [
    "hello = \"Hola mundo\"\n",
    "hi = 'Hola amigos del PES'"
   ]
  },
  {
   "cell_type": "markdown",
   "id": "4b7dbe6f",
   "metadata": {},
   "source": [
    "-   Podemos concatenar cadenas de texto con el operador `+`:"
   ]
  },
  {
   "cell_type": "code",
   "execution_count": 18,
   "id": "5d66e50c",
   "metadata": {},
   "outputs": [
    {
     "data": {
      "text/plain": [
       "'Hola mundo Antonio'"
      ]
     },
     "execution_count": 18,
     "metadata": {},
     "output_type": "execute_result"
    }
   ],
   "source": [
    "nombre = \"Antonio\"\n",
    "saludo = hello + \" \" + nombre\n",
    "saludo"
   ]
  },
  {
   "cell_type": "markdown",
   "id": "0c83b20b",
   "metadata": {},
   "source": [
    "-   Podemos efectuar otras operaciones:"
   ]
  },
  {
   "cell_type": "code",
   "execution_count": 20,
   "id": "06fa3e4c",
   "metadata": {},
   "outputs": [
    {
     "data": {
      "text/plain": [
       "'AntonioAntonioAntonio'"
      ]
     },
     "execution_count": 20,
     "metadata": {},
     "output_type": "execute_result"
    }
   ],
   "source": [
    "nombre * 3"
   ]
  },
  {
   "cell_type": "code",
   "execution_count": 21,
   "id": "e010eef1",
   "metadata": {},
   "outputs": [
    {
     "data": {
      "text/plain": [
       "'Hola mundo AntonioAntonioAntonio'"
      ]
     },
     "execution_count": 21,
     "metadata": {},
     "output_type": "execute_result"
    }
   ],
   "source": [
    "molesto = hello + \" \" + nombre*3\n",
    "molesto"
   ]
  },
  {
   "cell_type": "markdown",
   "id": "7202ea0a",
   "metadata": {},
   "source": [
    "## Salida en consola\n",
    "\n",
    "-   Utilizamos la función `print`.\n"
   ]
  },
  {
   "cell_type": "code",
   "execution_count": 22,
   "id": "568d8f12",
   "metadata": {},
   "outputs": [
    {
     "name": "stdout",
     "output_type": "stream",
     "text": [
      "Hola mundo\n"
     ]
    }
   ],
   "source": [
    "print(\"Hola mundo\")"
   ]
  },
  {
   "cell_type": "markdown",
   "id": "43a933a8",
   "metadata": {},
   "source": [
    "-   Podemos enviar varios argumentos a la función para imprimirlos\n",
    "    todos. \n",
    "    \n",
    "    Podemos separar los elementos con el caracter especificado en\n",
    "    el argumento `sep=' '`.\n",
    "\n"
   ]
  },
  {
   "cell_type": "code",
   "execution_count": 29,
   "id": "4dd8246c",
   "metadata": {},
   "outputs": [
    {
     "name": "stdout",
     "output_type": "stream",
     "text": [
      "Hola mundo,Antonio,Hola mundo Antonio,Hola mundo Antonio%"
     ]
    }
   ],
   "source": [
    "print(hello, nombre, saludo, saludo, sep=',', end='%')"
   ]
  },
  {
   "cell_type": "code",
   "execution_count": 31,
   "id": "9d71aefb",
   "metadata": {},
   "outputs": [
    {
     "name": "stdout",
     "output_type": "stream",
     "text": [
      "3.1415 2 amigos\n",
      "1,Python Tricks,Dan Bader\n"
     ]
    }
   ],
   "source": [
    "pi=3.1415\n",
    "print(pi, 2, \"amigos\")\n",
    "print(1, 'Python Tricks', 'Dan Bader', sep=',')"
   ]
  },
  {
   "cell_type": "markdown",
   "id": "4c7ac3a0",
   "metadata": {},
   "source": [
    "## Combinar variables en el texto\n",
    "\n",
    "-   Será útil en muchas ocasiones, combinar en un mensaje de salida una\n",
    "    o más variables.\n",
    "\n",
    "-   Para esto, podemos utilizar el operador `%`."
   ]
  },
  {
   "cell_type": "code",
   "execution_count": 39,
   "id": "a9c05751",
   "metadata": {},
   "outputs": [
    {
     "name": "stdout",
     "output_type": "stream",
     "text": [
      "Hola  Rodrigo   Pi = 3.14\n"
     ]
    }
   ],
   "source": [
    "pi = 3.141592\n",
    "print(\"Hola \", 'Rodrigo', ' ', 'Pi = %0.2f' % pi)"
   ]
  },
  {
   "cell_type": "code",
   "execution_count": 40,
   "id": "a41c5441",
   "metadata": {},
   "outputs": [
    {
     "name": "stdout",
     "output_type": "stream",
     "text": [
      "Hola Rodrigo, Pi=3.1415...\n"
     ]
    }
   ],
   "source": [
    "pi=3.1415\n",
    "print(\"Hola %s, Pi=%0.4f...\" % ('Rodrigo', pi))"
   ]
  },
  {
   "cell_type": "markdown",
   "id": "1f7175b3",
   "metadata": {},
   "source": [
    "- El método más popular y reciente es utilizar [*f-strings*](https://www.geeksforgeeks.org/python/formatted-string-literals-f-strings-python/)\n",
    "\n",
    "\n"
   ]
  },
  {
   "cell_type": "code",
   "execution_count": 43,
   "id": "0ea24b65",
   "metadata": {},
   "outputs": [
    {
     "name": "stdout",
     "output_type": "stream",
     "text": [
      "El valor de Pi es 3.14...\n"
     ]
    }
   ],
   "source": [
    "print(f\"El valor de Pi es {pi:0.2f}...\")"
   ]
  },
  {
   "cell_type": "code",
   "execution_count": 48,
   "id": "93016bb9",
   "metadata": {},
   "outputs": [
    {
     "name": "stdout",
     "output_type": "stream",
     "text": [
      "10,000,000\n"
     ]
    }
   ],
   "source": [
    "n = 10000000\n",
    "print(f\"{n:,}\")"
   ]
  },
  {
   "cell_type": "markdown",
   "id": "ea3e4527",
   "metadata": {},
   "source": [
    "## Entrada vía línea de comandos\n",
    "\n",
    "-   Utilizamos el la función `input(\"\")`.\n",
    "\n",
    "-   Devuelve el valor escrito por el usuario en una variable \n"
   ]
  },
  {
   "cell_type": "code",
   "execution_count": 49,
   "id": "11eaca9b",
   "metadata": {},
   "outputs": [
    {
     "name": "stdout",
     "output_type": "stream",
     "text": [
      "Hola Brian\n"
     ]
    }
   ],
   "source": [
    "nombre = input(\"Ingresa tu nombre: \")\n",
    "print(\"Hola \" + nombre)"
   ]
  },
  {
   "cell_type": "markdown",
   "id": "7e3410c4",
   "metadata": {},
   "source": [
    "\n",
    "-   `input` devuelve objetos de tipo `str`. Al trabajar con números se\n",
    "    deben convertir los tipos:"
   ]
  },
  {
   "cell_type": "code",
   "execution_count": 52,
   "id": "67dabe28",
   "metadata": {},
   "outputs": [
    {
     "data": {
      "text/plain": [
       "16.619011099999998"
      ]
     },
     "execution_count": 52,
     "metadata": {},
     "output_type": "execute_result"
    }
   ],
   "source": [
    "r = float(input(\"Ingresa el radio: \"))\n",
    "area = 3.14159*(r**2)\n",
    "area"
   ]
  },
  {
   "cell_type": "markdown",
   "id": "16b515cc",
   "metadata": {},
   "source": [
    "# Flujo de control\n",
    "\n",
    "## Estructuras condicionales\n",
    "\n",
    "-   Podemos decidir si ejecutar un grupo de instrucciones con la\n",
    "    siguiente estructura. `<condition>` debe ser booleana.\n",
    "    ```python\n",
    "    if <condition>:\n",
    "        <expression>\n",
    "        <expression>\n",
    "        ...\n",
    "    ```\n",
    "\n",
    "-   La cláusula `else` indica las instrucciones a evaluar si la\n",
    "    condicion es falsa.\n",
    "    ```python\n",
    "    if <condition>:\n",
    "        <expression>\n",
    "        ...\n",
    "    else:\n",
    "        <expression>\n",
    "        ...\n",
    "    ```"
   ]
  },
  {
   "cell_type": "code",
   "execution_count": null,
   "id": "f62c2ff9",
   "metadata": {},
   "outputs": [
    {
     "name": "stdout",
     "output_type": "stream",
     "text": [
      "par\n",
      "bye\n"
     ]
    }
   ],
   "source": [
    "a = 2 \n",
    "\n",
    "if (a % 2) == 0:\n",
    "    print('par')\n",
    "else:\n",
    "    print('impar')\n",
    "print('bye')\n"
   ]
  },
  {
   "cell_type": "markdown",
   "id": "bc653ea6",
   "metadata": {},
   "source": [
    "## Condicionales\n",
    "\n",
    "-   La cláusula `elif` permite añadir condiciones adicionales.\n",
    "\n",
    "```python\n",
    "if <condition>:\n",
    "    <expression>\n",
    "    ...\n",
    "elif <condition>:\n",
    "    <expression>\n",
    "    ...\n",
    "else:\n",
    "    <expression>\n",
    "    ...\n",
    "```"
   ]
  },
  {
   "cell_type": "code",
   "execution_count": 11,
   "id": "7445464b",
   "metadata": {},
   "outputs": [
    {
     "name": "stdout",
     "output_type": "stream",
     "text": [
      "joven adulto\n"
     ]
    }
   ],
   "source": [
    "age = int(input('Ingresa tu edad: '))\n",
    "\n",
    "if age >= 1 and age < 18:\n",
    "    print('menor de edad')\n",
    "elif age >= 18 and age <= 30: \n",
    "    print('joven adulto')\n",
    "elif age >= 31 and age <= 50: \n",
    "    print('chavorruco')\n",
    "elif 51 <= age <= 100:\n",
    "    print('abuelito/abuelita')\n",
    "else:\n",
    "    print('error: tu edad no es válida') \n"
   ]
  },
  {
   "cell_type": "markdown",
   "id": "59d077e0",
   "metadata": {},
   "source": [
    "## Bloques de código\n",
    "\n",
    "Las estructuras condicionales definen grupos de instrucciones, conocidos como bloques."
   ]
  },
  {
   "cell_type": "code",
   "execution_count": 16,
   "id": "6eae2d0a",
   "metadata": {},
   "outputs": [
    {
     "name": "stdout",
     "output_type": "stream",
     "text": [
      "x and y are equal\n",
      "therefore, x / y is 1.0\n",
      "thanks!\n"
     ]
    }
   ],
   "source": [
    "x = float(input(\"Enter a number for x: \"))\n",
    "y = float(input(\"Enter a number for y: \"))\n",
    "if x == y:\n",
    "    print(\"x and y are equal\")\n",
    "    if y != 0:\n",
    "        print(\"therefore, x / y is\", x/y)\n",
    "elif x < y:\n",
    "    print(\"x is smaller\")\n",
    "elif x > y:\n",
    "    print(\"y is smaller\")\n",
    "print(\"thanks!\")"
   ]
  },
  {
   "cell_type": "markdown",
   "id": "2d598218",
   "metadata": {},
   "source": [
    "# Estructuras de iteración\n"
   ]
  },
  {
   "cell_type": "markdown",
   "id": "91004320",
   "metadata": {},
   "source": [
    "\n",
    "## Ciclo `while`\n",
    "\n",
    "-   Cuando queremos repetir una expresión mientras que se cumpla una condición.\n",
    "\n",
    "        while <condition>:\n",
    "            <expression>\n",
    "            <expression>\n",
    "            ...\n",
    "\n",
    "-   Nuevamente, `<condition>` debe ser de tipo booleano.\n",
    "\n",
    "-   Si la condición es `True`, el bloque se ejecuta.\n"
   ]
  },
  {
   "cell_type": "code",
   "execution_count": null,
   "id": "1f2f8d45",
   "metadata": {},
   "outputs": [],
   "source": [
    "while False:\n",
    "    print('never prints')"
   ]
  },
  {
   "cell_type": "code",
   "execution_count": 18,
   "id": "29b0c748",
   "metadata": {},
   "outputs": [
    {
     "ename": "KeyboardInterrupt",
     "evalue": "",
     "output_type": "error",
     "traceback": [
      "\u001b[31m---------------------------------------------------------------------------\u001b[39m",
      "\u001b[31mKeyboardInterrupt\u001b[39m                         Traceback (most recent call last)",
      "\u001b[36mCell\u001b[39m\u001b[36m \u001b[39m\u001b[32mIn[18]\u001b[39m\u001b[32m, line 1\u001b[39m\n\u001b[32m----> \u001b[39m\u001b[32m1\u001b[39m \u001b[38;5;28;01mwhile\u001b[39;00m \u001b[38;5;28;01mTrue\u001b[39;00m: \n\u001b[32m      2\u001b[39m     \u001b[38;5;28;01mpass\u001b[39;00m\n",
      "\u001b[31mKeyboardInterrupt\u001b[39m: "
     ]
    }
   ],
   "source": [
    "while True: \n",
    "    pass"
   ]
  },
  {
   "cell_type": "markdown",
   "id": "ccb0119f",
   "metadata": {},
   "source": [
    "## Ejemplo `while`\n",
    "\n",
    "-   Veamos un ejemplo con ciclo `while`."
   ]
  },
  {
   "cell_type": "code",
   "execution_count": 23,
   "id": "9ba9d84c",
   "metadata": {},
   "outputs": [
    {
     "name": "stdout",
     "output_type": "stream",
     "text": [
      "3\n",
      "4\n",
      "end\n"
     ]
    }
   ],
   "source": [
    "# more complicated with while loop\n",
    "n = 3\n",
    "while n < 5:\n",
    "    print(n)\n",
    "    n += 1\n",
    "print('end')"
   ]
  },
  {
   "cell_type": "markdown",
   "id": "f347f3fb",
   "metadata": {},
   "source": [
    "\n",
    "\n",
    "## Ciclos `for`\n",
    "\n",
    "-   Cuando queremos iterar sobre números de una secuencia.\n",
    "\n"
   ]
  },
  {
   "cell_type": "code",
   "execution_count": 24,
   "id": "bd6c7256",
   "metadata": {},
   "outputs": [
    {
     "name": "stdout",
     "output_type": "stream",
     "text": [
      "0\n",
      "1\n",
      "2\n",
      "3\n",
      "4\n"
     ]
    }
   ],
   "source": [
    "# Shortcut with for loop\n",
    "for n in range(5):\n",
    "    print(n)"
   ]
  },
  {
   "cell_type": "code",
   "execution_count": 27,
   "id": "ed1a98e7",
   "metadata": {},
   "outputs": [
    {
     "data": {
      "text/plain": [
       "[0, 1, 2, 3, 4]"
      ]
     },
     "execution_count": 27,
     "metadata": {},
     "output_type": "execute_result"
    }
   ],
   "source": [
    "# range(.) devuelve un objeto especial \n",
    "list(range(5))"
   ]
  },
  {
   "cell_type": "code",
   "execution_count": 29,
   "id": "bed8ca32",
   "metadata": {},
   "outputs": [
    {
     "name": "stdout",
     "output_type": "stream",
     "text": [
      "2\n",
      "3\n",
      "4\n",
      "5\n",
      "6\n",
      "7\n",
      "8\n",
      "9\n"
     ]
    }
   ],
   "source": [
    "for n in range(2,10):\n",
    "    print(n)"
   ]
  },
  {
   "cell_type": "code",
   "execution_count": 34,
   "id": "9703c6c7",
   "metadata": {},
   "outputs": [
    {
     "name": "stdout",
     "output_type": "stream",
     "text": [
      "-2\n",
      "0\n",
      "2\n",
      "4\n",
      "6\n",
      "8\n"
     ]
    }
   ],
   "source": [
    "for n in range(-2,10,2):\n",
    "    print(n)"
   ]
  },
  {
   "cell_type": "code",
   "execution_count": 36,
   "id": "328a1e18",
   "metadata": {},
   "outputs": [],
   "source": [
    "for n in range(0, 10,-1):\n",
    "    print(n)"
   ]
  },
  {
   "cell_type": "markdown",
   "id": "b79762a2",
   "metadata": {},
   "source": [
    "## Ciclos `for`\n",
    "\n",
    "-   En cada iteración, `<variable>` toma un valor.\n",
    "\n",
    "```python\n",
    "for <variable> in range(<some_num>):\n",
    "    <expression>\n",
    "    ...\n",
    "```\n",
    "\n",
    "-   La primera vez, toma el valor más pequeño, `0`.\n",
    "\n",
    "-   La siguiente vez, toma el valor anterior + 1.\n",
    "\n",
    "\n"
   ]
  },
  {
   "cell_type": "markdown",
   "id": "79b1902f",
   "metadata": {},
   "source": [
    "## Función `range`\n",
    "\n",
    "-   Los argumentos `start` y `step` son opcionales.\n",
    "\n",
    "-   Tienen valores por defecto: `start = 0` y `step = 1`.\n",
    "\n",
    "-   El ciclo llega hasta `stop - 1`."
   ]
  },
  {
   "cell_type": "markdown",
   "id": "45a001be",
   "metadata": {},
   "source": [
    "## Ejemplos"
   ]
  },
  {
   "cell_type": "code",
   "execution_count": 43,
   "id": "c56ace79",
   "metadata": {},
   "outputs": [
    {
     "name": "stdout",
     "output_type": "stream",
     "text": [
      "5050\n"
     ]
    }
   ],
   "source": [
    "# Sumamos números de 7 a 9\n",
    "mysum = 0\n",
    "for i in range(1, 101):\n",
    "    mysum = mysum + i\n",
    "print(mysum)"
   ]
  },
  {
   "cell_type": "code",
   "execution_count": 44,
   "id": "7e227d91",
   "metadata": {},
   "outputs": [],
   "source": [
    "# Sumamos números impares\n",
    "mysum = 0\n",
    "for i in range(5, 11, 2):\n",
    "    mysum += i\n",
    "    print(mysum)"
   ]
  },
  {
   "cell_type": "markdown",
   "id": "2e85705f",
   "metadata": {},
   "source": [
    "## Sentencia `break`\n",
    "\n",
    "-   **Fuerza** la salida del ciclo actual.\n",
    "\n",
    "-   Instrucciones posteriores son ignoradas.\n",
    "\n",
    "-   Solamente actúa en el ciclo más interno.\n",
    "\n",
    "```python\n",
    "while <condition_1>:\n",
    "    while <condition_2>:\n",
    "        <expression_A>\n",
    "        if <condition>:\n",
    "            break\n",
    "        <expression_B>\n",
    "    <expression_C>\n",
    "```\n"
   ]
  },
  {
   "cell_type": "code",
   "execution_count": 46,
   "id": "0834e8b7",
   "metadata": {},
   "outputs": [],
   "source": [
    "# Sentencia `break`\n",
    "mysum = 0\n",
    "for i in range(5, 11, 2):\n",
    "    mysum += i\n",
    "    if mysum == 5: \n",
    "        break\n",
    "    print(mysum)\n",
    "\n",
    "print(mysum)"
   ]
  },
  {
   "cell_type": "markdown",
   "id": "6c73b75f",
   "metadata": {},
   "source": [
    "## Ciclos `for` vs. `while`\n",
    "\n",
    "\n",
    "`for`\n",
    "\n",
    "-   Útil cuando se conoce el número de iteraciones.\n",
    "\n",
    "-   Admite `break`.\n",
    "\n",
    "-   Utiliza un contador o lista (en realidad, cualquier *iterable*).\n",
    "\n",
    "-   Se puede reescribir un ciclo `for` utilizando `while`.\n",
    "\n",
    "\n",
    "`while`\n",
    "\n",
    "-   Número de iteraciones no acotado.\n",
    "\n",
    "-   Admite `break`.\n",
    "\n",
    "-   Puede utilizar contador pero debe inicializarlo y actualizarlo en el\n",
    "    ciclo.\n",
    "\n",
    "-   Puede no ser posible reescribir un ciclo `while` utilizando `for`."
   ]
  },
  {
   "cell_type": "markdown",
   "id": "0214ff88",
   "metadata": {},
   "source": [
    "Programa para obtener todos los divisores de un número entero: "
   ]
  },
  {
   "cell_type": "code",
   "execution_count": 49,
   "id": "2b32922a",
   "metadata": {},
   "outputs": [
    {
     "name": "stdout",
     "output_type": "stream",
     "text": [
      "1\n",
      "2\n",
      "4\n",
      "5\n",
      "10\n",
      "20\n",
      "25\n",
      "50\n",
      "100\n"
     ]
    }
   ],
   "source": [
    "x = 100\n",
    "\n",
    "# Para todo i de 1 al x: \n",
    "for i in range(1, x+1):\n",
    "    # Si i es divisor:\n",
    "    if (x % i == 0):\n",
    "        # Imprimir el divisor\n",
    "        print(i)"
   ]
  },
  {
   "cell_type": "code",
   "execution_count": 52,
   "id": "67c31410",
   "metadata": {},
   "outputs": [
    {
     "name": "stdout",
     "output_type": "stream",
     "text": [
      "6 es número perfecto\n"
     ]
    }
   ],
   "source": [
    "# Número perfecto\n",
    "# 6 = 1 + 2 + 3\n",
    "\n",
    "x = 6\n",
    "\n",
    "# Acumulador para la suma\n",
    "acc = 0\n",
    "\n",
    "# Para todo i de 1 al x: \n",
    "for i in range(1, x):\n",
    "    # Si i es divisor:\n",
    "    if (x % i == 0):\n",
    "        # Acumular el divisor\n",
    "        # print(i)\n",
    "        acc += i \n",
    "\n",
    "if (x == acc):\n",
    "    print(f'{x} es número perfecto')\n",
    "else:\n",
    "    print(f'{x} no es número perfecto')"
   ]
  },
  {
   "cell_type": "code",
   "execution_count": 57,
   "id": "36312e91",
   "metadata": {},
   "outputs": [
    {
     "name": "stdout",
     "output_type": "stream",
     "text": [
      "14.9 ns ± 0.858 ns per loop (mean ± std. dev. of 7 runs, 10,000,000 loops each)\n"
     ]
    }
   ],
   "source": [
    "%%timeit \n",
    "2 + 2"
   ]
  },
  {
   "cell_type": "code",
   "execution_count": 64,
   "id": "f240152f",
   "metadata": {},
   "outputs": [
    {
     "name": "stdout",
     "output_type": "stream",
     "text": [
      "6 es número perfecto\n",
      "28 es número perfecto\n",
      "496 es número perfecto\n",
      "8128 es número perfecto\n"
     ]
    }
   ],
   "source": [
    "for x in range(1, 10000):\n",
    "    acc = 0\n",
    "    for i in range(1, x // 2 + 1):\n",
    "        if (x % i == 0):\n",
    "            acc += i \n",
    "    if (x == acc):\n",
    "        print(f'{x} es número perfecto')"
   ]
  }
 ],
 "metadata": {
  "kernelspec": {
   "display_name": "base",
   "language": "python",
   "name": "python3"
  },
  "language_info": {
   "codemirror_mode": {
    "name": "ipython",
    "version": 3
   },
   "file_extension": ".py",
   "mimetype": "text/x-python",
   "name": "python",
   "nbconvert_exporter": "python",
   "pygments_lexer": "ipython3",
   "version": "3.13.5"
  }
 },
 "nbformat": 4,
 "nbformat_minor": 5
}
