{
 "cells": [
  {
   "cell_type": "markdown",
   "id": "6c5d2a0e",
   "metadata": {},
   "source": [
    "# Introducción a las ciencias de la computación *y programación en Python*\n",
    "\n",
    "*Banco de Guatemala*  \n",
    "*PES 2025-2026*  \n",
    "*Programación I*  \n",
    "*Septiembre de 2025*  "
   ]
  },
  {
   "cell_type": "markdown",
   "id": "42a14256-91c8-446e-92a7-ab6bf11055d3",
   "metadata": {},
   "source": [
    "## Introducción\n",
    "\n",
    "- Veremos como obtener una entrada del usuario y generar una salida a través de la línea de comandos.\n",
    "\n",
    "- Hablaremos de las condicionales y de las estructuras de iteración.\n",
    "\n",
    "   \n"
   ]
  },
  {
   "cell_type": "markdown",
   "id": "249eddb7",
   "metadata": {},
   "source": [
    "# Entradas y salidas\n",
    "\n",
    "## Cadenas de texto (introducción)\n",
    "\n",
    "-   Son objetos de tipo no escalar que permiten manejar números, letras,\n",
    "    espacios y caracteres especiales.\n",
    "\n",
    "-   Se encierran en comillas dobles o simples."
   ]
  },
  {
   "cell_type": "code",
   "execution_count": 19,
   "id": "4e049d1a",
   "metadata": {},
   "outputs": [],
   "source": [
    "hello = \"Hola mundo\"\n",
    "hi = 'Hola amigos del PES'"
   ]
  },
  {
   "cell_type": "markdown",
   "id": "4b7dbe6f",
   "metadata": {},
   "source": [
    "-   Podemos concatenar cadenas de texto con el operador `+`:"
   ]
  },
  {
   "cell_type": "code",
   "execution_count": 18,
   "id": "5d66e50c",
   "metadata": {},
   "outputs": [
    {
     "data": {
      "text/plain": [
       "'Hola mundo Antonio'"
      ]
     },
     "execution_count": 18,
     "metadata": {},
     "output_type": "execute_result"
    }
   ],
   "source": [
    "nombre = \"Antonio\"\n",
    "saludo = hello + \" \" + nombre\n",
    "saludo"
   ]
  },
  {
   "cell_type": "markdown",
   "id": "0c83b20b",
   "metadata": {},
   "source": [
    "-   Podemos efectuar otras operaciones:"
   ]
  },
  {
   "cell_type": "code",
   "execution_count": 20,
   "id": "06fa3e4c",
   "metadata": {},
   "outputs": [
    {
     "data": {
      "text/plain": [
       "'AntonioAntonioAntonio'"
      ]
     },
     "execution_count": 20,
     "metadata": {},
     "output_type": "execute_result"
    }
   ],
   "source": [
    "nombre * 3"
   ]
  },
  {
   "cell_type": "code",
   "execution_count": 21,
   "id": "e010eef1",
   "metadata": {},
   "outputs": [
    {
     "data": {
      "text/plain": [
       "'Hola mundo AntonioAntonioAntonio'"
      ]
     },
     "execution_count": 21,
     "metadata": {},
     "output_type": "execute_result"
    }
   ],
   "source": [
    "molesto = hello + \" \" + nombre*3\n",
    "molesto"
   ]
  },
  {
   "cell_type": "markdown",
   "id": "7202ea0a",
   "metadata": {},
   "source": [
    "## Salida en consola\n",
    "\n",
    "-   Utilizamos la función `print`.\n"
   ]
  },
  {
   "cell_type": "code",
   "execution_count": 22,
   "id": "568d8f12",
   "metadata": {},
   "outputs": [
    {
     "name": "stdout",
     "output_type": "stream",
     "text": [
      "Hola mundo\n"
     ]
    }
   ],
   "source": [
    "print(\"Hola mundo\")"
   ]
  },
  {
   "cell_type": "markdown",
   "id": "43a933a8",
   "metadata": {},
   "source": [
    "-   Podemos enviar varios argumentos a la función para imprimirlos\n",
    "    todos. \n",
    "    \n",
    "    Podemos separar los elementos con el caracter especificado en\n",
    "    el argumento `sep=' '`.\n",
    "\n"
   ]
  },
  {
   "cell_type": "code",
   "execution_count": 29,
   "id": "4dd8246c",
   "metadata": {},
   "outputs": [
    {
     "name": "stdout",
     "output_type": "stream",
     "text": [
      "Hola mundo,Antonio,Hola mundo Antonio,Hola mundo Antonio%"
     ]
    }
   ],
   "source": [
    "print(hello, nombre, saludo, saludo, sep=',', end='%')"
   ]
  },
  {
   "cell_type": "code",
   "execution_count": 31,
   "id": "9d71aefb",
   "metadata": {},
   "outputs": [
    {
     "name": "stdout",
     "output_type": "stream",
     "text": [
      "3.1415 2 amigos\n",
      "1,Python Tricks,Dan Bader\n"
     ]
    }
   ],
   "source": [
    "pi=3.1415\n",
    "print(pi, 2, \"amigos\")\n",
    "print(1, 'Python Tricks', 'Dan Bader', sep=',')"
   ]
  },
  {
   "cell_type": "markdown",
   "id": "4c7ac3a0",
   "metadata": {},
   "source": [
    "## Combinar variables en el texto\n",
    "\n",
    "-   Será útil en muchas ocasiones, combinar en un mensaje de salida una\n",
    "    o más variables.\n",
    "\n",
    "-   Para esto, podemos utilizar el operador `%`."
   ]
  },
  {
   "cell_type": "code",
   "execution_count": 39,
   "id": "a9c05751",
   "metadata": {},
   "outputs": [
    {
     "name": "stdout",
     "output_type": "stream",
     "text": [
      "Hola  Rodrigo   Pi = 3.14\n"
     ]
    }
   ],
   "source": [
    "pi = 3.141592\n",
    "print(\"Hola \", 'Rodrigo', ' ', 'Pi = %0.2f' % pi)"
   ]
  },
  {
   "cell_type": "code",
   "execution_count": 40,
   "id": "a41c5441",
   "metadata": {},
   "outputs": [
    {
     "name": "stdout",
     "output_type": "stream",
     "text": [
      "Hola Rodrigo, Pi=3.1415...\n"
     ]
    }
   ],
   "source": [
    "pi=3.1415\n",
    "print(\"Hola %s, Pi=%0.4f...\" % ('Rodrigo', pi))"
   ]
  },
  {
   "cell_type": "markdown",
   "id": "1f7175b3",
   "metadata": {},
   "source": [
    "- El método más popular y reciente es utilizar [*f-strings*](https://www.geeksforgeeks.org/python/formatted-string-literals-f-strings-python/)\n",
    "\n",
    "\n"
   ]
  },
  {
   "cell_type": "code",
   "execution_count": 43,
   "id": "0ea24b65",
   "metadata": {},
   "outputs": [
    {
     "name": "stdout",
     "output_type": "stream",
     "text": [
      "El valor de Pi es 3.14...\n"
     ]
    }
   ],
   "source": [
    "print(f\"El valor de Pi es {pi:0.2f}...\")"
   ]
  },
  {
   "cell_type": "code",
   "execution_count": 48,
   "id": "93016bb9",
   "metadata": {},
   "outputs": [
    {
     "name": "stdout",
     "output_type": "stream",
     "text": [
      "10,000,000\n"
     ]
    }
   ],
   "source": [
    "n = 10000000\n",
    "print(f\"{n:,}\")"
   ]
  },
  {
   "cell_type": "markdown",
   "id": "ea3e4527",
   "metadata": {},
   "source": [
    "## Entrada vía línea de comandos\n",
    "\n",
    "-   Utilizamos el la función `input(\"\")`.\n",
    "\n",
    "-   Devuelve el valor escrito por el usuario en una variable \n"
   ]
  },
  {
   "cell_type": "code",
   "execution_count": 49,
   "id": "11eaca9b",
   "metadata": {},
   "outputs": [
    {
     "name": "stdout",
     "output_type": "stream",
     "text": [
      "Hola Brian\n"
     ]
    }
   ],
   "source": [
    "nombre = input(\"Ingresa tu nombre: \")\n",
    "print(\"Hola \" + nombre)"
   ]
  },
  {
   "cell_type": "markdown",
   "id": "7e3410c4",
   "metadata": {},
   "source": [
    "\n",
    "-   `input` devuelve objetos de tipo `str`. Al trabajar con números se\n",
    "    deben convertir los tipos:"
   ]
  },
  {
   "cell_type": "code",
   "execution_count": 52,
   "id": "67dabe28",
   "metadata": {},
   "outputs": [
    {
     "data": {
      "text/plain": [
       "16.619011099999998"
      ]
     },
     "execution_count": 52,
     "metadata": {},
     "output_type": "execute_result"
    }
   ],
   "source": [
    "r = float(input(\"Ingresa el radio: \"))\n",
    "area = 3.14159*(r**2)\n",
    "area"
   ]
  },
  {
   "cell_type": "markdown",
   "id": "16b515cc",
   "metadata": {},
   "source": [
    "# Flujo de control\n",
    "\n",
    "## Estructuras condicionales\n",
    "\n",
    "-   Podemos decidir si ejecutar un grupo de instrucciones con la\n",
    "    siguiente estructura. `<condition>` debe ser booleana.\n",
    "    ```python\n",
    "    if <condition>:\n",
    "        <expression>\n",
    "        <expression>\n",
    "        ...\n",
    "    ```\n",
    "\n",
    "-   La cláusula `else` indica las instrucciones a evaluar si la\n",
    "    condicion es falsa.\n",
    "    ```python\n",
    "    if <condition>:\n",
    "        <expression>\n",
    "        ...\n",
    "    else:\n",
    "        <expression>\n",
    "        ...\n",
    "    ```"
   ]
  },
  {
   "cell_type": "code",
   "execution_count": 59,
   "id": "c47516a9",
   "metadata": {},
   "outputs": [
    {
     "name": "stdout",
     "output_type": "stream",
     "text": [
      "Número es par\n"
     ]
    }
   ],
   "source": [
    "a = 2\n",
    "\n",
    "if (a % 2) == 0:\n",
    "    print('Número es par')\n",
    "else:\n",
    "    print('Número es impar')\n",
    "    print('Adiós')"
   ]
  },
  {
   "cell_type": "markdown",
   "id": "bc653ea6",
   "metadata": {},
   "source": [
    "## Condicionales\n",
    "\n",
    "-   La cláusula `elif` permite añadir condiciones adicionales.\n",
    "\n",
    "```python\n",
    "if <condition>:\n",
    "    <expression>\n",
    "    ...\n",
    "elif <condition>:\n",
    "    <expression>\n",
    "    ...\n",
    "else:\n",
    "    <expression>\n",
    "    ...\n",
    "```"
   ]
  },
  {
   "cell_type": "markdown",
   "id": "59d077e0",
   "metadata": {},
   "source": [
    "## Bloques de código\n",
    "\n",
    "Las estructuras condicionales definen grupos de instrucciones, conocidos como bloques."
   ]
  },
  {
   "cell_type": "code",
   "execution_count": null,
   "id": "6eae2d0a",
   "metadata": {},
   "outputs": [],
   "source": [
    "x = float(input(\"Enter a number for x: \"))\n",
    "y = float(input(\"Enter a number for y: \"))\n",
    "if x == y:\n",
    "    print(\"x and y are equal\")\n",
    "    if y != 0:\n",
    "        print(\"therefore, x / y is\", x/y)\n",
    "elif x < y:\n",
    "    print(\"x is smaller\")\n",
    "elif x > y:\n",
    "    print(\"y is smaller\")\n",
    "print(\"thanks!\")"
   ]
  },
  {
   "cell_type": "markdown",
   "id": "2d598218",
   "metadata": {},
   "source": [
    "# Estructuras de iteración\n"
   ]
  },
  {
   "cell_type": "markdown",
   "id": "91004320",
   "metadata": {},
   "source": [
    "\n",
    "## Ciclo `while`\n",
    "\n",
    "-   Cuando queremos repetir una expresión hasta que se cumpla una\n",
    "    condición.\n",
    "\n",
    "        while <condition>:\n",
    "            <expression>\n",
    "            <expression>\n",
    "            ...\n",
    "\n",
    "-   Nuevamente, `<condition>` debe ser de tipo booleano.\n",
    "\n",
    "-   Si la condición es `True`, el bloque se ejecuta.\n"
   ]
  },
  {
   "cell_type": "markdown",
   "id": "ccb0119f",
   "metadata": {},
   "source": [
    "## Ejemplo `while`\n",
    "\n",
    "-   Veamos un ejemplo con ciclo `while`."
   ]
  },
  {
   "cell_type": "code",
   "execution_count": null,
   "id": "9ba9d84c",
   "metadata": {},
   "outputs": [],
   "source": [
    "# more complicated with while loop\n",
    "n = 0\n",
    "while n < 5:\n",
    "    print(n)\n",
    "    n = n+1"
   ]
  },
  {
   "cell_type": "markdown",
   "id": "f347f3fb",
   "metadata": {},
   "source": [
    "\n",
    "\n",
    "## Ciclos `for`\n",
    "\n",
    "-   Cuando queremos iterar sobre números de una secuencia.\n",
    "\n"
   ]
  },
  {
   "cell_type": "code",
   "execution_count": null,
   "id": "bd6c7256",
   "metadata": {},
   "outputs": [],
   "source": [
    "# Shortcut with for loop\n",
    "for n in range(5):\n",
    "    print(n)"
   ]
  },
  {
   "cell_type": "markdown",
   "id": "b79762a2",
   "metadata": {},
   "source": [
    "## Ciclos `for`\n",
    "\n",
    "-   En cada iteración, `<variable>` toma un valor.\n",
    "\n",
    "```python\n",
    "for <variable> in range(<some_num>):\n",
    "    <expression>\n",
    "    ...\n",
    "```\n",
    "\n",
    "-   La primera vez, toma el valor más pequeño, `0`.\n",
    "\n",
    "-   La siguiente vez, toma el valor anterior + 1.\n",
    "\n",
    "\n"
   ]
  },
  {
   "cell_type": "markdown",
   "id": "79b1902f",
   "metadata": {},
   "source": [
    "## Función `range`\n",
    "\n",
    "-   Los argumentos `start` y `step` son opcionales.\n",
    "\n",
    "-   Tienen valores por defecto: `start = 0` y `step = 1`.\n",
    "\n",
    "-   El ciclo llega hasta `stop - 1`."
   ]
  },
  {
   "cell_type": "markdown",
   "id": "45a001be",
   "metadata": {},
   "source": [
    "## Ejemplos"
   ]
  },
  {
   "cell_type": "code",
   "execution_count": null,
   "id": "c56ace79",
   "metadata": {},
   "outputs": [],
   "source": [
    "# Sumamos números de 7 a 9\n",
    "mysum = 0\n",
    "for i in range(7, 10):\n",
    "    mysum += i\n",
    "    print(mysum)"
   ]
  },
  {
   "cell_type": "code",
   "execution_count": null,
   "id": "7e227d91",
   "metadata": {},
   "outputs": [],
   "source": [
    "# Sumamos números impares\n",
    "mysum = 0\n",
    "for i in range(5, 11, 2):\n",
    "    mysum += i\n",
    "    print(mysum)"
   ]
  },
  {
   "cell_type": "markdown",
   "id": "2e85705f",
   "metadata": {},
   "source": [
    "## Sentencia `break`\n",
    "\n",
    "-   **Fuerza** la salida del ciclo actual.\n",
    "\n",
    "-   Instrucciones posteriores son ignoradas.\n",
    "\n",
    "-   Solamente actúa en el ciclo más interno.\n",
    "\n",
    "<!-- -->\n",
    "\n",
    "```python\n",
    "while <condition_1>:\n",
    "    while <condition_2>:\n",
    "        <expression_A>\n",
    "        break\n",
    "        <expression_B>\n",
    "    <expression_C>\n",
    "```\n"
   ]
  },
  {
   "cell_type": "code",
   "execution_count": null,
   "id": "0834e8b7",
   "metadata": {},
   "outputs": [],
   "source": [
    "# Sentencia `break`\n",
    "mysum= 0\n",
    "for i in range(5, 11, 2):\n",
    "    mysum += i\n",
    "    if mysum == 5: \n",
    "        break\n",
    "        mysum += 1 \n",
    "print(mysum)"
   ]
  },
  {
   "cell_type": "markdown",
   "id": "6c73b75f",
   "metadata": {},
   "source": [
    "## Ciclos `for` vs. `while`\n",
    "\n",
    "\n",
    "`for`\n",
    "\n",
    "-   Útil cuando se conoce el número de iteraciones.\n",
    "\n",
    "-   Admite `break`.\n",
    "\n",
    "-   Utiliza un contador o lista (en realidad, cualquier *iterable*).\n",
    "\n",
    "-   Se puede reescribir un ciclo `for` utilizando `while`.\n",
    "\n",
    "\n",
    "`while`\n",
    "\n",
    "-   Número de iteraciones no acotado.\n",
    "\n",
    "-   Admite `break`.\n",
    "\n",
    "-   Puede utilizar contador pero debe inicializarlo y actualizarlo en el\n",
    "    ciclo.\n",
    "\n",
    "-   Puede no ser posible reescribir un ciclo `while` utilizando `for`."
   ]
  }
 ],
 "metadata": {
  "kernelspec": {
   "display_name": "base",
   "language": "python",
   "name": "python3"
  },
  "language_info": {
   "codemirror_mode": {
    "name": "ipython",
    "version": 3
   },
   "file_extension": ".py",
   "mimetype": "text/x-python",
   "name": "python",
   "nbconvert_exporter": "python",
   "pygments_lexer": "ipython3",
   "version": "3.13.5"
  }
 },
 "nbformat": 4,
 "nbformat_minor": 5
}
