{
 "cells": [
  {
   "cell_type": "markdown",
   "id": "af206e97",
   "metadata": {},
   "source": [
    "# Introducción a las ciencias de la computación *y programación en Python*\n",
    "\n",
    "*Banco de Guatemala*  \n",
    "*PES 2025-2026*  \n",
    "*Programación I*  \n",
    "*Septiembre de 2025*  "
   ]
  },
  {
   "cell_type": "markdown",
   "id": "50037431",
   "metadata": {},
   "source": [
    "## Introducción\n",
    "\n",
    "> \"*Programs must be written for people to read, and only incidentally for machines to execute.*\" **Harold Abelson, Structure and Interpretation of Computer Programs**\n",
    "\n",
    "- Veremos cómo estructurar programas en funciones para practicar el concepto de abstracción.\n",
    "\n",
    "- Hablaremos de los conceptos de alcance (*scope*) y espacio de nombres\n",
    "(*name space*) en Python."
   ]
  },
  {
   "cell_type": "markdown",
   "id": "b4a6ee5d",
   "metadata": {},
   "source": [
    "# Descomposición y abstracción\n",
    "\n",
    "¿Cómo escribimos código?\n",
    "\n",
    "-   Hasta ahora:\n",
    "\n",
    "    -   Hemos visto algunos mecanismos del lenguaje.\n",
    "\n",
    "    -   Código en un bloque (celda) representa algún cómputo.\n",
    "\n",
    "    -   Cada archivo (celda) es una pieza de código.\n",
    "\n",
    "        -   Cada código es una secuencia de instrucciones.\n"
   ]
  },
  {
   "cell_type": "markdown",
   "id": "a6850383",
   "metadata": {},
   "source": [
    "\n",
    "-   Algunos problemas:\n",
    "\n",
    "    -   Es fácil para problemas a *pequeña escala*.\n",
    "\n",
    "    -   Es **muy desordenado** para problemas más grandes.\n",
    "\n",
    "    -   Es difícil **seguir** los detalles.\n",
    "\n",
    "    -   Información correcta $\\Rightarrow$ parte código del código."
   ]
  },
  {
   "cell_type": "markdown",
   "id": "1863c133",
   "metadata": {},
   "source": [
    "## Buenas prácticas\n",
    "\n",
    "-   Más código **no** es necesariamente algo bueno.\n",
    "\n",
    "-   Cantidad de *funcionalidad* $\\Rightarrow$ buenos programadores.\n",
    "\n",
    "-   Necesitamos un mecanismo para **descomponer** el código y\n",
    "    **abstraer** la funcionalidad.\n",
    "\n",
    "-   Para esto, introducimos las **funciones**.\n"
   ]
  },
  {
   "cell_type": "markdown",
   "id": "ad8e7768",
   "metadata": {},
   "source": [
    "## Abstracción\n",
    "\n",
    "-   Un proyector es una caja negra --- no sabemos cómo funciona.\n",
    "\n",
    "-   Sabemos cómo se utiliza y para qué sirve.\n",
    "\n",
    "-   Conocemos la entrada: cualquier dispositivo electrónico que se pueda\n",
    "    conectar.\n",
    "\n",
    "-   Y la salida que produce.\n",
    "\n",
    "-   Es una caja negra que convierte y magnifica imágenes de la entrada\n",
    "    hacia una pantalla (pared).\n"
   ]
  },
  {
   "cell_type": "markdown",
   "id": "b3389cea",
   "metadata": {},
   "source": [
    "## Descomposición\n",
    "\n",
    "-   Supongamos que queremos proyectar imágenes para las Olimpiadas con\n",
    "    varios proyectores.\n",
    "\n",
    "-   Cada proyector recibe una entrada y produce una salida individual.\n",
    "\n",
    "-   Todos producen una imagen más grande.\n"
   ]
  },
  {
   "cell_type": "markdown",
   "id": "1a715c90",
   "metadata": {},
   "source": [
    "\n",
    "## Crear estructura con la descomposición\n",
    "\n",
    "-   En programación, el código se divide en **módulos**:\n",
    "\n",
    "    -   autocontenidos\n",
    "\n",
    "    -   permiten **separar** el código,\n",
    "\n",
    "    -   **reutilizarlo**,\n",
    "\n",
    "    -   mantenerlo **organizado** y\n",
    "\n",
    "    -   **coherente**."
   ]
  },
  {
   "cell_type": "markdown",
   "id": "4654cb53",
   "metadata": {},
   "source": [
    "## Omitir detalles con la abstracción\n",
    "\n",
    "-   En programación, puede pensarse en una **caja negra**:\n",
    "\n",
    "    -   No se quieren/necesitan ver los detalles.\n",
    "\n",
    "    -   Esconder detalles tediosos en el código.\n",
    "\n",
    "-   Esto lo lograremos con la **especificación adecuada** de una\n",
    "    función:\n",
    "\n",
    "    -   ¿Qué recibe como entradas y qué devuelve como salidas?.\n",
    "\n",
    "-   También será útil definir un **docstring**.\n"
   ]
  },
  {
   "cell_type": "markdown",
   "id": "8ccf5857",
   "metadata": {},
   "source": [
    "# Funciones\n",
    "\n",
    "-   **Piezas** de código reutilizables.\n",
    "\n",
    "-   No se ejecutan hasta ser **llamadas** o **\"invocadas\"**.\n",
    "\n",
    "-   Características:\n",
    "\n",
    "    -   Nombre\n",
    "\n",
    "    -   Parámetros (0 o más)\n",
    "\n",
    "    -   *docstring*\n",
    "\n",
    "    -   cuerpo\n",
    "\n",
    "    -   devuelven un resultado (opcionalmente)\n",
    "\n"
   ]
  },
  {
   "cell_type": "markdown",
   "id": "d6a6fe33",
   "metadata": {},
   "source": [
    "## Ejemplo\n",
    "\n",
    "-   Veamos una función sencilla"
   ]
  },
  {
   "cell_type": "code",
   "execution_count": 11,
   "id": "5dcaeb36",
   "metadata": {},
   "outputs": [],
   "source": [
    "# Def. de funcion par\n",
    "def esPar(i):\n",
    "    \"\"\" \n",
    "    Input: i, entero positivo\n",
    "    Devuelve True si i es par, si no, False\n",
    "    # \"\"\"\n",
    "    remainder = i % 2\n",
    "    return remainder == 0"
   ]
  },
  {
   "cell_type": "code",
   "execution_count": 12,
   "id": "4e5da754",
   "metadata": {},
   "outputs": [
    {
     "data": {
      "text/plain": [
       "(True, False)"
      ]
     },
     "execution_count": 12,
     "metadata": {},
     "output_type": "execute_result"
    }
   ],
   "source": [
    "esPar(10), esPar(11)"
   ]
  },
  {
   "cell_type": "code",
   "execution_count": 10,
   "id": "5e23a85a",
   "metadata": {},
   "outputs": [
    {
     "name": "stdout",
     "output_type": "stream",
     "text": [
      "\u001b[31mSignature:\u001b[39m esPar(i)\n",
      "\u001b[31mDocstring:\u001b[39m\n",
      "Input: i, entero positivo\n",
      "Devuelve True si i es par, si no, False\n",
      "# \n",
      "\u001b[31mFile:\u001b[39m      c:\\users\\lenovo\\appdata\\local\\temp\\ipykernel_21984\\1625406906.py\n",
      "\u001b[31mType:\u001b[39m      function"
     ]
    }
   ],
   "source": [
    "?esPar"
   ]
  },
  {
   "cell_type": "code",
   "execution_count": 5,
   "id": "11f3a918",
   "metadata": {},
   "outputs": [
    {
     "name": "stdout",
     "output_type": "stream",
     "text": [
      "\u001b[31mSignature:\u001b[39m math.sqrt(x, /)\n",
      "\u001b[31mDocstring:\u001b[39m Return the square root of x.\n",
      "\u001b[31mType:\u001b[39m      builtin_function_or_method"
     ]
    }
   ],
   "source": [
    "import math\n",
    "?math.sqrt"
   ]
  },
  {
   "cell_type": "markdown",
   "id": "fe7521e6",
   "metadata": {},
   "source": [
    "## Alcance (*s*cope) de las variables\n",
    "\n",
    "-   Una función crea un nuevo ambiente/marco/*scope* **cuando se\n",
    "    ejecuta**.\n",
    "\n",
    "-   **scope** se refiere al mapeo de nombres a objetos.\n",
    "\n",
    "-   El parámetro formal recibe el valor del parámetro real."
   ]
  },
  {
   "cell_type": "code",
   "execution_count": 14,
   "id": "20074e1a",
   "metadata": {},
   "outputs": [
    {
     "name": "stdout",
     "output_type": "stream",
     "text": [
      "dentro de f(x): x = 4\n"
     ]
    },
    {
     "data": {
      "text/plain": [
       "4"
      ]
     },
     "execution_count": 14,
     "metadata": {},
     "output_type": "execute_result"
    }
   ],
   "source": [
    "def f(x):\n",
    "        x = x + 1\n",
    "        print('dentro de f(x): x =', x)\n",
    "        return x\n",
    "\n",
    "x = 3\n",
    "z = f( x )\n",
    "z"
   ]
  },
  {
   "cell_type": "markdown",
   "id": "2985af2d",
   "metadata": {},
   "source": [
    "[Ver en Python Tutor](http://www.pythontutor.com/visualize.html#code=def%20f%28x%29%3A%0A%20%20%20%20x%20%3D%20x%20%2B%201%0A%20%20%20%20print%28'in%20f%28x%29%3A%20x%20%3D',%20x%29%0A%20%20%20%20return%20x%0A%0Ax%20%3D%203%0Az%20%3D%20f%28%20x%20%3D%20x%20%29&cumulative=false&curInstr=0&heapPrimitives=nevernest&mode=display&origin=opt-frontend.js&py=3&rawInputLstJSON=%5B%5D&textReferences=false)"
   ]
  },
  {
   "cell_type": "markdown",
   "id": "50a4a205",
   "metadata": {},
   "source": [
    "## Funciones sin `return`\n",
    "\n",
    "-   También llamadas procedimientos.\n",
    "\n",
    "-   En Python, devuelven `None` (ausencia de valor)."
   ]
  },
  {
   "cell_type": "code",
   "execution_count": 25,
   "id": "09661fce",
   "metadata": {},
   "outputs": [],
   "source": [
    "# Def. de funcion par\n",
    "def esPar(i):\n",
    "    \"\"\" \n",
    "    Input: i, entero positivo\n",
    "    Imprime True si i es par, si no, False\n",
    "    \"\"\"\n",
    "    remainder = i % 2\n",
    "    print(remainder == 0)"
   ]
  },
  {
   "cell_type": "code",
   "execution_count": null,
   "id": "3fdb34a3",
   "metadata": {},
   "outputs": [
    {
     "name": "stdout",
     "output_type": "stream",
     "text": [
      "True\n"
     ]
    }
   ],
   "source": [
    "esPar(10) # pero no devuelve ningún valor"
   ]
  },
  {
   "cell_type": "markdown",
   "id": "f185a4f1",
   "metadata": {},
   "source": [
    "## `return` vs. `print`\n",
    "\n",
    "### `return`:\n",
    "\n",
    "-   Significado dentro de una función.\n",
    "-   Se ejecuta **solo uno**.\n",
    "-   Después de `return`, código es ignorado.\n",
    "-   Tiene valor asociado, devuelto a quién invoca la función.\n",
    "\n",
    "### `print`\n",
    "-   Puede ser utilizado fuera de una función.\n",
    "-   Pueden ejecutarse **varios**.\n",
    "-   Después de `print`, código es ejecutado.\n",
    "-   Devuelve `None`, pero su salida es hacia la **consola**."
   ]
  },
  {
   "cell_type": "markdown",
   "id": "c1929b93",
   "metadata": {},
   "source": [
    "## Scope (ambiente/alcance)\n",
    "\n",
    "-   Dentro de una función, **se puede acceder** a una variable definida\n",
    "    afuera."
   ]
  },
  {
   "cell_type": "code",
   "execution_count": 30,
   "id": "fadcbab4",
   "metadata": {},
   "outputs": [
    {
     "data": {
      "text/plain": [
       "1.4142135623730951"
      ]
     },
     "execution_count": 30,
     "metadata": {},
     "output_type": "execute_result"
    }
   ],
   "source": [
    "from math import sqrt\n",
    "\n",
    "sqrt(2)"
   ]
  },
  {
   "cell_type": "code",
   "execution_count": 31,
   "id": "bd8443f9",
   "metadata": {},
   "outputs": [
    {
     "name": "stdout",
     "output_type": "stream",
     "text": [
      "Dentro 5\n",
      "Dentro 10\n",
      "Fuera 5\n"
     ]
    }
   ],
   "source": [
    "def g(y):\n",
    "        print('Dentro', x)\n",
    "        print('Dentro', x+y)\n",
    "\n",
    "x = 5\n",
    "g(x)\n",
    "print('Fuera', x)\n"
   ]
  },
  {
   "cell_type": "markdown",
   "id": "8368fb35",
   "metadata": {},
   "source": [
    "-   Otro ejemplo:"
   ]
  },
  {
   "cell_type": "code",
   "execution_count": 32,
   "id": "9813cf69",
   "metadata": {},
   "outputs": [
    {
     "name": "stdout",
     "output_type": "stream",
     "text": [
      "5\n",
      "5\n"
     ]
    }
   ],
   "source": [
    "def g(y):\n",
    "    print(y)\n",
    "\n",
    "x = 5\n",
    "g(x)\n",
    "print(x)"
   ]
  },
  {
   "cell_type": "markdown",
   "id": "148cb143",
   "metadata": {},
   "source": [
    "[Ver en Python Tutor](https://pythontutor.com/render.html#code=def%20g%28y%29%3A%0A%20%20%20%20print%28x%29%0A%0Ax%20%3D%205%0Ag%28x%29%0Aprint%28x%29&cumulative=false&curInstr=0&heapPrimitives=nevernest&mode=display&origin=opt-frontend.js&py=311&rawInputLstJSON=%5B%5D&textReferences=false)"
   ]
  },
  {
   "cell_type": "markdown",
   "id": "be827bc5",
   "metadata": {},
   "source": [
    "## Scope (ambiente/alcance)\n",
    "\n",
    "-   Dentro de una función, **no se puede modificar una variable definida afuera.** \n",
    "\n",
    "-   La excepción es cuando la variable es mutable, por ejemplo, una lista o un diccionario.\n"
   ]
  },
  {
   "cell_type": "code",
   "execution_count": 42,
   "id": "039bf4e6",
   "metadata": {},
   "outputs": [
    {
     "name": "stdout",
     "output_type": "stream",
     "text": [
      "5\n"
     ]
    }
   ],
   "source": [
    "def h(x):\n",
    "    x = x + 1\n",
    "\n",
    "x = 5\n",
    "h(y)\n",
    "print(x)"
   ]
  },
  {
   "cell_type": "code",
   "execution_count": 43,
   "id": "24770149",
   "metadata": {},
   "outputs": [],
   "source": [
    "del x"
   ]
  },
  {
   "cell_type": "code",
   "execution_count": 44,
   "id": "f6e4b8f0",
   "metadata": {},
   "outputs": [
    {
     "ename": "NameError",
     "evalue": "name 'x' is not defined",
     "output_type": "error",
     "traceback": [
      "\u001b[31m---------------------------------------------------------------------------\u001b[39m",
      "\u001b[31mNameError\u001b[39m                                 Traceback (most recent call last)",
      "\u001b[36mCell\u001b[39m\u001b[36m \u001b[39m\u001b[32mIn[44]\u001b[39m\u001b[32m, line 1\u001b[39m\n\u001b[32m----> \u001b[39m\u001b[32m1\u001b[39m \u001b[43mx\u001b[49m\n",
      "\u001b[31mNameError\u001b[39m: name 'x' is not defined"
     ]
    }
   ],
   "source": [
    "x"
   ]
  },
  {
   "cell_type": "markdown",
   "id": "a7655e6b",
   "metadata": {},
   "source": [
    "\n",
    "-   [¿Cómo funcionan los argumentos en\n",
    "    Python?](https://www.python-course.eu/python3_passing_arguments.php)"
   ]
  },
  {
   "cell_type": "markdown",
   "id": "dfc4d8c9",
   "metadata": {},
   "source": [
    "## Detalles en el *scope*\n",
    "\n",
    "-   Veamos un ejemplo más detallado:"
   ]
  },
  {
   "cell_type": "code",
   "execution_count": 45,
   "id": "f750b5e4",
   "metadata": {},
   "outputs": [
    {
     "name": "stdout",
     "output_type": "stream",
     "text": [
      "in g(x): x = 4\n"
     ]
    },
    {
     "data": {
      "text/plain": [
       "4"
      ]
     },
     "execution_count": 45,
     "metadata": {},
     "output_type": "execute_result"
    }
   ],
   "source": [
    "def g(x):\n",
    "    def h():\n",
    "        x = 'abc'\n",
    "    x = x + 1\n",
    "    print('in g(x): x =', x)\n",
    "    h()\n",
    "    return x\n",
    "\n",
    "x = 3\n",
    "z = g(x)\n",
    "z"
   ]
  },
  {
   "cell_type": "markdown",
   "id": "0dbe4879",
   "metadata": {},
   "source": [
    "-   [Ver en Python Tutor](https://pythontutor.com/render.html#code=def%20g%28x%29%3A%0A%20%20%20%20def%20h%28%29%3A%0A%20%20%20%20%20%20%20%20x%20%3D%20'abc'%0A%20%20%20%20x%20%3D%20x%20%2B%201%0A%20%20%20%20print%28'in%20g%28x%29%3A%20x%20%3D',%20x%29%0A%20%20%20%20h%28%29%0A%20%20%20%20return%20x%0A%0Ax%20%3D%203%0Az%20%3D%20g%28x%29&cumulative=false&curInstr=0&heapPrimitives=nevernest&mode=display&origin=opt-frontend.js&py=311&rawInputLstJSON=%5B%5D&textReferences=false)"
   ]
  },
  {
   "cell_type": "markdown",
   "id": "e468ddce",
   "metadata": {},
   "source": [
    "## Descomposición y abstracción\n",
    "\n",
    "-   Concepto **poderoso**.\n",
    "\n",
    "-   El código es **REUTILIZABLE** y solamente tiene que ser **depurado**\n",
    "    una vez."
   ]
  },
  {
   "cell_type": "code",
   "execution_count": null,
   "id": "c21abeac",
   "metadata": {},
   "outputs": [],
   "source": [
    "def isdivisor(x, y): \n",
    "    return y % x == 0"
   ]
  },
  {
   "cell_type": "code",
   "execution_count": 51,
   "id": "659a5aef",
   "metadata": {},
   "outputs": [],
   "source": [
    "def sumofdivisors(x):\n",
    "    # Para todo i de 1 al x: \n",
    "    acc = 0\n",
    "    for i in range(1, x // 2 + 1):\n",
    "        if isdivisor(i, x):\n",
    "            acc += i\n",
    "    return acc"
   ]
  },
  {
   "cell_type": "code",
   "execution_count": null,
   "id": "61d93e03",
   "metadata": {},
   "outputs": [],
   "source": [
    "def isperfect(n):\n",
    "    return n == sumofdivisors(n)"
   ]
  },
  {
   "cell_type": "code",
   "execution_count": 59,
   "id": "70369df9",
   "metadata": {},
   "outputs": [
    {
     "data": {
      "text/plain": [
       "True"
      ]
     },
     "execution_count": 59,
     "metadata": {},
     "output_type": "execute_result"
    }
   ],
   "source": [
    "isperfect(28)"
   ]
  },
  {
   "cell_type": "code",
   "execution_count": 60,
   "id": "8b537576",
   "metadata": {},
   "outputs": [
    {
     "name": "stdout",
     "output_type": "stream",
     "text": [
      "6 es número perfecto\n",
      "28 es número perfecto\n",
      "496 es número perfecto\n",
      "8128 es número perfecto\n"
     ]
    }
   ],
   "source": [
    "for x in range(1, 10000):\n",
    "    if isperfect(x):\n",
    "        print(f'{x} es número perfecto')"
   ]
  },
  {
   "cell_type": "code",
   "execution_count": null,
   "id": "968f45c9",
   "metadata": {},
   "outputs": [
    {
     "name": "stdout",
     "output_type": "stream",
     "text": [
      "6 es número perfecto\n",
      "28 es número perfecto\n",
      "496 es número perfecto\n",
      "8128 es número perfecto\n"
     ]
    }
   ],
   "source": [
    "def isdivisor(x, y): \n",
    "    residual = y % x\n",
    "    return (residual == 0)\n",
    "\n",
    "def sumofdivisors(x):\n",
    "    acc = 0\n",
    "    for i in range(1, x // 2 + 1):\n",
    "        if isdivisor(i, x):\n",
    "            acc += i\n",
    "    return acc \n",
    "\n",
    "def isperfect(n):\n",
    "    return n == sumofdivisors(n)\n",
    "\n",
    "for x in range(1, 10000):\n",
    "    if isperfect(x):\n",
    "        print(f'{x} es número perfecto')"
   ]
  },
  {
   "cell_type": "markdown",
   "id": "801b03b3",
   "metadata": {},
   "source": [
    "## Python Extras"
   ]
  },
  {
   "cell_type": "code",
   "execution_count": 84,
   "id": "8e19de36",
   "metadata": {},
   "outputs": [
    {
     "name": "stdout",
     "output_type": "stream",
     "text": [
      "y=2\n"
     ]
    },
    {
     "data": {
      "text/plain": [
       "6"
      ]
     },
     "execution_count": 84,
     "metadata": {},
     "output_type": "execute_result"
    }
   ],
   "source": [
    "def f(x,y=1,z=1):\n",
    "    print(f'y={y}')\n",
    "    return x+y+z\n",
    "\n",
    "f(1, 2, 3)"
   ]
  },
  {
   "cell_type": "code",
   "execution_count": 90,
   "id": "cd514850",
   "metadata": {},
   "outputs": [
    {
     "name": "stdout",
     "output_type": "stream",
     "text": [
      "(1, 1, 1, 1, 1)\n"
     ]
    },
    {
     "data": {
      "text/plain": [
       "10"
      ]
     },
     "execution_count": 90,
     "metadata": {},
     "output_type": "execute_result"
    }
   ],
   "source": [
    "def g(x, y, *z):\n",
    "    res = x + y + sum(z)\n",
    "    print(z)\n",
    "    return res\n",
    "\n",
    "g(2,3,1,1,1,1,1)"
   ]
  },
  {
   "cell_type": "code",
   "execution_count": 91,
   "id": "9183c7ec",
   "metadata": {},
   "outputs": [
    {
     "data": {
      "text/plain": [
       "5"
      ]
     },
     "execution_count": 91,
     "metadata": {},
     "output_type": "execute_result"
    }
   ],
   "source": [
    "sum((1, 1, 1, 1, 1))"
   ]
  },
  {
   "cell_type": "code",
   "execution_count": 94,
   "id": "00f45683",
   "metadata": {},
   "outputs": [
    {
     "data": {
      "text/plain": [
       "1.0"
      ]
     },
     "execution_count": 94,
     "metadata": {},
     "output_type": "execute_result"
    }
   ],
   "source": [
    "import math \n",
    "def phi(x, mu=0, sigma=1):\n",
    "    proppdf = math.exp(-((x-mu)**2)/(2*sigma**2))\n",
    "    return proppdf\n",
    "\n",
    "phi(0)"
   ]
  },
  {
   "cell_type": "code",
   "execution_count": 96,
   "id": "f7b0cffb",
   "metadata": {},
   "outputs": [
    {
     "name": "stdout",
     "output_type": "stream",
     "text": [
      "Posicional:  1\n",
      "Posicional variables:  ()\n",
      "Nombrados variables:  {}\n"
     ]
    }
   ],
   "source": [
    "def h(x, *args, **kwargs):\n",
    "    print('Posicional: ', x)\n",
    "    print('Posicional variables: ', args)\n",
    "    print('Nombrados variables: ', kwargs)\n",
    "\n",
    "h(1)"
   ]
  },
  {
   "cell_type": "code",
   "execution_count": null,
   "id": "df48e0b1",
   "metadata": {},
   "outputs": [
    {
     "name": "stdout",
     "output_type": "stream",
     "text": [
      "Posicional:  1\n",
      "Posicional variables:  (2, 2, 3, 4)\n",
      "Nombrados variables:  {}\n"
     ]
    }
   ],
   "source": [
    "h(1, 2,2,3,4)"
   ]
  },
  {
   "cell_type": "code",
   "execution_count": null,
   "id": "a5e8a154",
   "metadata": {},
   "outputs": [
    {
     "name": "stdout",
     "output_type": "stream",
     "text": [
      "Posicional:  1\n",
      "Posicional variables:  (2, 2, 3, 4)\n",
      "Nombrados variables:  {'tolerance': 1e-08, 'numiterations': 1000}\n"
     ]
    }
   ],
   "source": [
    "h(1, 2,2,3,4, tolerance=1e-8, numiterations=1000)"
   ]
  }
 ],
 "metadata": {
  "kernelspec": {
   "display_name": "base",
   "language": "python",
   "name": "python3"
  },
  "language_info": {
   "codemirror_mode": {
    "name": "ipython",
    "version": 3
   },
   "file_extension": ".py",
   "mimetype": "text/x-python",
   "name": "python",
   "nbconvert_exporter": "python",
   "pygments_lexer": "ipython3",
   "version": "3.13.5"
  }
 },
 "nbformat": 4,
 "nbformat_minor": 5
}
