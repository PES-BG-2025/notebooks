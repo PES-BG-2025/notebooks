{
 "cells": [
  {
   "cell_type": "code",
   "execution_count": null,
   "id": "308e6d6d",
   "metadata": {},
   "outputs": [],
   "source": [
    "def f(x,y):\n",
    "    z = 2*x + y \n",
    "    w = z**2\n",
    "    return z + w"
   ]
  },
  {
   "cell_type": "code",
   "execution_count": null,
   "id": "d17c3838",
   "metadata": {},
   "outputs": [],
   "source": [
    "f(3.3,2.0)"
   ]
  },
  {
   "cell_type": "code",
   "execution_count": null,
   "id": "08ce69b6",
   "metadata": {},
   "outputs": [],
   "source": [
    "# Función anónima\n",
    "h = lambda x,y : (2*x + y) + (2*x + y)**2\n",
    "h"
   ]
  },
  {
   "cell_type": "code",
   "execution_count": null,
   "id": "38054f09",
   "metadata": {},
   "outputs": [],
   "source": [
    "f(2,2)"
   ]
  },
  {
   "cell_type": "code",
   "execution_count": null,
   "id": "bfd0ae27",
   "metadata": {},
   "outputs": [],
   "source": [
    "h(2,2)"
   ]
  },
  {
   "cell_type": "code",
   "execution_count": null,
   "id": "6c7a1eba",
   "metadata": {},
   "outputs": [],
   "source": [
    "def f(x,y,z):\n",
    "    r = 2*x + y \n",
    "    w = z**2\n",
    "    return r + w + z\n",
    "\n",
    "# Reducir el número de argumentos de una función para invocarla\n",
    "# Closure\n",
    "h = lambda x: f(x, 2, 1)\n",
    "h(2)\n",
    "    "
   ]
  },
  {
   "cell_type": "code",
   "execution_count": null,
   "id": "8413c3d6",
   "metadata": {},
   "outputs": [],
   "source": [
    "h(2) == f(2, 2, 1)"
   ]
  },
  {
   "cell_type": "code",
   "execution_count": null,
   "id": "d0bc5851",
   "metadata": {},
   "outputs": [],
   "source": [
    "def f(x, data, alpha=1.2): \n",
    "    return (sum(data)**alpha)*x + 10\n",
    "    \n",
    "# Datos son 'data' \n",
    "# Parámetros son 'alpha'\n",
    "f(2, [1,2,3])  \n",
    "f(2, [1,2,3], 2.3)  "
   ]
  },
  {
   "cell_type": "code",
   "execution_count": null,
   "id": "53faaccf",
   "metadata": {},
   "outputs": [],
   "source": [
    "g = lambda x: f(x, [2,3,4,5,1], alpha=1.5)\n",
    "g"
   ]
  },
  {
   "cell_type": "code",
   "execution_count": null,
   "id": "37c6db97",
   "metadata": {},
   "outputs": [],
   "source": [
    "g(2)"
   ]
  },
  {
   "cell_type": "code",
   "execution_count": 4,
   "id": "9ef7678a",
   "metadata": {},
   "outputs": [],
   "source": [
    "def f(x, a, b, c): \n",
    "    return a*(x**2)+b*x + c\n",
    "\n",
    "def minimize(f, range_, n=1000):\n",
    "    a = min(range_)\n",
    "    b = max(range_)\n",
    "    delta_x = (b-a) / n \n",
    "    \n",
    "    min_ = 100000000000\n",
    "    minimizer_ = a\n",
    "    for i in range(n): \n",
    "        xi = a + delta_x*i \n",
    "        if f(xi) < min_: \n",
    "            min_ = f(xi)\n",
    "            minimizer_ = xi\n",
    "\n",
    "    return minimizer_, min_\n"
   ]
  },
  {
   "cell_type": "code",
   "execution_count": 7,
   "id": "69aa5525",
   "metadata": {},
   "outputs": [
    {
     "data": {
      "text/plain": [
       "(-0.5999999999999996, 0.76)"
      ]
     },
     "execution_count": 7,
     "metadata": {},
     "output_type": "execute_result"
    }
   ],
   "source": [
    "h = lambda x: f(x, 1, 1, 1)\n",
    "minimize(h, [-10, 10], n=100)"
   ]
  }
 ],
 "metadata": {
  "kernelspec": {
   "display_name": "base",
   "language": "python",
   "name": "python3"
  },
  "language_info": {
   "codemirror_mode": {
    "name": "ipython",
    "version": 3
   },
   "file_extension": ".py",
   "mimetype": "text/x-python",
   "name": "python",
   "nbconvert_exporter": "python",
   "pygments_lexer": "ipython3",
   "version": "3.13.5"
  }
 },
 "nbformat": 4,
 "nbformat_minor": 5
}
