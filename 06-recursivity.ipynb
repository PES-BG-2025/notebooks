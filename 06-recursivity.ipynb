{
 "cells": [
  {
   "cell_type": "markdown",
   "id": "92d95ccf",
   "metadata": {},
   "source": [
    "# Introducción a las ciencias de la computación *y programación en Python*\n",
    "\n",
    "*Banco de Guatemala*  \n",
    "*PES 2025-2026*  \n",
    "*Programación I*  \n",
    "*Septiembre de 2025*  "
   ]
  },
  {
   "cell_type": "markdown",
   "id": "3b2b9838",
   "metadata": {},
   "source": [
    "## Abstract\n",
    "> \"**Talk is cheap. Show me the code.**\" *Linus Torvalds*\n",
    "\n",
    "- Hablaremos del concepto de recursión y veremos sus aplicaciones."
   ]
  },
  {
   "cell_type": "markdown",
   "id": "3a34e710",
   "metadata": {},
   "source": [
    "# Recursión\n"
   ]
  },
  {
   "cell_type": "markdown",
   "id": "da4f93d0",
   "metadata": {},
   "source": [
    "## ¿Qué es recursión?\n",
    "\n",
    "Es una forma en la cual se especifica un proceso basado en su propia\n",
    "definición.\n",
    "\n",
    "-   Algorítmicamente: una forma de utilizar divide y conquistarás.\n",
    "\n",
    "    -   Reducir un problema a versiones más simples del mismo problema.\n",
    "\n",
    "-   Semánticamente: técnica de programación donde una función **se llama\n",
    "    a sí misma**.\n",
    "\n",
    "    -   La meta es **no** tener recursión infinita.\n",
    "\n",
    "    -   Deben existir **uno o más** casos base, simples de resolver.\n",
    "\n",
    "    -   Debe permitir resolver el mismo problema con otras entradas para\n",
    "        **simplificar** el problema más grande inicial."
   ]
  },
  {
   "cell_type": "markdown",
   "id": "85cc5f41",
   "metadata": {},
   "source": [
    "## Algoritmos iterativos\n",
    "\n",
    "-   Las estructuras iterativas (ciclos `while` y `for`) llevan a los\n",
    "    **algoritmos iterativos**.\n",
    "\n",
    "-   Capturan la computación en un conjunto de **variables de estado**\n",
    "    que se actualizan en cada iteración del ciclo."
   ]
  },
  {
   "cell_type": "code",
   "execution_count": null,
   "id": "d016b237",
   "metadata": {},
   "outputs": [],
   "source": [
    "def mult_iter(a, b): \n",
    "    result = 0\n",
    "    while b > 0: \n",
    "        result += a\n",
    "        b -= 1\n",
    "    return result"
   ]
  },
  {
   "cell_type": "markdown",
   "id": "74fff6ec",
   "metadata": {},
   "source": [
    "-   El estado es capturado por la variable de iteración `i`.\n",
    "\n",
    "-   El valor actual de la computación es almacenado:\n",
    "    `result = result + a`."
   ]
  },
  {
   "cell_type": "markdown",
   "id": "abb54d9e",
   "metadata": {},
   "source": [
    "## Algoritmos recursivos"
   ]
  },
  {
   "cell_type": "code",
   "execution_count": null,
   "id": "5f67674b",
   "metadata": {},
   "outputs": [],
   "source": [
    "def mult_recur(a, b):\n",
    "    if b == 1:\n",
    "        return a\n",
    "    else:\n",
    "        return a + mult_recur(a, b-1)"
   ]
  },
  {
   "cell_type": "markdown",
   "id": "565aaac8",
   "metadata": {},
   "source": [
    "\n",
    "$$\\begin{split}\n",
    "    a * b & = \\underbrace{a + a + \\ldots + a}_{\\text{$b$ veces}}\\\\\n",
    "    ~ & = a + \\underbrace{a + a + \\ldots + a}_{\\text{$b-1$ veces}}\\\\\n",
    "    ~ & = a + a(b-1) \n",
    "\\end{split}$$"
   ]
  },
  {
   "cell_type": "markdown",
   "id": "4ab44268",
   "metadata": {},
   "source": [
    "###   Paso recursivo\n",
    "\n",
    "-   ¿Cómo reducir el problema a una versión más simple / pequeña del mismo problema?\n",
    "\n",
    "###  Caso base\n",
    "\n",
    "-   Seguir reduciendo el problema hasta obtener uno suficientemente simple que pueda ser resuelto directamente.\n",
    "\n",
    "-   Cuando $b = 1$, $ab=a$"
   ]
  },
  {
   "cell_type": "markdown",
   "id": "4117d9fc",
   "metadata": {},
   "source": [
    "## Factorial\n",
    "\n",
    "-   Recordemos que $n! = n*(n-1)*(n-2)*\\ldots*1$.\n",
    "\n",
    "\n",
    "\n",
    "-   **Caso base:** ¿para qué caso conocemos el factorial?\n",
    "\n",
    "\n",
    "\n",
    "-   **Paso recursivo:** escribimos el problema en términos de uno más simple para alcanzar el caso base.\n",
    "\n",
    "            "
   ]
  },
  {
   "cell_type": "code",
   "execution_count": null,
   "id": "171570ad",
   "metadata": {},
   "outputs": [],
   "source": [
    "def factorial(n):\n",
    "    if n == 1: \n",
    "        return 1\n",
    "    else: \n",
    "        return n * factorial(n-1)"
   ]
  },
  {
   "cell_type": "markdown",
   "id": "8107a600",
   "metadata": {},
   "source": [
    "-   [Ver en Python\n",
    "    Tutor](http://pythontutor.com/visualize.html#code=def%20fact%28n%29%3A%20%0A%20%20%20%20if%20n%20%3D%3D%201%3A%0A%20%20%20%20%20%20%20%20return%201%20%0A%20%20%20%20else%3A%0A%20%20%20%20%20%20%20%20return%20n*fact%28n-1%29%0A%20%20%20%20%20%20%20%20%0Aprint%28fact%284%29%29&cumulative=false&curInstr=9&heapPrimitives=nevernest&mode=display&origin=opt-frontend.js&py=3&rawInputLstJSON=%5B%5D&textReferences=false)"
   ]
  },
  {
   "cell_type": "code",
   "execution_count": null,
   "id": "4f6f2f05",
   "metadata": {},
   "outputs": [],
   "source": [
    "def factorial(n): \n",
    "    if n == 1:\n",
    "        return 1 \n",
    "    else:\n",
    "        return n * factorial(n-1)\n",
    "            \n",
    "print(factorial(4))"
   ]
  },
  {
   "cell_type": "markdown",
   "id": "3b6699fd",
   "metadata": {},
   "source": [
    "![image](figs/recursion/recursion-factorial-scope.png){width=\"60%\"}\n"
   ]
  },
  {
   "cell_type": "markdown",
   "id": "0beab0b3",
   "metadata": {},
   "source": [
    "## Recursividad: observaciones\n",
    "\n",
    "-   Cada llamada a una función recursiva **crea su propio\n",
    "    scope/ambiente**.\n",
    "\n",
    "-   Las asignaciones de variables en un ambiente no son afectadas por\n",
    "    una llamada recursiva[^1].\n",
    "\n",
    "-   El flujo de control regresa al **ambiente previo** cuando la llamada\n",
    "    a la función retorna su valor.\n",
    "[^1]: Al utilizar el mismo nombre de variable, pero son objetos\n",
    "    diferentes en ambientes separados"
   ]
  },
  {
   "cell_type": "markdown",
   "id": "34a6d7e1",
   "metadata": {},
   "source": [
    "# Iteración vs. Recursión\n"
   ]
  },
  {
   "cell_type": "code",
   "execution_count": null,
   "id": "36574f29",
   "metadata": {},
   "outputs": [],
   "source": [
    "def factorial_iter(n):\n",
    "    prod = 1\n",
    "    for i in range(1, n+1):\n",
    "        prod *= i\n",
    "    return prod"
   ]
  },
  {
   "cell_type": "code",
   "execution_count": null,
   "id": "d9aa508e",
   "metadata": {},
   "outputs": [],
   "source": [
    "def factorial_rec(n): \n",
    "    if n == 1:\n",
    "        return 1 \n",
    "    else:\n",
    "        return n * factorial_rec(n-1)"
   ]
  },
  {
   "cell_type": "markdown",
   "id": "257a6825",
   "metadata": {},
   "source": [
    "\n",
    "-   La recursión puede ser más simple, más intuitiva.\n",
    "\n",
    "-   La recursión puede ser más eficiente desde el punto del programador.\n",
    "\n",
    "-   Puede no ser tan eficiente desde el punto de visa de la computadora."
   ]
  },
  {
   "cell_type": "markdown",
   "id": "d3fb4f4c",
   "metadata": {},
   "source": [
    "## Razonamiento inductivo\n",
    "-   ¿Cómo sabemos que nuestro código recursivo funcionará?\n",
    "\n",
    "-   `mult_iter` termina, porque `b` es inicialmente positivo y decrece\n",
    "    en cada iteración, hasta que eventualmente `b < 0`.\n",
    "\n",
    "-   `mult` llamado con `b=1` es el caso base.\n",
    "\n",
    "-   `mult` llamada con `b>1` hace una llamada recursiva con `b` más\n",
    "    pequeño $\\Rightarrow$ eventualmente se llamará con `b=1`."
   ]
  },
  {
   "cell_type": "code",
   "execution_count": null,
   "id": "888b718b",
   "metadata": {},
   "outputs": [],
   "source": [
    "def mult_iter(a, b): \n",
    "    result = 0\n",
    "    while b > 0: \n",
    "        result += a\n",
    "        b -= 1\n",
    "    return result\n",
    "\n",
    "def mult(a, b):\n",
    "    if b == 1:\n",
    "        return a\n",
    "    else:\n",
    "        return a + mult(a, b-1)"
   ]
  },
  {
   "cell_type": "markdown",
   "id": "9fedab03",
   "metadata": {},
   "source": [
    "Inducción matemática\n",
    "\n",
    "-   Recordemos la **inducción matemática**: \n",
    "      1) Asumimos $P_1$.\n",
    "      2) Luego probamos $P_n \\Rightarrow P_{n+1}$.\n",
    "\n",
    "-   La misma lógica aplica:"
   ]
  },
  {
   "cell_type": "code",
   "execution_count": null,
   "id": "4367eba1",
   "metadata": {},
   "outputs": [],
   "source": [
    "def mult(a, b):\n",
    "    if b == 1:\n",
    "        return a\n",
    "    else:\n",
    "        return a + mult(a, b-1)"
   ]
  },
  {
   "cell_type": "markdown",
   "id": "73280335",
   "metadata": {},
   "source": [
    "-   Para el caso base, mostramos que `mult` devuelve un valor correcto.\n",
    "\n",
    "-   Para el caso recursivo, asumimos que `mult` retorna correctamente\n",
    "    respuestas para problemas con más pequeños que `b`, por lo tanto,\n",
    "    también lo hace para problemas de tamaño `b`.\n",
    "\n",
    "-   Por inducción, el código devuelve respuestas correctas."
   ]
  },
  {
   "cell_type": "markdown",
   "id": "dc33b261",
   "metadata": {},
   "source": [
    "## Torres de Hanoi\n",
    "\n",
    "-   3 postes verticales.\n",
    "\n",
    "-   Pila de discos de diferentes tamaños en uno de los postes.\n",
    "\n",
    "-   Se deben mover hacia otro poste. En este caso, ¡el universo termina!\n",
    "\n",
    "-   **Reglas:** solamente se puede mover 1 disco a la vez y un disco más\n",
    "    grande no puede cubrir a un disco más pequeño.\n",
    "\n",
    "![image](figs/recursion/hanoi-towers.jpeg){width=\"60%\"}\n"
   ]
  },
  {
   "cell_type": "markdown",
   "id": "0dc26988",
   "metadata": {},
   "source": [
    "## Torres de Hanoi\n",
    "\n",
    "-   Habiendo visto algunos ejemplos, ¿cómo escribimos un programa para\n",
    "    imprimir el conjunto de movimientos correctos?\n",
    "\n",
    "-   Debemos **¡pensar recursivamente!**\n",
    "\n",
    "    -   Resolver un problema más pequeño y más básico."
   ]
  },
  {
   "cell_type": "code",
   "execution_count": 1,
   "id": "20450e18",
   "metadata": {},
   "outputs": [],
   "source": [
    "def printMove(fr, to):\n",
    "    print('move from ' + str(fr) + ' to ' + str(to))\n",
    "\n",
    "def towers(n, fr, to, spare):\n",
    "    if n == 1:\n",
    "        printMove(fr, to)\n",
    "    else:\n",
    "        towers(n-1, fr, spare, to)\n",
    "        towers(1, fr, to, spare)\n",
    "        towers(n-1, spare, to, fr)"
   ]
  },
  {
   "cell_type": "code",
   "execution_count": 2,
   "id": "82de7463",
   "metadata": {},
   "outputs": [
    {
     "name": "stdout",
     "output_type": "stream",
     "text": [
      "move from A to C\n",
      "move from A to B\n",
      "move from C to B\n",
      "move from A to C\n",
      "move from B to A\n",
      "move from B to C\n",
      "move from A to C\n"
     ]
    }
   ],
   "source": [
    "towers(3, 'A', 'C', 'B')"
   ]
  },
  {
   "cell_type": "markdown",
   "id": "a6e79509",
   "metadata": {},
   "source": [
    "\n",
    "## Fibonacci\n",
    "\n",
    "Recursión con múltiples casos base Leonardo de Pisa (Fibonacci) modeló\n",
    "el siguiente reto:\n",
    "\n",
    "-   Un par de conejos recién nacidos (una hembra y un macho) se ponen en\n",
    "    un corral\n",
    "\n",
    "-   Los conejos se aparean a la edad de un mes\n",
    "\n",
    "-   Los conejos tienen un período de gestación de un mes\n",
    "\n",
    "-   Suponga que los conejos nunca mueren, que la hembra siempre produce\n",
    "    un nuevo par (un macho, una hembra) cada mes desde su segundo mes en\n",
    "    adelante.\n",
    "\n",
    "-   ¿Cuántas conejas hay al final de un año?"
   ]
  },
  {
   "cell_type": "markdown",
   "id": "7f2b7a10",
   "metadata": {},
   "source": [
    "## Fibonacci\n",
    "\n",
    "-   Sucesión de eventos:\n",
    "\n",
    "    -   Luego de un mes --- 1 hembra.\n",
    "\n",
    "    -   Luego de un segundo mes --- 1 hembra (ahora preñada).\n",
    "\n",
    "    -   Al tercer mes - 2 hembras, una preñada y otra no.\n",
    "\n",
    "-   En general, $f(n) = f(n-1) + f(n-2)$:\n",
    "\n",
    "    -   Cada hembra viva en $n-2$ produce una hembra en el mes $n$.\n",
    "\n",
    "    -   Estas se suman a las hembras en el mes $n-1$.\n"
   ]
  },
  {
   "cell_type": "markdown",
   "id": "658662c9",
   "metadata": {},
   "source": [
    "-   **Casos base**: $f(0)=1$ y $f(1)=1$.\n",
    "\n",
    "-   **Caso recursivo**: $f(n) = f(n-1) + f(n-2)$."
   ]
  },
  {
   "cell_type": "code",
   "execution_count": null,
   "id": "7db4722a",
   "metadata": {},
   "outputs": [],
   "source": [
    "def fib(x):\n",
    "    \"\"\"assumes x an int >= 0\n",
    "        returns Fibonacci of x\"\"\"\n",
    "    if x == 0 or x == 1:\n",
    "        return 1\n",
    "    else:\n",
    "        return fib(x-1) + fib(x-2)"
   ]
  },
  {
   "cell_type": "markdown",
   "id": "666fab68",
   "metadata": {},
   "source": [
    "-   [Ver en Python\n",
    "    Tutor](http://pythontutor.com/visualize.html#code=def%20fib%28x%29%3A%0A%20%20%20%20%22%22%22assumes%20x%20an%20int%20%3E%3D%200%0A%20%20%20%20%20%20%20returns%20Fibonacci%20of%20x%22%22%22%0A%20%20%20%20if%20x%20%3D%3D%200%20or%20x%20%3D%3D%201%3A%0A%20%20%20%20%20%20%20%20return%201%0A%20%20%20%20else%3A%0A%20%20%20%20%20%20%20%20return%20fib%28x-1%29%20%2B%20fib%28x-2%29%0A%20%20%20%20%20%20%20%20%0Aprint%28fib%284%29%29&cumulative=false&curInstr=38&heapPrimitives=nevernest&mode=display&origin=opt-frontend.js&py=3&rawInputLstJSON=%5B%5D&textReferences=false)"
   ]
  },
  {
   "cell_type": "markdown",
   "id": "1b790741",
   "metadata": {},
   "source": [
    "\n",
    "## Palíndromos\n",
    "\n",
    "\n",
    "\n",
    "-   ¿Cómo revisamos si un *string* es un palíndromo (se lee igual al\n",
    "    derecho y al revés).\n",
    "\n",
    "-   Primero, obtenemos los caracteres:\n",
    "\n",
    "    -   Quitamos puntuación.\n",
    "\n",
    "    -   Ajustamos mayúsculas y minúsculas\n",
    "\n",
    "-   Luego:\n",
    "\n",
    "    -   **Caso base:** *string* de largo 0 o 1 es palíndromo.\n",
    "\n",
    "    -   **Caso recursivo:** si primer y último caracter coinciden, es\n",
    "        palíndromo si la sección del centro es palíndromo."
   ]
  },
  {
   "cell_type": "code",
   "execution_count": null,
   "id": "ddae468b",
   "metadata": {},
   "outputs": [],
   "source": [
    "def isPalindrome(s):\n",
    "\n",
    "    def toChars(s):\n",
    "        s = s.lower()\n",
    "        ans = ''\n",
    "        for c in s:\n",
    "            if c in 'abcdefghijklmnopqrstuvwxyz':\n",
    "                ans = ans + c\n",
    "        return ans\n",
    "\n",
    "    def isPal(s):\n",
    "        if len(s) <= 1:\n",
    "            return True\n",
    "        else:\n",
    "            return s[0] == s[-1] and isPal(s[1:-1])\n",
    "\n",
    "    return isPal(toChars(s))"
   ]
  },
  {
   "cell_type": "markdown",
   "id": "0d3e3f7e",
   "metadata": {},
   "source": [
    "# Divide y conquistarás\n",
    "\n",
    "-   Este es también un ejemplo de la estrategia **divide y\n",
    "    conquistarás**.\n",
    "\n",
    "-   Podemos resolver un problema difícil descomponiéndolo en partes\n",
    "    tales que:\n",
    "\n",
    "    -   Los **subproblemas son más fáciles de resolver**.\n",
    "\n",
    "    -   Las soluciones a los subproblemas se pueden **combinar** para\n",
    "        resolver el problema original.\n",
    "        \n",
    "![image](figs/recursion/divide-and-conquer.png){width=\"80%\"}\n"
   ]
  },
  {
   "cell_type": "markdown",
   "id": "78fdae18",
   "metadata": {},
   "source": [
    "# Ejercicio\n",
    "\n",
    "-   Escribir una función recursiva que implemente el algoritmo de\n",
    "    Euclides para encontrar el *máximo común divisor* (mcd) de dos\n",
    "    números $a$ y $b$.\n",
    "\n",
    "-   ¿Cuál es el caso base?\n",
    "\n",
    "-   ¿Cuál es el paso recursivo?\n",
    "\n",
    "-   Tip: busque el vídeo de *Derivando* en Youtube para guiarse con la\n",
    "    solución."
   ]
  }
 ],
 "metadata": {
  "kernelspec": {
   "display_name": "base",
   "language": "python",
   "name": "python3"
  },
  "language_info": {
   "codemirror_mode": {
    "name": "ipython",
    "version": 3
   },
   "file_extension": ".py",
   "mimetype": "text/x-python",
   "name": "python",
   "nbconvert_exporter": "python",
   "pygments_lexer": "ipython3",
   "version": "3.13.5"
  }
 },
 "nbformat": 4,
 "nbformat_minor": 5
}
