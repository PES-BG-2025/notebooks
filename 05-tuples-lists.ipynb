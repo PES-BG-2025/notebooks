{
 "cells": [
  {
   "cell_type": "markdown",
   "id": "ad2fa1d9",
   "metadata": {},
   "source": [
    "# Introducción a las ciencias de la computación *y programación en Python*\n",
    "\n",
    "*Banco de Guatemala*  \n",
    "*PES 2025-2026*  \n",
    "*Programación I*  \n",
    "*Septiembre de 2025*  "
   ]
  },
  {
   "cell_type": "markdown",
   "id": "edcc4115",
   "metadata": {},
   "source": [
    "## Abstract\n",
    "\n",
    "> \"**La simplicidad es un prerrequisito para la confiabilidad**\" *Edsger W. Dijkstra*\n",
    "\n",
    "- Veremos dos tipos nuevos compuestos en Python: tuplas y listas.\n",
    "\n",
    "- Hablaremos de los conceptos de *alias*, mutabilidad y clonado."
   ]
  },
  {
   "cell_type": "markdown",
   "id": "737b7470",
   "metadata": {},
   "source": [
    "# Tuplas\n",
    "\n",
    "-   Secuencia ordenada de elementos, que pueden ser de diferentes tipos.\n",
    "\n",
    "-   No es posible alterar sus elementos, son **inmutables**.\n",
    "\n",
    "-   Se representan con paréntesis"
   ]
  },
  {
   "cell_type": "code",
   "execution_count": null,
   "id": "15409510",
   "metadata": {},
   "outputs": [],
   "source": [
    "# Tupla vacia\n",
    "te = ()"
   ]
  },
  {
   "cell_type": "code",
   "execution_count": null,
   "id": "3236f82a",
   "metadata": {},
   "outputs": [],
   "source": [
    "# Tupla de ejemplo\n",
    "t = (2, \"pes\", 3.2)"
   ]
  },
  {
   "cell_type": "code",
   "execution_count": null,
   "id": "d34e36b6",
   "metadata": {},
   "outputs": [],
   "source": [
    "t[0]"
   ]
  },
  {
   "cell_type": "markdown",
   "id": "4d39dc0d",
   "metadata": {},
   "source": [
    "Podemos concatenar tuplas: "
   ]
  },
  {
   "cell_type": "code",
   "execution_count": null,
   "id": "88982813",
   "metadata": {},
   "outputs": [],
   "source": [
    "t + (5,6)"
   ]
  },
  {
   "cell_type": "markdown",
   "id": "e6048b28",
   "metadata": {},
   "source": [
    "*Slicing*:"
   ]
  },
  {
   "cell_type": "code",
   "execution_count": null,
   "id": "7190c839",
   "metadata": {},
   "outputs": [],
   "source": [
    "t[1:2]"
   ]
  },
  {
   "cell_type": "code",
   "execution_count": null,
   "id": "aed6276c",
   "metadata": {},
   "outputs": [],
   "source": [
    "t[1:3]"
   ]
  },
  {
   "cell_type": "code",
   "execution_count": null,
   "id": "4af3fee1",
   "metadata": {},
   "outputs": [],
   "source": [
    "len(t)"
   ]
  },
  {
   "cell_type": "code",
   "execution_count": null,
   "id": "e0284b2c",
   "metadata": {},
   "outputs": [],
   "source": [
    "t[1] = 4 # error, inmutable"
   ]
  },
  {
   "cell_type": "markdown",
   "id": "abe180c2",
   "metadata": {},
   "source": [
    "## Iteración sobre tuplas\n",
    "\n",
    "-   Es posible iterar sobre los elementos de una tupla:"
   ]
  },
  {
   "cell_type": "code",
   "execution_count": null,
   "id": "7281aeb9",
   "metadata": {},
   "outputs": [],
   "source": [
    "t = (2, \"pes\", 3.2)\n",
    "\n",
    "for elem in t: \n",
    "    print(elem, \"es de tipo\", type(elem))"
   ]
  },
  {
   "cell_type": "markdown",
   "id": "4c84854f",
   "metadata": {},
   "source": [
    "## Tuplas de tuplas"
   ]
  },
  {
   "cell_type": "code",
   "execution_count": null,
   "id": "4d68f3a1",
   "metadata": {},
   "outputs": [],
   "source": [
    "aTuple = ((1, 'a'), (2, 'b'), (3, 'c'))\n",
    "aTuple"
   ]
  },
  {
   "cell_type": "code",
   "execution_count": null,
   "id": "230d4812",
   "metadata": {},
   "outputs": [],
   "source": [
    "def get_data(aTuple):\n",
    "    \"Gets the min and max of the numbers and the number of unique words\"\n",
    "    nums= ()\n",
    "    words = ()\n",
    "\n",
    "    # Iterate over every tuple\n",
    "    for t in aTuple:\n",
    "        nums = nums + (t[0],)\n",
    "        if t[1] not in words:\n",
    "            words = words + (t[1],)\n",
    "    \n",
    "    min_n = min(nums)\n",
    "    max_n = max(nums)\n",
    "    unique_words = len(words)\n",
    "    return (min_n, max_n, unique_words)\n",
    "    \n",
    "aTuple = ((1, 'a'), (2, 'b'), (3, 'c'))\n",
    "print(get_data(aTuple))"
   ]
  },
  {
   "cell_type": "markdown",
   "id": "491e0d77",
   "metadata": {},
   "source": [
    "# Listas\n",
    "\n",
    "-   **Secuencia ordenada** de elementos, accesibles a través de un\n",
    "    índice.\n",
    "\n",
    "-   Se denotan utilizando corchetes, `[]`\n",
    "\n",
    "-   Los elementos:\n",
    "\n",
    "    -   Son usualmente homogéneos\n",
    "    -   Pero pueden ser de diferentes tipos (práctica poco común, pero\n",
    "        válida).\n",
    "\n",
    "-   Los elementos pueden ser **alterados**, por lo que la lista es\n",
    "    **mutable**."
   ]
  },
  {
   "cell_type": "markdown",
   "id": "c016dd7f",
   "metadata": {},
   "source": [
    "##  Lista e índices"
   ]
  },
  {
   "cell_type": "code",
   "execution_count": null,
   "id": "1af33233",
   "metadata": {},
   "outputs": [],
   "source": [
    "L = []\n"
   ]
  },
  {
   "cell_type": "code",
   "execution_count": null,
   "id": "22ccd5ee",
   "metadata": {},
   "outputs": [],
   "source": [
    "L = [2, 'a', 4, [1,2]]\n",
    "len(L)"
   ]
  },
  {
   "cell_type": "code",
   "execution_count": null,
   "id": "1f0ca4bf",
   "metadata": {},
   "outputs": [],
   "source": [
    "L[0]"
   ]
  },
  {
   "cell_type": "code",
   "execution_count": null,
   "id": "c0592f25",
   "metadata": {},
   "outputs": [],
   "source": [
    "L[2]+1"
   ]
  },
  {
   "cell_type": "code",
   "execution_count": null,
   "id": "c441ffd1",
   "metadata": {},
   "outputs": [],
   "source": [
    "L[3]   # returns another list!"
   ]
  },
  {
   "cell_type": "code",
   "execution_count": null,
   "id": "6e97f388",
   "metadata": {},
   "outputs": [],
   "source": [
    "L[4]   # gives an error"
   ]
  },
  {
   "cell_type": "code",
   "execution_count": null,
   "id": "bd88e0ea",
   "metadata": {},
   "outputs": [],
   "source": [
    "i = 2\n",
    "L[i-1] # evaluates to 'a' since L[1]='a' above"
   ]
  },
  {
   "cell_type": "markdown",
   "id": "19931913",
   "metadata": {},
   "source": [
    "## Otras operaciones sobre listas\n",
    "\n",
    "-   Funciones para ordenar: `sort()` y `sorted()`\n",
    "\n",
    "-   Operación de reversa: `reverse()`\n",
    "\n",
    "-   Otras operaciones más: <https://docs.python.org/3/tutorial/datastructures.html>"
   ]
  },
  {
   "cell_type": "markdown",
   "id": "5f06665e",
   "metadata": {},
   "source": [
    "**¡Ojo!** algunas son funciones y otras son métodos."
   ]
  },
  {
   "cell_type": "code",
   "execution_count": null,
   "id": "cf7f757f",
   "metadata": {},
   "outputs": [],
   "source": [
    "L = [9,6,0,3]"
   ]
  },
  {
   "cell_type": "code",
   "execution_count": null,
   "id": "8d28b02b",
   "metadata": {},
   "outputs": [],
   "source": [
    "sorted(L)   # devuelve lista ordenada sin cambiar L"
   ]
  },
  {
   "cell_type": "code",
   "execution_count": null,
   "id": "b97da18b",
   "metadata": {},
   "outputs": [],
   "source": [
    "L.sort()    # cambia L = [0, 3, 6, 9]\n",
    "L"
   ]
  },
  {
   "cell_type": "code",
   "execution_count": null,
   "id": "0f6a2fb3",
   "metadata": {},
   "outputs": [],
   "source": [
    "L.reverse() # cambia L = [9, 6, 3, 0]\n",
    "L"
   ]
  },
  {
   "cell_type": "markdown",
   "id": "f383e490",
   "metadata": {},
   "source": [
    "# Mutabilidad y clonado\n",
    "\n"
   ]
  },
  {
   "cell_type": "markdown",
   "id": "ae1608ea",
   "metadata": {},
   "source": [
    "## Listas en memoria\n",
    "\n",
    "-   Las listas son objetos **mutables**.\n",
    "\n",
    "-   Se comportan de forma diferente a los tipos inmutables.\n",
    "\n",
    "-   Representan objetos en memoria.\n",
    "\n",
    "-   Distintos nombres de variables pueden apuntar al mismo objeto en\n",
    "    memoria.\n",
    "\n",
    "-   Cualquier variable que **apunte** a un objeto es afectada."
   ]
  },
  {
   "cell_type": "markdown",
   "id": "b6b8dbb5",
   "metadata": {},
   "source": [
    "## Alias para listas\n",
    "\n",
    "-   `hot` es un alias para `warm`: al cambiar uno, cambia el otro.\n",
    "\n",
    "-   La función `append()` tiene un efecto secundario."
   ]
  },
  {
   "cell_type": "code",
   "execution_count": null,
   "id": "a2ab1f48",
   "metadata": {},
   "outputs": [],
   "source": [
    "a = 1\n",
    "b = a\n",
    "print(a)\n",
    "print(b)"
   ]
  },
  {
   "cell_type": "code",
   "execution_count": null,
   "id": "3a90d13a",
   "metadata": {},
   "outputs": [],
   "source": [
    "warm = ['red', 'yellow', 'orange']\n",
    "hot = warm\n",
    "hot.append('pink')\n",
    "print(hot)\n",
    "print(warm)"
   ]
  },
  {
   "cell_type": "markdown",
   "id": "4009d289",
   "metadata": {},
   "source": [
    "-   [Ver en Python\n",
    "    Tutor](http://pythontutor.com/visualize.html#code=a%20%3D%201%0Ab%20%3D%20a%0Aprint%28a%29%0Aprint%28b%29%0A%0Awarm%20%3D%20%5B'red',%20'yellow',%20'orange'%5D%0Ahot%20%3D%20warm%0Ahot.append%28'pink'%29%0Aprint%28hot%29%0Aprint%28warm%29&cumulative=false&curInstr=0&heapPrimitives=nevernest&mode=display&origin=opt-frontend.js&py=3&rawInputLstJSON=%5B%5D&textReferences=false)"
   ]
  },
  {
   "cell_type": "markdown",
   "id": "25ff26af",
   "metadata": {},
   "source": [
    "## Clonando una lista\n",
    "\n",
    "-   Para crear una nueva lista podemos **copiar cada elemento**\n",
    "    utilizando *slicing*.\n",
    "\n",
    "-   [Ver en Python\n",
    "    Tutor](http://pythontutor.com/visualize.html#code=cool%20%3D%20%5B'blue',%20'green',%20'grey'%5D%0Achill%20%3D%20cool%5B%3A%5D%0Achill.append%28'black'%29%0Aprint%28chill%29%0Aprint%28cool%29&cumulative=false&heapPrimitives=nevernest&mode=edit&origin=opt-frontend.js&py=3&rawInputLstJSON=%5B%5D&textReferences=false)\n"
   ]
  },
  {
   "cell_type": "code",
   "execution_count": null,
   "id": "f00a4a74",
   "metadata": {},
   "outputs": [],
   "source": [
    "cool = ['blue', 'green', 'grey']\n",
    "chill = cool[:]\n",
    "chill.append('black')\n",
    "print(chill)\n",
    "print(cool)"
   ]
  },
  {
   "cell_type": "markdown",
   "id": "e0f12e7a",
   "metadata": {},
   "source": [
    "## Ordenando listas\n",
    "\n",
    "-   Utilizar `sort()` altera la lista, devuelve `None`.\n",
    "\n",
    "-   Utilizar `sorted()` no altera la lista, devuelve la lista ordenada.\n"
   ]
  },
  {
   "cell_type": "code",
   "execution_count": null,
   "id": "815f0a68",
   "metadata": {},
   "outputs": [],
   "source": [
    "warm = ['red', 'yellow', 'orange']\n",
    "sortedwarm = warm.sort()\n",
    "print(warm)\n",
    "print(sortedwarm)\n",
    "\n",
    "cool = ['grey', 'green', 'blue']\n",
    "sortedcool = sorted(cool)\n",
    "print(cool)\n",
    "print(sortedcool)"
   ]
  },
  {
   "cell_type": "markdown",
   "id": "352c3c51",
   "metadata": {},
   "source": [
    "-   [Ver en Python\n",
    "    Tutor](http://pythontutor.com/visualize.html#code=warm%20%3D%20%5B'red',%20'yellow',%20'orange'%5D%0Asortedwarm%20%3D%20warm.sort%28%29%0Aprint%28warm%29%0Aprint%28sortedwarm%29%0A%0Acool%20%3D%20%5B'grey',%20'green',%20'blue'%5D%0Asortedcool%20%3D%20sorted%28cool%29%0Aprint%28cool%29%0Aprint%28sortedcool%29&cumulative=false&heapPrimitives=nevernest&mode=edit&origin=opt-frontend.js&py=3&rawInputLstJSON=%5B%5D&textReferences=false)"
   ]
  },
  {
   "cell_type": "markdown",
   "id": "7098ed59",
   "metadata": {},
   "source": [
    "# Listas de listas de listas de \\...\n",
    "\n",
    "-   Es posible **agrupar** una lista dentro de otra.\n",
    "\n",
    "-   Cuidado con los **efectos secundarios** (*side effects*)."
   ]
  },
  {
   "cell_type": "code",
   "execution_count": null,
   "id": "62ae4fe1",
   "metadata": {},
   "outputs": [],
   "source": [
    "warm = ['yellow', 'orange']\n",
    "hot = ['red']\n",
    "brightcolors = [warm]\n",
    "brightcolors.append(hot)\n",
    "print(brightcolors)\n",
    "\n",
    "hot.append('pink')\n",
    "print(hot)\n",
    "print(brightcolors)"
   ]
  },
  {
   "cell_type": "markdown",
   "id": "1d4fc65a",
   "metadata": {},
   "source": [
    "-   [Ver en Python\n",
    "    Tutor](http://pythontutor.com/visualize.html#code=warm%20%3D%20%5B'yellow',%20'orange'%5D%0Ahot%20%3D%20%5B'red'%5D%0Abrightcolors%20%3D%20%5Bwarm%5D%0Abrightcolors.append%28hot%29%0Aprint%28brightcolors%29%0A%0Ahot.append%28'pink'%29%0Aprint%28hot%29%0Aprint%28brightcolors%29&cumulative=false&heapPrimitives=nevernest&mode=edit&origin=opt-frontend.js&py=3&rawInputLstJSON=%5B%5D&textReferences=false)"
   ]
  },
  {
   "cell_type": "markdown",
   "id": "566716d8",
   "metadata": {},
   "source": [
    "-   Como **buena práctica, evitar mutar una lista al iterar sobre ella**. Veamos un ejemplo:\n",
    "\n"
   ]
  },
  {
   "cell_type": "code",
   "execution_count": null,
   "id": "87287f8d",
   "metadata": {},
   "outputs": [],
   "source": [
    "def remove_dups(L1, L2):\n",
    "    for e in L1:\n",
    "        if e in L2:\n",
    "            L1.remove(e)\n",
    "\n",
    "L1 = [1, 2, 3, 4]\n",
    "L2 = [1, 2, 5, 6]\n",
    "remove_dups(L1, L2)\n",
    "print(L1, L2)"
   ]
  },
  {
   "cell_type": "markdown",
   "id": "71abd677",
   "metadata": {},
   "source": [
    "-   [Ver en Python\n",
    "    Tutor](http://pythontutor.com/visualize.html#code=def%20remove_dups%28L1,%20L2%29%3A%0A%20%20%20%20for%20e%20in%20L1%3A%0A%20%20%20%20%20%20%20%20if%20e%20in%20L2%3A%0A%20%20%20%20%20%20%20%20%20%20%20%20L1.remove%28e%29%0A%0AL1%20%3D%20%5B1,%202,%203,%204%5D%0AL2%20%3D%20%5B1,%202,%205,%206%5D%0Aremove_dups%28L1,%20L2%29%0Aprint%28L1,%20L2%29&cumulative=false&curInstr=15&heapPrimitives=nevernest&mode=display&origin=opt-frontend.js&py=3&rawInputLstJSON=%5B%5D&textReferences=false)\n",
    "\n",
    "-   ¿Por qué `L1 = [2,3,4]` y no `[3,4]`? ¿Cómo se puede corregir este\n",
    "    código?"
   ]
  },
  {
   "cell_type": "markdown",
   "id": "bb2e99db",
   "metadata": {},
   "source": [
    "-   *Solución*:\n",
    "  "
   ]
  },
  {
   "cell_type": "code",
   "execution_count": null,
   "id": "53022ebe",
   "metadata": {},
   "outputs": [],
   "source": [
    "def remove_dups_new(L1, L2):\n",
    "    L1_copy = L1[:]\n",
    "    for e in L1_copy:\n",
    "        if e in L2:\n",
    "            L1.remove(e)\n",
    "            \n",
    "L1 = [1, 2, 3, 4]\n",
    "L2 = [1, 2, 5, 6]\n",
    "remove_dups_new(L1, L2)\n",
    "print(L1, L2)"
   ]
  }
 ],
 "metadata": {
  "kernelspec": {
   "display_name": "base",
   "language": "python",
   "name": "python3"
  },
  "language_info": {
   "codemirror_mode": {
    "name": "ipython",
    "version": 3
   },
   "file_extension": ".py",
   "mimetype": "text/x-python",
   "name": "python",
   "nbconvert_exporter": "python",
   "pygments_lexer": "ipython3",
   "version": "3.13.5"
  }
 },
 "nbformat": 4,
 "nbformat_minor": 5
}
