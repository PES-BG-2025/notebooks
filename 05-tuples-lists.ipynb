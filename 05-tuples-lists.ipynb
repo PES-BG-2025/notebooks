{
 "cells": [
  {
   "cell_type": "markdown",
   "id": "ad2fa1d9",
   "metadata": {},
   "source": [
    "# Introducción a las ciencias de la computación *y programación en Python*\n",
    "\n",
    "*Banco de Guatemala*  \n",
    "*PES 2025-2026*  \n",
    "*Programación I*  \n",
    "*Septiembre de 2025*  "
   ]
  },
  {
   "cell_type": "markdown",
   "id": "edcc4115",
   "metadata": {},
   "source": [
    "## Abstract\n",
    "\n",
    "> \"**La simplicidad es un prerrequisito para la confiabilidad**\" *Edsger W. Dijkstra*\n",
    "\n",
    "- Veremos dos tipos nuevos compuestos en Python: tuplas y listas.\n",
    "\n",
    "- Hablaremos de los conceptos de *alias*, mutabilidad y clonado."
   ]
  },
  {
   "cell_type": "markdown",
   "id": "737b7470",
   "metadata": {},
   "source": [
    "# Tuplas\n",
    "\n",
    "-   Secuencia ordenada de elementos, que pueden ser de diferentes tipos.\n",
    "\n",
    "-   No es posible alterar sus elementos, son **inmutables**.\n",
    "\n",
    "-   Se representan con paréntesis"
   ]
  },
  {
   "cell_type": "code",
   "execution_count": 2,
   "id": "15409510",
   "metadata": {},
   "outputs": [],
   "source": [
    "# Tupla vacia\n",
    "te = ()"
   ]
  },
  {
   "cell_type": "code",
   "execution_count": 3,
   "id": "0eb5217c",
   "metadata": {},
   "outputs": [
    {
     "data": {
      "text/plain": [
       "tuple"
      ]
     },
     "execution_count": 3,
     "metadata": {},
     "output_type": "execute_result"
    }
   ],
   "source": [
    "type(te)"
   ]
  },
  {
   "cell_type": "code",
   "execution_count": 5,
   "id": "3236f82a",
   "metadata": {},
   "outputs": [
    {
     "data": {
      "text/plain": [
       "(2, 'pes', 3.2)"
      ]
     },
     "execution_count": 5,
     "metadata": {},
     "output_type": "execute_result"
    }
   ],
   "source": [
    "# Tupla de ejemplo\n",
    "t = (2, \"pes\", 3.2)\n",
    "t"
   ]
  },
  {
   "cell_type": "code",
   "execution_count": 8,
   "id": "d34e36b6",
   "metadata": {},
   "outputs": [
    {
     "data": {
      "text/plain": [
       "2"
      ]
     },
     "execution_count": 8,
     "metadata": {},
     "output_type": "execute_result"
    }
   ],
   "source": [
    "t[0]"
   ]
  },
  {
   "cell_type": "code",
   "execution_count": 9,
   "id": "6198f2f5",
   "metadata": {},
   "outputs": [
    {
     "data": {
      "text/plain": [
       "2"
      ]
     },
     "execution_count": 9,
     "metadata": {},
     "output_type": "execute_result"
    }
   ],
   "source": [
    "t[-3]"
   ]
  },
  {
   "cell_type": "code",
   "execution_count": 12,
   "id": "afa07024",
   "metadata": {},
   "outputs": [
    {
     "ename": "TypeError",
     "evalue": "'tuple' object does not support item assignment",
     "output_type": "error",
     "traceback": [
      "\u001b[31m---------------------------------------------------------------------------\u001b[39m",
      "\u001b[31mTypeError\u001b[39m                                 Traceback (most recent call last)",
      "\u001b[36mCell\u001b[39m\u001b[36m \u001b[39m\u001b[32mIn[12]\u001b[39m\u001b[32m, line 1\u001b[39m\n\u001b[32m----> \u001b[39m\u001b[32m1\u001b[39m \u001b[43mt\u001b[49m\u001b[43m[\u001b[49m\u001b[32;43m0\u001b[39;49m\u001b[43m]\u001b[49m = \u001b[32m3\u001b[39m\n",
      "\u001b[31mTypeError\u001b[39m: 'tuple' object does not support item assignment"
     ]
    }
   ],
   "source": [
    "t[0] = 3"
   ]
  },
  {
   "cell_type": "markdown",
   "id": "4d39dc0d",
   "metadata": {},
   "source": [
    "Podemos concatenar tuplas: "
   ]
  },
  {
   "cell_type": "code",
   "execution_count": 10,
   "id": "f8115a9a",
   "metadata": {},
   "outputs": [
    {
     "data": {
      "text/plain": [
       "(2, 'pes', 3.2)"
      ]
     },
     "execution_count": 10,
     "metadata": {},
     "output_type": "execute_result"
    }
   ],
   "source": [
    "t"
   ]
  },
  {
   "cell_type": "code",
   "execution_count": 15,
   "id": "88982813",
   "metadata": {},
   "outputs": [
    {
     "data": {
      "text/plain": [
       "(2, 'pes', 3.2, 5, 6)"
      ]
     },
     "execution_count": 15,
     "metadata": {},
     "output_type": "execute_result"
    }
   ],
   "source": [
    "z = t + (5,6)\n",
    "z"
   ]
  },
  {
   "cell_type": "markdown",
   "id": "e6048b28",
   "metadata": {},
   "source": [
    "*Slicing*:"
   ]
  },
  {
   "cell_type": "code",
   "execution_count": null,
   "id": "7190c839",
   "metadata": {},
   "outputs": [
    {
     "data": {
      "text/plain": [
       "('pes',)"
      ]
     },
     "execution_count": 16,
     "metadata": {},
     "output_type": "execute_result"
    }
   ],
   "source": [
    "t[1:2]"
   ]
  },
  {
   "cell_type": "code",
   "execution_count": 21,
   "id": "77f7e2ba",
   "metadata": {},
   "outputs": [
    {
     "data": {
      "text/plain": [
       "('pes',)"
      ]
     },
     "execution_count": 21,
     "metadata": {},
     "output_type": "execute_result"
    }
   ],
   "source": [
    "# Crear una tupla de un solo elemento\n",
    "('pes',)"
   ]
  },
  {
   "cell_type": "code",
   "execution_count": 22,
   "id": "aed6276c",
   "metadata": {},
   "outputs": [
    {
     "data": {
      "text/plain": [
       "('pes', 3.2)"
      ]
     },
     "execution_count": 22,
     "metadata": {},
     "output_type": "execute_result"
    }
   ],
   "source": [
    "t[1:3]"
   ]
  },
  {
   "cell_type": "code",
   "execution_count": 23,
   "id": "4af3fee1",
   "metadata": {},
   "outputs": [
    {
     "data": {
      "text/plain": [
       "3"
      ]
     },
     "execution_count": 23,
     "metadata": {},
     "output_type": "execute_result"
    }
   ],
   "source": [
    "len(t)"
   ]
  },
  {
   "cell_type": "code",
   "execution_count": 24,
   "id": "e0284b2c",
   "metadata": {},
   "outputs": [
    {
     "ename": "TypeError",
     "evalue": "'tuple' object does not support item assignment",
     "output_type": "error",
     "traceback": [
      "\u001b[31m---------------------------------------------------------------------------\u001b[39m",
      "\u001b[31mTypeError\u001b[39m                                 Traceback (most recent call last)",
      "\u001b[36mCell\u001b[39m\u001b[36m \u001b[39m\u001b[32mIn[24]\u001b[39m\u001b[32m, line 1\u001b[39m\n\u001b[32m----> \u001b[39m\u001b[32m1\u001b[39m \u001b[43mt\u001b[49m\u001b[43m[\u001b[49m\u001b[32;43m1\u001b[39;49m\u001b[43m]\u001b[49m = \u001b[32m4\u001b[39m \u001b[38;5;66;03m# error, inmutable\u001b[39;00m\n",
      "\u001b[31mTypeError\u001b[39m: 'tuple' object does not support item assignment"
     ]
    }
   ],
   "source": [
    "t[1] = 4 # error, inmutable"
   ]
  },
  {
   "cell_type": "markdown",
   "id": "abe180c2",
   "metadata": {},
   "source": [
    "## Iteración sobre tuplas\n",
    "\n",
    "-   Es posible iterar sobre los elementos de una tupla:"
   ]
  },
  {
   "cell_type": "code",
   "execution_count": 25,
   "id": "7281aeb9",
   "metadata": {},
   "outputs": [
    {
     "name": "stdout",
     "output_type": "stream",
     "text": [
      "2 es de tipo <class 'int'>\n",
      "pes es de tipo <class 'str'>\n",
      "3.2 es de tipo <class 'float'>\n"
     ]
    }
   ],
   "source": [
    "t = (2, \"pes\", 3.2)\n",
    "\n",
    "for elem in t: \n",
    "    print(elem, \"es de tipo\", type(elem))"
   ]
  },
  {
   "cell_type": "markdown",
   "id": "4c84854f",
   "metadata": {},
   "source": [
    "## Tuplas de tuplas"
   ]
  },
  {
   "cell_type": "code",
   "execution_count": 26,
   "id": "4d68f3a1",
   "metadata": {},
   "outputs": [
    {
     "data": {
      "text/plain": [
       "((1, 'a'), (2, 'b'), (3, 'c'))"
      ]
     },
     "execution_count": 26,
     "metadata": {},
     "output_type": "execute_result"
    }
   ],
   "source": [
    "aTuple = ((1, 'a'), (2, 'b'), (3, 'c'))\n",
    "aTuple"
   ]
  },
  {
   "cell_type": "code",
   "execution_count": null,
   "id": "dfa211a5",
   "metadata": {},
   "outputs": [
    {
     "data": {
      "text/plain": [
       "tuple"
      ]
     },
     "execution_count": 27,
     "metadata": {},
     "output_type": "execute_result"
    }
   ],
   "source": [
    "type(aTuple)"
   ]
  },
  {
   "cell_type": "code",
   "execution_count": 28,
   "id": "6bd3f682",
   "metadata": {},
   "outputs": [
    {
     "data": {
      "text/plain": [
       "(1, 'a')"
      ]
     },
     "execution_count": 28,
     "metadata": {},
     "output_type": "execute_result"
    }
   ],
   "source": [
    "aTuple[0]"
   ]
  },
  {
   "cell_type": "code",
   "execution_count": 29,
   "id": "32348649",
   "metadata": {},
   "outputs": [
    {
     "data": {
      "text/plain": [
       "((1, 'a'), (2, 'b'), (3, 'c'))"
      ]
     },
     "execution_count": 29,
     "metadata": {},
     "output_type": "execute_result"
    }
   ],
   "source": [
    "aTuple"
   ]
  },
  {
   "cell_type": "code",
   "execution_count": 35,
   "id": "ff5f91f3",
   "metadata": {},
   "outputs": [
    {
     "data": {
      "text/plain": [
       "2"
      ]
     },
     "execution_count": 35,
     "metadata": {},
     "output_type": "execute_result"
    }
   ],
   "source": [
    "aTuple[1][0]"
   ]
  },
  {
   "cell_type": "code",
   "execution_count": 36,
   "id": "138f9f17",
   "metadata": {},
   "outputs": [
    {
     "data": {
      "text/plain": [
       "((1, 'a'), (2, 'b'), (3, 'c'))"
      ]
     },
     "execution_count": 36,
     "metadata": {},
     "output_type": "execute_result"
    }
   ],
   "source": [
    "aTuple"
   ]
  },
  {
   "cell_type": "code",
   "execution_count": 44,
   "id": "230d4812",
   "metadata": {},
   "outputs": [
    {
     "name": "stdout",
     "output_type": "stream",
     "text": [
      "(1, 3, 3)\n"
     ]
    }
   ],
   "source": [
    "def get_data(aTuple):\n",
    "    \"Gets the min and max of the numbers and the number of unique words\"\n",
    "    nums= ()\n",
    "    words = ()\n",
    "\n",
    "    # Iterate over every tuple\n",
    "    for t in aTuple:\n",
    "        nums = nums + (t[0],)       # Saves numbers in a tuple\n",
    "        if t[1] not in words:\n",
    "            words = words + (t[1],) # Saves unique words\n",
    "    \n",
    "    # Min and max of numbers\n",
    "    min_n = min(nums)\n",
    "    max_n = max(nums)\n",
    "\n",
    "    # El número de palabras únicas\n",
    "    unique_words = len(words)\n",
    "\n",
    "    return (min_n, max_n, unique_words)\n",
    "    # return min_n, max_n, unique_words  # Equivalent return\n",
    "    \n",
    "aTuple = ((1, 'a'), (2, 'b'), (3, 'c'))\n",
    "print(get_data(aTuple))"
   ]
  },
  {
   "cell_type": "markdown",
   "id": "491e0d77",
   "metadata": {},
   "source": [
    "# Listas\n",
    "\n",
    "-   **Secuencia ordenada** de elementos, accesibles a través de un\n",
    "    índice.\n",
    "\n",
    "-   Se denotan utilizando corchetes, `[]`\n",
    "\n",
    "-   Los elementos:\n",
    "\n",
    "    -   Son usualmente homogéneos\n",
    "    -   Pero pueden ser de diferentes tipos (práctica poco común, pero\n",
    "        válida).\n",
    "\n",
    "-   Los elementos pueden ser **alterados**, por lo que la lista es\n",
    "    **mutable**."
   ]
  },
  {
   "cell_type": "markdown",
   "id": "c016dd7f",
   "metadata": {},
   "source": [
    "##  Lista e índices"
   ]
  },
  {
   "cell_type": "code",
   "execution_count": 45,
   "id": "1af33233",
   "metadata": {},
   "outputs": [
    {
     "data": {
      "text/plain": [
       "[]"
      ]
     },
     "execution_count": 45,
     "metadata": {},
     "output_type": "execute_result"
    }
   ],
   "source": [
    "L = []\n",
    "L"
   ]
  },
  {
   "cell_type": "code",
   "execution_count": 46,
   "id": "956d2080",
   "metadata": {},
   "outputs": [
    {
     "data": {
      "text/plain": [
       "list"
      ]
     },
     "execution_count": 46,
     "metadata": {},
     "output_type": "execute_result"
    }
   ],
   "source": [
    "type(L)"
   ]
  },
  {
   "cell_type": "code",
   "execution_count": 50,
   "id": "22ccd5ee",
   "metadata": {},
   "outputs": [
    {
     "data": {
      "text/plain": [
       "4"
      ]
     },
     "execution_count": 50,
     "metadata": {},
     "output_type": "execute_result"
    }
   ],
   "source": [
    "L = [2, 'a', 4, [1,2]]\n",
    "len(L)"
   ]
  },
  {
   "cell_type": "code",
   "execution_count": 48,
   "id": "1f0ca4bf",
   "metadata": {},
   "outputs": [
    {
     "data": {
      "text/plain": [
       "2"
      ]
     },
     "execution_count": 48,
     "metadata": {},
     "output_type": "execute_result"
    }
   ],
   "source": [
    "L[0]"
   ]
  },
  {
   "cell_type": "code",
   "execution_count": 49,
   "id": "c0592f25",
   "metadata": {},
   "outputs": [
    {
     "data": {
      "text/plain": [
       "5"
      ]
     },
     "execution_count": 49,
     "metadata": {},
     "output_type": "execute_result"
    }
   ],
   "source": [
    "L[2]+1"
   ]
  },
  {
   "cell_type": "code",
   "execution_count": 51,
   "id": "c441ffd1",
   "metadata": {},
   "outputs": [
    {
     "data": {
      "text/plain": [
       "[1, 2]"
      ]
     },
     "execution_count": 51,
     "metadata": {},
     "output_type": "execute_result"
    }
   ],
   "source": [
    "L[3]   # returns another list!"
   ]
  },
  {
   "cell_type": "code",
   "execution_count": 52,
   "id": "47ef5da5",
   "metadata": {},
   "outputs": [
    {
     "data": {
      "text/plain": [
       "[2, 'a', 4, [1, 2]]"
      ]
     },
     "execution_count": 52,
     "metadata": {},
     "output_type": "execute_result"
    }
   ],
   "source": [
    "L"
   ]
  },
  {
   "cell_type": "code",
   "execution_count": 53,
   "id": "6e97f388",
   "metadata": {},
   "outputs": [
    {
     "ename": "IndexError",
     "evalue": "list index out of range",
     "output_type": "error",
     "traceback": [
      "\u001b[31m---------------------------------------------------------------------------\u001b[39m",
      "\u001b[31mIndexError\u001b[39m                                Traceback (most recent call last)",
      "\u001b[36mCell\u001b[39m\u001b[36m \u001b[39m\u001b[32mIn[53]\u001b[39m\u001b[32m, line 1\u001b[39m\n\u001b[32m----> \u001b[39m\u001b[32m1\u001b[39m \u001b[43mL\u001b[49m\u001b[43m[\u001b[49m\u001b[32;43m4\u001b[39;49m\u001b[43m]\u001b[49m   \u001b[38;5;66;03m# gives an error\u001b[39;00m\n",
      "\u001b[31mIndexError\u001b[39m: list index out of range"
     ]
    }
   ],
   "source": [
    "L[4]   # gives an error"
   ]
  },
  {
   "cell_type": "code",
   "execution_count": 54,
   "id": "bd88e0ea",
   "metadata": {},
   "outputs": [
    {
     "data": {
      "text/plain": [
       "'a'"
      ]
     },
     "execution_count": 54,
     "metadata": {},
     "output_type": "execute_result"
    }
   ],
   "source": [
    "i = 2\n",
    "L[i-1] # evaluates to 'a' since L[1]='a' above"
   ]
  },
  {
   "cell_type": "code",
   "execution_count": null,
   "id": "e748ef2f",
   "metadata": {},
   "outputs": [],
   "source": [
    "y[t] = a1*y[t-1]"
   ]
  },
  {
   "cell_type": "code",
   "execution_count": null,
   "id": "347a7f50",
   "metadata": {},
   "outputs": [
    {
     "data": {
      "text/plain": [
       "5.570339734468207e-23"
      ]
     },
     "execution_count": 87,
     "metadata": {},
     "output_type": "execute_result"
    }
   ],
   "source": [
    "T = 1000\n",
    "a1 = 0.95\n",
    "\n",
    "# Creemos una lista de largo T\n",
    "# y = [0,0,0,0,0,0,0,0,0,0]\n",
    "y = []\n",
    "for i in range(T):\n",
    "    y.append(0)\n",
    "y[0] = 1\n",
    "\n",
    "# Computemos el resultado del proceso autorregresivo\n",
    "# Para cada t en [0, T): y[t] = a1*y[t-1]\n",
    "for t in range(1, T):\n",
    "    y[t] = a1*y[t-1]\n",
    "\n",
    "# Cuánto es y[T-1]\n",
    "y[T-1]\n"
   ]
  },
  {
   "cell_type": "markdown",
   "id": "19931913",
   "metadata": {},
   "source": [
    "## Otras operaciones sobre listas\n",
    "\n",
    "-   Funciones para ordenar: `sort()` y `sorted()`\n",
    "\n",
    "-   Operación de reversa: `reverse()`\n",
    "\n",
    "-   Otras operaciones más: <https://docs.python.org/3/tutorial/datastructures.html>"
   ]
  },
  {
   "cell_type": "markdown",
   "id": "5f06665e",
   "metadata": {},
   "source": [
    "**¡Ojo!** algunas son funciones y otras son métodos."
   ]
  },
  {
   "cell_type": "code",
   "execution_count": 66,
   "id": "cf7f757f",
   "metadata": {},
   "outputs": [
    {
     "data": {
      "text/plain": [
       "[9, 6, 0, 3]"
      ]
     },
     "execution_count": 66,
     "metadata": {},
     "output_type": "execute_result"
    }
   ],
   "source": [
    "L = [9,6,0,3]\n",
    "L"
   ]
  },
  {
   "cell_type": "code",
   "execution_count": 71,
   "id": "8d28b02b",
   "metadata": {},
   "outputs": [
    {
     "data": {
      "text/plain": [
       "[0, 3, 6, 9]"
      ]
     },
     "execution_count": 71,
     "metadata": {},
     "output_type": "execute_result"
    }
   ],
   "source": [
    "sL = sorted(L)   # devuelve una copia de la lista ordenada sin cambiar L\n",
    "sL"
   ]
  },
  {
   "cell_type": "code",
   "execution_count": 68,
   "id": "9bbbe85d",
   "metadata": {},
   "outputs": [
    {
     "data": {
      "text/plain": [
       "[9, 6, 0, 3]"
      ]
     },
     "execution_count": 68,
     "metadata": {},
     "output_type": "execute_result"
    }
   ],
   "source": [
    "L"
   ]
  },
  {
   "cell_type": "code",
   "execution_count": 72,
   "id": "03610bfa",
   "metadata": {},
   "outputs": [
    {
     "data": {
      "text/plain": [
       "[9, 6, 3, 0]"
      ]
     },
     "execution_count": 72,
     "metadata": {},
     "output_type": "execute_result"
    }
   ],
   "source": [
    "sorted(L, reverse=True)"
   ]
  },
  {
   "cell_type": "code",
   "execution_count": 73,
   "id": "b97da18b",
   "metadata": {},
   "outputs": [
    {
     "data": {
      "text/plain": [
       "[0, 3, 6, 9]"
      ]
     },
     "execution_count": 73,
     "metadata": {},
     "output_type": "execute_result"
    }
   ],
   "source": [
    "L.sort()    # cambia L = [0, 3, 6, 9]\n",
    "L"
   ]
  },
  {
   "cell_type": "code",
   "execution_count": 77,
   "id": "1aeda86d",
   "metadata": {},
   "outputs": [
    {
     "data": {
      "text/plain": [
       "[9, 6, 0, 3]"
      ]
     },
     "execution_count": 77,
     "metadata": {},
     "output_type": "execute_result"
    }
   ],
   "source": [
    "L = [9,6,0,3]\n",
    "L"
   ]
  },
  {
   "cell_type": "code",
   "execution_count": 75,
   "id": "0f6a2fb3",
   "metadata": {},
   "outputs": [
    {
     "data": {
      "text/plain": [
       "[3, 0, 6, 9]"
      ]
     },
     "execution_count": 75,
     "metadata": {},
     "output_type": "execute_result"
    }
   ],
   "source": [
    "L = [9,6,0,3]\n",
    "L.reverse() # cambia L = [9, 6, 3, 0]\n",
    "L"
   ]
  },
  {
   "cell_type": "code",
   "execution_count": 80,
   "id": "a65ddaa0",
   "metadata": {},
   "outputs": [
    {
     "data": {
      "text/plain": [
       "(0, 3, 6, 9)"
      ]
     },
     "execution_count": 80,
     "metadata": {},
     "output_type": "execute_result"
    }
   ],
   "source": [
    "t = (3,0,6,9)\n",
    "tuple(sorted(t))"
   ]
  },
  {
   "cell_type": "markdown",
   "id": "f383e490",
   "metadata": {},
   "source": [
    "# Mutabilidad y clonado\n",
    "\n"
   ]
  },
  {
   "cell_type": "markdown",
   "id": "ae1608ea",
   "metadata": {},
   "source": [
    "## Listas en memoria\n",
    "\n",
    "-   Las listas son objetos **mutables**.\n",
    "\n",
    "-   Se comportan de forma diferente a los tipos inmutables.\n",
    "\n",
    "-   Representan objetos en memoria.\n",
    "\n",
    "-   Distintos nombres de variables pueden apuntar al mismo objeto en\n",
    "    memoria.\n",
    "\n",
    "-   Cualquier variable que **apunte** a un objeto es afectada."
   ]
  },
  {
   "cell_type": "markdown",
   "id": "b6b8dbb5",
   "metadata": {},
   "source": [
    "## Alias para listas\n",
    "\n",
    "-   `hot` es un alias para `warm`: al cambiar uno, cambia el otro.\n",
    "\n",
    "-   La función `append()` tiene un efecto secundario."
   ]
  },
  {
   "cell_type": "code",
   "execution_count": 81,
   "id": "a2ab1f48",
   "metadata": {},
   "outputs": [
    {
     "name": "stdout",
     "output_type": "stream",
     "text": [
      "1\n",
      "1\n"
     ]
    }
   ],
   "source": [
    "a = 1\n",
    "b = a\n",
    "print(a)\n",
    "print(b)"
   ]
  },
  {
   "cell_type": "code",
   "execution_count": 82,
   "id": "3a90d13a",
   "metadata": {},
   "outputs": [
    {
     "name": "stdout",
     "output_type": "stream",
     "text": [
      "['red', 'yellow', 'orange', 'pink']\n",
      "['red', 'yellow', 'orange', 'pink']\n"
     ]
    }
   ],
   "source": [
    "warm = ['red', 'yellow', 'orange']\n",
    "hot = warm\n",
    "hot.append('pink')\n",
    "print(hot)\n",
    "print(warm)"
   ]
  },
  {
   "cell_type": "markdown",
   "id": "4009d289",
   "metadata": {},
   "source": [
    "-   [Ver en Python\n",
    "    Tutor](http://pythontutor.com/visualize.html#code=a%20%3D%201%0Ab%20%3D%20a%0Aprint%28a%29%0Aprint%28b%29%0A%0Awarm%20%3D%20%5B'red',%20'yellow',%20'orange'%5D%0Ahot%20%3D%20warm%0Ahot.append%28'pink'%29%0Aprint%28hot%29%0Aprint%28warm%29&cumulative=false&curInstr=0&heapPrimitives=nevernest&mode=display&origin=opt-frontend.js&py=3&rawInputLstJSON=%5B%5D&textReferences=false)"
   ]
  },
  {
   "cell_type": "markdown",
   "id": "25ff26af",
   "metadata": {},
   "source": [
    "## Clonando una lista\n",
    "\n",
    "-   Para crear una nueva lista podemos **copiar cada elemento**\n",
    "    utilizando *slicing*.\n",
    "\n",
    "-   [Ver en Python\n",
    "    Tutor](http://pythontutor.com/visualize.html#code=cool%20%3D%20%5B'blue',%20'green',%20'grey'%5D%0Achill%20%3D%20cool%5B%3A%5D%0Achill.append%28'black'%29%0Aprint%28chill%29%0Aprint%28cool%29&cumulative=false&heapPrimitives=nevernest&mode=edit&origin=opt-frontend.js&py=3&rawInputLstJSON=%5B%5D&textReferences=false)\n"
   ]
  },
  {
   "cell_type": "code",
   "execution_count": 97,
   "id": "f00a4a74",
   "metadata": {},
   "outputs": [
    {
     "name": "stdout",
     "output_type": "stream",
     "text": [
      "['blue', 'green', 'grey', 'black']\n",
      "['blue', 'green', 'grey']\n"
     ]
    }
   ],
   "source": [
    "cool = ['blue', 'green', 'grey']\n",
    "chill = cool[:]         # Creates a copy of 'cool'\n",
    "chlll = cool.copy()\n",
    "chill.append('black')\n",
    "print(chill)\n",
    "print(cool)"
   ]
  },
  {
   "cell_type": "code",
   "execution_count": 88,
   "id": "eafc04cf",
   "metadata": {},
   "outputs": [
    {
     "data": {
      "text/plain": [
       "[1, 2, 3, 4, 5]"
      ]
     },
     "execution_count": 88,
     "metadata": {},
     "output_type": "execute_result"
    }
   ],
   "source": [
    "L = [1,2,3,4,5,6,7,8,9,10]\n",
    "L[0:len(L)//2]"
   ]
  },
  {
   "cell_type": "code",
   "execution_count": 89,
   "id": "d8c6bee6",
   "metadata": {},
   "outputs": [
    {
     "data": {
      "text/plain": [
       "[2, 4, 6, 8, 10]"
      ]
     },
     "execution_count": 89,
     "metadata": {},
     "output_type": "execute_result"
    }
   ],
   "source": [
    "L[1::2]"
   ]
  },
  {
   "cell_type": "code",
   "execution_count": 96,
   "id": "204602b0",
   "metadata": {},
   "outputs": [
    {
     "data": {
      "text/plain": [
       "[6, 7, 8, 9, 10]"
      ]
     },
     "execution_count": 96,
     "metadata": {},
     "output_type": "execute_result"
    }
   ],
   "source": [
    "L[-5:]"
   ]
  },
  {
   "cell_type": "markdown",
   "id": "e0f12e7a",
   "metadata": {},
   "source": [
    "## Ordenando listas\n",
    "\n",
    "-   Utilizar `sort()` altera la lista, devuelve `None`.\n",
    "\n",
    "-   Utilizar `sorted()` no altera la lista, devuelve la lista ordenada.\n"
   ]
  },
  {
   "cell_type": "code",
   "execution_count": null,
   "id": "815f0a68",
   "metadata": {},
   "outputs": [],
   "source": [
    "warm = ['red', 'yellow', 'orange']\n",
    "sortedwarm = warm.sort()\n",
    "print(warm)\n",
    "print(sortedwarm)\n",
    "\n",
    "cool = ['grey', 'green', 'blue']\n",
    "sortedcool = sorted(cool)\n",
    "print(cool)\n",
    "print(sortedcool)"
   ]
  },
  {
   "cell_type": "markdown",
   "id": "352c3c51",
   "metadata": {},
   "source": [
    "-   [Ver en Python\n",
    "    Tutor](http://pythontutor.com/visualize.html#code=warm%20%3D%20%5B'red',%20'yellow',%20'orange'%5D%0Asortedwarm%20%3D%20warm.sort%28%29%0Aprint%28warm%29%0Aprint%28sortedwarm%29%0A%0Acool%20%3D%20%5B'grey',%20'green',%20'blue'%5D%0Asortedcool%20%3D%20sorted%28cool%29%0Aprint%28cool%29%0Aprint%28sortedcool%29&cumulative=false&heapPrimitives=nevernest&mode=edit&origin=opt-frontend.js&py=3&rawInputLstJSON=%5B%5D&textReferences=false)"
   ]
  },
  {
   "cell_type": "markdown",
   "id": "7098ed59",
   "metadata": {},
   "source": [
    "# Listas de listas de listas de \\...\n",
    "\n",
    "-   Es posible **agrupar** una lista dentro de otra.\n",
    "\n",
    "-   Cuidado con los **efectos secundarios** (*side effects*)."
   ]
  },
  {
   "cell_type": "code",
   "execution_count": null,
   "id": "62ae4fe1",
   "metadata": {},
   "outputs": [],
   "source": [
    "warm = ['yellow', 'orange']\n",
    "hot = ['red']\n",
    "brightcolors = [warm]\n",
    "brightcolors.append(hot)\n",
    "print(brightcolors)\n",
    "\n",
    "hot.append('pink')\n",
    "print(hot)\n",
    "print(brightcolors)"
   ]
  },
  {
   "cell_type": "markdown",
   "id": "1d4fc65a",
   "metadata": {},
   "source": [
    "-   [Ver en Python\n",
    "    Tutor](http://pythontutor.com/visualize.html#code=warm%20%3D%20%5B'yellow',%20'orange'%5D%0Ahot%20%3D%20%5B'red'%5D%0Abrightcolors%20%3D%20%5Bwarm%5D%0Abrightcolors.append%28hot%29%0Aprint%28brightcolors%29%0A%0Ahot.append%28'pink'%29%0Aprint%28hot%29%0Aprint%28brightcolors%29&cumulative=false&heapPrimitives=nevernest&mode=edit&origin=opt-frontend.js&py=3&rawInputLstJSON=%5B%5D&textReferences=false)"
   ]
  },
  {
   "cell_type": "code",
   "execution_count": null,
   "id": "1fdb3fe6",
   "metadata": {},
   "outputs": [
    {
     "data": {
      "text/plain": [
       "['yellow', 'orange', 'red']"
      ]
     },
     "execution_count": 98,
     "metadata": {},
     "output_type": "execute_result"
    }
   ],
   "source": [
    "warm = ['yellow', 'orange']\n",
    "hot = ['red']\n",
    "\n",
    "diego = warm + hot\n"
   ]
  },
  {
   "cell_type": "code",
   "execution_count": null,
   "id": "4ff924a4",
   "metadata": {},
   "outputs": [],
   "source": [
    "warm = ['yellow', 'orange']\n",
    "hot = ['red']\n",
    "\n",
    "brightcolors = []\n",
    "brightcolors.append(warm)\n",
    "brightcolors.append(hot)\n",
    "\n",
    "# Al copiar brightcolors, se crea una copia de la lista de referencias, pero no\n",
    "# de las listas internas\n",
    "new_brightcolors = brightcolors.copy()"
   ]
  },
  {
   "cell_type": "code",
   "execution_count": null,
   "id": "9f72109a",
   "metadata": {},
   "outputs": [],
   "source": [
    "# Crear una copia completa de brightcolors\n",
    "warm = ['yellow', 'orange']\n",
    "hot = ['red']\n",
    "\n",
    "brightcolors = []\n",
    "brightcolors.append(warm)\n",
    "brightcolors.append(hot)\n",
    "\n",
    "bc = []\n",
    "brightcolors.append(warm.copy())\n",
    "brightcolors.append(hot.copy())"
   ]
  },
  {
   "cell_type": "code",
   "execution_count": 109,
   "id": "ed453de5",
   "metadata": {},
   "outputs": [
    {
     "data": {
      "text/plain": [
       "[[],\n",
       " [1],\n",
       " [2, 3],\n",
       " [3, 4, 5],\n",
       " [4, 5, 6, 7],\n",
       " [5, 6, 7, 8, 9],\n",
       " [6, 7, 8, 9, 10, 11],\n",
       " [7, 8, 9, 10, 11, 12, 13],\n",
       " [8, 9, 10, 11, 12, 13, 14, 15],\n",
       " [9, 10, 11, 12, 13, 14, 15, 16, 17]]"
      ]
     },
     "execution_count": 109,
     "metadata": {},
     "output_type": "execute_result"
    }
   ],
   "source": [
    "L = [ [i+j for i in range(j)] for j in range(10)]\n",
    "L\n",
    "\n",
    "Lc = []\n",
    "# Para cada lista\n",
    "for l in L: \n",
    "    # Crear una copia de las listas internas en la lista externa\n",
    "    Lc.append(l.copy())\n",
    "Lc"
   ]
  },
  {
   "cell_type": "code",
   "execution_count": 114,
   "id": "b49703a3",
   "metadata": {},
   "outputs": [
    {
     "data": {
      "text/plain": [
       "True"
      ]
     },
     "execution_count": 114,
     "metadata": {},
     "output_type": "execute_result"
    }
   ],
   "source": [
    "[2,3] in L"
   ]
  },
  {
   "cell_type": "markdown",
   "id": "566716d8",
   "metadata": {},
   "source": [
    "-   Como **buena práctica, evitar mutar una lista al iterar sobre ella**. Veamos un ejemplo:\n",
    "\n"
   ]
  },
  {
   "cell_type": "code",
   "execution_count": null,
   "id": "87287f8d",
   "metadata": {},
   "outputs": [],
   "source": [
    "def remove_dups(L1, L2):\n",
    "    for e in L1:\n",
    "        if e in L2:\n",
    "            L1.remove(e)\n",
    "\n",
    "L1 = [1, 2, 3, 4]\n",
    "L2 = [1, 2, 5, 6]\n",
    "remove_dups(L1, L2)\n",
    "print(L1, L2)"
   ]
  },
  {
   "cell_type": "markdown",
   "id": "71abd677",
   "metadata": {},
   "source": [
    "-   [Ver en Python\n",
    "    Tutor](http://pythontutor.com/visualize.html#code=def%20remove_dups%28L1,%20L2%29%3A%0A%20%20%20%20for%20e%20in%20L1%3A%0A%20%20%20%20%20%20%20%20if%20e%20in%20L2%3A%0A%20%20%20%20%20%20%20%20%20%20%20%20L1.remove%28e%29%0A%0AL1%20%3D%20%5B1,%202,%203,%204%5D%0AL2%20%3D%20%5B1,%202,%205,%206%5D%0Aremove_dups%28L1,%20L2%29%0Aprint%28L1,%20L2%29&cumulative=false&curInstr=15&heapPrimitives=nevernest&mode=display&origin=opt-frontend.js&py=3&rawInputLstJSON=%5B%5D&textReferences=false)\n",
    "\n",
    "-   ¿Por qué `L1 = [2,3,4]` y no `[3,4]`? ¿Cómo se puede corregir este\n",
    "    código?"
   ]
  },
  {
   "cell_type": "markdown",
   "id": "bb2e99db",
   "metadata": {},
   "source": [
    "-   *Solución*:\n",
    "  "
   ]
  },
  {
   "cell_type": "code",
   "execution_count": 104,
   "id": "53022ebe",
   "metadata": {},
   "outputs": [
    {
     "name": "stdout",
     "output_type": "stream",
     "text": [
      "[3, 4, 'c'] [1, 2, 5, 6, 'a', 'b', 'd']\n"
     ]
    }
   ],
   "source": [
    "def remove_dups_new(L1, L2):\n",
    "    L1_copy = L1[:]\n",
    "    for e in L1_copy:       # Iterate over the copy\n",
    "        if e in L2:\n",
    "            L1.remove(e)    # Remove from the original\n",
    "            \n",
    "L1 = [1, 2, 3, 4, 'a', 'b', 'c']\n",
    "L2 = [1, 2, 5, 6, 'a', 'b', 'd']\n",
    "remove_dups_new(L1, L2)\n",
    "print(L1, L2)"
   ]
  },
  {
   "cell_type": "code",
   "execution_count": 106,
   "id": "13be45a5",
   "metadata": {},
   "outputs": [
    {
     "data": {
      "text/plain": [
       "[3, 4, 'c']"
      ]
     },
     "execution_count": 106,
     "metadata": {},
     "output_type": "execute_result"
    }
   ],
   "source": [
    "L1"
   ]
  },
  {
   "cell_type": "code",
   "execution_count": 108,
   "id": "38ba1e4c",
   "metadata": {},
   "outputs": [
    {
     "data": {
      "text/plain": [
       "True"
      ]
     },
     "execution_count": 108,
     "metadata": {},
     "output_type": "execute_result"
    }
   ],
   "source": [
    "'c' in L1"
   ]
  },
  {
   "cell_type": "code",
   "execution_count": 120,
   "id": "715c9f40",
   "metadata": {},
   "outputs": [
    {
     "data": {
      "text/plain": [
       "[2,\n",
       " 0,\n",
       " 6,\n",
       " 4,\n",
       " 10,\n",
       " 8,\n",
       " 14,\n",
       " 12,\n",
       " 18,\n",
       " 16,\n",
       " 22,\n",
       " 20,\n",
       " 26,\n",
       " 24,\n",
       " 30,\n",
       " 28,\n",
       " 34,\n",
       " 32,\n",
       " 38,\n",
       " 36,\n",
       " 42,\n",
       " 40,\n",
       " 46,\n",
       " 44,\n",
       " 50,\n",
       " 48,\n",
       " 54,\n",
       " 52,\n",
       " 58,\n",
       " 56,\n",
       " 62,\n",
       " 60,\n",
       " 66,\n",
       " 64,\n",
       " 70,\n",
       " 68,\n",
       " 74,\n",
       " 72,\n",
       " 78,\n",
       " 76,\n",
       " 82,\n",
       " 80,\n",
       " 86,\n",
       " 84,\n",
       " 90,\n",
       " 88,\n",
       " 94,\n",
       " 92,\n",
       " 98,\n",
       " 96,\n",
       " 102,\n",
       " 100,\n",
       " 106,\n",
       " 104,\n",
       " 110,\n",
       " 108,\n",
       " 114,\n",
       " 112,\n",
       " 118,\n",
       " 116,\n",
       " 122,\n",
       " 120,\n",
       " 126,\n",
       " 124,\n",
       " 130,\n",
       " 128,\n",
       " 134,\n",
       " 132,\n",
       " 138,\n",
       " 136,\n",
       " 142,\n",
       " 140,\n",
       " 146,\n",
       " 144,\n",
       " 150,\n",
       " 148,\n",
       " 154,\n",
       " 152,\n",
       " 158,\n",
       " 156,\n",
       " 162,\n",
       " 160,\n",
       " 166,\n",
       " 164,\n",
       " 170,\n",
       " 168,\n",
       " 174,\n",
       " 172,\n",
       " 178,\n",
       " 176,\n",
       " 182,\n",
       " 180,\n",
       " 186,\n",
       " 184,\n",
       " 190,\n",
       " 188,\n",
       " 194,\n",
       " 192,\n",
       " 198,\n",
       " 196]"
      ]
     },
     "execution_count": 120,
     "metadata": {},
     "output_type": "execute_result"
    }
   ],
   "source": [
    "L = [2*i^2 for i in range(100)]\n",
    "L"
   ]
  },
  {
   "cell_type": "code",
   "execution_count": 124,
   "id": "5f4d85f0",
   "metadata": {},
   "outputs": [
    {
     "data": {
      "text/plain": [
       "[0.0,\n",
       " 5e-05,\n",
       " 0.0002,\n",
       " 0.00045,\n",
       " 0.0008,\n",
       " 0.0012500000000000002,\n",
       " 0.0018,\n",
       " 0.0024500000000000004,\n",
       " 0.0032,\n",
       " 0.00405,\n",
       " 0.005000000000000001,\n",
       " 0.00605,\n",
       " 0.0072,\n",
       " 0.008450000000000001,\n",
       " 0.009800000000000001,\n",
       " 0.01125,\n",
       " 0.0128,\n",
       " 0.014450000000000003,\n",
       " 0.0162,\n",
       " 0.01805,\n",
       " 0.020000000000000004,\n",
       " 0.022049999999999997,\n",
       " 0.0242,\n",
       " 0.02645,\n",
       " 0.0288,\n",
       " 0.03125,\n",
       " 0.033800000000000004,\n",
       " 0.03645,\n",
       " 0.039200000000000006,\n",
       " 0.04205,\n",
       " 0.045,\n",
       " 0.04805,\n",
       " 0.0512,\n",
       " 0.054450000000000005,\n",
       " 0.05780000000000001,\n",
       " 0.06125000000000001,\n",
       " 0.0648,\n",
       " 0.06845,\n",
       " 0.0722,\n",
       " 0.07605,\n",
       " 0.08000000000000002,\n",
       " 0.08405000000000001,\n",
       " 0.08819999999999999,\n",
       " 0.09244999999999999,\n",
       " 0.0968,\n",
       " 0.10125,\n",
       " 0.1058,\n",
       " 0.11045000000000002,\n",
       " 0.1152,\n",
       " 0.12004999999999999,\n",
       " 0.125,\n",
       " 0.13005,\n",
       " 0.13520000000000001,\n",
       " 0.14045000000000002,\n",
       " 0.1458,\n",
       " 0.15125000000000002,\n",
       " 0.15680000000000002,\n",
       " 0.16245000000000004,\n",
       " 0.1682,\n",
       " 0.17404999999999998,\n",
       " 0.18,\n",
       " 0.18605,\n",
       " 0.1922,\n",
       " 0.19845000000000002,\n",
       " 0.2048,\n",
       " 0.21125000000000002,\n",
       " 0.21780000000000002,\n",
       " 0.22445000000000004,\n",
       " 0.23120000000000004,\n",
       " 0.23805000000000004,\n",
       " 0.24500000000000005,\n",
       " 0.25205,\n",
       " 0.2592,\n",
       " 0.26644999999999996,\n",
       " 0.2738,\n",
       " 0.28125,\n",
       " 0.2888,\n",
       " 0.29645,\n",
       " 0.3042,\n",
       " 0.31205000000000005,\n",
       " 0.32000000000000006,\n",
       " 0.32805000000000006,\n",
       " 0.33620000000000005,\n",
       " 0.34445000000000003,\n",
       " 0.35279999999999995,\n",
       " 0.36124999999999996,\n",
       " 0.36979999999999996,\n",
       " 0.37845,\n",
       " 0.3872,\n",
       " 0.39605,\n",
       " 0.405,\n",
       " 0.41405000000000003,\n",
       " 0.4232,\n",
       " 0.43245000000000006,\n",
       " 0.4418000000000001,\n",
       " 0.45125000000000004,\n",
       " 0.4608,\n",
       " 0.47045,\n",
       " 0.48019999999999996,\n",
       " 0.49005]"
      ]
     },
     "execution_count": 124,
     "metadata": {},
     "output_type": "execute_result"
    }
   ],
   "source": [
    "x = [ 0 + 0.005*i for i in range(100)]\n",
    "y = [ 2*j**2 for j in x]\n",
    "y"
   ]
  },
  {
   "cell_type": "code",
   "execution_count": 129,
   "id": "e03f5626",
   "metadata": {},
   "outputs": [
    {
     "data": {
      "text/plain": [
       "[[1, 2, 4, 8, 16, 32, 64, 128, 256, 512],\n",
       " [1, 3, 9, 27, 81, 243, 729, 2187, 6561, 19683],\n",
       " [1, 4, 16, 64, 256, 1024, 4096, 16384, 65536, 262144],\n",
       " [1, 5, 25, 125, 625, 3125, 15625, 78125, 390625, 1953125],\n",
       " [1, 6, 36, 216, 1296, 7776, 46656, 279936, 1679616, 10077696],\n",
       " [1, 7, 49, 343, 2401, 16807, 117649, 823543, 5764801, 40353607],\n",
       " [1, 8, 64, 512, 4096, 32768, 262144, 2097152, 16777216, 134217728],\n",
       " [1, 9, 81, 729, 6561, 59049, 531441, 4782969, 43046721, 387420489],\n",
       " [1, 10, 100, 1000, 10000, 100000, 1000000, 10000000, 100000000, 1000000000]]"
      ]
     },
     "execution_count": 129,
     "metadata": {},
     "output_type": "execute_result"
    }
   ],
   "source": [
    "[[ base**j for j in range(10)] for base in range(2, 11)]"
   ]
  }
 ],
 "metadata": {
  "kernelspec": {
   "display_name": "base",
   "language": "python",
   "name": "python3"
  },
  "language_info": {
   "codemirror_mode": {
    "name": "ipython",
    "version": 3
   },
   "file_extension": ".py",
   "mimetype": "text/x-python",
   "name": "python",
   "nbconvert_exporter": "python",
   "pygments_lexer": "ipython3",
   "version": "3.13.5"
  }
 },
 "nbformat": 4,
 "nbformat_minor": 5
}
