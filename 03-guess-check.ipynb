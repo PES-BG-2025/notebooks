{
 "cells": [
  {
   "cell_type": "markdown",
   "id": "53e76419",
   "metadata": {},
   "source": [
    "# Introducción a las ciencias de la computación *y programación en Python*\n",
    "\n",
    "*Banco de Guatemala*  \n",
    "*PES 2025-2026*  \n",
    "*Programación I*  \n",
    "*Septiembre de 2025*  "
   ]
  },
  {
   "cell_type": "markdown",
   "id": "d5901684",
   "metadata": {},
   "source": [
    "## Introducción\n",
    "\n",
    "> \"*A computer is like a violin. You can imagine it making beautiful music but you have to learn how to play it.*\" **Bill Gates**\n",
    "\n",
    "- Hablaremos de los algoritmos de fuerza bruta.\n",
    "\n",
    "- Conoceremos algunas aplicaciones de este tipo de algoritmos."
   ]
  },
  {
   "cell_type": "markdown",
   "id": "f2ac9d3e",
   "metadata": {},
   "source": [
    "# Algoritmos de fuerza bruta (*Guess and check*)\n",
    "\n",
    "-   A este tipo de algoritmos se les conoce también como de\n",
    "    **enumeración exhaustiva**.\n",
    "\n",
    "1.  Dado un problema.\n",
    "2.  Podemos proponer/adivinar una solución.\n",
    "3.  Podemos verificar que la solución es correcta.\n",
    "4.  Repetimos 1,2 y 3 hasta encontrar la solución."
   ]
  },
  {
   "cell_type": "markdown",
   "id": "5bdcbf8b",
   "metadata": {},
   "source": [
    "## Cubos perfectos\n",
    "\n",
    "-   Veamos un ejemplo de **enumeración exhaustiva**."
   ]
  },
  {
   "cell_type": "code",
   "execution_count": null,
   "id": "3a434bc9",
   "metadata": {},
   "outputs": [],
   "source": [
    "cube = 27\n",
    "\n",
    "for guess in range(cube+1):\n",
    "    if guess**3 == cube:\n",
    "        print(\"Cube root of\", cube, \"is\", guess)"
   ]
  },
  {
   "cell_type": "markdown",
   "id": "53e13765",
   "metadata": {},
   "source": [
    "\n",
    "-   ¿Cómo podemos salir si encontramos la solución?\n",
    "\n",
    "-   ¿Qué pasa si `cube` no tiene cubo perfecto o es negativo?"
   ]
  },
  {
   "cell_type": "markdown",
   "id": "854d2ca7",
   "metadata": {},
   "source": [
    "# Cubos perfectos\n",
    "\n",
    "-   Veamos una posible solución"
   ]
  },
  {
   "cell_type": "code",
   "execution_count": null,
   "id": "15b339b9",
   "metadata": {},
   "outputs": [],
   "source": [
    "cube = 27\n",
    "\n",
    "for guess in range(abs(cube)+1):\n",
    "    # passed all potential cube roots\n",
    "    if guess**3 >= abs(cube):\n",
    "        # no need to keep searching\n",
    "        break\n",
    "\n",
    "if guess**3 != abs(cube):\n",
    "    print(cube, 'is not a perfect cube')\n",
    "else:\n",
    "    if cube < 0:\n",
    "        guess = -guess\n",
    "    print('Cube root of ' + str(cube) + ' is ' + str(guess))"
   ]
  },
  {
   "cell_type": "markdown",
   "id": "a9326149",
   "metadata": {},
   "source": [
    "# Métodos de aproximación\n"
   ]
  },
  {
   "cell_type": "markdown",
   "id": "9ccfb659",
   "metadata": {},
   "source": [
    "## Soluciones aproximadas\n",
    "\n",
    "-   En ocasiones, no necesitamos una solución exacta, sino basta con una solución lo **suficientemente buena**.\n",
    "\n",
    "    1.  Dado un problema.\n",
    "\n",
    "    2.  Emmpezamos con una solución y aumentamos por un pequeño valor.\n",
    "\n",
    "    3.  Si `|guess**3 - cube| >= epsilon `, seguimos probando.\n",
    "\n",
    "-   Si aumentamos $\\epsilon \\Rightarrow$ menor precisión.\n",
    "\n",
    "-   Si disminuimos $\\epsilon \\Rightarrow$ mayor lentitud."
   ]
  },
  {
   "cell_type": "markdown",
   "id": "34c1a682",
   "metadata": {},
   "source": [
    "## Raíz cúbica aproximada\n",
    "\n",
    "-   Veamos el siguiente ejemplo."
   ]
  },
  {
   "cell_type": "code",
   "execution_count": null,
   "id": "a452d2e4",
   "metadata": {},
   "outputs": [],
   "source": [
    "cube = 27\n",
    "\n",
    "epsilon = 0.1\n",
    "guess = 0.0\n",
    "increment = 0.1\n",
    "num_guesses = 0\n",
    "\n",
    "# look for close enough answer and make sure\n",
    "# didn't accidentally skip the close enough bound\n",
    "while abs(guess**3 - cube) >= epsilon and guess <= cube:\n",
    "   guess += increment\n",
    "   num_guesses += 1\n",
    "\n",
    "print('num_guesses =', num_guesses)\n",
    "if abs(guess**3 - cube) >= epsilon:\n",
    "   print('Failed on cube root of', cube)\n",
    "else:\n",
    "   print(guess, 'is close to the cube root of', cube)"
   ]
  },
  {
   "cell_type": "markdown",
   "id": "d6dde32d",
   "metadata": {},
   "source": [
    "## Búsqueda por bisección\n",
    "\n",
    "![image](figs/strings/Bisection_method.svg){width=\"30%\"}\n",
    "\n",
    "\n",
    "-   En cada iteración, seleccionamos una mitad del intervalo.\n",
    "\n",
    "-   Solución candidata en el intervalo."
   ]
  },
  {
   "cell_type": "markdown",
   "id": "3aa6a80a",
   "metadata": {},
   "source": [
    "## Algoritmo de bisección"
   ]
  },
  {
   "cell_type": "markdown",
   "id": "ba466a84",
   "metadata": {},
   "source": [
    "Algoritmo de bisección para obtener la raíz cúbica $y$ de $x$. \n",
    "\n",
    "0. Dados el número $x$ y la precisión $\\varepsilon$.\n",
    "1. Inicializar los límites de búsqueda, $low, high$\n",
    "2. Inicializar la raíz cúbica solución $y$, e.g. el punto medio. \n",
    "3. Mientras $||y^3 - x|| \\geq \\varepsilon$:\n",
    "   1. Si $y^3 < x$, entonces $low = y$. \n",
    "   2. Si no, $high = y$. \n",
    "   3. Actualizar la solución candidata, $y = (low + high) / 2$. "
   ]
  },
  {
   "cell_type": "code",
   "execution_count": null,
   "id": "4efcc7c4",
   "metadata": {},
   "outputs": [],
   "source": [
    "cube = 8\n",
    "epsilon = 0.01\n",
    "\n",
    "low, high = 0, cube\n",
    "guess = (high + low) / 2\n",
    "\n",
    "# Solution..."
   ]
  },
  {
   "cell_type": "markdown",
   "id": "036e33e4",
   "metadata": {},
   "source": [
    "## Acerca de la convergencia\n",
    "\n",
    "-   La solución candidata converge en un orden de $\\log_2 N$ pasos.\n",
    "\n",
    "-   La búsqueda de bisección funciona cuando la función varía\n",
    "    monótonamente de acuerdo a la entrada.\n",
    "\n",
    "-   El código anterior funciona solamente para cubos positivos mayores a\n",
    "    $1$. ¿Por qué?"
   ]
  }
 ],
 "metadata": {
  "kernelspec": {
   "display_name": "base",
   "language": "python",
   "name": "python3"
  },
  "language_info": {
   "name": "python",
   "version": "3.13.5"
  }
 },
 "nbformat": 4,
 "nbformat_minor": 5
}
