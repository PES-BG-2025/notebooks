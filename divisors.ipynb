{
 "cells": [
  {
   "cell_type": "markdown",
   "id": "5b68f12d",
   "metadata": {},
   "source": [
    "# Algoritmo de divisores"
   ]
  },
  {
   "cell_type": "code",
   "execution_count": null,
   "id": "42bc7e08",
   "metadata": {},
   "outputs": [],
   "source": [
    "def divides(a, b): \n",
    "    return b % a == 0\n",
    "\n",
    "def sum_of_divisors(x: int): \n",
    "    # Acumulador para la suma\n",
    "    acc = 0\n",
    "    # Para todo i de 1 al x: \n",
    "    for i in range(1, x):\n",
    "        # Si i es divisor:\n",
    "        if divides(i, x):\n",
    "            # Acumular el divisor\n",
    "            acc += i \n",
    "    return acc\n",
    "\n",
    "def isperfect(n: int): \n",
    "    return n == sum_of_divisors(n)"
   ]
  },
  {
   "cell_type": "code",
   "execution_count": null,
   "id": "b2f7e013",
   "metadata": {},
   "outputs": [
    {
     "data": {
      "text/plain": [
       "(True, True)"
      ]
     },
     "metadata": {},
     "output_type": "display_data"
    }
   ],
   "source": [
    "isperfect(6), isperfect(28)"
   ]
  },
  {
   "cell_type": "code",
   "execution_count": null,
   "id": "0726efd3",
   "metadata": {},
   "outputs": [
    {
     "name": "stdout",
     "output_type": "stream",
     "text": [
      "8.95 ms ± 386 μs per loop (mean ± std. dev. of 7 runs, 100 loops each)\n"
     ]
    }
   ],
   "source": [
    "%%timeit\n",
    "sum_of_divisors(100000)"
   ]
  },
  {
   "cell_type": "code",
   "execution_count": 112,
   "id": "143f59e3",
   "metadata": {},
   "outputs": [],
   "source": [
    "def divides(a, b): \n",
    "    return b % a == 0\n",
    "\n",
    "def divisors(x: int): \n",
    "    # Lista de divisores\n",
    "    L = []\n",
    "    # Para todo i de 1 al x: \n",
    "    for i in range(1, x):\n",
    "        # Si i es divisor:\n",
    "        if divides(i, x): \n",
    "            L.append(i)\n",
    "    return L\n",
    "\n",
    "def isperfect(n: int): \n",
    "    return n == sum(divisors(n))"
   ]
  },
  {
   "cell_type": "code",
   "execution_count": 95,
   "id": "9cd2289c",
   "metadata": {},
   "outputs": [
    {
     "data": {
      "text/plain": [
       "[1, 2, 4, 7, 8, 14, 28]"
      ]
     },
     "execution_count": 95,
     "metadata": {},
     "output_type": "execute_result"
    }
   ],
   "source": [
    "divisors(56)"
   ]
  },
  {
   "cell_type": "code",
   "execution_count": 115,
   "id": "0fd009ae",
   "metadata": {},
   "outputs": [
    {
     "name": "stdout",
     "output_type": "stream",
     "text": [
      "1.1 ms ± 42 μs per loop (mean ± std. dev. of 7 runs, 1,000 loops each)\n"
     ]
    }
   ],
   "source": [
    "%%timeit \n",
    "isperfect(10000)"
   ]
  },
  {
   "cell_type": "markdown",
   "id": "f7f489d8",
   "metadata": {},
   "source": [
    "## Memory implementation"
   ]
  },
  {
   "cell_type": "code",
   "execution_count": 107,
   "id": "cc7e17eb",
   "metadata": {},
   "outputs": [],
   "source": [
    "def divides(a, b): \n",
    "    return b % a == 0\n",
    "\n",
    "D = {}\n",
    "\n",
    "def divisors(x: int): \n",
    "    if x in D:\n",
    "        return list(D[x])\n",
    "    if x == 0 or x == 1: \n",
    "        return [1]\n",
    "\n",
    "    # Lista de divisores\n",
    "    L = []\n",
    "    # Para todo i de 1 al x: \n",
    "    for i in range(2, x+1):\n",
    "        # Si i es divisor:\n",
    "        if divides(i, x): \n",
    "            if not i in L: \n",
    "                L.append(i)\n",
    "            j = x // i\n",
    "            others = divisors(j)\n",
    "            for e in others: \n",
    "                if not e in L:  \n",
    "                    L.append(e)\n",
    "            # print(others)\n",
    "\n",
    "    D[x] = set(L)\n",
    "    return L\n",
    "\n",
    "def isperfect(n: int): \n",
    "    return n == sum(divisors(n))-n"
   ]
  },
  {
   "cell_type": "code",
   "execution_count": 108,
   "id": "fb5e0914",
   "metadata": {},
   "outputs": [
    {
     "data": {
      "text/plain": [
       "[2, 5, 1, 10, 4, 20]"
      ]
     },
     "execution_count": 108,
     "metadata": {},
     "output_type": "execute_result"
    }
   ],
   "source": [
    "divisors(20)"
   ]
  },
  {
   "cell_type": "code",
   "execution_count": 117,
   "id": "a3cd1815",
   "metadata": {},
   "outputs": [
    {
     "data": {
      "text/plain": [
       "{5: {1, 5},\n",
       " 2: {1, 2},\n",
       " 10: {1, 2, 5, 10},\n",
       " 4: {1, 2, 4},\n",
       " 20: {1, 2, 4, 5, 10, 20},\n",
       " 7: {1, 7},\n",
       " 14: {1, 2, 7, 14},\n",
       " 28: {1, 2, 4, 7, 14, 28},\n",
       " 25: {1, 5, 25},\n",
       " 125: {1, 5, 25, 125},\n",
       " 625: {1, 5, 25, 125, 625},\n",
       " 50: {1, 2, 5, 10, 25, 50},\n",
       " 250: {1, 2, 5, 10, 25, 50, 125, 250},\n",
       " 1250: {1, 2, 5, 10, 25, 50, 125, 250, 625, 1250},\n",
       " 100: {1, 2, 4, 5, 10, 20, 25, 50, 100},\n",
       " 500: {1, 2, 4, 5, 10, 20, 25, 50, 100, 125, 250, 500},\n",
       " 2500: {1, 2, 4, 5, 10, 20, 25, 50, 100, 125, 250, 500, 625, 1250, 2500},\n",
       " 8: {1, 2, 4, 8},\n",
       " 40: {1, 2, 4, 5, 8, 10, 20, 40},\n",
       " 200: {1, 2, 4, 5, 8, 10, 20, 25, 40, 50, 100, 200},\n",
       " 1000: {1, 2, 4, 5, 8, 10, 20, 25, 40, 50, 100, 125, 200, 250, 500, 1000},\n",
       " 5000: {1,\n",
       "  2,\n",
       "  4,\n",
       "  5,\n",
       "  8,\n",
       "  10,\n",
       "  20,\n",
       "  25,\n",
       "  40,\n",
       "  50,\n",
       "  100,\n",
       "  125,\n",
       "  200,\n",
       "  250,\n",
       "  500,\n",
       "  625,\n",
       "  1000,\n",
       "  1250,\n",
       "  2500,\n",
       "  5000},\n",
       " 16: {1, 2, 4, 8, 16},\n",
       " 80: {1, 2, 4, 5, 8, 10, 16, 20, 40, 80},\n",
       " 400: {1, 2, 4, 5, 8, 10, 16, 20, 25, 40, 50, 80, 100, 200, 400},\n",
       " 2000: {1,\n",
       "  2,\n",
       "  4,\n",
       "  5,\n",
       "  8,\n",
       "  10,\n",
       "  16,\n",
       "  20,\n",
       "  25,\n",
       "  40,\n",
       "  50,\n",
       "  80,\n",
       "  100,\n",
       "  125,\n",
       "  200,\n",
       "  250,\n",
       "  400,\n",
       "  500,\n",
       "  1000,\n",
       "  2000},\n",
       " 10000: {1,\n",
       "  2,\n",
       "  4,\n",
       "  5,\n",
       "  8,\n",
       "  10,\n",
       "  16,\n",
       "  20,\n",
       "  25,\n",
       "  40,\n",
       "  50,\n",
       "  80,\n",
       "  100,\n",
       "  125,\n",
       "  200,\n",
       "  250,\n",
       "  400,\n",
       "  500,\n",
       "  625,\n",
       "  1000,\n",
       "  1250,\n",
       "  2000,\n",
       "  2500,\n",
       "  5000,\n",
       "  10000}}"
      ]
     },
     "execution_count": 117,
     "metadata": {},
     "output_type": "execute_result"
    }
   ],
   "source": [
    "D"
   ]
  },
  {
   "cell_type": "code",
   "execution_count": 110,
   "id": "3475d094",
   "metadata": {},
   "outputs": [
    {
     "data": {
      "text/plain": [
       "True"
      ]
     },
     "execution_count": 110,
     "metadata": {},
     "output_type": "execute_result"
    }
   ],
   "source": [
    "isperfect(28)"
   ]
  },
  {
   "cell_type": "code",
   "execution_count": 116,
   "id": "04e999cb",
   "metadata": {},
   "outputs": [
    {
     "name": "stdout",
     "output_type": "stream",
     "text": [
      "1.09 ms ± 23.8 μs per loop (mean ± std. dev. of 7 runs, 1,000 loops each)\n"
     ]
    }
   ],
   "source": [
    "%%timeit\n",
    "isperfect(10000)"
   ]
  },
  {
   "cell_type": "code",
   "execution_count": null,
   "id": "5a411573",
   "metadata": {},
   "outputs": [],
   "source": []
  }
 ],
 "metadata": {
  "kernelspec": {
   "display_name": "base",
   "language": "python",
   "name": "python3"
  },
  "language_info": {
   "codemirror_mode": {
    "name": "ipython",
    "version": 3
   },
   "file_extension": ".py",
   "mimetype": "text/x-python",
   "name": "python",
   "nbconvert_exporter": "python",
   "pygments_lexer": "ipython3",
   "version": "3.13.5"
  }
 },
 "nbformat": 4,
 "nbformat_minor": 5
}
